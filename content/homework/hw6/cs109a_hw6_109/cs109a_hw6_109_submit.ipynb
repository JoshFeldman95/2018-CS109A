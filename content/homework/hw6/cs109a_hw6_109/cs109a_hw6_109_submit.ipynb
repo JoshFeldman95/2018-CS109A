{
 "cells": [
  {
   "cell_type": "markdown",
   "metadata": {},
   "source": [
    "# <img style=\"float: left; padding-right: 10px; width: 45px\" src=\"https://raw.githubusercontent.com/Harvard-IACS/2018-CS109A/master/content/styles/iacs.png\"> CS109A Introduction to Data Science \n",
    "\n",
    "\n",
    "\n",
    "## Homework 6: Multilayer Feedforward Network - Dealing with Missing Data\n",
    "\n",
    "\n",
    "**Harvard University**<br/>\n",
    "**Fall 2018**<br/>\n",
    "**Instructors**: Pavlos Protopapas, Kevin Rader\n",
    "\n",
    "<hr style=\"height:2pt\">"
   ]
  },
  {
   "cell_type": "code",
   "execution_count": 3,
   "metadata": {},
   "outputs": [
    {
     "data": {
      "text/html": [
       "<style>\n",
       "h1 { \n",
       "    padding-top: 25px;\n",
       "    padding-bottom: 25px;\n",
       "    text-align: left; \n",
       "    padding-left: 10px;\n",
       "    background-color: #DDDDDD; \n",
       "    color: black;\n",
       "}\n",
       "h2 { \n",
       "    padding-top: 10px;\n",
       "    padding-bottom: 10px;\n",
       "    text-align: left; \n",
       "    padding-left: 5px;\n",
       "    background-color: #EEEEEE; \n",
       "    color: black;\n",
       "}\n",
       "\n",
       "div.exercise {\n",
       "\tbackground-color: #ffcccc;\n",
       "\tborder-color: #E9967A; \t\n",
       "\tborder-left: 5px solid #800080; \n",
       "\tpadding: 0.5em;\n",
       "}\n",
       "div.theme {\n",
       "\tbackground-color: #DDDDDD;\n",
       "\tborder-color: #E9967A; \t\n",
       "\tborder-left: 5px solid #800080; \n",
       "\tpadding: 0.5em;\n",
       "\tfont-size: 18pt;\n",
       "}\n",
       "p.q1 { \n",
       "    padding-top: 5px;\n",
       "    padding-bottom: 5px;\n",
       "    text-align: left; \n",
       "    padding-left: 5px;\n",
       "    background-color: #EEEEEE; \n",
       "    color: black;\n",
       "}\n",
       "header {\n",
       "   padding-top: 35px;\n",
       "    padding-bottom: 35px;\n",
       "    text-align: left; \n",
       "    padding-left: 10px;\n",
       "    background-color: #DDDDDD; \n",
       "    color: black;\n",
       "}\n",
       "</style>\n",
       "\n"
      ],
      "text/plain": [
       "<IPython.core.display.HTML object>"
      ]
     },
     "execution_count": 3,
     "metadata": {},
     "output_type": "execute_result"
    }
   ],
   "source": [
    "#RUN THIS CELL \n",
    "import requests\n",
    "from IPython.core.display import HTML\n",
    "styles = requests.get(\"https://raw.githubusercontent.com/Harvard-IACS/2018-CS109A/master/content/styles/cs109.css\").text\n",
    "HTML(styles)"
   ]
  },
  {
   "cell_type": "markdown",
   "metadata": {},
   "source": [
    "### INSTRUCTIONS\n",
    "\n",
    "- To submit your assignment follow the [instructions given in canvas](https://canvas.harvard.edu/courses/42693/pages/homework-policies-and-submission-instructions).\n",
    "\n",
    "- This homework can be submitted in pairs.\n",
    "\n",
    "- If you submit individually but you have worked with someone, please include the name of your **one** partner below. \n",
    "\n",
    "\n",
    "**Names of person you have worked with goes here:**\n",
    "<br><BR>"
   ]
  },
  {
   "cell_type": "code",
   "execution_count": 4,
   "metadata": {},
   "outputs": [],
   "source": [
    "%matplotlib inline\n",
    "import numpy as np\n",
    "import numpy.random as nd\n",
    "import pandas as pd\n",
    "import math\n",
    "import matplotlib.pyplot as plt\n",
    "\n",
    "import os\n",
    "import seaborn as sns\n",
    "sns.set(style=\"darkgrid\")\n",
    "\n",
    "from sklearn.linear_model import LogisticRegressionCV\n",
    "from sklearn.model_selection import cross_val_score\n",
    "from sklearn.metrics import accuracy_score\n",
    "from sklearn.metrics import confusion_matrix\n",
    "from sklearn.preprocessing import Imputer\n",
    "from sklearn.metrics import mean_squared_error\n",
    "from sklearn.model_selection import train_test_split\n",
    "from sklearn.preprocessing import StandardScaler\n",
    "from IPython.display import display"
   ]
  },
  {
   "cell_type": "markdown",
   "metadata": {},
   "source": [
    "<div class=\"theme\"> Overview </div>\n",
    "\n",
    "In this homework, you are free to explore different ways of solving the problems -within the restrictions of the questions. Your solutions should read like a report with figures to support your statements. Please include your code cells as usual but augment your solutions with written answers. We will also check for code readability and efficiency as we feel you have some experience now. In particular, for Q1, we expect you to write appropriate functions, such as your code can be generalized beyond the specified network architectures of his homework.\n",
    "\n",
    "For this homework you may **not** use a machine learning library such as `keras` or `tensorflow` to build and fit the network. The objective is to build the network equations from scratch.\n",
    "\n",
    "- Q1 explores approximating a function using a **Multilayer Feedforward Network** with one input layer, one hidden layer, and one output layer. \n",
    "\n",
    "- Q2 deals with missing data in a medical dataset."
   ]
  },
  {
   "cell_type": "markdown",
   "metadata": {},
   "source": [
    "<div class=\"exercise\"> <b> Question 1: Construct a feed forward neural network [50 pts]</b> </div>\n",
    "    \n",
    "In this part of the homework you are to construct three feed forward neural networks consisting of an input layer, one hidden layer with 1, 2 and 4 nodes respectively, and an output layer.  The hidden layer uses the sigmoid as the activation function and use a linear  output node. \n",
    "You should code the equations from scratch. \n",
    "\n",
    "You are given three datasets containing ($x,y$) points where $y=f(x)$:\n",
    "\n",
    "- In the first dataset, $f(x)$ is a **single step** function (data in`data/step_df.csv`), \n",
    "- In the second dataset, $f(x)$ is a **one hump** function (data in `data/one_hump_df.csv`),\n",
    "- In the third dataset, $f(x)$ is a **two equal humps** function (data in `data/two_hump_df.csv`).\n",
    "\n",
    "**1.1** Create a plot of each dataset and explore the structure of the data. \n",
    "\n",
    "**1.2**  Give values to the weights **manually**, perform a forward pass using the data for the **single step** function and a hidden layer of **one** node, and plot the output from the network, in the same plot as the true $y$ values. Adjust the weigths (again manualy) until the plots match as closely as possible.\n",
    "\n",
    "**1.3** Do the same for the **one hump** function data, this time using a hidden layer consisting of **two** nodes.\n",
    "\n",
    "**1.4** Do the same for the **two hump** function data but this time increase the number of hidden nodes to **four**.  \n",
    "\n",
    "**1.5** Choose the appropriate loss function and calculate and report the loss from all three cases. Derive the gradient of the output layer's weights for all three cases (step, one hump and two humps). Use the weights for the hidden layers you found in the previous question and perform gradient descent on the weights of this layer (output layer). What is the optimised weight value and loss you obtained? How many steps did you take to reach this value? What is the threshold value you used to stop? "
   ]
  },
  {
   "cell_type": "markdown",
   "metadata": {},
   "source": [
    "### Answers"
   ]
  },
  {
   "cell_type": "markdown",
   "metadata": {},
   "source": [
    "**1.1** "
   ]
  },
  {
   "cell_type": "markdown",
   "metadata": {},
   "source": [
    "**Single Step Data**"
   ]
  },
  {
   "cell_type": "code",
   "execution_count": 5,
   "metadata": {},
   "outputs": [
    {
     "data": {
      "text/html": [
       "<div>\n",
       "<style scoped>\n",
       "    .dataframe tbody tr th:only-of-type {\n",
       "        vertical-align: middle;\n",
       "    }\n",
       "\n",
       "    .dataframe tbody tr th {\n",
       "        vertical-align: top;\n",
       "    }\n",
       "\n",
       "    .dataframe thead th {\n",
       "        text-align: right;\n",
       "    }\n",
       "</style>\n",
       "<table border=\"1\" class=\"dataframe\">\n",
       "  <thead>\n",
       "    <tr style=\"text-align: right;\">\n",
       "      <th></th>\n",
       "      <th>x</th>\n",
       "      <th>y</th>\n",
       "    </tr>\n",
       "  </thead>\n",
       "  <tbody>\n",
       "    <tr>\n",
       "      <th>0</th>\n",
       "      <td>-2.762886</td>\n",
       "      <td>0.000706</td>\n",
       "    </tr>\n",
       "    <tr>\n",
       "      <th>1</th>\n",
       "      <td>1.108371</td>\n",
       "      <td>-0.000376</td>\n",
       "    </tr>\n",
       "    <tr>\n",
       "      <th>2</th>\n",
       "      <td>-0.793581</td>\n",
       "      <td>-0.002845</td>\n",
       "    </tr>\n",
       "    <tr>\n",
       "      <th>3</th>\n",
       "      <td>-3.666329</td>\n",
       "      <td>-0.000031</td>\n",
       "    </tr>\n",
       "    <tr>\n",
       "      <th>4</th>\n",
       "      <td>8.805071</td>\n",
       "      <td>1.001807</td>\n",
       "    </tr>\n",
       "  </tbody>\n",
       "</table>\n",
       "</div>"
      ],
      "text/plain": [
       "          x         y\n",
       "0 -2.762886  0.000706\n",
       "1  1.108371 -0.000376\n",
       "2 -0.793581 -0.002845\n",
       "3 -3.666329 -0.000031\n",
       "4  8.805071  1.001807"
      ]
     },
     "execution_count": 5,
     "metadata": {},
     "output_type": "execute_result"
    }
   ],
   "source": [
    "# your code here\n",
    "single_step = pd.read_csv('./data/step_df.csv')\n",
    "single_step.head()"
   ]
  },
  {
   "cell_type": "code",
   "execution_count": 6,
   "metadata": {},
   "outputs": [
    {
     "data": {
      "text/plain": [
       "Text(0.5,1,'Single Step Data')"
      ]
     },
     "execution_count": 6,
     "metadata": {},
     "output_type": "execute_result"
    },
    {
     "data": {
      "image/png": "[encoded data removed]",
      "text/plain": [
       "<Figure size 432x288 with 1 Axes>"
      ]
     },
     "metadata": {},
     "output_type": "display_data"
    }
   ],
   "source": [
    "plt.scatter(single_step.x, single_step.y)\n",
    "plt.title('Single Step Data')"
   ]
  },
  {
   "cell_type": "markdown",
   "metadata": {},
   "source": [
    "**One Hump Data**"
   ]
  },
  {
   "cell_type": "code",
   "execution_count": 7,
   "metadata": {},
   "outputs": [
    {
     "data": {
      "text/html": [
       "<div>\n",
       "<style scoped>\n",
       "    .dataframe tbody tr th:only-of-type {\n",
       "        vertical-align: middle;\n",
       "    }\n",
       "\n",
       "    .dataframe tbody tr th {\n",
       "        vertical-align: top;\n",
       "    }\n",
       "\n",
       "    .dataframe thead th {\n",
       "        text-align: right;\n",
       "    }\n",
       "</style>\n",
       "<table border=\"1\" class=\"dataframe\">\n",
       "  <thead>\n",
       "    <tr style=\"text-align: right;\">\n",
       "      <th></th>\n",
       "      <th>x</th>\n",
       "      <th>y</th>\n",
       "    </tr>\n",
       "  </thead>\n",
       "  <tbody>\n",
       "    <tr>\n",
       "      <th>0</th>\n",
       "      <td>3.734197</td>\n",
       "      <td>1.000226</td>\n",
       "    </tr>\n",
       "    <tr>\n",
       "      <th>1</th>\n",
       "      <td>6.890217</td>\n",
       "      <td>-0.000877</td>\n",
       "    </tr>\n",
       "    <tr>\n",
       "      <th>2</th>\n",
       "      <td>3.330365</td>\n",
       "      <td>0.999072</td>\n",
       "    </tr>\n",
       "    <tr>\n",
       "      <th>3</th>\n",
       "      <td>-4.250132</td>\n",
       "      <td>-0.000071</td>\n",
       "    </tr>\n",
       "    <tr>\n",
       "      <th>4</th>\n",
       "      <td>3.700311</td>\n",
       "      <td>1.002423</td>\n",
       "    </tr>\n",
       "  </tbody>\n",
       "</table>\n",
       "</div>"
      ],
      "text/plain": [
       "          x         y\n",
       "0  3.734197  1.000226\n",
       "1  6.890217 -0.000877\n",
       "2  3.330365  0.999072\n",
       "3 -4.250132 -0.000071\n",
       "4  3.700311  1.002423"
      ]
     },
     "execution_count": 7,
     "metadata": {},
     "output_type": "execute_result"
    }
   ],
   "source": [
    "one_hump = pd.read_csv('./data/one_hump_df.csv')\n",
    "one_hump.head()"
   ]
  },
  {
   "cell_type": "code",
   "execution_count": 8,
   "metadata": {},
   "outputs": [
    {
     "data": {
      "text/plain": [
       "Text(0.5,1,'One Hump Data')"
      ]
     },
     "execution_count": 8,
     "metadata": {},
     "output_type": "execute_result"
    },
    {
     "data": {
      "image/png": "[encoded data removed]",
      "text/plain": [
       "<Figure size 432x288 with 1 Axes>"
      ]
     },
     "metadata": {},
     "output_type": "display_data"
    }
   ],
   "source": [
    "plt.scatter(one_hump.x, one_hump.y)\n",
    "plt.title(\"One Hump Data\")"
   ]
  },
  {
   "cell_type": "markdown",
   "metadata": {},
   "source": [
    "**Two Hump Data**"
   ]
  },
  {
   "cell_type": "code",
   "execution_count": 9,
   "metadata": {},
   "outputs": [
    {
     "data": {
      "text/html": [
       "<div>\n",
       "<style scoped>\n",
       "    .dataframe tbody tr th:only-of-type {\n",
       "        vertical-align: middle;\n",
       "    }\n",
       "\n",
       "    .dataframe tbody tr th {\n",
       "        vertical-align: top;\n",
       "    }\n",
       "\n",
       "    .dataframe thead th {\n",
       "        text-align: right;\n",
       "    }\n",
       "</style>\n",
       "<table border=\"1\" class=\"dataframe\">\n",
       "  <thead>\n",
       "    <tr style=\"text-align: right;\">\n",
       "      <th></th>\n",
       "      <th>x</th>\n",
       "      <th>y</th>\n",
       "    </tr>\n",
       "  </thead>\n",
       "  <tbody>\n",
       "    <tr>\n",
       "      <th>0</th>\n",
       "      <td>-2.637720</td>\n",
       "      <td>0.000288</td>\n",
       "    </tr>\n",
       "    <tr>\n",
       "      <th>1</th>\n",
       "      <td>3.808384</td>\n",
       "      <td>0.000326</td>\n",
       "    </tr>\n",
       "    <tr>\n",
       "      <th>2</th>\n",
       "      <td>3.121579</td>\n",
       "      <td>0.080294</td>\n",
       "    </tr>\n",
       "    <tr>\n",
       "      <th>3</th>\n",
       "      <td>5.713059</td>\n",
       "      <td>1.000351</td>\n",
       "    </tr>\n",
       "    <tr>\n",
       "      <th>4</th>\n",
       "      <td>3.975868</td>\n",
       "      <td>0.000362</td>\n",
       "    </tr>\n",
       "  </tbody>\n",
       "</table>\n",
       "</div>"
      ],
      "text/plain": [
       "          x         y\n",
       "0 -2.637720  0.000288\n",
       "1  3.808384  0.000326\n",
       "2  3.121579  0.080294\n",
       "3  5.713059  1.000351\n",
       "4  3.975868  0.000362"
      ]
     },
     "execution_count": 9,
     "metadata": {},
     "output_type": "execute_result"
    }
   ],
   "source": [
    "# your code here\n",
    "two_hump = pd.read_csv('./data/two_hump_df.csv')\n",
    "two_hump.head()"
   ]
  },
  {
   "cell_type": "code",
   "execution_count": 10,
   "metadata": {},
   "outputs": [
    {
     "data": {
      "text/plain": [
       "Text(0.5,1,'Two Hump Data')"
      ]
     },
     "execution_count": 10,
     "metadata": {},
     "output_type": "execute_result"
    },
    {
     "data": {
      "image/png": "[encoded data removed]",
      "text/plain": [
       "<Figure size 432x288 with 1 Axes>"
      ]
     },
     "metadata": {},
     "output_type": "display_data"
    }
   ],
   "source": [
    "plt.scatter(two_hump.x, two_hump.y)\n",
    "plt.title('Two Hump Data')"
   ]
  },
  {
   "cell_type": "markdown",
   "metadata": {},
   "source": [
    "**Analysis**"
   ]
  },
  {
   "cell_type": "markdown",
   "metadata": {},
   "source": [
    "In all three of the data sets, there is a strong non-linear relationship between the x and y variables."
   ]
  },
  {
   "cell_type": "markdown",
   "metadata": {},
   "source": [
    "**Coding the Neural Network**"
   ]
  },
  {
   "cell_type": "code",
   "execution_count": 51,
   "metadata": {},
   "outputs": [],
   "source": [
    "class MLP(object):\n",
    "    def __init__(self, input_nodes, hidden_nodes):\n",
    "        self.l1_matrix = np.random.rand(input_nodes + 1, hidden_nodes)\n",
    "        self.l2_matrix = np.random.rand(hidden_nodes+1, 1)\n",
    "    \n",
    "    def set_l1(self, new_param):\n",
    "        if new_param.shape != self.l1_matrix.shape:\n",
    "            raise ValueError(\"New parameters must be dimension {}\".format(self.l1_matrix.shape))\n",
    "        self.l1_matrix = new_param\n",
    "    \n",
    "    def set_l2(self, new_param):\n",
    "        if new_param.shape != self.l2_matrix.shape:\n",
    "            raise ValueError(\"New parameters must be dimension {}\".format(self.l2_matrix.shape))\n",
    "        self.l2_matrix = new_param\n",
    "        \n",
    "    def predict(self, x):\n",
    "        # define sigmoid\n",
    "        sigmoid = lambda x: 1/(1+np.exp(-x))\n",
    "        \n",
    "        # add bias to x\n",
    "        x = np.array(x)\n",
    "        x = x.reshape(-1,1)\n",
    "        x = np.append(x, np.ones((x.shape[0],1)), axis = 1)\n",
    "        \n",
    "        # run forward mode\n",
    "        self.layer_1 = x.dot(self.l1_matrix)\n",
    "        self.activation_1 = sigmoid(self.layer_1)\n",
    "        self.activation_1 = np.append(self.activation_1, np.ones(self.activation_1.shape[0]).reshape(-1,1), axis = 1)\n",
    "        self.layer_2 = self.activation_1.dot(self.l2_matrix)\n",
    "        return self.layer_2\n",
    "    \n",
    "    def loss(self, x, y):\n",
    "        y_hat = self.predict(x)\n",
    "        y = y.values.reshape(-1,1)\n",
    "        return np.mean((y-y_hat)**2)\n",
    "        \n",
    "    def grad(self, x, y):\n",
    "        y_hat = self.predict(x)\n",
    "        y = y.values.reshape(-1,1)\n",
    "        grad = np.mean(-2*(y-y_hat)*self.activation_1, axis = 0)\n",
    "        return grad.reshape(-1,1)\n",
    "        \n",
    "    def optimize_layer_2(self, x, y, epochs, lr, threshold = 1e-5):\n",
    "        e = 0\n",
    "        while e < epochs and self.loss(x, y) > threshold:\n",
    "            grad = self.grad(x, y)\n",
    "            self.set_l2(self.l2_matrix - lr*grad)\n",
    "            e += 1\n",
    "        print('converged in {} epochs'.format(e))"
   ]
  },
  {
   "cell_type": "markdown",
   "metadata": {},
   "source": [
    "**1.2** "
   ]
  },
  {
   "cell_type": "code",
   "execution_count": 52,
   "metadata": {},
   "outputs": [],
   "source": [
    "# initialize network\n",
    "network_step = MLP(1, 1)\n",
    "new_l1 = np.array([20,-40]).reshape(2,1)\n",
    "network_step.set_l1(new_l1)\n",
    "new_l2 = np.array([2,0]).reshape(2,1)\n",
    "network_step.set_l2(new_l2)"
   ]
  },
  {
   "cell_type": "code",
   "execution_count": 53,
   "metadata": {},
   "outputs": [
    {
     "data": {
      "image/png": "[encoded data removed]",
      "text/plain": [
       "<Figure size 432x288 with 1 Axes>"
      ]
     },
     "metadata": {},
     "output_type": "display_data"
    }
   ],
   "source": [
    "plt.scatter(single_step.x, network_step.predict(single_step.x), label = 'pred')\n",
    "plt.scatter(single_step.x, single_step.y, label = 'true')\n",
    "plt.legend()\n",
    "plt.title(\"Neural Network Predictions with Hand Chosen Parameters\")\n",
    "plt.show()"
   ]
  },
  {
   "cell_type": "markdown",
   "metadata": {},
   "source": [
    "**1.3** "
   ]
  },
  {
   "cell_type": "code",
   "execution_count": 57,
   "metadata": {},
   "outputs": [],
   "source": [
    "# initialize network\n",
    "network_one_hump = MLP(1, 2)\n",
    "new_l1 = np.array([[20,20],[-40,-120]])\n",
    "network_one_hump.set_l1(new_l1)\n",
    "new_l2 = np.array([2,-2,0]).reshape(3,1)\n",
    "network_one_hump.set_l2(new_l2)"
   ]
  },
  {
   "cell_type": "code",
   "execution_count": 58,
   "metadata": {},
   "outputs": [
    {
     "data": {
      "image/png": "[encoded data removed]",
      "text/plain": [
       "<Figure size 432x288 with 1 Axes>"
      ]
     },
     "metadata": {},
     "output_type": "display_data"
    }
   ],
   "source": [
    "plt.scatter(one_hump.x, network_one_hump.predict(one_hump.x), label = 'pred')\n",
    "plt.scatter(one_hump.x, one_hump.y, label = 'true')\n",
    "plt.legend()\n",
    "plt.title(\"Neural Network Predictions with Hand Chosen Parameters\")\n",
    "plt.show()"
   ]
  },
  {
   "cell_type": "markdown",
   "metadata": {},
   "source": [
    "**1.4**"
   ]
  },
  {
   "cell_type": "code",
   "execution_count": 60,
   "metadata": {},
   "outputs": [],
   "source": [
    "# initialize network\n",
    "network_two_hump = MLP(1, 4)\n",
    "new_l1 = np.array([[20,20,20,20],[-20,-60,-100,-140]])\n",
    "network_two_hump.set_l1(new_l1)\n",
    "new_l2 = np.array([2,-2,2,-2,0]).reshape(5,1)\n",
    "network_two_hump.set_l2(new_l2)"
   ]
  },
  {
   "cell_type": "code",
   "execution_count": 61,
   "metadata": {},
   "outputs": [
    {
     "data": {
      "image/png": "[encoded data removed]",
      "text/plain": [
       "<Figure size 432x288 with 1 Axes>"
      ]
     },
     "metadata": {},
     "output_type": "display_data"
    }
   ],
   "source": [
    "plt.scatter(two_hump.x, network_two_hump.predict(two_hump.x), label = 'pred')\n",
    "plt.scatter(two_hump.x, two_hump.y, label = 'true')\n",
    "plt.legend()\n",
    "plt.title(\"Neural Network Predictions with Hand Chosen Parameters\")\n",
    "plt.show()"
   ]
  },
  {
   "cell_type": "markdown",
   "metadata": {
    "collapsed": true
   },
   "source": [
    "**1.5** \n",
    "Choose the appropriate loss function and calculate and report the loss from all three cases. "
   ]
  },
  {
   "cell_type": "markdown",
   "metadata": {},
   "source": [
    "I chose to implement a mean squared loss function\n",
    "\n",
    "Hence, the gradient of the output layer's weights for all three cases (step, one hump and two humps) is $\\nabla L_2 = 1/n\\sum_{i=1}^n\\left(-2(y_i-\\hat{y_i})*\\sigma(X_iL_1)\\right)$"
   ]
  },
  {
   "cell_type": "markdown",
   "metadata": {},
   "source": [
    "The threshold value I'm using is 1e-5."
   ]
  },
  {
   "cell_type": "markdown",
   "metadata": {},
   "source": [
    "**Gradient Descent Single Step**"
   ]
  },
  {
   "cell_type": "code",
   "execution_count": 62,
   "metadata": {},
   "outputs": [
    {
     "name": "stdout",
     "output_type": "stream",
     "text": [
      "converged in 122 epochs\n",
      "Layer 2 parameters\n"
     ]
    },
    {
     "data": {
      "text/plain": [
       "array([[ 1.00581744],\n",
       "       [-0.00314928]])"
      ]
     },
     "execution_count": 62,
     "metadata": {},
     "output_type": "execute_result"
    }
   ],
   "source": [
    "network_step.optimize_layer_2(single_step.x, single_step.y, 10000, 0.1)\n",
    "print('Layer 2 parameters')\n",
    "network_step.l2_matrix"
   ]
  },
  {
   "cell_type": "code",
   "execution_count": 63,
   "metadata": {},
   "outputs": [
    {
     "name": "stdout",
     "output_type": "stream",
     "text": [
      "converged in 283 epochs\n",
      "Layer 2 parameters\n"
     ]
    },
    {
     "data": {
      "text/plain": [
       "array([[ 1.00545105],\n",
       "       [-1.00848556],\n",
       "       [-0.00109126]])"
      ]
     },
     "execution_count": 63,
     "metadata": {},
     "output_type": "execute_result"
    }
   ],
   "source": [
    "network_one_hump.optimize_layer_2(one_hump.x, one_hump.y, 10000, 0.1)\n",
    "print('Layer 2 parameters')\n",
    "network_one_hump.l2_matrix"
   ]
  },
  {
   "cell_type": "code",
   "execution_count": 64,
   "metadata": {},
   "outputs": [
    {
     "name": "stdout",
     "output_type": "stream",
     "text": [
      "converged in 889 epochs\n",
      "Layer 2 parameters\n"
     ]
    },
    {
     "data": {
      "text/plain": [
       "array([[ 1.01116114],\n",
       "       [-1.01408857],\n",
       "       [ 1.00698042],\n",
       "       [-1.00331341],\n",
       "       [-0.00106433]])"
      ]
     },
     "execution_count": 64,
     "metadata": {},
     "output_type": "execute_result"
    }
   ],
   "source": [
    "network_two_hump.optimize_layer_2(two_hump.x, two_hump.y, 10000, 0.1)\n",
    "print('Layer 2 parameters')\n",
    "network_two_hump.l2_matrix"
   ]
  },
  {
   "cell_type": "markdown",
   "metadata": {},
   "source": [
    "From these results, we can see that it takes more epochs for gradient descent to converge when the there are more parameters in the model."
   ]
  },
  {
   "cell_type": "markdown",
   "metadata": {},
   "source": [
    "<div class=\"exercise\"> <b> Question 2: Working with missing data. [50 pts]</b> </div>\n",
    "\n",
    "In this exercise we are going to use the **Pima Indians onset of diabetes** dataset found in `pima-indians-diabetes.csv`. This dataset describes patient medical record data for Pima Indians and whether they had an onset of diabetes within five years. It is a binary classification problem (onset of diabetes as 1 or not as 0). The input variables that describe each patient are numerical and have varying scales. The list below shows the eight attributes plus the target variable for the dataset:\n",
    "\n",
    "- Number of times pregnant.\n",
    "- Plasma glucose concentration a 2 hours in an oral glucose tolerance test.\n",
    "- Diastolic blood pressure (mm Hg).\n",
    "- Triceps skin fold thickness (mm).\n",
    "- 2-Hour serum insulin (mu U/ml).\n",
    "-  Body mass index.\n",
    "-  Diabetes pedigree function.\n",
    "- Age (years).<br>\n",
    "- **Outcome** (1 for early onset of diabetes within five years, 0 for not), target class.\n",
    "\n",
    "**2.1. Load the dataset into a pandas dataframe named `pima_df`. Clean the data by looking at the various features and making sure that their values make sense. Look for missing data including disguised missing data. The problem of disguised missing data arises when missing data values are not explicitly represented as such, but are coded with values that can be misinterpreted as valid data. Comment on your findings.**"
   ]
  },
  {
   "cell_type": "code",
   "execution_count": 88,
   "metadata": {},
   "outputs": [
    {
     "data": {
      "text/html": [
       "<div>\n",
       "<style scoped>\n",
       "    .dataframe tbody tr th:only-of-type {\n",
       "        vertical-align: middle;\n",
       "    }\n",
       "\n",
       "    .dataframe tbody tr th {\n",
       "        vertical-align: top;\n",
       "    }\n",
       "\n",
       "    .dataframe thead th {\n",
       "        text-align: right;\n",
       "    }\n",
       "</style>\n",
       "<table border=\"1\" class=\"dataframe\">\n",
       "  <thead>\n",
       "    <tr style=\"text-align: right;\">\n",
       "      <th></th>\n",
       "      <th>Pregnancies</th>\n",
       "      <th>Glucose</th>\n",
       "      <th>BloodPressure</th>\n",
       "      <th>SkinThickness</th>\n",
       "      <th>Insulin</th>\n",
       "      <th>BMI</th>\n",
       "      <th>DiabetesPedigreeFunction</th>\n",
       "      <th>Age</th>\n",
       "      <th>Outcome</th>\n",
       "    </tr>\n",
       "  </thead>\n",
       "  <tbody>\n",
       "    <tr>\n",
       "      <th>0</th>\n",
       "      <td>6</td>\n",
       "      <td>148</td>\n",
       "      <td>72</td>\n",
       "      <td>35</td>\n",
       "      <td>0</td>\n",
       "      <td>33.6</td>\n",
       "      <td>0.627</td>\n",
       "      <td>50</td>\n",
       "      <td>1</td>\n",
       "    </tr>\n",
       "    <tr>\n",
       "      <th>1</th>\n",
       "      <td>1</td>\n",
       "      <td>85</td>\n",
       "      <td>66</td>\n",
       "      <td>29</td>\n",
       "      <td>0</td>\n",
       "      <td>26.6</td>\n",
       "      <td>0.351</td>\n",
       "      <td>31</td>\n",
       "      <td>0</td>\n",
       "    </tr>\n",
       "    <tr>\n",
       "      <th>2</th>\n",
       "      <td>8</td>\n",
       "      <td>183</td>\n",
       "      <td>64</td>\n",
       "      <td>0</td>\n",
       "      <td>0</td>\n",
       "      <td>23.3</td>\n",
       "      <td>0.672</td>\n",
       "      <td>32</td>\n",
       "      <td>1</td>\n",
       "    </tr>\n",
       "    <tr>\n",
       "      <th>3</th>\n",
       "      <td>1</td>\n",
       "      <td>89</td>\n",
       "      <td>66</td>\n",
       "      <td>23</td>\n",
       "      <td>94</td>\n",
       "      <td>28.1</td>\n",
       "      <td>0.167</td>\n",
       "      <td>21</td>\n",
       "      <td>0</td>\n",
       "    </tr>\n",
       "    <tr>\n",
       "      <th>4</th>\n",
       "      <td>0</td>\n",
       "      <td>137</td>\n",
       "      <td>40</td>\n",
       "      <td>35</td>\n",
       "      <td>168</td>\n",
       "      <td>43.1</td>\n",
       "      <td>2.288</td>\n",
       "      <td>33</td>\n",
       "      <td>1</td>\n",
       "    </tr>\n",
       "  </tbody>\n",
       "</table>\n",
       "</div>"
      ],
      "text/plain": [
       "   Pregnancies  Glucose  BloodPressure  SkinThickness  Insulin   BMI  \\\n",
       "0            6      148             72             35        0  33.6   \n",
       "1            1       85             66             29        0  26.6   \n",
       "2            8      183             64              0        0  23.3   \n",
       "3            1       89             66             23       94  28.1   \n",
       "4            0      137             40             35      168  43.1   \n",
       "\n",
       "   DiabetesPedigreeFunction  Age Outcome  \n",
       "0                     0.627   50       1  \n",
       "1                     0.351   31       0  \n",
       "2                     0.672   32       1  \n",
       "3                     0.167   21       0  \n",
       "4                     2.288   33       1  "
      ]
     },
     "execution_count": 88,
     "metadata": {},
     "output_type": "execute_result"
    }
   ],
   "source": [
    "pima_df = pd.read_csv('./data/pima-indians-diabetes.csv')\n",
    "pima_df.head()"
   ]
  },
  {
   "cell_type": "code",
   "execution_count": 89,
   "metadata": {},
   "outputs": [
    {
     "data": {
      "text/plain": [
       "Pregnancies                   int64\n",
       "Glucose                       int64\n",
       "BloodPressure                 int64\n",
       "SkinThickness                 int64\n",
       "Insulin                       int64\n",
       "BMI                         float64\n",
       "DiabetesPedigreeFunction    float64\n",
       "Age                           int64\n",
       "Outcome                      object\n",
       "dtype: object"
      ]
     },
     "execution_count": 89,
     "metadata": {},
     "output_type": "execute_result"
    }
   ],
   "source": [
    "pima_df.dtypes"
   ]
  },
  {
   "cell_type": "markdown",
   "metadata": {},
   "source": [
    "It's strange that `Outcome` is type object. Let's investigate further."
   ]
  },
  {
   "cell_type": "code",
   "execution_count": 90,
   "metadata": {},
   "outputs": [
    {
     "data": {
      "text/plain": [
       "array(['1', '0', '0\\\\', '1\\\\', '0}'], dtype=object)"
      ]
     },
     "execution_count": 90,
     "metadata": {},
     "output_type": "execute_result"
    }
   ],
   "source": [
    "pima_df.Outcome.unique()"
   ]
  },
  {
   "cell_type": "markdown",
   "metadata": {},
   "source": [
    "I'm assuming that these are data entry errors - I will remove the slashes and brackets"
   ]
  },
  {
   "cell_type": "code",
   "execution_count": 91,
   "metadata": {},
   "outputs": [
    {
     "data": {
      "text/plain": [
       "[1, 0]\n",
       "Categories (2, object): [1, 0]"
      ]
     },
     "execution_count": 91,
     "metadata": {},
     "output_type": "execute_result"
    }
   ],
   "source": [
    "pima_df.Outcome = pima_df.Outcome.apply(lambda x : x[0]).astype('category')\n",
    "pima_df.Outcome.unique()"
   ]
  },
  {
   "cell_type": "markdown",
   "metadata": {},
   "source": [
    "Much better! Now let's turn our attention to the predictors."
   ]
  },
  {
   "cell_type": "code",
   "execution_count": 92,
   "metadata": {},
   "outputs": [
    {
     "data": {
      "text/html": [
       "<div>\n",
       "<style scoped>\n",
       "    .dataframe tbody tr th:only-of-type {\n",
       "        vertical-align: middle;\n",
       "    }\n",
       "\n",
       "    .dataframe tbody tr th {\n",
       "        vertical-align: top;\n",
       "    }\n",
       "\n",
       "    .dataframe thead th {\n",
       "        text-align: right;\n",
       "    }\n",
       "</style>\n",
       "<table border=\"1\" class=\"dataframe\">\n",
       "  <thead>\n",
       "    <tr style=\"text-align: right;\">\n",
       "      <th></th>\n",
       "      <th>Pregnancies</th>\n",
       "      <th>Glucose</th>\n",
       "      <th>BloodPressure</th>\n",
       "      <th>SkinThickness</th>\n",
       "      <th>Insulin</th>\n",
       "      <th>BMI</th>\n",
       "      <th>DiabetesPedigreeFunction</th>\n",
       "      <th>Age</th>\n",
       "    </tr>\n",
       "  </thead>\n",
       "  <tbody>\n",
       "    <tr>\n",
       "      <th>count</th>\n",
       "      <td>764.000000</td>\n",
       "      <td>764.000000</td>\n",
       "      <td>764.000000</td>\n",
       "      <td>764.000000</td>\n",
       "      <td>764.000000</td>\n",
       "      <td>764.000000</td>\n",
       "      <td>764.000000</td>\n",
       "      <td>764.000000</td>\n",
       "    </tr>\n",
       "    <tr>\n",
       "      <th>mean</th>\n",
       "      <td>3.853403</td>\n",
       "      <td>120.922775</td>\n",
       "      <td>69.111257</td>\n",
       "      <td>20.537958</td>\n",
       "      <td>80.070681</td>\n",
       "      <td>31.998429</td>\n",
       "      <td>0.472712</td>\n",
       "      <td>33.248691</td>\n",
       "    </tr>\n",
       "    <tr>\n",
       "      <th>std</th>\n",
       "      <td>3.374327</td>\n",
       "      <td>32.039835</td>\n",
       "      <td>19.403339</td>\n",
       "      <td>15.970234</td>\n",
       "      <td>115.431087</td>\n",
       "      <td>7.899591</td>\n",
       "      <td>0.331981</td>\n",
       "      <td>11.771901</td>\n",
       "    </tr>\n",
       "    <tr>\n",
       "      <th>min</th>\n",
       "      <td>0.000000</td>\n",
       "      <td>0.000000</td>\n",
       "      <td>0.000000</td>\n",
       "      <td>0.000000</td>\n",
       "      <td>0.000000</td>\n",
       "      <td>0.000000</td>\n",
       "      <td>0.078000</td>\n",
       "      <td>21.000000</td>\n",
       "    </tr>\n",
       "    <tr>\n",
       "      <th>25%</th>\n",
       "      <td>1.000000</td>\n",
       "      <td>99.000000</td>\n",
       "      <td>62.000000</td>\n",
       "      <td>0.000000</td>\n",
       "      <td>0.000000</td>\n",
       "      <td>27.300000</td>\n",
       "      <td>0.242500</td>\n",
       "      <td>24.000000</td>\n",
       "    </tr>\n",
       "    <tr>\n",
       "      <th>50%</th>\n",
       "      <td>3.000000</td>\n",
       "      <td>117.000000</td>\n",
       "      <td>72.000000</td>\n",
       "      <td>23.000000</td>\n",
       "      <td>34.000000</td>\n",
       "      <td>32.000000</td>\n",
       "      <td>0.375500</td>\n",
       "      <td>29.000000</td>\n",
       "    </tr>\n",
       "    <tr>\n",
       "      <th>75%</th>\n",
       "      <td>6.000000</td>\n",
       "      <td>141.000000</td>\n",
       "      <td>80.000000</td>\n",
       "      <td>32.000000</td>\n",
       "      <td>128.250000</td>\n",
       "      <td>36.600000</td>\n",
       "      <td>0.627500</td>\n",
       "      <td>41.000000</td>\n",
       "    </tr>\n",
       "    <tr>\n",
       "      <th>max</th>\n",
       "      <td>17.000000</td>\n",
       "      <td>199.000000</td>\n",
       "      <td>122.000000</td>\n",
       "      <td>99.000000</td>\n",
       "      <td>846.000000</td>\n",
       "      <td>67.100000</td>\n",
       "      <td>2.420000</td>\n",
       "      <td>81.000000</td>\n",
       "    </tr>\n",
       "  </tbody>\n",
       "</table>\n",
       "</div>"
      ],
      "text/plain": [
       "       Pregnancies     Glucose  BloodPressure  SkinThickness     Insulin  \\\n",
       "count   764.000000  764.000000     764.000000     764.000000  764.000000   \n",
       "mean      3.853403  120.922775      69.111257      20.537958   80.070681   \n",
       "std       3.374327   32.039835      19.403339      15.970234  115.431087   \n",
       "min       0.000000    0.000000       0.000000       0.000000    0.000000   \n",
       "25%       1.000000   99.000000      62.000000       0.000000    0.000000   \n",
       "50%       3.000000  117.000000      72.000000      23.000000   34.000000   \n",
       "75%       6.000000  141.000000      80.000000      32.000000  128.250000   \n",
       "max      17.000000  199.000000     122.000000      99.000000  846.000000   \n",
       "\n",
       "              BMI  DiabetesPedigreeFunction         Age  \n",
       "count  764.000000                764.000000  764.000000  \n",
       "mean    31.998429                  0.472712   33.248691  \n",
       "std      7.899591                  0.331981   11.771901  \n",
       "min      0.000000                  0.078000   21.000000  \n",
       "25%     27.300000                  0.242500   24.000000  \n",
       "50%     32.000000                  0.375500   29.000000  \n",
       "75%     36.600000                  0.627500   41.000000  \n",
       "max     67.100000                  2.420000   81.000000  "
      ]
     },
     "execution_count": 92,
     "metadata": {},
     "output_type": "execute_result"
    }
   ],
   "source": [
    "pima_df.describe()"
   ]
  },
  {
   "cell_type": "markdown",
   "metadata": {},
   "source": [
    "There are two issues that deserve further investigating.\n",
    "\n",
    "1. `Glucose`, `BloodPressure`, `SkinThickness`, `Insulin`, and `BMI` should never be 0, yet they all have min 0.\n",
    "2. `Glucose`, `BloodPressure`, `SkinThickness`, `Insulin`, and `BMI` have high maximums and these outliers might be errors."
   ]
  },
  {
   "cell_type": "code",
   "execution_count": 93,
   "metadata": {},
   "outputs": [
    {
     "name": "stderr",
     "output_type": "stream",
     "text": [
      "/Users/joshfeldman/anaconda3/envs/py36/lib/python3.6/site-packages/matplotlib/figure.py:457: UserWarning: matplotlib is currently using a non-GUI backend, so cannot show the figure\n",
      "  \"matplotlib is currently using a non-GUI backend, \"\n"
     ]
    },
    {
     "data": {
      "image/png": "[encoded data removed]",
      "text/plain": [
       "<Figure size 720x360 with 5 Axes>"
      ]
     },
     "metadata": {},
     "output_type": "display_data"
    }
   ],
   "source": [
    "fig, axes = plt.subplots(1,5, figsize=(10,5))\n",
    "non_zero_col = ['Glucose', 'BloodPressure', 'SkinThickness', 'Insulin', 'BMI']\n",
    "for idx, ax in enumerate(axes):\n",
    "        col = non_zero_col[idx]\n",
    "        if col != \"Outcome\":\n",
    "            ax.hist(pima_df[col])\n",
    "            ax.set_title(col)\n",
    "fig.suptitle(\"Distribution of Predictors that Should Potentially be Non-Zero\")\n",
    "fig.show()"
   ]
  },
  {
   "cell_type": "markdown",
   "metadata": {},
   "source": [
    "These predictors seem to have an abnormal number of zeros, which makes me think that zeros are indeed missing values. I will replace them with `None`"
   ]
  },
  {
   "cell_type": "code",
   "execution_count": 94,
   "metadata": {},
   "outputs": [
    {
     "data": {
      "text/html": [
       "<div>\n",
       "<style scoped>\n",
       "    .dataframe tbody tr th:only-of-type {\n",
       "        vertical-align: middle;\n",
       "    }\n",
       "\n",
       "    .dataframe tbody tr th {\n",
       "        vertical-align: top;\n",
       "    }\n",
       "\n",
       "    .dataframe thead th {\n",
       "        text-align: right;\n",
       "    }\n",
       "</style>\n",
       "<table border=\"1\" class=\"dataframe\">\n",
       "  <thead>\n",
       "    <tr style=\"text-align: right;\">\n",
       "      <th></th>\n",
       "      <th>Pregnancies</th>\n",
       "      <th>Glucose</th>\n",
       "      <th>BloodPressure</th>\n",
       "      <th>SkinThickness</th>\n",
       "      <th>Insulin</th>\n",
       "      <th>BMI</th>\n",
       "      <th>DiabetesPedigreeFunction</th>\n",
       "      <th>Age</th>\n",
       "    </tr>\n",
       "  </thead>\n",
       "  <tbody>\n",
       "    <tr>\n",
       "      <th>count</th>\n",
       "      <td>764.000000</td>\n",
       "      <td>759.000000</td>\n",
       "      <td>729.000000</td>\n",
       "      <td>538.000000</td>\n",
       "      <td>393.000000</td>\n",
       "      <td>753.00000</td>\n",
       "      <td>764.000000</td>\n",
       "      <td>764.000000</td>\n",
       "    </tr>\n",
       "    <tr>\n",
       "      <th>mean</th>\n",
       "      <td>3.853403</td>\n",
       "      <td>121.719368</td>\n",
       "      <td>72.429355</td>\n",
       "      <td>29.165428</td>\n",
       "      <td>155.659033</td>\n",
       "      <td>32.46587</td>\n",
       "      <td>0.472712</td>\n",
       "      <td>33.248691</td>\n",
       "    </tr>\n",
       "    <tr>\n",
       "      <th>std</th>\n",
       "      <td>3.374327</td>\n",
       "      <td>30.597938</td>\n",
       "      <td>12.406940</td>\n",
       "      <td>10.502130</td>\n",
       "      <td>118.906865</td>\n",
       "      <td>6.93688</td>\n",
       "      <td>0.331981</td>\n",
       "      <td>11.771901</td>\n",
       "    </tr>\n",
       "    <tr>\n",
       "      <th>min</th>\n",
       "      <td>0.000000</td>\n",
       "      <td>44.000000</td>\n",
       "      <td>24.000000</td>\n",
       "      <td>7.000000</td>\n",
       "      <td>14.000000</td>\n",
       "      <td>18.20000</td>\n",
       "      <td>0.078000</td>\n",
       "      <td>21.000000</td>\n",
       "    </tr>\n",
       "    <tr>\n",
       "      <th>25%</th>\n",
       "      <td>1.000000</td>\n",
       "      <td>99.000000</td>\n",
       "      <td>64.000000</td>\n",
       "      <td>22.000000</td>\n",
       "      <td>76.000000</td>\n",
       "      <td>27.50000</td>\n",
       "      <td>0.242500</td>\n",
       "      <td>24.000000</td>\n",
       "    </tr>\n",
       "    <tr>\n",
       "      <th>50%</th>\n",
       "      <td>3.000000</td>\n",
       "      <td>117.000000</td>\n",
       "      <td>72.000000</td>\n",
       "      <td>29.000000</td>\n",
       "      <td>125.000000</td>\n",
       "      <td>32.30000</td>\n",
       "      <td>0.375500</td>\n",
       "      <td>29.000000</td>\n",
       "    </tr>\n",
       "    <tr>\n",
       "      <th>75%</th>\n",
       "      <td>6.000000</td>\n",
       "      <td>141.000000</td>\n",
       "      <td>80.000000</td>\n",
       "      <td>36.000000</td>\n",
       "      <td>190.000000</td>\n",
       "      <td>36.60000</td>\n",
       "      <td>0.627500</td>\n",
       "      <td>41.000000</td>\n",
       "    </tr>\n",
       "    <tr>\n",
       "      <th>max</th>\n",
       "      <td>17.000000</td>\n",
       "      <td>199.000000</td>\n",
       "      <td>122.000000</td>\n",
       "      <td>99.000000</td>\n",
       "      <td>846.000000</td>\n",
       "      <td>67.10000</td>\n",
       "      <td>2.420000</td>\n",
       "      <td>81.000000</td>\n",
       "    </tr>\n",
       "  </tbody>\n",
       "</table>\n",
       "</div>"
      ],
      "text/plain": [
       "       Pregnancies     Glucose  BloodPressure  SkinThickness     Insulin  \\\n",
       "count   764.000000  759.000000     729.000000     538.000000  393.000000   \n",
       "mean      3.853403  121.719368      72.429355      29.165428  155.659033   \n",
       "std       3.374327   30.597938      12.406940      10.502130  118.906865   \n",
       "min       0.000000   44.000000      24.000000       7.000000   14.000000   \n",
       "25%       1.000000   99.000000      64.000000      22.000000   76.000000   \n",
       "50%       3.000000  117.000000      72.000000      29.000000  125.000000   \n",
       "75%       6.000000  141.000000      80.000000      36.000000  190.000000   \n",
       "max      17.000000  199.000000     122.000000      99.000000  846.000000   \n",
       "\n",
       "             BMI  DiabetesPedigreeFunction         Age  \n",
       "count  753.00000                764.000000  764.000000  \n",
       "mean    32.46587                  0.472712   33.248691  \n",
       "std      6.93688                  0.331981   11.771901  \n",
       "min     18.20000                  0.078000   21.000000  \n",
       "25%     27.50000                  0.242500   24.000000  \n",
       "50%     32.30000                  0.375500   29.000000  \n",
       "75%     36.60000                  0.627500   41.000000  \n",
       "max     67.10000                  2.420000   81.000000  "
      ]
     },
     "execution_count": 94,
     "metadata": {},
     "output_type": "execute_result"
    }
   ],
   "source": [
    "non_zero_columns = ['Glucose', 'BloodPressure','SkinThickness', 'Insulin', 'BMI']\n",
    "pima_df[non_zero_columns] = pima_df[non_zero_columns].replace(0,np.nan)\n",
    "pima_df.describe()"
   ]
  },
  {
   "cell_type": "markdown",
   "metadata": {},
   "source": [
    "The minimum values now make more sense. The maximum values do not seem completely out of the ordinary, so I will leave them as is."
   ]
  },
  {
   "cell_type": "markdown",
   "metadata": {},
   "source": [
    "**2.2 Split the dataset into a 75-25 train-test split (use `random_state=9001`). Fit a logistic regression classifier to the training set and report the  accuracy of the classifier on the test set. You should use $L_2$ regularization in logistic regression, with the regularization parameter tuned using cross-validation (`LogisticRegressionCV`).  Report the overall classification rate.**"
   ]
  },
  {
   "cell_type": "code",
   "execution_count": 95,
   "metadata": {},
   "outputs": [],
   "source": [
    "def get_train_and_test_acc(df, impute):\n",
    "    # create a training and test set\n",
    "    print(\"Creating train and test sets...\")\n",
    "    pima_train, pima_test = train_test_split(pima_df, random_state=9001)\n",
    "   \n",
    "    # handle missing values\n",
    "    print(\"Imputing missing values...\")\n",
    "    pima_train_impute, pima_test_impute = impute(pima_train, pima_test)\n",
    "  \n",
    "    print(\"Size of training data after imputation:\",len(pima_train_impute))\n",
    "    print(\"Size of test data after imputation:\",len(pima_test_impute))\n",
    "    #split into predictors and labels\n",
    "    print(\"Preprocessing data\")\n",
    "    pima_train_X = pima_train_impute.drop(\"Outcome\", axis = 1)\n",
    "    pima_train_y = pima_train_impute[\"Outcome\"]\n",
    "\n",
    "    pima_test_X = pima_test_impute.drop(\"Outcome\", axis = 1)\n",
    "    pima_test_y = pima_test_impute[\"Outcome\"]\n",
    "    \n",
    "    # we need to scale the data to ensure the l2 regularization performs better\n",
    "    scaler = StandardScaler().fit(pima_train_X)\n",
    "    pima_train_X_scaled = scaler.transform(pima_train_X)\n",
    "\n",
    "    # fit logistic regression with L2 penalty\n",
    "    print(\"Fitting model...\")\n",
    "    model = LogisticRegressionCV().fit(pima_train_X_scaled, pima_train_y)\n",
    "    print(\"The accuracy on the training set is\", accuracy_score(pima_train_y, model.predict(pima_train_X_scaled)))\n",
    "    \n",
    "    # report the accuracy on the test set\n",
    "    pima_test_X_scaled = scaler.transform(pima_test_X)\n",
    "    print(\"The accuracy on the test set is\", accuracy_score(pima_test_y, model.predict(pima_test_X_scaled)))\n",
    "    return (model.coef_, model.intercept_)"
   ]
  },
  {
   "cell_type": "code",
   "execution_count": 96,
   "metadata": {},
   "outputs": [],
   "source": [
    "def impute_drop(df_train, df_test):\n",
    "    df_train = df_train.dropna()\n",
    "    dt_test = df_test.dropna()\n",
    "    return df_train, dt_test"
   ]
  },
  {
   "cell_type": "code",
   "execution_count": 97,
   "metadata": {
    "scrolled": true
   },
   "outputs": [
    {
     "name": "stdout",
     "output_type": "stream",
     "text": [
      "Creating train and test sets...\n",
      "Imputing missing values...\n",
      "Size of training data after imputation: 287\n",
      "Size of test data after imputation: 104\n",
      "Preprocessing data\n",
      "Fitting model...\n",
      "The accuracy on the training set is 0.7804878048780488\n",
      "The accuracy on the test set is 0.7692307692307693\n"
     ]
    }
   ],
   "source": [
    "coefs_drop = get_train_and_test_acc(pima_df, impute_drop)"
   ]
  },
  {
   "cell_type": "markdown",
   "metadata": {},
   "source": [
    "**2.3 Restart with a fresh copy of the whole dataset and impute the missing data via mean imputation.  Split the data 75-25 (use `random_state=9001`) and fit a regularized logistic regression model.  Report the overall classification rate.**"
   ]
  },
  {
   "cell_type": "code",
   "execution_count": 98,
   "metadata": {},
   "outputs": [],
   "source": [
    "def impute_mean(df_train, df_test):\n",
    "    predictors = df_train.drop('Outcome',axis =1).columns\n",
    "    df_train[predictors] = df_train[predictors].fillna(df_train[predictors].mean())\n",
    "    df_test[predictors] = df_test[predictors].fillna(df_train[predictors].mean())\n",
    "    return df_train, df_test"
   ]
  },
  {
   "cell_type": "code",
   "execution_count": 99,
   "metadata": {},
   "outputs": [
    {
     "name": "stdout",
     "output_type": "stream",
     "text": [
      "Creating train and test sets...\n",
      "Imputing missing values...\n"
     ]
    },
    {
     "name": "stderr",
     "output_type": "stream",
     "text": [
      "/Users/joshfeldman/anaconda3/envs/py36/lib/python3.6/site-packages/pandas/core/frame.py:3140: SettingWithCopyWarning: \n",
      "A value is trying to be set on a copy of a slice from a DataFrame.\n",
      "Try using .loc[row_indexer,col_indexer] = value instead\n",
      "\n",
      "See the caveats in the documentation: http://pandas.pydata.org/pandas-docs/stable/indexing.html#indexing-view-versus-copy\n",
      "  self[k1] = value[k2]\n"
     ]
    },
    {
     "name": "stdout",
     "output_type": "stream",
     "text": [
      "Size of training data after imputation: 573\n",
      "Size of test data after imputation: 191\n",
      "Preprocessing data\n",
      "Fitting model...\n",
      "The accuracy on the training set is 0.7731239092495636\n",
      "The accuracy on the test set is 0.7591623036649214\n"
     ]
    }
   ],
   "source": [
    "coefs_mean = get_train_and_test_acc(pima_df, impute_mean)"
   ]
  },
  {
   "cell_type": "markdown",
   "metadata": {},
   "source": [
    "**2.4** Again restart with a fresh copy of the whole dataset and impute the missing data via a model-based imputation method. Once again split the data 75-25 (same `random_state=9001`) and fit a regularized logistic regression model.  Report the overall classification rate."
   ]
  },
  {
   "cell_type": "markdown",
   "metadata": {},
   "source": [
    "For the model-based inputation, we will use the rows for which we have no missing values to train KNN predictors. For each combination of missing and non-missing covariates in the dataset, we will train a KNN predictor to impute the missing elements."
   ]
  },
  {
   "cell_type": "code",
   "execution_count": 100,
   "metadata": {},
   "outputs": [],
   "source": [
    "from sklearn.neighbors import KNeighborsRegressor"
   ]
  },
  {
   "cell_type": "code",
   "execution_count": 101,
   "metadata": {},
   "outputs": [],
   "source": [
    "def get_missing_in_row(row):\n",
    "    row_na = row.isna()\n",
    "    row_na_names = row[row_na].index\n",
    "    return row_na_names    "
   ]
  },
  {
   "cell_type": "code",
   "execution_count": 102,
   "metadata": {},
   "outputs": [],
   "source": [
    "def fit_KNN(missing_col, all_missing_cols, df_train):\n",
    "    df_train_X = (df_train\n",
    "                  .dropna()\n",
    "                  .drop('Outcome', axis = 1)\n",
    "                  .drop(all_missing_cols, axis = 1)\n",
    "                 )\n",
    "    df_train_y = (df_train\n",
    "                  .dropna()\n",
    "                  [missing_col]\n",
    "                 )\n",
    "    model = KNeighborsRegressor(n_neighbors = 2).fit(df_train_X, df_train_y)\n",
    "    return model"
   ]
  },
  {
   "cell_type": "code",
   "execution_count": 103,
   "metadata": {},
   "outputs": [],
   "source": [
    "def impute_KNN_single_df(df_to_impute, df_train):\n",
    "    count = 0\n",
    "    models = {}\n",
    "    for idx, row in df_to_impute.iterrows():\n",
    "        if count % 10 == 0:\n",
    "            print(\"Imputed {}/{}\".format(count, len(df_to_impute)))\n",
    "        all_missing_cols = list(get_missing_in_row(row))\n",
    "        for missing_col in all_missing_cols:\n",
    "            if str(missing_col) + str(all_missing_cols) in models.keys():\n",
    "                model = models[str(missing_col) + str(all_missing_cols)]\n",
    "            else:\n",
    "                model = fit_KNN(missing_col, all_missing_cols, df_train)\n",
    "                models[str(missing_col) + str(all_missing_cols)] = model\n",
    "            value_to_impute = model.predict(row\n",
    "                                            .drop('Outcome')\n",
    "                                            .drop(all_missing_cols)\n",
    "                                            .values\n",
    "                                            .reshape(1,-1)\n",
    "                                            )\n",
    "            row[missing_col] = value_to_impute[0]\n",
    "        df_to_impute.loc[idx] = row\n",
    "        count += 1\n",
    "    return df_to_impute"
   ]
  },
  {
   "cell_type": "code",
   "execution_count": 104,
   "metadata": {},
   "outputs": [],
   "source": [
    "def impute_KNN(df_train, df_test):\n",
    "    print(\"Imputing training data...\")\n",
    "    df_train = impute_KNN_single_df(df_train, df_train)\n",
    "    print(\"Imputing testing data...\")\n",
    "    dt_test = impute_KNN_single_df(df_test, df_train)\n",
    "    return df_train, dt_test"
   ]
  },
  {
   "cell_type": "code",
   "execution_count": 105,
   "metadata": {
    "scrolled": true
   },
   "outputs": [
    {
     "name": "stdout",
     "output_type": "stream",
     "text": [
      "Creating train and test sets...\n",
      "Imputing missing values...\n",
      "Imputing training data...\n",
      "Imputed 0/573\n"
     ]
    },
    {
     "name": "stderr",
     "output_type": "stream",
     "text": [
      "/Users/joshfeldman/anaconda3/envs/py36/lib/python3.6/site-packages/pandas/core/indexing.py:543: SettingWithCopyWarning: \n",
      "A value is trying to be set on a copy of a slice from a DataFrame.\n",
      "Try using .loc[row_indexer,col_indexer] = value instead\n",
      "\n",
      "See the caveats in the documentation: http://pandas.pydata.org/pandas-docs/stable/indexing.html#indexing-view-versus-copy\n",
      "  self.obj[item] = s\n"
     ]
    },
    {
     "name": "stdout",
     "output_type": "stream",
     "text": [
      "Imputed 10/573\n",
      "Imputed 20/573\n",
      "Imputed 30/573\n",
      "Imputed 40/573\n",
      "Imputed 50/573\n",
      "Imputed 60/573\n",
      "Imputed 70/573\n",
      "Imputed 80/573\n",
      "Imputed 90/573\n",
      "Imputed 100/573\n",
      "Imputed 110/573\n",
      "Imputed 120/573\n",
      "Imputed 130/573\n",
      "Imputed 140/573\n",
      "Imputed 150/573\n",
      "Imputed 160/573\n",
      "Imputed 170/573\n",
      "Imputed 180/573\n",
      "Imputed 190/573\n",
      "Imputed 200/573\n",
      "Imputed 210/573\n",
      "Imputed 220/573\n",
      "Imputed 230/573\n",
      "Imputed 240/573\n",
      "Imputed 250/573\n",
      "Imputed 260/573\n",
      "Imputed 270/573\n",
      "Imputed 280/573\n",
      "Imputed 290/573\n",
      "Imputed 300/573\n",
      "Imputed 310/573\n",
      "Imputed 320/573\n",
      "Imputed 330/573\n",
      "Imputed 340/573\n",
      "Imputed 350/573\n",
      "Imputed 360/573\n",
      "Imputed 370/573\n",
      "Imputed 380/573\n",
      "Imputed 390/573\n",
      "Imputed 400/573\n",
      "Imputed 410/573\n",
      "Imputed 420/573\n",
      "Imputed 430/573\n",
      "Imputed 440/573\n",
      "Imputed 450/573\n",
      "Imputed 460/573\n",
      "Imputed 470/573\n",
      "Imputed 480/573\n",
      "Imputed 490/573\n",
      "Imputed 500/573\n",
      "Imputed 510/573\n",
      "Imputed 520/573\n",
      "Imputed 530/573\n",
      "Imputed 540/573\n",
      "Imputed 550/573\n",
      "Imputed 560/573\n",
      "Imputed 570/573\n",
      "Imputing testing data...\n",
      "Imputed 0/191\n",
      "Imputed 10/191\n",
      "Imputed 20/191\n",
      "Imputed 30/191\n",
      "Imputed 40/191\n",
      "Imputed 50/191\n",
      "Imputed 60/191\n",
      "Imputed 70/191\n",
      "Imputed 80/191\n",
      "Imputed 90/191\n",
      "Imputed 100/191\n",
      "Imputed 110/191\n",
      "Imputed 120/191\n",
      "Imputed 130/191\n",
      "Imputed 140/191\n",
      "Imputed 150/191\n",
      "Imputed 160/191\n",
      "Imputed 170/191\n",
      "Imputed 180/191\n",
      "Imputed 190/191\n",
      "Size of training data after imputation: 573\n",
      "Size of test data after imputation: 191\n",
      "Preprocessing data\n",
      "Fitting model...\n",
      "The accuracy on the training set is 0.7731239092495636\n",
      "The accuracy on the test set is 0.7591623036649214\n"
     ]
    }
   ],
   "source": [
    "coefs_knn = get_train_and_test_acc(pima_df, impute_KNN)"
   ]
  },
  {
   "cell_type": "markdown",
   "metadata": {},
   "source": [
    "**2.5 Compare the results in the 3 previous parts of this problem.  Prepare a paragraph (5-6 sentences) discussing the results, the computational complexity of the methods,  and explain why you get the results that you see.**"
   ]
  },
  {
   "cell_type": "markdown",
   "metadata": {},
   "source": [
    "For all three of the imputation methods, we achieve a test set accuracy of 76%. This might be because the missing values are missing completely at random. When data is missing completely at random, our remaining dataset is a representative sample of the original data. Mean and model based imputation shouldn't introduce any bias and lead to a similar result as simply dropping the rows with missing data. \n",
    "\n",
    "Unfortunately, without knowing anything about how the data was collected or the underlying true data generating processes, we cannot test this hypothesis.\n",
    "\n",
    "The model based imputation was much slower than the other methods."
   ]
  },
  {
   "cell_type": "markdown",
   "metadata": {},
   "source": [
    "**2.6 This question does not have one answer and requires some experimentation. Check which coefficients changed the most between the model in 2.1-2.2 and the models in 2.3 and 2.4. Are they the coefficients you expected to change given the imputation you performed? If not explain why (supporting your explanation using the data is always a good idea).**"
   ]
  },
  {
   "cell_type": "code",
   "execution_count": 106,
   "metadata": {},
   "outputs": [],
   "source": [
    "drop = list(coefs_drop[0][0])\n",
    "drop.append(coefs_drop[1][0])\n",
    "mean = list(coefs_mean[0][0])\n",
    "mean.append(coefs_mean[1][0])\n",
    "knn = list(coefs_knn[0][0])\n",
    "knn.append(coefs_knn[1][0])\n",
    "\n",
    "coefs_df = pd.DataFrame([drop,mean,knn])\n",
    "covariates = list(pima_df.columns[:-1])\n",
    "covariates.append(\"intercept\")\n",
    "coefs_df.columns = covariates\n",
    "coefs_df.index = ['drop', 'mean', 'knn']"
   ]
  },
  {
   "cell_type": "code",
   "execution_count": 107,
   "metadata": {},
   "outputs": [
    {
     "data": {
      "image/png": "[encoded data removed]",
      "text/plain": [
       "<Figure size 432x288 with 1 Axes>"
      ]
     },
     "metadata": {},
     "output_type": "display_data"
    }
   ],
   "source": [
    "coefs_df.T.plot(kind = 'bar')\n",
    "plt.title('Logistic Regressions Coefficients for the Three Imputations')\n",
    "plt.show()"
   ]
  },
  {
   "cell_type": "markdown",
   "metadata": {},
   "source": [
    "We should expect the coefficients resulting from mean or model-based imputation to differ from the coefficients attained through drop imputation. When we drop samples with missing data, it makes our dataset smaller, leading to a larger standard error on our coefficients. This means that for drop imputation there is a greater probability that the estimated coefficients are further from the true coefficients. Alternatively, mean imputation and model-based imputation should lead to estimates closer to the true coefficients. We see this in the graph above, with the mean and model-based imputation giving similar results, whereas drop imputation gives different estimates.\n",
    "\n",
    "This analysis, however, rests upon the assumption that our imputation method does not introduce bias in our estimates. This is almost certainly not the case, but as mentioned above, without knowledge of how the data was collected or the data generating process we cannot assess this claim.\n",
    "\n",
    "It does appear, however, that blood pressure, skin thickness, and insulin are not related to the onset of diabetes (all the models, regardless of the imputation method, have blood pressure, skin thickness, and insulin coefficients close to zero)."
   ]
  }
 ],
 "metadata": {
  "anaconda-cloud": {},
  "kernelspec": {
   "display_name": "Python [conda env:py36]",
   "language": "python",
   "name": "conda-env-py36-py"
  },
  "language_info": {
   "codemirror_mode": {
    "name": "ipython",
    "version": 3
   },
   "file_extension": ".py",
   "mimetype": "text/x-python",
   "name": "python",
   "nbconvert_exporter": "python",
   "pygments_lexer": "ipython3",
   "version": "3.6.6"
  }
 },
 "nbformat": 4,
 "nbformat_minor": 1
}
