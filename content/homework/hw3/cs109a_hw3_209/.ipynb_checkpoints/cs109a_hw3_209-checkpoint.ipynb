{
 "cells": [
  {
   "cell_type": "markdown",
   "metadata": {},
   "source": [
    "# <img style=\"float: left; padding-right: 10px; width: 45px\" src=\"https://raw.githubusercontent.com/Harvard-IACS/2018-CS109A/master/content/styles/iacs.png\"> CS109A Introduction to Data Science: \n",
    "\n",
    "## Homework 3  AC 209 : From MLE to AIC\n",
    "\n",
    "\n",
    "**Harvard University**<br/>\n",
    "**Fall 2018**<br/>\n",
    "**Instructors**: Pavlos Protopapas, Kevin Rader\n",
    "\n",
    "<hr style=\"height:2pt\">\n"
   ]
  },
  {
   "cell_type": "code",
   "execution_count": 131,
   "metadata": {},
   "outputs": [
    {
     "data": {
      "text/html": [
       "<style>\n",
       "h1 { \n",
       "    padding-top: 25px;\n",
       "    padding-bottom: 25px;\n",
       "    text-align: left; \n",
       "    padding-left: 10px;\n",
       "    background-color: #DDDDDD; \n",
       "    color: black;\n",
       "}\n",
       "h2 { \n",
       "    padding-top: 10px;\n",
       "    padding-bottom: 10px;\n",
       "    text-align: left; \n",
       "    padding-left: 5px;\n",
       "    background-color: #EEEEEE; \n",
       "    color: black;\n",
       "}\n",
       "\n",
       "div.exercise {\n",
       "\tbackground-color: #ffcccc;\n",
       "\tborder-color: #E9967A; \t\n",
       "\tborder-left: 5px solid #800080; \n",
       "\tpadding: 0.5em;\n",
       "}\n",
       "div.theme {\n",
       "\tbackground-color: #DDDDDD;\n",
       "\tborder-color: #E9967A; \t\n",
       "\tborder-left: 5px solid #800080; \n",
       "\tpadding: 0.5em;\n",
       "\tfont-size: 18pt;\n",
       "}\n",
       "p.q1 { \n",
       "    padding-top: 5px;\n",
       "    padding-bottom: 5px;\n",
       "    text-align: left; \n",
       "    padding-left: 5px;\n",
       "    background-color: #EEEEEE; \n",
       "    color: black;\n",
       "}\n",
       "header {\n",
       "   padding-top: 35px;\n",
       "    padding-bottom: 35px;\n",
       "    text-align: left; \n",
       "    padding-left: 10px;\n",
       "    background-color: #DDDDDD; \n",
       "    color: black;\n",
       "}\n",
       "</style>\n",
       "\n"
      ],
      "text/plain": [
       "<IPython.core.display.HTML object>"
      ]
     },
     "execution_count": 131,
     "metadata": {},
     "output_type": "execute_result"
    }
   ],
   "source": [
    "#RUN THIS CELL \n",
    "import requests\n",
    "from IPython.core.display import HTML\n",
    "styles = requests.get(\"https://raw.githubusercontent.com/Harvard-IACS/2018-CS109A/master/content/styles/cs109.css\").text\n",
    "HTML(styles)"
   ]
  },
  {
   "cell_type": "code",
   "execution_count": 132,
   "metadata": {},
   "outputs": [],
   "source": [
    "import numpy as np\n",
    "import pandas as pd\n",
    "import matplotlib.pyplot as plt\n",
    "import seaborn as sns\n",
    "from scipy.stats import t\n",
    "from scipy.optimize import minimize\n",
    "\n",
    "from statsmodels.api import OLS\n",
    "import statsmodels.api as sm\n",
    "from scipy.stats import norm\n",
    "%matplotlib inline"
   ]
  },
  {
   "cell_type": "markdown",
   "metadata": {},
   "source": [
    "\n",
    "<div class='exercise'> <b>  Question 7: Student's t MLE </b> </div>\n",
    "\n",
    "**7.1** Fit a simple linear regression model using Maximum Likelihood Estimation on the data provided in `data/beerdata.csv`.  Consider two statistical models the for noise: a) Normal and b) Student's $\\textit{t}$-distribution with $\\nu=5$ and scale factor $\\sigma=\\sqrt{3/5}$.  \n",
    "\n",
    "**7.2** Compare the two models performances (visualize the prediction lines and estimate the KL divergence between the data and each model) and comment why it is perhaps appropriate to use the Student's t-distribution instead of the Normal.\n",
    "\n",
    "**Hints:**\n",
    "1. Use the probability density function for the Student's t distribution  with location $t$,  $\\nu$ degrees of freedom and scale factor $\\sigma$.\n",
    "2. If the MLE regression coefficients cannot be derived analytically consider numerical methods.\n",
    "3. For _convenience_, you can use sklearn or statsmodel for the Normal case.\n"
   ]
  },
  {
   "cell_type": "markdown",
   "metadata": {},
   "source": [
    "### Answers\n",
    "\n",
    "**7.1 Fit a simple linear regression model using Maximum Likelihood Estimation on the data provided in `data/beerdata.csv`.  Consider two statistical models the for noise: a) Normal and b) Student's $\\textit{t}$-distribution with $\\nu=5$ and scale factor $\\sigma=\\sqrt{3/5}$.   **\n",
    "\n",
    "*your answer here*\n"
   ]
  },
  {
   "cell_type": "code",
   "execution_count": 133,
   "metadata": {},
   "outputs": [
    {
     "data": {
      "text/html": [
       "<div>\n",
       "<style scoped>\n",
       "    .dataframe tbody tr th:only-of-type {\n",
       "        vertical-align: middle;\n",
       "    }\n",
       "\n",
       "    .dataframe tbody tr th {\n",
       "        vertical-align: top;\n",
       "    }\n",
       "\n",
       "    .dataframe thead th {\n",
       "        text-align: right;\n",
       "    }\n",
       "</style>\n",
       "<table border=\"1\" class=\"dataframe\">\n",
       "  <thead>\n",
       "    <tr style=\"text-align: right;\">\n",
       "      <th></th>\n",
       "      <th>x</th>\n",
       "      <th>y</th>\n",
       "    </tr>\n",
       "  </thead>\n",
       "  <tbody>\n",
       "    <tr>\n",
       "      <th>0</th>\n",
       "      <td>0.760083</td>\n",
       "      <td>9.616565</td>\n",
       "    </tr>\n",
       "    <tr>\n",
       "      <th>1</th>\n",
       "      <td>0.766794</td>\n",
       "      <td>8.652492</td>\n",
       "    </tr>\n",
       "    <tr>\n",
       "      <th>2</th>\n",
       "      <td>0.504173</td>\n",
       "      <td>7.653462</td>\n",
       "    </tr>\n",
       "    <tr>\n",
       "      <th>3</th>\n",
       "      <td>0.357411</td>\n",
       "      <td>7.984081</td>\n",
       "    </tr>\n",
       "    <tr>\n",
       "      <th>4</th>\n",
       "      <td>0.730932</td>\n",
       "      <td>9.080448</td>\n",
       "    </tr>\n",
       "  </tbody>\n",
       "</table>\n",
       "</div>"
      ],
      "text/plain": [
       "          x         y\n",
       "0  0.760083  9.616565\n",
       "1  0.766794  8.652492\n",
       "2  0.504173  7.653462\n",
       "3  0.357411  7.984081\n",
       "4  0.730932  9.080448"
      ]
     },
     "execution_count": 133,
     "metadata": {},
     "output_type": "execute_result"
    }
   ],
   "source": [
    "#Read and show the data\n",
    "# your code here\n",
    "beer_df = pd.read_csv('./data/beerdata.csv').drop(columns=['Unnamed: 0'])\n",
    "beer_df.head()"
   ]
  },
  {
   "cell_type": "code",
   "execution_count": 134,
   "metadata": {},
   "outputs": [
    {
     "data": {
      "text/plain": [
       "Text(0.5,1,'x vs. y in beer data')"
      ]
     },
     "execution_count": 134,
     "metadata": {},
     "output_type": "execute_result"
    },
    {
     "data": {
      "image/png": "[encoded data removed]",
      "text/plain": [
       "<Figure size 432x288 with 1 Axes>"
      ]
     },
     "metadata": {},
     "output_type": "display_data"
    }
   ],
   "source": [
    "#### Plot the data\n",
    "# your code here\n",
    "plt.scatter(beer_df.x, beer_df.y)\n",
    "plt.xlabel('x')\n",
    "plt.ylabel('y')\n",
    "plt.title(\"x vs. y in beer data\")"
   ]
  },
  {
   "cell_type": "code",
   "execution_count": 135,
   "metadata": {},
   "outputs": [],
   "source": [
    "#### Generate the ordinary least squares model (OLS)\n",
    "# your code here\n",
    "ols_model = OLS(beer_df.y, sm.add_constant(beer_df.x)).fit()"
   ]
  },
  {
   "cell_type": "code",
   "execution_count": 136,
   "metadata": {},
   "outputs": [
    {
     "data": {
      "text/plain": [
       "Text(0.5,1,'x vs. y in beer data with regression')"
      ]
     },
     "execution_count": 136,
     "metadata": {},
     "output_type": "execute_result"
    },
    {
     "data": {
      "image/png": "[encoded data removed]",
      "text/plain": [
       "<Figure size 432x288 with 1 Axes>"
      ]
     },
     "metadata": {},
     "output_type": "display_data"
    }
   ],
   "source": [
    "#### Plot the data along with OLS fit line\n",
    "# your code here\n",
    "plt.scatter(beer_df.x, beer_df.y)\n",
    "plt.plot(beer_df.x, ols_model.predict(sm.add_constant(beer_df.x)))\n",
    "plt.xlabel('x')\n",
    "plt.ylabel('y')\n",
    "plt.title(\"x vs. y in beer data with regression\")"
   ]
  },
  {
   "cell_type": "code",
   "execution_count": 137,
   "metadata": {},
   "outputs": [],
   "source": [
    "#### LET'S MAKE THE REGRESSION MODEL WITH t-Students distribution\n",
    "# your code here\n",
    "class StudentRegression(object):\n",
    "    def __init__(self, df, sigma, X, y):\n",
    "        self.params = {'df' : df,'sigma' : sigma}\n",
    "        self.X = X.values.reshape(-1,1)\n",
    "        self.n = self.X.shape[0]\n",
    "        self.X = np.append(self.X, np.ones(self.n).reshape(self.n,1), axis = 1)\n",
    "        self.y = y.values.reshape(-1,1)\n",
    "    \n",
    "    def get_params(self, k):\n",
    "        return self.params[k]\n",
    "    \n",
    "    def set_params(self, **kwargs):\n",
    "        for k,v in kwargs.items():\n",
    "            self.params[k] = v\n",
    "        \n",
    "    def fit(self):           \n",
    "        logpdf = lambda x: t.logpdf(x, self.params['df'], loc=0, scale=self.params['sigma'])\n",
    "        neg_log_likelihood = lambda coef: -np.sum(logpdf(self.X.dot(coef).reshape(-1,1)-self.y))\n",
    "\n",
    "        #calculate coefficients\n",
    "        coef_init = np.array([7,4]).reshape(-1,1)\n",
    "        coef = minimize(neg_log_likelihood, coef_init, method='Nelder-Mead')\n",
    "        self.params['coef'] = coef.x\n",
    "\n",
    "    def predict(self, X_pred):\n",
    "        x = X_pred.values.reshape(-1,1)\n",
    "        x = np.append(x, np.ones(x.shape[0]).reshape(-1,1), axis=1)\n",
    "        return x.dot(self.params['coef'])\n",
    "        \n",
    "    def score(self, X, y):\n",
    "        # your code\n",
    "        SST = np.sum((y-np.mean(y))**2)\n",
    "        SSE = np.sum((y-self.predict(X))**2)\n",
    "        return 1 - SSE/SST"
   ]
  },
  {
   "cell_type": "code",
   "execution_count": 138,
   "metadata": {},
   "outputs": [
    {
     "data": {
      "text/plain": [
       "{'df': 5, 'sigma': 0.7745966692414834, 'coef': array([6.17291817, 4.7738314 ])}"
      ]
     },
     "execution_count": 138,
     "metadata": {},
     "output_type": "execute_result"
    }
   ],
   "source": [
    "t_model = StudentRegression(5, np.sqrt(3/5), beer_df.x, beer_df.y)\n",
    "t_model.fit()\n",
    "t_model.params"
   ]
  },
  {
   "cell_type": "markdown",
   "metadata": {},
   "source": [
    "**7.2 Compare the two models performances (visualize the prediction lines and estimate the KL divergence between the data and each model) and comment why it is perhaps appropriate to use the Student's t-distribution instead of the Normal. **\n",
    "\n",
    "\n",
    "*your answer here*\n"
   ]
  },
  {
   "cell_type": "code",
   "execution_count": 139,
   "metadata": {},
   "outputs": [
    {
     "data": {
      "image/png": "[encoded data removed]",
      "text/plain": [
       "<Figure size 432x288 with 1 Axes>"
      ]
     },
     "metadata": {},
     "output_type": "display_data"
    }
   ],
   "source": [
    "plt.scatter(beer_df.x, beer_df.y)\n",
    "plt.plot(beer_df.x, t_model.predict(beer_df.x),label =\"T distribution\")\n",
    "plt.plot(beer_df.x, ols_model.predict(sm.add_constant(beer_df.x)),label =\"normal distribution\")\n",
    "plt.xlabel('x')\n",
    "plt.ylabel('y')\n",
    "plt.legend()\n",
    "plt.title(\"x vs. y in beer data with normal and t regressions\")\n",
    "plt.show()"
   ]
  },
  {
   "cell_type": "code",
   "execution_count": 140,
   "metadata": {},
   "outputs": [
    {
     "name": "stdout",
     "output_type": "stream",
     "text": [
      "KL divergence for t-distribution: 0.43305971904347484\n"
     ]
    },
    {
     "name": "stderr",
     "output_type": "stream",
     "text": [
      "/Users/joshfeldman/anaconda3/envs/py36/lib/python3.6/site-packages/ipykernel/__main__.py:4: RuntimeWarning: invalid value encountered in log\n"
     ]
    }
   ],
   "source": [
    "# your code here\n",
    "pdf_t = lambda x : t.pdf(x, df = 5, loc = 0, scale = np.sqrt(3/5))\n",
    "resid_t = beer_df.y - t_model.predict(beer_df.x)\n",
    "print(\"KL divergence for t-distribution:\", np.mean(np.log(resid_t/pdf_t(resid_t))))"
   ]
  },
  {
   "cell_type": "code",
   "execution_count": 141,
   "metadata": {},
   "outputs": [
    {
     "name": "stdout",
     "output_type": "stream",
     "text": [
      "KL divergence for normal distribution: 0.8498511268302603\n"
     ]
    },
    {
     "name": "stderr",
     "output_type": "stream",
     "text": [
      "/Users/joshfeldman/anaconda3/envs/py36/lib/python3.6/site-packages/ipykernel/__main__.py:4: RuntimeWarning: invalid value encountered in log\n"
     ]
    }
   ],
   "source": [
    "# your code here\n",
    "resid_norm = beer_df.y - t_model.predict(beer_df.x)\n",
    "pdf_norm = lambda x : norm.pdf(x, scale = np.std(resid_norm))\n",
    "print(\"KL divergence for normal distribution:\", np.mean(np.log(resid_norm/pdf_norm(resid_norm))))"
   ]
  },
  {
   "cell_type": "markdown",
   "metadata": {},
   "source": [
    "*your answer here*\n",
    "\n",
    "Visually inspecting the plot above and analyzing the KL divergences suggests that the t-distribution fits our data better. This is because the tails of t-distributions are larger so linear regressions that assume a t-distribution are less sensitive to outliers."
   ]
  },
  {
   "cell_type": "markdown",
   "metadata": {},
   "source": [
    "\n",
    "<div class='exercise'> <b>  Question 8: Akaike Information Criterion (AIC) </b> </div>\n",
    "\n",
    "Perform a simple numerical experiment to understand and demonstrate the AIC by using the given `generate_data` function to generate your data.\n",
    " \n",
    "\n",
    "**8.1**\n",
    "Generate data for different number of parameters $k$, in the range 1 to 10. For each of the six models generate 1000 training and 1000 testing datasets with each one containing $n=50$ observations.\n",
    "\n",
    "**8.2** \n",
    "Use the training set to estimate the OLS coefficients and  calculate the predicted values, $\\hat y_{tr}$, on the training set and the log-likelihood. \n",
    " Use the OLS coefficients to calculate the predicted values  for the testing set, $\\hat y_{te}$, and the associated log-likelihood. \n",
    "\n",
    "**8.3** \n",
    "For each $k$ compute the average and standard deviation of the log-likelihoods across the 1000 simulations.  Plot the average  log-likelihoods (with error bars) and the average AIC as function of $k$, the number of parameters. What is the best $k$ based on AIC?\n",
    "\n",
    "**8.4**\n",
    "Verify the results in 8.3 by plotting the average log-likelihoods for each of the training and testing datasets as a function of $k$. What is the best $k$ based on this plot?\n",
    "\n",
    "\n",
    "**Comment:**\n",
    "1. The function \"generate_data\" uses an interesting trick to generate data directly using the regression coefficients as proxies for the correlations with the response variable. It generates data from a Normal distribution, hence $y_i \\sim \\mathcal{N}(\\mu_i= 0.15 x_{1,i} - 0.4 x_{2,i},\\sigma^2=1)$."
   ]
  },
  {
   "cell_type": "code",
   "execution_count": 142,
   "metadata": {},
   "outputs": [],
   "source": [
    "def generate_data(N,k,beta=[0.15 , -0.4]):\n",
    "    \n",
    "    ## N: The number of observations\n",
    "    ## k: The number of parameters\n",
    "    ## beta is the weights vector for the covariates x1, x2\n",
    "    ##\n",
    "    ## Make d_min be greater or equal to k\n",
    "    n_dim = 1+len(beta)\n",
    "    if (n_dim <= k):\n",
    "        n_dim = k\n",
    "\n",
    "    Rho = np.eye(n_dim)\n",
    "    \n",
    "    # Add beta in the first row or Rho\n",
    "    for i,r in enumerate(beta):\n",
    "        Rho[0,i+1] = r\n",
    "    \n",
    "    index_lower = np.tril_indices(n_dim, -1)\n",
    "    \n",
    "    Rho[index_lower] = Rho.T[index_lower]\n",
    "    mean = n_dim * [0.]        \n",
    "    Xtrain = np.random.multivariate_normal(mean, Rho, size=N)\n",
    "    Xtest = np.random.multivariate_normal(mean, Rho, size=N)\n",
    "    ytrain = Xtrain[:,0].copy()\n",
    "    Xtrain[:,0]=1.\n",
    "    ytest = Xtest[:,0].copy()\n",
    "    Xtest[:,0]=1.\n",
    "    return Xtrain[:,:k], ytrain, Xtest[:,:k], ytest"
   ]
  },
  {
   "cell_type": "markdown",
   "metadata": {},
   "source": [
    "### Answers\n",
    "\n",
    "**8.1 Generate data for different number of parameters $k$, in the range 1 to 10. For each of the ten models generate 1000 training and 1000 testing datasets with each one containing $n=50$ observations.**\n"
   ]
  },
  {
   "cell_type": "code",
   "execution_count": 143,
   "metadata": {
    "scrolled": false
   },
   "outputs": [
    {
     "name": "stdout",
     "output_type": "stream",
     "text": [
      "[[ 1.         -0.69557401]\n",
      " [ 1.         -1.01403706]\n",
      " [ 1.         -0.33855903]\n",
      " [ 1.         -0.77529717]\n",
      " [ 1.          0.52969204]\n",
      " [ 1.          0.88326388]\n",
      " [ 1.         -0.15157655]\n",
      " [ 1.         -0.73924662]\n",
      " [ 1.         -1.28747652]\n",
      " [ 1.          0.74193349]]\n",
      "----------------\n",
      "[ 0.39004311 -0.67269553 -0.41309419  0.37801559  0.55692114 -0.10710033\n",
      "  0.53471289 -0.24794084  0.87200602 -0.54984661]\n",
      "----------------\n",
      "[[ 1.          1.4254407 ]\n",
      " [ 1.          0.43199301]\n",
      " [ 1.         -0.61523207]\n",
      " [ 1.         -0.49808662]\n",
      " [ 1.          0.16501851]\n",
      " [ 1.          0.16746809]\n",
      " [ 1.         -1.21911103]\n",
      " [ 1.          0.76293076]\n",
      " [ 1.          0.21139015]\n",
      " [ 1.          0.55813909]]\n",
      "----------------\n",
      "[-2.62912273  0.11960226 -0.26515769  0.60592945  1.05625508 -0.39949527\n",
      " -1.47578865  1.12674141  0.26839594 -0.40320503]\n",
      "----------------\n"
     ]
    }
   ],
   "source": [
    "#### Be familiar with the generated data by printing them:\n",
    "# your code here\n",
    "for d in generate_data(10,2):\n",
    "    print(d)\n",
    "    print('----------------')"
   ]
  },
  {
   "cell_type": "code",
   "execution_count": 144,
   "metadata": {},
   "outputs": [],
   "source": [
    "data_all = {}\n",
    "for k in range(1,11):\n",
    "    data_all[k] = [generate_data(50,k) for _ in range(1000)]"
   ]
  },
  {
   "cell_type": "markdown",
   "metadata": {},
   "source": [
    "**8.2 Use the training set to estimate the OLS coefficients and  calculate the predicted values, $\\hat y_{tr}$, on the training set and the associated log-likelihood. \n",
    " Use the OLS coefficients to calculate the predicted values  for the testing set, $\\hat y_{te}$, and the associated log-likelihood.**\n"
   ]
  },
  {
   "cell_type": "code",
   "execution_count": 145,
   "metadata": {},
   "outputs": [],
   "source": [
    "def log_likelihood(y,y_pred):\n",
    "    resid = y-y_pred\n",
    "    return np.sum(norm.logpdf(resid))"
   ]
  },
  {
   "cell_type": "code",
   "execution_count": 146,
   "metadata": {},
   "outputs": [],
   "source": [
    "# your code here\n",
    "outputs = {}\n",
    "for k in data_all:\n",
    "    \n",
    "    # initialize output\n",
    "    outputs[k] = {}\n",
    "    outputs[k]['y_train_pred'] = []\n",
    "    outputs[k]['y_train_log_likelihood'] = []\n",
    "    outputs[k]['y_test_pred'] = []\n",
    "    outputs[k]['y_test_log_likelihood'] = []\n",
    "    outputs[k]['aic'] = []   \n",
    "    \n",
    "    for data in data_all[k]:\n",
    "        # fit model\n",
    "        model = OLS(data[1],data[0]).fit()\n",
    "        \n",
    "        #record aic\n",
    "        outputs[k]['aic'].append(model.aic)\n",
    "        \n",
    "        # make predictions on train set\n",
    "        y_train_pred = model.predict(data[0])\n",
    "        outputs[k]['y_train_pred'].append(y_train_pred)\n",
    "        outputs[k]['y_train_log_likelihood'].append(log_likelihood(data[1],y_train_pred))\n",
    "        \n",
    "        # make predictions on test set\n",
    "        y_test_pred = model.predict(data[2])\n",
    "        outputs[k]['y_test_pred'].append(y_test_pred)\n",
    "        outputs[k]['y_test_log_likelihood'].append(log_likelihood(data[3],y_test_pred))      "
   ]
  },
  {
   "cell_type": "markdown",
   "metadata": {},
   "source": [
    "**8.3\n",
    "For each $k$ compute the average and standard deviation of the log-likelihoods across the 2000 simulations.  Plot the average  log-likelihoods (with error bars) and the average AIC as function of $k$, the number of parameters. What is the best $k$ based on AIC?**"
   ]
  },
  {
   "cell_type": "code",
   "execution_count": 147,
   "metadata": {},
   "outputs": [],
   "source": [
    "# your code here\n",
    "average_likelihoods_train = [np.mean(outputs[k]['y_train_log_likelihood']) for k in outputs]\n",
    "std_likelihoods_train = [np.std(outputs[k]['y_train_log_likelihood']) for k in outputs]\n",
    "average_likelihoods_test = [np.mean(outputs[k]['y_test_log_likelihood']) for k in outputs]\n",
    "std_likelihoods_test = [np.std(outputs[k]['y_test_log_likelihood']) for k in outputs]\n",
    "average_aic_train = [np.mean(outputs[k]['aic']) for k in outputs]"
   ]
  },
  {
   "cell_type": "code",
   "execution_count": 148,
   "metadata": {},
   "outputs": [
    {
     "name": "stderr",
     "output_type": "stream",
     "text": [
      "No handles with labels found to put in legend.\n"
     ]
    },
    {
     "data": {
      "text/plain": [
       "<matplotlib.legend.Legend at 0x1c22fe7400>"
      ]
     },
     "execution_count": 148,
     "metadata": {},
     "output_type": "execute_result"
    },
    {
     "data": {
      "image/png": "[encoded data removed]",
      "text/plain": [
       "<Figure size 432x288 with 1 Axes>"
      ]
     },
     "metadata": {},
     "output_type": "display_data"
    }
   ],
   "source": [
    "plt.scatter(data_all.keys(), average_aic_train)\n",
    "plt.xlabel('num of parameters')\n",
    "plt.ylabel('aic')\n",
    "plt.title('AIC vs. Model Complexity')\n",
    "plt.legend()"
   ]
  },
  {
   "cell_type": "markdown",
   "metadata": {},
   "source": [
    "The best k based on aic is 3"
   ]
  },
  {
   "cell_type": "markdown",
   "metadata": {},
   "source": [
    "\n",
    "**8.4\n",
    "Verify the results in 8.3 by plotting the average log-likelihoods for each of the training and testing datasets as a function of $k$. What is the best $k$ based on this plot?\n",
    "**\n"
   ]
  },
  {
   "cell_type": "code",
   "execution_count": 149,
   "metadata": {},
   "outputs": [
    {
     "data": {
      "image/png": "[encoded data removed]",
      "text/plain": [
       "<Figure size 432x288 with 1 Axes>"
      ]
     },
     "metadata": {},
     "output_type": "display_data"
    }
   ],
   "source": [
    "#### Plot the log-likelihood for the traing and testing:\n",
    "# your code here\n",
    "#plt.scatter(data_all.keys(),average_aic,label='mean aic')\n",
    "plt.errorbar(data_all.keys(), average_likelihoods_train, \n",
    "             yerr=np.array(std_likelihoods_train)*1.96, \n",
    "             label = 'mean likelihood train')\n",
    "plt.errorbar(data_all.keys(), average_likelihoods_test, \n",
    "             yerr=np.array(std_likelihoods_test)*1.96, \n",
    "             label = 'mean likelihood test')\n",
    "\n",
    "plt.xlabel('num of parameters')\n",
    "plt.ylabel('log likelihood')\n",
    "plt.title('Log Likelihood Estimates at for Train and Test Sets\\n with Different Number of Parameters ')\n",
    "plt.legend()\n",
    "plt.show()"
   ]
  },
  {
   "cell_type": "markdown",
   "metadata": {},
   "source": [
    "The best validation likelihood is for k=3, which confirms the result provided by analyzing the AIC."
   ]
  }
 ],
 "metadata": {
  "kernelspec": {
   "display_name": "Python [conda env:py36]",
   "language": "python",
   "name": "conda-env-py36-py"
  },
  "language_info": {
   "codemirror_mode": {
    "name": "ipython",
    "version": 3
   },
   "file_extension": ".py",
   "mimetype": "text/x-python",
   "name": "python",
   "nbconvert_exporter": "python",
   "pygments_lexer": "ipython3",
   "version": "3.6.6"
  }
 },
 "nbformat": 4,
 "nbformat_minor": 2
}
