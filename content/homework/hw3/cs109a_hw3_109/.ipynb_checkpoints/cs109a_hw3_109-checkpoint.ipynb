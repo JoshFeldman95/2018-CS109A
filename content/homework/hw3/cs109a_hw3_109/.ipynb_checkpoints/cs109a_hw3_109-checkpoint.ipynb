{
 "cells": [
  {
   "cell_type": "markdown",
   "metadata": {
    "colab_type": "text",
    "id": "bTbNlY21c8tE"
   },
   "source": [
    "# <img style=\"float: left; padding-right: 10px; width: 45px\" src=\"https://raw.githubusercontent.com/Harvard-IACS/2018-CS109A/master/content/styles/iacs.png\"> CS109A Introduction to Data Science: \n",
    "## Homework 3 - Forecasting Bike Sharing Usage\n",
    "\n",
    "\n",
    "\n",
    "**Harvard University**<br/>\n",
    "**Fall 2018**<br/>\n",
    "**Instructors**: Pavlos Protopapas, Kevin Rader\n",
    "\n",
    "<hr style=\"height:2pt\">"
   ]
  },
  {
   "cell_type": "code",
   "execution_count": 1,
   "metadata": {
    "colab": {
     "base_uri": "https://localhost:8080/",
     "height": 17
    },
    "colab_type": "code",
    "id": "SAdnZQync8tK",
    "outputId": "1218a884-72a5-437a-ab42-e41f8998569d"
   },
   "outputs": [
    {
     "data": {
      "text/html": [
       "<style>\n",
       "h1 { \n",
       "    padding-top: 25px;\n",
       "    padding-bottom: 25px;\n",
       "    text-align: left; \n",
       "    padding-left: 10px;\n",
       "    background-color: #DDDDDD; \n",
       "    color: black;\n",
       "}\n",
       "h2 { \n",
       "    padding-top: 10px;\n",
       "    padding-bottom: 10px;\n",
       "    text-align: left; \n",
       "    padding-left: 5px;\n",
       "    background-color: #EEEEEE; \n",
       "    color: black;\n",
       "}\n",
       "\n",
       "div.exercise {\n",
       "\tbackground-color: #ffcccc;\n",
       "\tborder-color: #E9967A; \t\n",
       "\tborder-left: 5px solid #800080; \n",
       "\tpadding: 0.5em;\n",
       "}\n",
       "div.theme {\n",
       "\tbackground-color: #DDDDDD;\n",
       "\tborder-color: #E9967A; \t\n",
       "\tborder-left: 5px solid #800080; \n",
       "\tpadding: 0.5em;\n",
       "\tfont-size: 18pt;\n",
       "}\n",
       "p.q1 { \n",
       "    padding-top: 5px;\n",
       "    padding-bottom: 5px;\n",
       "    text-align: left; \n",
       "    padding-left: 5px;\n",
       "    background-color: #EEEEEE; \n",
       "    color: black;\n",
       "}\n",
       "header {\n",
       "   padding-top: 35px;\n",
       "    padding-bottom: 35px;\n",
       "    text-align: left; \n",
       "    padding-left: 10px;\n",
       "    background-color: #DDDDDD; \n",
       "    color: black;\n",
       "}\n",
       "</style>\n",
       "\n"
      ],
      "text/plain": [
       "<IPython.core.display.HTML object>"
      ]
     },
     "execution_count": 1,
     "metadata": {},
     "output_type": "execute_result"
    }
   ],
   "source": [
    "#RUN THIS CELL \n",
    "import requests\n",
    "from IPython.core.display import HTML\n",
    "styles = requests.get(\"https://raw.githubusercontent.com/Harvard-IACS/2018-CS109A/master/content/styles/cs109.css\").text\n",
    "HTML(styles)"
   ]
  },
  {
   "cell_type": "markdown",
   "metadata": {
    "colab_type": "text",
    "id": "6UuF87zGc8te"
   },
   "source": [
    "### INSTRUCTIONS\n",
    "\n",
    "- To submit your assignment follow the instructions given in canvas.\n",
    "- Restart the kernel and run the whole notebook again before you submit. \n",
    "- If you submit individually and you have worked with someone, please include the name of your [one] partner below. \n",
    "- As much as possible, try and stick to the hints and functions we import at the top of the homework, as those are the ideas and tools the class supports and is aiming to teach. And if a problem specifies a particular library you're required to use that library, and possibly others from the import list.\n",
    "\n",
    "Names of people you have worked with goes here: "
   ]
  },
  {
   "cell_type": "markdown",
   "metadata": {
    "colab_type": "text",
    "id": "Cg5-deIQc8th"
   },
   "source": []
  },
  {
   "cell_type": "markdown",
   "metadata": {
    "colab_type": "text",
    "id": "Y8XULquoc8ti"
   },
   "source": [
    "<hr style=\"height:2pt\">"
   ]
  },
  {
   "cell_type": "markdown",
   "metadata": {
    "colab_type": "text",
    "id": "fgq0GIVTc8tl"
   },
   "source": [
    "![bike_sharing](fig/BSS.png)\n",
    "\n",
    "<div class=\"theme\">  Main Theme: Multiple Linear Regression, Subset Selection, Polynomial Regression </div>\n",
    "### Overview \n",
    "\n",
    "You are hired by the administrators of the [Capital Bikeshare program](https://www.capitalbikeshare.com) program in Washington D.C., to **help them predict the hourly demand for rental bikes** and **give them suggestions on how to increase their revenue**. Your task is to prepare a short report summarizing your findings and make recommendations.\n",
    "\n",
    "The predicted hourly demand could be used for planning the number of bikes that need to be available in the system at any given hour of the day. It costs the program money if bike stations are full and bikes cannot be returned, or empty and there are no bikes available. You will use multiple linear regression and polynomial regression and will explore techniques for subset selection to predict bike usage. The goal is to build a regression model that can predict the total number of bike rentals in a given hour of the day, based on all available information given to you. \n",
    "\n",
    "An example of a suggestion to increase revenue might be to offer discounts during certain times of the day either during holidays or non-holidays. Your suggestions will depend on your observations of the seasonality of ridership.\n",
    "\n",
    "The data for this problem were collected from the Capital Bikeshare program over the course of two years (2011 and 2012).\n"
   ]
  },
  {
   "cell_type": "markdown",
   "metadata": {
    "colab_type": "text",
    "id": "frCrWXfzc8to"
   },
   "source": [
    "### Use only the libraries below:"
   ]
  },
  {
   "cell_type": "code",
   "execution_count": 2,
   "metadata": {
    "colab": {
     "base_uri": "https://localhost:8080/",
     "height": 70
    },
    "colab_type": "code",
    "id": "z6kOTr6xc8tq",
    "outputId": "46b30daf-cb37-49f3-c284-be7b579b05f9"
   },
   "outputs": [],
   "source": [
    "import numpy as np\n",
    "import pandas as pd\n",
    "import matplotlib\n",
    "import matplotlib.pyplot as plt\n",
    "\n",
    "import statsmodels.api as sm\n",
    "from statsmodels.api import OLS\n",
    "\n",
    "from sklearn import preprocessing\n",
    "from sklearn.preprocessing import PolynomialFeatures\n",
    "from sklearn.metrics import r2_score\n",
    "from sklearn.model_selection import train_test_split\n",
    "\n",
    "from pandas.plotting import scatter_matrix\n",
    "\n",
    "import seaborn as sns\n",
    "\n",
    "\n",
    "%matplotlib inline"
   ]
  },
  {
   "cell_type": "code",
   "execution_count": 3,
   "metadata": {},
   "outputs": [],
   "source": [
    "plt.style.use('seaborn')"
   ]
  },
  {
   "cell_type": "markdown",
   "metadata": {
    "colab_type": "text",
    "id": "DnDVQSuHc8tx"
   },
   "source": [
    "## Data Exploration & Preprocessing, Multiple Linear Regression, Subset Selection\n"
   ]
  },
  {
   "cell_type": "markdown",
   "metadata": {
    "colab_type": "text",
    "id": "IWEny7z8c8t0"
   },
   "source": [
    "### Overview\n",
    "The initial data set is provided in the file `data/BSS_hour_raw.csv`. You will first add features that will help with the analysis and then separate the data into training and test sets. Each row in this file represents the number of rides by registered users and casual users in a given hour of a specific date. There are 12 attributes in total describing besides the number of users the weather if it is a holiday or not etc: \n",
    "\n",
    "\n",
    "- `dteday` (date in the format YYYY-MM-DD, e.g. 2011-01-01)\n",
    "- `season` (1 = winter, 2 = spring, 3 = summer, 4 = fall)\n",
    "- `hour` (0 for 12 midnight, 1 for 1:00am, 23 for 11:00pm)\n",
    "- `weekday` (0 through 6, with 0 denoting Sunday)\n",
    "- `holiday` (1 = the day is a holiday, 0 = otherwise)\n",
    "- `weather`\n",
    "    - 1: Clear, Few clouds, Partly cloudy, Partly cloudy\n",
    "    - 2: Mist + Cloudy, Mist + Broken clouds, Mist + Few clouds, Mist\n",
    "    - 3: Light Snow, Light Rain + Thunderstorm\n",
    "    - 4: Heavy Rain + Thunderstorm + Mist, Snow + Fog \n",
    "- `temp` (temperature in Celsius)\n",
    "- `atemp` (apparent temperature, or relative outdoor temperature, in Celsius)\n",
    "- `hum` (relative humidity)\n",
    "- `windspeed` (wind speed)\n",
    "- `casual` (number of rides that day made by casual riders, not registered in the system)\n",
    "- `registered` (number of rides that day made by registered riders)"
   ]
  },
  {
   "cell_type": "markdown",
   "metadata": {
    "colab_type": "text",
    "id": "JJGR3PUjc8t3"
   },
   "source": [
    "### General Hints\n",
    "- Use pandas .describe() to see statistics for the dataset.\n",
    "- When performing manipulations on column data it is useful and often more efficient to write a function and apply this function to the column as a whole without the need for iterating through the elements.\n",
    "- A scatterplot matrix or correlation matrix are both good ways to see dependencies between multiple variables.\n",
    "- For Question 2, a very useful pandas method is .groupby(). Make sure you aggregate the rest of the columns in a meaningful way. Print the dataframe to make sure all variables/columns are there!\n",
    "\n",
    "### Resources \n",
    "http://pandas.pydata.org/pandas-docs/stable/generated/pandas.to_datetime.html"
   ]
  },
  {
   "cell_type": "markdown",
   "metadata": {
    "colab_type": "text",
    "id": "K4r3jcy5c8t5"
   },
   "source": [
    "<div class=\"exercise\"> <b> Question 1: Data Read-In and Cleaning </b> </div>\n",
    "\n",
    "In this section, we read in the data and begin one of the most important analytic steps: verifying that the data is what it claims to be.\n",
    "\n",
    "**1.1** Load the dataset from the csv file `data/BSS_hour_raw.csv` into a pandas dataframe that you name `bikes_df`. Do any of the variables' ranges or averages seem suspect? Do the data types make sense?\n",
    "\n",
    "**1.2** Notice that the variable in column `dteday` is a pandas `object`, which is **not**  useful when you want to extract the elements of the date such as the year, month, and day. Convert `dteday` into a `datetime` object to prepare it for later analysis.\n",
    "\n",
    "**1.3** Create three new columns in the dataframe:\n",
    "- `year` with 0 for 2011, 1 for 2012, etc.\n",
    "- `month` with 1 through 12, with 1 denoting January.\n",
    "- `counts` with the total number of bike rentals for that **hour** (this is the response variable for later)."
   ]
  },
  {
   "cell_type": "markdown",
   "metadata": {
    "colab_type": "text",
    "id": "zt7d6kgxc8t7"
   },
   "source": [
    "### Answers"
   ]
  },
  {
   "cell_type": "markdown",
   "metadata": {
    "colab_type": "text",
    "id": "VxDUbKTOc8t9"
   },
   "source": [
    "#### **1.1** Load the dataset from the csv file `data/BSS_hour_raw.csv` into a pandas dataframe that you name `bikes_df`. Do any of the variables' ranges or averages seem suspect? Do the data types make sense?"
   ]
  },
  {
   "cell_type": "code",
   "execution_count": 4,
   "metadata": {
    "colab": {
     "base_uri": "https://localhost:8080/",
     "height": 888
    },
    "colab_type": "code",
    "id": "72GR8jROc8t-",
    "outputId": "b78034ca-1ad5-4c80-98b1-e27a62b5b417"
   },
   "outputs": [
    {
     "data": {
      "text/html": [
       "<div>\n",
       "<style scoped>\n",
       "    .dataframe tbody tr th:only-of-type {\n",
       "        vertical-align: middle;\n",
       "    }\n",
       "\n",
       "    .dataframe tbody tr th {\n",
       "        vertical-align: top;\n",
       "    }\n",
       "\n",
       "    .dataframe thead th {\n",
       "        text-align: right;\n",
       "    }\n",
       "</style>\n",
       "<table border=\"1\" class=\"dataframe\">\n",
       "  <thead>\n",
       "    <tr style=\"text-align: right;\">\n",
       "      <th></th>\n",
       "      <th>dteday</th>\n",
       "      <th>season</th>\n",
       "      <th>hour</th>\n",
       "      <th>holiday</th>\n",
       "      <th>weekday</th>\n",
       "      <th>workingday</th>\n",
       "      <th>weather</th>\n",
       "      <th>temp</th>\n",
       "      <th>atemp</th>\n",
       "      <th>hum</th>\n",
       "      <th>windspeed</th>\n",
       "      <th>casual</th>\n",
       "      <th>registered</th>\n",
       "    </tr>\n",
       "  </thead>\n",
       "  <tbody>\n",
       "    <tr>\n",
       "      <th>0</th>\n",
       "      <td>2011-01-01</td>\n",
       "      <td>1</td>\n",
       "      <td>0</td>\n",
       "      <td>0</td>\n",
       "      <td>6</td>\n",
       "      <td>0</td>\n",
       "      <td>1</td>\n",
       "      <td>0.24</td>\n",
       "      <td>0.2879</td>\n",
       "      <td>0.81</td>\n",
       "      <td>0.0</td>\n",
       "      <td>3</td>\n",
       "      <td>13</td>\n",
       "    </tr>\n",
       "    <tr>\n",
       "      <th>1</th>\n",
       "      <td>2011-01-01</td>\n",
       "      <td>1</td>\n",
       "      <td>1</td>\n",
       "      <td>0</td>\n",
       "      <td>6</td>\n",
       "      <td>0</td>\n",
       "      <td>1</td>\n",
       "      <td>0.22</td>\n",
       "      <td>0.2727</td>\n",
       "      <td>0.80</td>\n",
       "      <td>0.0</td>\n",
       "      <td>8</td>\n",
       "      <td>32</td>\n",
       "    </tr>\n",
       "    <tr>\n",
       "      <th>2</th>\n",
       "      <td>2011-01-01</td>\n",
       "      <td>1</td>\n",
       "      <td>2</td>\n",
       "      <td>0</td>\n",
       "      <td>6</td>\n",
       "      <td>0</td>\n",
       "      <td>1</td>\n",
       "      <td>0.22</td>\n",
       "      <td>0.2727</td>\n",
       "      <td>0.80</td>\n",
       "      <td>0.0</td>\n",
       "      <td>5</td>\n",
       "      <td>27</td>\n",
       "    </tr>\n",
       "    <tr>\n",
       "      <th>3</th>\n",
       "      <td>2011-01-01</td>\n",
       "      <td>1</td>\n",
       "      <td>3</td>\n",
       "      <td>0</td>\n",
       "      <td>6</td>\n",
       "      <td>0</td>\n",
       "      <td>1</td>\n",
       "      <td>0.24</td>\n",
       "      <td>0.2879</td>\n",
       "      <td>0.75</td>\n",
       "      <td>0.0</td>\n",
       "      <td>3</td>\n",
       "      <td>10</td>\n",
       "    </tr>\n",
       "    <tr>\n",
       "      <th>4</th>\n",
       "      <td>2011-01-01</td>\n",
       "      <td>1</td>\n",
       "      <td>4</td>\n",
       "      <td>0</td>\n",
       "      <td>6</td>\n",
       "      <td>0</td>\n",
       "      <td>1</td>\n",
       "      <td>0.24</td>\n",
       "      <td>0.2879</td>\n",
       "      <td>0.75</td>\n",
       "      <td>0.0</td>\n",
       "      <td>0</td>\n",
       "      <td>1</td>\n",
       "    </tr>\n",
       "  </tbody>\n",
       "</table>\n",
       "</div>"
      ],
      "text/plain": [
       "       dteday  season  hour  holiday  weekday  workingday  weather  temp  \\\n",
       "0  2011-01-01       1     0        0        6           0        1  0.24   \n",
       "1  2011-01-01       1     1        0        6           0        1  0.22   \n",
       "2  2011-01-01       1     2        0        6           0        1  0.22   \n",
       "3  2011-01-01       1     3        0        6           0        1  0.24   \n",
       "4  2011-01-01       1     4        0        6           0        1  0.24   \n",
       "\n",
       "    atemp   hum  windspeed  casual  registered  \n",
       "0  0.2879  0.81        0.0       3          13  \n",
       "1  0.2727  0.80        0.0       8          32  \n",
       "2  0.2727  0.80        0.0       5          27  \n",
       "3  0.2879  0.75        0.0       3          10  \n",
       "4  0.2879  0.75        0.0       0           1  "
      ]
     },
     "execution_count": 4,
     "metadata": {},
     "output_type": "execute_result"
    }
   ],
   "source": [
    "# your code here\n",
    "df = pd.read_csv('./data/BSS_hour_raw.csv')\n",
    "df.head()"
   ]
  },
  {
   "cell_type": "code",
   "execution_count": 5,
   "metadata": {
    "colab": {
     "base_uri": "https://localhost:8080/",
     "height": 300
    },
    "colab_type": "code",
    "id": "rqLq0eTLc8uK",
    "outputId": "b38b8e76-383c-4eea-8e8d-c70af5246de0"
   },
   "outputs": [
    {
     "data": {
      "text/html": [
       "<div>\n",
       "<style scoped>\n",
       "    .dataframe tbody tr th:only-of-type {\n",
       "        vertical-align: middle;\n",
       "    }\n",
       "\n",
       "    .dataframe tbody tr th {\n",
       "        vertical-align: top;\n",
       "    }\n",
       "\n",
       "    .dataframe thead th {\n",
       "        text-align: right;\n",
       "    }\n",
       "</style>\n",
       "<table border=\"1\" class=\"dataframe\">\n",
       "  <thead>\n",
       "    <tr style=\"text-align: right;\">\n",
       "      <th></th>\n",
       "      <th>season</th>\n",
       "      <th>hour</th>\n",
       "      <th>holiday</th>\n",
       "      <th>weekday</th>\n",
       "      <th>workingday</th>\n",
       "      <th>weather</th>\n",
       "      <th>temp</th>\n",
       "      <th>atemp</th>\n",
       "      <th>hum</th>\n",
       "      <th>windspeed</th>\n",
       "      <th>casual</th>\n",
       "      <th>registered</th>\n",
       "    </tr>\n",
       "  </thead>\n",
       "  <tbody>\n",
       "    <tr>\n",
       "      <th>count</th>\n",
       "      <td>17379.000000</td>\n",
       "      <td>17379.000000</td>\n",
       "      <td>17379.000000</td>\n",
       "      <td>17379.000000</td>\n",
       "      <td>17379.000000</td>\n",
       "      <td>17379.000000</td>\n",
       "      <td>17379.000000</td>\n",
       "      <td>17379.000000</td>\n",
       "      <td>17379.000000</td>\n",
       "      <td>17379.000000</td>\n",
       "      <td>17379.000000</td>\n",
       "      <td>17379.000000</td>\n",
       "    </tr>\n",
       "    <tr>\n",
       "      <th>mean</th>\n",
       "      <td>2.501640</td>\n",
       "      <td>11.546752</td>\n",
       "      <td>0.028770</td>\n",
       "      <td>3.003683</td>\n",
       "      <td>0.682721</td>\n",
       "      <td>1.425283</td>\n",
       "      <td>0.496987</td>\n",
       "      <td>0.475775</td>\n",
       "      <td>0.627229</td>\n",
       "      <td>0.190098</td>\n",
       "      <td>35.676218</td>\n",
       "      <td>153.786869</td>\n",
       "    </tr>\n",
       "    <tr>\n",
       "      <th>std</th>\n",
       "      <td>1.106918</td>\n",
       "      <td>6.914405</td>\n",
       "      <td>0.167165</td>\n",
       "      <td>2.005771</td>\n",
       "      <td>0.465431</td>\n",
       "      <td>0.639357</td>\n",
       "      <td>0.192556</td>\n",
       "      <td>0.171850</td>\n",
       "      <td>0.192930</td>\n",
       "      <td>0.122340</td>\n",
       "      <td>49.305030</td>\n",
       "      <td>151.357286</td>\n",
       "    </tr>\n",
       "    <tr>\n",
       "      <th>min</th>\n",
       "      <td>1.000000</td>\n",
       "      <td>0.000000</td>\n",
       "      <td>0.000000</td>\n",
       "      <td>0.000000</td>\n",
       "      <td>0.000000</td>\n",
       "      <td>1.000000</td>\n",
       "      <td>0.020000</td>\n",
       "      <td>0.000000</td>\n",
       "      <td>0.000000</td>\n",
       "      <td>0.000000</td>\n",
       "      <td>0.000000</td>\n",
       "      <td>0.000000</td>\n",
       "    </tr>\n",
       "    <tr>\n",
       "      <th>25%</th>\n",
       "      <td>2.000000</td>\n",
       "      <td>6.000000</td>\n",
       "      <td>0.000000</td>\n",
       "      <td>1.000000</td>\n",
       "      <td>0.000000</td>\n",
       "      <td>1.000000</td>\n",
       "      <td>0.340000</td>\n",
       "      <td>0.333300</td>\n",
       "      <td>0.480000</td>\n",
       "      <td>0.104500</td>\n",
       "      <td>4.000000</td>\n",
       "      <td>34.000000</td>\n",
       "    </tr>\n",
       "    <tr>\n",
       "      <th>50%</th>\n",
       "      <td>3.000000</td>\n",
       "      <td>12.000000</td>\n",
       "      <td>0.000000</td>\n",
       "      <td>3.000000</td>\n",
       "      <td>1.000000</td>\n",
       "      <td>1.000000</td>\n",
       "      <td>0.500000</td>\n",
       "      <td>0.484800</td>\n",
       "      <td>0.630000</td>\n",
       "      <td>0.194000</td>\n",
       "      <td>17.000000</td>\n",
       "      <td>115.000000</td>\n",
       "    </tr>\n",
       "    <tr>\n",
       "      <th>75%</th>\n",
       "      <td>3.000000</td>\n",
       "      <td>18.000000</td>\n",
       "      <td>0.000000</td>\n",
       "      <td>5.000000</td>\n",
       "      <td>1.000000</td>\n",
       "      <td>2.000000</td>\n",
       "      <td>0.660000</td>\n",
       "      <td>0.621200</td>\n",
       "      <td>0.780000</td>\n",
       "      <td>0.253700</td>\n",
       "      <td>48.000000</td>\n",
       "      <td>220.000000</td>\n",
       "    </tr>\n",
       "    <tr>\n",
       "      <th>max</th>\n",
       "      <td>4.000000</td>\n",
       "      <td>23.000000</td>\n",
       "      <td>1.000000</td>\n",
       "      <td>6.000000</td>\n",
       "      <td>1.000000</td>\n",
       "      <td>4.000000</td>\n",
       "      <td>1.000000</td>\n",
       "      <td>1.000000</td>\n",
       "      <td>1.000000</td>\n",
       "      <td>0.850700</td>\n",
       "      <td>367.000000</td>\n",
       "      <td>886.000000</td>\n",
       "    </tr>\n",
       "  </tbody>\n",
       "</table>\n",
       "</div>"
      ],
      "text/plain": [
       "             season          hour       holiday       weekday    workingday  \\\n",
       "count  17379.000000  17379.000000  17379.000000  17379.000000  17379.000000   \n",
       "mean       2.501640     11.546752      0.028770      3.003683      0.682721   \n",
       "std        1.106918      6.914405      0.167165      2.005771      0.465431   \n",
       "min        1.000000      0.000000      0.000000      0.000000      0.000000   \n",
       "25%        2.000000      6.000000      0.000000      1.000000      0.000000   \n",
       "50%        3.000000     12.000000      0.000000      3.000000      1.000000   \n",
       "75%        3.000000     18.000000      0.000000      5.000000      1.000000   \n",
       "max        4.000000     23.000000      1.000000      6.000000      1.000000   \n",
       "\n",
       "            weather          temp         atemp           hum     windspeed  \\\n",
       "count  17379.000000  17379.000000  17379.000000  17379.000000  17379.000000   \n",
       "mean       1.425283      0.496987      0.475775      0.627229      0.190098   \n",
       "std        0.639357      0.192556      0.171850      0.192930      0.122340   \n",
       "min        1.000000      0.020000      0.000000      0.000000      0.000000   \n",
       "25%        1.000000      0.340000      0.333300      0.480000      0.104500   \n",
       "50%        1.000000      0.500000      0.484800      0.630000      0.194000   \n",
       "75%        2.000000      0.660000      0.621200      0.780000      0.253700   \n",
       "max        4.000000      1.000000      1.000000      1.000000      0.850700   \n",
       "\n",
       "             casual    registered  \n",
       "count  17379.000000  17379.000000  \n",
       "mean      35.676218    153.786869  \n",
       "std       49.305030    151.357286  \n",
       "min        0.000000      0.000000  \n",
       "25%        4.000000     34.000000  \n",
       "50%       17.000000    115.000000  \n",
       "75%       48.000000    220.000000  \n",
       "max      367.000000    886.000000  "
      ]
     },
     "execution_count": 5,
     "metadata": {},
     "output_type": "execute_result"
    }
   ],
   "source": [
    "# your code here\n",
    "df.describe()"
   ]
  },
  {
   "cell_type": "code",
   "execution_count": 6,
   "metadata": {},
   "outputs": [
    {
     "data": {
      "text/plain": [
       "dteday         object\n",
       "season          int64\n",
       "hour            int64\n",
       "holiday         int64\n",
       "weekday         int64\n",
       "workingday      int64\n",
       "weather         int64\n",
       "temp          float64\n",
       "atemp         float64\n",
       "hum           float64\n",
       "windspeed     float64\n",
       "casual          int64\n",
       "registered      int64\n",
       "dtype: object"
      ]
     },
     "execution_count": 6,
     "metadata": {},
     "output_type": "execute_result"
    }
   ],
   "source": [
    "# your code here\n",
    "df.dtypes"
   ]
  },
  {
   "cell_type": "markdown",
   "metadata": {
    "colab_type": "text",
    "id": "D1YHcK_Uc8uU"
   },
   "source": [
    "*Your answer here*\n",
    "\n",
    "Observations:\n",
    "* It is strange that `temp` and `atemp` have maximums of 1 and are never negative. I am going to assume that these values have been standardized to this range.\n",
    "* It is unclear what units `windspeed` is measured in.\n",
    "* `dteday` should have a type that represents that it is a date, not just a general \"object\""
   ]
  },
  {
   "cell_type": "markdown",
   "metadata": {
    "colab_type": "text",
    "id": "wPQpJ2HLc8uY"
   },
   "source": [
    "#### **1.2** Notice that the variable in column `dteday` is a pandas `object`, which is **not**  useful when you want to extract the elements of the date such as the year, month, and day. Convert `dteday` into a `datetime` object to prepare it for later analysis."
   ]
  },
  {
   "cell_type": "code",
   "execution_count": 7,
   "metadata": {
    "colab": {
     "base_uri": "https://localhost:8080/",
     "height": 271
    },
    "colab_type": "code",
    "id": "VOOLZcBvc8uo",
    "outputId": "5402426d-022f-4613-acb2-5374a5078e19"
   },
   "outputs": [
    {
     "data": {
      "text/plain": [
       "dteday        datetime64[ns]\n",
       "season                 int64\n",
       "hour                   int64\n",
       "holiday                int64\n",
       "weekday                int64\n",
       "workingday             int64\n",
       "weather                int64\n",
       "temp                 float64\n",
       "atemp                float64\n",
       "hum                  float64\n",
       "windspeed            float64\n",
       "casual                 int64\n",
       "registered             int64\n",
       "dtype: object"
      ]
     },
     "execution_count": 7,
     "metadata": {},
     "output_type": "execute_result"
    }
   ],
   "source": [
    "# your code here\n",
    "df['dteday'] = pd.to_datetime(df['dteday'], format='%Y-%m-%d')\n",
    "df.dtypes"
   ]
  },
  {
   "cell_type": "markdown",
   "metadata": {
    "colab_type": "text",
    "id": "fjc5jBvYc8uw"
   },
   "source": [
    "#### **1.3** Create three new columns in the dataframe:\n",
    "- `year` with 0 for 2011, 1 for 2012, etc.\n",
    "- `month` with 1 through 12, with 1 denoting January.\n",
    "- `counts` with the total number of bike rentals for that hour (this is the response variable for later)."
   ]
  },
  {
   "cell_type": "code",
   "execution_count": 8,
   "metadata": {
    "colab": {},
    "colab_type": "code",
    "id": "kvxAx4r2c8uz"
   },
   "outputs": [],
   "source": [
    "# your code here\n",
    "df['year'] = df['dteday'].apply(lambda x : x.year)\n",
    "df['month'] = df['dteday'].apply(lambda x : x.month)\n",
    "df['counts']=df.casual+df.registered"
   ]
  },
  {
   "cell_type": "code",
   "execution_count": 9,
   "metadata": {
    "colab": {
     "base_uri": "https://localhost:8080/",
     "height": 206
    },
    "colab_type": "code",
    "id": "i9y8R-Omc8u5",
    "outputId": "b9990f78-d405-4b14-cc65-092e6b3f8c67"
   },
   "outputs": [
    {
     "data": {
      "text/html": [
       "<div>\n",
       "<style scoped>\n",
       "    .dataframe tbody tr th:only-of-type {\n",
       "        vertical-align: middle;\n",
       "    }\n",
       "\n",
       "    .dataframe tbody tr th {\n",
       "        vertical-align: top;\n",
       "    }\n",
       "\n",
       "    .dataframe thead th {\n",
       "        text-align: right;\n",
       "    }\n",
       "</style>\n",
       "<table border=\"1\" class=\"dataframe\">\n",
       "  <thead>\n",
       "    <tr style=\"text-align: right;\">\n",
       "      <th></th>\n",
       "      <th>dteday</th>\n",
       "      <th>season</th>\n",
       "      <th>hour</th>\n",
       "      <th>holiday</th>\n",
       "      <th>weekday</th>\n",
       "      <th>workingday</th>\n",
       "      <th>weather</th>\n",
       "      <th>temp</th>\n",
       "      <th>atemp</th>\n",
       "      <th>hum</th>\n",
       "      <th>windspeed</th>\n",
       "      <th>casual</th>\n",
       "      <th>registered</th>\n",
       "      <th>year</th>\n",
       "      <th>month</th>\n",
       "      <th>counts</th>\n",
       "    </tr>\n",
       "  </thead>\n",
       "  <tbody>\n",
       "    <tr>\n",
       "      <th>0</th>\n",
       "      <td>2011-01-01</td>\n",
       "      <td>1</td>\n",
       "      <td>0</td>\n",
       "      <td>0</td>\n",
       "      <td>6</td>\n",
       "      <td>0</td>\n",
       "      <td>1</td>\n",
       "      <td>0.24</td>\n",
       "      <td>0.2879</td>\n",
       "      <td>0.81</td>\n",
       "      <td>0.0</td>\n",
       "      <td>3</td>\n",
       "      <td>13</td>\n",
       "      <td>2011</td>\n",
       "      <td>1</td>\n",
       "      <td>16</td>\n",
       "    </tr>\n",
       "    <tr>\n",
       "      <th>1</th>\n",
       "      <td>2011-01-01</td>\n",
       "      <td>1</td>\n",
       "      <td>1</td>\n",
       "      <td>0</td>\n",
       "      <td>6</td>\n",
       "      <td>0</td>\n",
       "      <td>1</td>\n",
       "      <td>0.22</td>\n",
       "      <td>0.2727</td>\n",
       "      <td>0.80</td>\n",
       "      <td>0.0</td>\n",
       "      <td>8</td>\n",
       "      <td>32</td>\n",
       "      <td>2011</td>\n",
       "      <td>1</td>\n",
       "      <td>40</td>\n",
       "    </tr>\n",
       "    <tr>\n",
       "      <th>2</th>\n",
       "      <td>2011-01-01</td>\n",
       "      <td>1</td>\n",
       "      <td>2</td>\n",
       "      <td>0</td>\n",
       "      <td>6</td>\n",
       "      <td>0</td>\n",
       "      <td>1</td>\n",
       "      <td>0.22</td>\n",
       "      <td>0.2727</td>\n",
       "      <td>0.80</td>\n",
       "      <td>0.0</td>\n",
       "      <td>5</td>\n",
       "      <td>27</td>\n",
       "      <td>2011</td>\n",
       "      <td>1</td>\n",
       "      <td>32</td>\n",
       "    </tr>\n",
       "    <tr>\n",
       "      <th>3</th>\n",
       "      <td>2011-01-01</td>\n",
       "      <td>1</td>\n",
       "      <td>3</td>\n",
       "      <td>0</td>\n",
       "      <td>6</td>\n",
       "      <td>0</td>\n",
       "      <td>1</td>\n",
       "      <td>0.24</td>\n",
       "      <td>0.2879</td>\n",
       "      <td>0.75</td>\n",
       "      <td>0.0</td>\n",
       "      <td>3</td>\n",
       "      <td>10</td>\n",
       "      <td>2011</td>\n",
       "      <td>1</td>\n",
       "      <td>13</td>\n",
       "    </tr>\n",
       "    <tr>\n",
       "      <th>4</th>\n",
       "      <td>2011-01-01</td>\n",
       "      <td>1</td>\n",
       "      <td>4</td>\n",
       "      <td>0</td>\n",
       "      <td>6</td>\n",
       "      <td>0</td>\n",
       "      <td>1</td>\n",
       "      <td>0.24</td>\n",
       "      <td>0.2879</td>\n",
       "      <td>0.75</td>\n",
       "      <td>0.0</td>\n",
       "      <td>0</td>\n",
       "      <td>1</td>\n",
       "      <td>2011</td>\n",
       "      <td>1</td>\n",
       "      <td>1</td>\n",
       "    </tr>\n",
       "  </tbody>\n",
       "</table>\n",
       "</div>"
      ],
      "text/plain": [
       "      dteday  season  hour  holiday  weekday  workingday  weather  temp  \\\n",
       "0 2011-01-01       1     0        0        6           0        1  0.24   \n",
       "1 2011-01-01       1     1        0        6           0        1  0.22   \n",
       "2 2011-01-01       1     2        0        6           0        1  0.22   \n",
       "3 2011-01-01       1     3        0        6           0        1  0.24   \n",
       "4 2011-01-01       1     4        0        6           0        1  0.24   \n",
       "\n",
       "    atemp   hum  windspeed  casual  registered  year  month  counts  \n",
       "0  0.2879  0.81        0.0       3          13  2011      1      16  \n",
       "1  0.2727  0.80        0.0       8          32  2011      1      40  \n",
       "2  0.2727  0.80        0.0       5          27  2011      1      32  \n",
       "3  0.2879  0.75        0.0       3          10  2011      1      13  \n",
       "4  0.2879  0.75        0.0       0           1  2011      1       1  "
      ]
     },
     "execution_count": 9,
     "metadata": {},
     "output_type": "execute_result"
    }
   ],
   "source": [
    "# your code here\n",
    "df.head()"
   ]
  },
  {
   "cell_type": "markdown",
   "metadata": {
    "colab_type": "text",
    "id": "NuMc7yPEc8wl"
   },
   "source": [
    "<div class='exercise'> <b> Question 2: Exploratory Data Analysis. </b></div>\n",
    "\n",
    "In this question, we continue validating the data, and begin hunting for patterns in ridership that shed light on who uses the service and why.\n",
    "\n",
    "**2.1** Use pandas' `scatter_matrix` command to visualize the inter-dependencies among all predictors in the dataset.  Note and comment on any strongly related variables. [This will take several minutes to run. You may wish to comment it out until your final submission, or only plot a randomly-selected 10% of the rows]\n",
    "\n",
    "**2.2** Make a plot showing the _average_ number of casual and registered riders during each hour of the day. `.groupby` and `.aggregate` should make this task easy. Comment on the trends you observe. \n",
    "\n",
    "**2.3** Use the variable `weather` to show how each weather category affects the relationships in question 2.2.  What do you observe?\n",
    "\n",
    "**2.4** Make a new dataframe with the following subset of attributes from the previous dataset and with each entry being just **one** day: \n",
    "\n",
    "- `dteday`, the timestamp for that day (fine to set to noon or any other time) \n",
    "- `weekday`, the day of the week\n",
    "- `weather`, the most severe weather that day\n",
    "- `season`, the season that day falls in\n",
    "- `temp`, the average temperature (normalized)\n",
    "- `atemp`, the average atemp that day (normalized)\n",
    "- `windspeed`, the average windspeed that day (normalized)\n",
    "- `hum`, the average humidity that day (normalized)\n",
    "- `casual`, the **total** number of rentals by casual users\n",
    "- `registered`, the **total** number of rentals by registered users\n",
    "- `counts`, the **total** number of rentals of that day\n",
    "\n",
    "Name this dataframe `bikes_by_day`.\n",
    "\n",
    "Make a plot showing  the _distribution_ of the number of casual and registered riders on each day of the week.\n",
    "\n",
    "**2.5** Use `bikes_by_day` to visualize how the distribution of **total number of rides** per day (casual and registered riders combined) varies with the **season**. Do you see any **outliers**? Here we use the pyplot's boxplot function definition of an outlier as any value 1.5 times the IQR above the 75th percentile or 1.5 times the IQR below the 25th percentiles. If you see any outliers, identify those dates and investigate if they are a chance occurence, an error in the data collection, or a significant event (an online search of those date(s) might help). \n",
    "\n"
   ]
  },
  {
   "cell_type": "markdown",
   "metadata": {
    "colab_type": "text",
    "id": "JxTLc_uKc8wm"
   },
   "source": [
    "### Answers"
   ]
  },
  {
   "cell_type": "markdown",
   "metadata": {
    "colab_type": "text",
    "id": "dTBopYT9DV4o"
   },
   "source": [
    "#### **2.1** Use pandas' `scatter_matrix` command to visualize the inter-dependencies among all predictors in the dataset.  Note and comment on any strongly related variables. [This will take several minutes to run. You may wish to comment it out until your final submission, or only plot a randomly-selected 10% of the rows]"
   ]
  },
  {
   "cell_type": "code",
   "execution_count": 10,
   "metadata": {
    "colab": {
     "base_uri": "https://localhost:8080/",
     "height": 1177
    },
    "colab_type": "code",
    "id": "-ySu_3EYDPPu",
    "outputId": "fc1bc87e-3b7d-440f-c2d4-6236478b7abd",
    "scrolled": false
   },
   "outputs": [
    {
     "name": "stderr",
     "output_type": "stream",
     "text": [
      "/Users/joshfeldman/anaconda3/envs/py36/lib/python3.6/site-packages/ipykernel/__main__.py:2: FutureWarning: pandas.scatter_matrix is deprecated, use pandas.plotting.scatter_matrix instead\n",
      "  from ipykernel import kernelapp as app\n"
     ]
    },
    {
     "data": {
      "text/plain": [
       "array([[<matplotlib.axes._subplots.AxesSubplot object at 0x10c5bb9b0>,\n",
       "        <matplotlib.axes._subplots.AxesSubplot object at 0x11ca61f28>,\n",
       "        <matplotlib.axes._subplots.AxesSubplot object at 0x11ca8f9e8>,\n",
       "        <matplotlib.axes._subplots.AxesSubplot object at 0x11cac14a8>,\n",
       "        <matplotlib.axes._subplots.AxesSubplot object at 0x11cae6f28>,\n",
       "        <matplotlib.axes._subplots.AxesSubplot object at 0x11cae6f60>,\n",
       "        <matplotlib.axes._subplots.AxesSubplot object at 0x11cb414a8>,\n",
       "        <matplotlib.axes._subplots.AxesSubplot object at 0x11cb66f28>,\n",
       "        <matplotlib.axes._subplots.AxesSubplot object at 0x11cb939e8>,\n",
       "        <matplotlib.axes._subplots.AxesSubplot object at 0x11cbc64a8>,\n",
       "        <matplotlib.axes._subplots.AxesSubplot object at 0x11cbecf28>,\n",
       "        <matplotlib.axes._subplots.AxesSubplot object at 0x11cc9c9e8>,\n",
       "        <matplotlib.axes._subplots.AxesSubplot object at 0x11ccc94a8>,\n",
       "        <matplotlib.axes._subplots.AxesSubplot object at 0x11ca2bf28>,\n",
       "        <matplotlib.axes._subplots.AxesSubplot object at 0x11cc1a9e8>],\n",
       "       [<matplotlib.axes._subplots.AxesSubplot object at 0x11cc474a8>,\n",
       "        <matplotlib.axes._subplots.AxesSubplot object at 0x10c5e1f28>,\n",
       "        <matplotlib.axes._subplots.AxesSubplot object at 0x11224c9e8>,\n",
       "        <matplotlib.axes._subplots.AxesSubplot object at 0x11227a4a8>,\n",
       "        <matplotlib.axes._subplots.AxesSubplot object at 0x11cc76f28>,\n",
       "        <matplotlib.axes._subplots.AxesSubplot object at 0x11cce39e8>,\n",
       "        <matplotlib.axes._subplots.AxesSubplot object at 0x11cd124a8>,\n",
       "        <matplotlib.axes._subplots.AxesSubplot object at 0x11cd36f28>,\n",
       "        <matplotlib.axes._subplots.AxesSubplot object at 0x11cd659e8>,\n",
       "        <matplotlib.axes._subplots.AxesSubplot object at 0x11cd954a8>,\n",
       "        <matplotlib.axes._subplots.AxesSubplot object at 0x11cdb9ef0>,\n",
       "        <matplotlib.axes._subplots.AxesSubplot object at 0x11db519b0>,\n",
       "        <matplotlib.axes._subplots.AxesSubplot object at 0x1c21366470>,\n",
       "        <matplotlib.axes._subplots.AxesSubplot object at 0x1c2138cef0>,\n",
       "        <matplotlib.axes._subplots.AxesSubplot object at 0x1c213b99b0>],\n",
       "       [<matplotlib.axes._subplots.AxesSubplot object at 0x1c213e8470>,\n",
       "        <matplotlib.axes._subplots.AxesSubplot object at 0x1c2140def0>,\n",
       "        <matplotlib.axes._subplots.AxesSubplot object at 0x1c214399b0>,\n",
       "        <matplotlib.axes._subplots.AxesSubplot object at 0x1c2146a470>,\n",
       "        <matplotlib.axes._subplots.AxesSubplot object at 0x1c21490ef0>,\n",
       "        <matplotlib.axes._subplots.AxesSubplot object at 0x1c214be9b0>,\n",
       "        <matplotlib.axes._subplots.AxesSubplot object at 0x1c214ed470>,\n",
       "        <matplotlib.axes._subplots.AxesSubplot object at 0x1c21512ef0>,\n",
       "        <matplotlib.axes._subplots.AxesSubplot object at 0x1c2153f9b0>,\n",
       "        <matplotlib.axes._subplots.AxesSubplot object at 0x1c2156f470>,\n",
       "        <matplotlib.axes._subplots.AxesSubplot object at 0x1c21593ef0>,\n",
       "        <matplotlib.axes._subplots.AxesSubplot object at 0x1c215c09b0>,\n",
       "        <matplotlib.axes._subplots.AxesSubplot object at 0x1c215f2470>,\n",
       "        <matplotlib.axes._subplots.AxesSubplot object at 0x1c21617ef0>,\n",
       "        <matplotlib.axes._subplots.AxesSubplot object at 0x1c216469b0>],\n",
       "       [<matplotlib.axes._subplots.AxesSubplot object at 0x1c21675470>,\n",
       "        <matplotlib.axes._subplots.AxesSubplot object at 0x1c21698ef0>,\n",
       "        <matplotlib.axes._subplots.AxesSubplot object at 0x1c216c69b0>,\n",
       "        <matplotlib.axes._subplots.AxesSubplot object at 0x1c216f5470>,\n",
       "        <matplotlib.axes._subplots.AxesSubplot object at 0x1c2171bef0>,\n",
       "        <matplotlib.axes._subplots.AxesSubplot object at 0x1c2174a9b0>,\n",
       "        <matplotlib.axes._subplots.AxesSubplot object at 0x1c21779470>,\n",
       "        <matplotlib.axes._subplots.AxesSubplot object at 0x1c2179fef0>,\n",
       "        <matplotlib.axes._subplots.AxesSubplot object at 0x1c217cc9b0>,\n",
       "        <matplotlib.axes._subplots.AxesSubplot object at 0x1c217fa470>,\n",
       "        <matplotlib.axes._subplots.AxesSubplot object at 0x1c21820ef0>,\n",
       "        <matplotlib.axes._subplots.AxesSubplot object at 0x1c2184e9b0>,\n",
       "        <matplotlib.axes._subplots.AxesSubplot object at 0x1c2187d470>,\n",
       "        <matplotlib.axes._subplots.AxesSubplot object at 0x1c2253bef0>,\n",
       "        <matplotlib.axes._subplots.AxesSubplot object at 0x1c225699b0>],\n",
       "       [<matplotlib.axes._subplots.AxesSubplot object at 0x1c22595470>,\n",
       "        <matplotlib.axes._subplots.AxesSubplot object at 0x1c225beef0>,\n",
       "        <matplotlib.axes._subplots.AxesSubplot object at 0x1c225e99b0>,\n",
       "        <matplotlib.axes._subplots.AxesSubplot object at 0x1c2261b470>,\n",
       "        <matplotlib.axes._subplots.AxesSubplot object at 0x1c22640ef0>,\n",
       "        <matplotlib.axes._subplots.AxesSubplot object at 0x1c2266b9b0>,\n",
       "        <matplotlib.axes._subplots.AxesSubplot object at 0x1c2269d470>,\n",
       "        <matplotlib.axes._subplots.AxesSubplot object at 0x1c226c3ef0>,\n",
       "        <matplotlib.axes._subplots.AxesSubplot object at 0x1c226f19b0>,\n",
       "        <matplotlib.axes._subplots.AxesSubplot object at 0x1c2271f470>,\n",
       "        <matplotlib.axes._subplots.AxesSubplot object at 0x1c22745ef0>,\n",
       "        <matplotlib.axes._subplots.AxesSubplot object at 0x1c227719b0>,\n",
       "        <matplotlib.axes._subplots.AxesSubplot object at 0x1c2279f400>,\n",
       "        <matplotlib.axes._subplots.AxesSubplot object at 0x1c227c6e80>,\n",
       "        <matplotlib.axes._subplots.AxesSubplot object at 0x1c227f4940>],\n",
       "       [<matplotlib.axes._subplots.AxesSubplot object at 0x1c22825400>,\n",
       "        <matplotlib.axes._subplots.AxesSubplot object at 0x1c2284ae80>,\n",
       "        <matplotlib.axes._subplots.AxesSubplot object at 0x1c22879940>,\n",
       "        <matplotlib.axes._subplots.AxesSubplot object at 0x1c228a6400>,\n",
       "        <matplotlib.axes._subplots.AxesSubplot object at 0x1c228cae80>,\n",
       "        <matplotlib.axes._subplots.AxesSubplot object at 0x1c228f9940>,\n",
       "        <matplotlib.axes._subplots.AxesSubplot object at 0x1c22929400>,\n",
       "        <matplotlib.axes._subplots.AxesSubplot object at 0x1c2294ee80>,\n",
       "        <matplotlib.axes._subplots.AxesSubplot object at 0x1c2297d940>,\n",
       "        <matplotlib.axes._subplots.AxesSubplot object at 0x1c229a9400>,\n",
       "        <matplotlib.axes._subplots.AxesSubplot object at 0x1c229d0e80>,\n",
       "        <matplotlib.axes._subplots.AxesSubplot object at 0x1c229ff940>,\n",
       "        <matplotlib.axes._subplots.AxesSubplot object at 0x1c22a2c400>,\n",
       "        <matplotlib.axes._subplots.AxesSubplot object at 0x1c22a53e80>,\n",
       "        <matplotlib.axes._subplots.AxesSubplot object at 0x1c22a81940>],\n",
       "       [<matplotlib.axes._subplots.AxesSubplot object at 0x1c22ab2400>,\n",
       "        <matplotlib.axes._subplots.AxesSubplot object at 0x1c22ad7e80>,\n",
       "        <matplotlib.axes._subplots.AxesSubplot object at 0x1c22b05940>,\n",
       "        <matplotlib.axes._subplots.AxesSubplot object at 0x1c22b32400>,\n",
       "        <matplotlib.axes._subplots.AxesSubplot object at 0x1c22b59e80>,\n",
       "        <matplotlib.axes._subplots.AxesSubplot object at 0x1c22b86940>,\n",
       "        <matplotlib.axes._subplots.AxesSubplot object at 0x1c22bb6400>,\n",
       "        <matplotlib.axes._subplots.AxesSubplot object at 0x1c22bdae80>,\n",
       "        <matplotlib.axes._subplots.AxesSubplot object at 0x1c22c09940>,\n",
       "        <matplotlib.axes._subplots.AxesSubplot object at 0x1c22c3a400>,\n",
       "        <matplotlib.axes._subplots.AxesSubplot object at 0x1c22c5ee80>,\n",
       "        <matplotlib.axes._subplots.AxesSubplot object at 0x1c22c8b940>,\n",
       "        <matplotlib.axes._subplots.AxesSubplot object at 0x1c22cb9400>,\n",
       "        <matplotlib.axes._subplots.AxesSubplot object at 0x1c22ce0e80>,\n",
       "        <matplotlib.axes._subplots.AxesSubplot object at 0x1c22d0d940>],\n",
       "       [<matplotlib.axes._subplots.AxesSubplot object at 0x1c22d3c400>,\n",
       "        <matplotlib.axes._subplots.AxesSubplot object at 0x1c22d61e80>,\n",
       "        <matplotlib.axes._subplots.AxesSubplot object at 0x1c22d90940>,\n",
       "        <matplotlib.axes._subplots.AxesSubplot object at 0x1c22dbf400>,\n",
       "        <matplotlib.axes._subplots.AxesSubplot object at 0x1c22de5e80>,\n",
       "        <matplotlib.axes._subplots.AxesSubplot object at 0x1c22e13940>,\n",
       "        <matplotlib.axes._subplots.AxesSubplot object at 0x1c22e40400>,\n",
       "        <matplotlib.axes._subplots.AxesSubplot object at 0x1c22e65e80>,\n",
       "        <matplotlib.axes._subplots.AxesSubplot object at 0x1c22e95940>,\n",
       "        <matplotlib.axes._subplots.AxesSubplot object at 0x1c22ec7400>,\n",
       "        <matplotlib.axes._subplots.AxesSubplot object at 0x1c22eeae80>,\n",
       "        <matplotlib.axes._subplots.AxesSubplot object at 0x1c22f18940>,\n",
       "        <matplotlib.axes._subplots.AxesSubplot object at 0x1c22f46400>,\n",
       "        <matplotlib.axes._subplots.AxesSubplot object at 0x1c22f6ce80>,\n",
       "        <matplotlib.axes._subplots.AxesSubplot object at 0x1c22f97940>],\n",
       "       [<matplotlib.axes._subplots.AxesSubplot object at 0x1c22fc8400>,\n",
       "        <matplotlib.axes._subplots.AxesSubplot object at 0x1c22fefe80>,\n",
       "        <matplotlib.axes._subplots.AxesSubplot object at 0x1c2301c940>,\n",
       "        <matplotlib.axes._subplots.AxesSubplot object at 0x1c2304c400>,\n",
       "        <matplotlib.axes._subplots.AxesSubplot object at 0x1c23071e80>,\n",
       "        <matplotlib.axes._subplots.AxesSubplot object at 0x1c2309f940>,\n",
       "        <matplotlib.axes._subplots.AxesSubplot object at 0x1c230cd400>,\n",
       "        <matplotlib.axes._subplots.AxesSubplot object at 0x1c230f3e80>,\n",
       "        <matplotlib.axes._subplots.AxesSubplot object at 0x1c23121940>,\n",
       "        <matplotlib.axes._subplots.AxesSubplot object at 0x1c2314f400>,\n",
       "        <matplotlib.axes._subplots.AxesSubplot object at 0x1c23175e80>,\n",
       "        <matplotlib.axes._subplots.AxesSubplot object at 0x1c231a3940>,\n",
       "        <matplotlib.axes._subplots.AxesSubplot object at 0x1c231d2400>,\n",
       "        <matplotlib.axes._subplots.AxesSubplot object at 0x1c231f7e80>,\n",
       "        <matplotlib.axes._subplots.AxesSubplot object at 0x1c23226940>],\n",
       "       [<matplotlib.axes._subplots.AxesSubplot object at 0x1c23254400>,\n",
       "        <matplotlib.axes._subplots.AxesSubplot object at 0x1c2327ae80>,\n",
       "        <matplotlib.axes._subplots.AxesSubplot object at 0x1c232a7940>,\n",
       "        <matplotlib.axes._subplots.AxesSubplot object at 0x1c232d8400>,\n",
       "        <matplotlib.axes._subplots.AxesSubplot object at 0x1c232fee80>,\n",
       "        <matplotlib.axes._subplots.AxesSubplot object at 0x1c2332c940>,\n",
       "        <matplotlib.axes._subplots.AxesSubplot object at 0x1c2335a400>,\n",
       "        <matplotlib.axes._subplots.AxesSubplot object at 0x1c2337ee80>,\n",
       "        <matplotlib.axes._subplots.AxesSubplot object at 0x1c233ae940>,\n",
       "        <matplotlib.axes._subplots.AxesSubplot object at 0x1c233dc400>,\n",
       "        <matplotlib.axes._subplots.AxesSubplot object at 0x1c23400e80>,\n",
       "        <matplotlib.axes._subplots.AxesSubplot object at 0x1c2342f940>,\n",
       "        <matplotlib.axes._subplots.AxesSubplot object at 0x1c2345f400>,\n",
       "        <matplotlib.axes._subplots.AxesSubplot object at 0x1c23483e80>,\n",
       "        <matplotlib.axes._subplots.AxesSubplot object at 0x1c234b4940>],\n",
       "       [<matplotlib.axes._subplots.AxesSubplot object at 0x1c234e1400>,\n",
       "        <matplotlib.axes._subplots.AxesSubplot object at 0x1c23505e80>,\n",
       "        <matplotlib.axes._subplots.AxesSubplot object at 0x1c23532940>,\n",
       "        <matplotlib.axes._subplots.AxesSubplot object at 0x1c23563400>,\n",
       "        <matplotlib.axes._subplots.AxesSubplot object at 0x1c23589e80>,\n",
       "        <matplotlib.axes._subplots.AxesSubplot object at 0x1c235b6940>,\n",
       "        <matplotlib.axes._subplots.AxesSubplot object at 0x1c235e4400>,\n",
       "        <matplotlib.axes._subplots.AxesSubplot object at 0x1c2360be80>,\n",
       "        <matplotlib.axes._subplots.AxesSubplot object at 0x1c23639940>,\n",
       "        <matplotlib.axes._subplots.AxesSubplot object at 0x1c23669400>,\n",
       "        <matplotlib.axes._subplots.AxesSubplot object at 0x1c2368fe80>,\n",
       "        <matplotlib.axes._subplots.AxesSubplot object at 0x1c236bb940>,\n",
       "        <matplotlib.axes._subplots.AxesSubplot object at 0x1c236ec400>,\n",
       "        <matplotlib.axes._subplots.AxesSubplot object at 0x1c23711e80>,\n",
       "        <matplotlib.axes._subplots.AxesSubplot object at 0x1c2373d940>],\n",
       "       [<matplotlib.axes._subplots.AxesSubplot object at 0x1c2376c400>,\n",
       "        <matplotlib.axes._subplots.AxesSubplot object at 0x1c23792e80>,\n",
       "        <matplotlib.axes._subplots.AxesSubplot object at 0x1c237c1940>,\n",
       "        <matplotlib.axes._subplots.AxesSubplot object at 0x1c237f0400>,\n",
       "        <matplotlib.axes._subplots.AxesSubplot object at 0x1c23815e80>,\n",
       "        <matplotlib.axes._subplots.AxesSubplot object at 0x1c23843940>,\n",
       "        <matplotlib.axes._subplots.AxesSubplot object at 0x1c23873400>,\n",
       "        <matplotlib.axes._subplots.AxesSubplot object at 0x1c2389ae80>,\n",
       "        <matplotlib.axes._subplots.AxesSubplot object at 0x1c238c6940>,\n",
       "        <matplotlib.axes._subplots.AxesSubplot object at 0x1c238f4400>,\n",
       "        <matplotlib.axes._subplots.AxesSubplot object at 0x1c2391ae80>,\n",
       "        <matplotlib.axes._subplots.AxesSubplot object at 0x1c23948940>,\n",
       "        <matplotlib.axes._subplots.AxesSubplot object at 0x1c23976400>,\n",
       "        <matplotlib.axes._subplots.AxesSubplot object at 0x1c2399ee80>,\n",
       "        <matplotlib.axes._subplots.AxesSubplot object at 0x1c239cc940>],\n",
       "       [<matplotlib.axes._subplots.AxesSubplot object at 0x1c239f9400>,\n",
       "        <matplotlib.axes._subplots.AxesSubplot object at 0x1c23a1de80>,\n",
       "        <matplotlib.axes._subplots.AxesSubplot object at 0x1c23a4f940>,\n",
       "        <matplotlib.axes._subplots.AxesSubplot object at 0x1c23a7b400>,\n",
       "        <matplotlib.axes._subplots.AxesSubplot object at 0x1c23aa2e80>,\n",
       "        <matplotlib.axes._subplots.AxesSubplot object at 0x1c23ad0940>,\n",
       "        <matplotlib.axes._subplots.AxesSubplot object at 0x1c23aff400>,\n",
       "        <matplotlib.axes._subplots.AxesSubplot object at 0x1c23b26e80>,\n",
       "        <matplotlib.axes._subplots.AxesSubplot object at 0x1c23b52940>,\n",
       "        <matplotlib.axes._subplots.AxesSubplot object at 0x1c23b82400>,\n",
       "        <matplotlib.axes._subplots.AxesSubplot object at 0x1c23ba6e80>,\n",
       "        <matplotlib.axes._subplots.AxesSubplot object at 0x1c23bd3940>,\n",
       "        <matplotlib.axes._subplots.AxesSubplot object at 0x1c23c04400>,\n",
       "        <matplotlib.axes._subplots.AxesSubplot object at 0x1c23c29e80>,\n",
       "        <matplotlib.axes._subplots.AxesSubplot object at 0x1c23c57940>],\n",
       "       [<matplotlib.axes._subplots.AxesSubplot object at 0x1c23c86400>,\n",
       "        <matplotlib.axes._subplots.AxesSubplot object at 0x1c23cace80>,\n",
       "        <matplotlib.axes._subplots.AxesSubplot object at 0x1c23cd9940>,\n",
       "        <matplotlib.axes._subplots.AxesSubplot object at 0x1c23d09400>,\n",
       "        <matplotlib.axes._subplots.AxesSubplot object at 0x1c23d2de80>,\n",
       "        <matplotlib.axes._subplots.AxesSubplot object at 0x1c23d5a940>,\n",
       "        <matplotlib.axes._subplots.AxesSubplot object at 0x1c23d8a400>,\n",
       "        <matplotlib.axes._subplots.AxesSubplot object at 0x1c23db0e80>,\n",
       "        <matplotlib.axes._subplots.AxesSubplot object at 0x1c23ddf940>,\n",
       "        <matplotlib.axes._subplots.AxesSubplot object at 0x1c23e0d400>,\n",
       "        <matplotlib.axes._subplots.AxesSubplot object at 0x1c23e32e80>,\n",
       "        <matplotlib.axes._subplots.AxesSubplot object at 0x1c23e61940>,\n",
       "        <matplotlib.axes._subplots.AxesSubplot object at 0x1c23e91400>,\n",
       "        <matplotlib.axes._subplots.AxesSubplot object at 0x1c23eb6e80>,\n",
       "        <matplotlib.axes._subplots.AxesSubplot object at 0x1c23ee3940>],\n",
       "       [<matplotlib.axes._subplots.AxesSubplot object at 0x1c23f11400>,\n",
       "        <matplotlib.axes._subplots.AxesSubplot object at 0x1c23f38e80>,\n",
       "        <matplotlib.axes._subplots.AxesSubplot object at 0x1c23f66940>,\n",
       "        <matplotlib.axes._subplots.AxesSubplot object at 0x1c23f95400>,\n",
       "        <matplotlib.axes._subplots.AxesSubplot object at 0x1c23fbae80>,\n",
       "        <matplotlib.axes._subplots.AxesSubplot object at 0x1c23fe7940>,\n",
       "        <matplotlib.axes._subplots.AxesSubplot object at 0x1c24015400>,\n",
       "        <matplotlib.axes._subplots.AxesSubplot object at 0x1c2403de80>,\n",
       "        <matplotlib.axes._subplots.AxesSubplot object at 0x1c2406a940>,\n",
       "        <matplotlib.axes._subplots.AxesSubplot object at 0x1c2409a400>,\n",
       "        <matplotlib.axes._subplots.AxesSubplot object at 0x1c240bde80>,\n",
       "        <matplotlib.axes._subplots.AxesSubplot object at 0x1c240ed940>,\n",
       "        <matplotlib.axes._subplots.AxesSubplot object at 0x1c2411c400>,\n",
       "        <matplotlib.axes._subplots.AxesSubplot object at 0x1c24140e80>,\n",
       "        <matplotlib.axes._subplots.AxesSubplot object at 0x1c2416e940>]],\n",
       "      dtype=object)"
      ]
     },
     "execution_count": 10,
     "metadata": {},
     "output_type": "execute_result"
    },
    {
     "data": {
      "image/png": "[encoded data removed]",
      "text/plain": [
       "<Figure size 1008x1008 with 225 Axes>"
      ]
     },
     "metadata": {},
     "output_type": "display_data"
    }
   ],
   "source": [
    "# your code here\n",
    "plot = pd.scatter_matrix(df, figsize = (14, 14))\n",
    "plot"
   ]
  },
  {
   "cell_type": "markdown",
   "metadata": {},
   "source": [
    "*your answer here* \n",
    "\n",
    "There are some collinearities in the data. Notably, temp vs. atemp vs. month vs. season. There seems to be a lot of structure in the data relating counts to various times (hour, holiday, weekday, workingday, month)."
   ]
  },
  {
   "cell_type": "markdown",
   "metadata": {
    "colab_type": "text",
    "id": "Kaa0hk1WDbJz"
   },
   "source": [
    "#### **2.2** Make a plot showing the _average_ number of casual and registered riders during each hour of the day. `.groupby` and `.aggregate` should make this task easy. Comment on the trends you observe. "
   ]
  },
  {
   "cell_type": "code",
   "execution_count": 11,
   "metadata": {
    "colab": {
     "base_uri": "https://localhost:8080/",
     "height": 294
    },
    "colab_type": "code",
    "id": "UWRpdSVfDPni",
    "outputId": "9a3a7205-d5fc-45a3-b3ac-0ca32410b72d"
   },
   "outputs": [
    {
     "data": {
      "text/html": [
       "<div>\n",
       "<style scoped>\n",
       "    .dataframe tbody tr th:only-of-type {\n",
       "        vertical-align: middle;\n",
       "    }\n",
       "\n",
       "    .dataframe tbody tr th {\n",
       "        vertical-align: top;\n",
       "    }\n",
       "\n",
       "    .dataframe thead th {\n",
       "        text-align: right;\n",
       "    }\n",
       "</style>\n",
       "<table border=\"1\" class=\"dataframe\">\n",
       "  <thead>\n",
       "    <tr style=\"text-align: right;\">\n",
       "      <th></th>\n",
       "      <th>casual</th>\n",
       "      <th>registered</th>\n",
       "    </tr>\n",
       "    <tr>\n",
       "      <th>hour</th>\n",
       "      <th></th>\n",
       "      <th></th>\n",
       "    </tr>\n",
       "  </thead>\n",
       "  <tbody>\n",
       "    <tr>\n",
       "      <th>0</th>\n",
       "      <td>10.158402</td>\n",
       "      <td>43.739669</td>\n",
       "    </tr>\n",
       "    <tr>\n",
       "      <th>1</th>\n",
       "      <td>6.504144</td>\n",
       "      <td>26.871547</td>\n",
       "    </tr>\n",
       "    <tr>\n",
       "      <th>2</th>\n",
       "      <td>4.772028</td>\n",
       "      <td>18.097902</td>\n",
       "    </tr>\n",
       "    <tr>\n",
       "      <th>3</th>\n",
       "      <td>2.715925</td>\n",
       "      <td>9.011478</td>\n",
       "    </tr>\n",
       "    <tr>\n",
       "      <th>4</th>\n",
       "      <td>1.253945</td>\n",
       "      <td>5.098996</td>\n",
       "    </tr>\n",
       "  </tbody>\n",
       "</table>\n",
       "</div>"
      ],
      "text/plain": [
       "         casual  registered\n",
       "hour                       \n",
       "0     10.158402   43.739669\n",
       "1      6.504144   26.871547\n",
       "2      4.772028   18.097902\n",
       "3      2.715925    9.011478\n",
       "4      1.253945    5.098996"
      ]
     },
     "execution_count": 11,
     "metadata": {},
     "output_type": "execute_result"
    }
   ],
   "source": [
    "# your code here\n",
    "rides_per_hour = df.groupby('hour').agg({\n",
    "    \"casual\" : 'mean',\n",
    "    'registered' : 'mean'\n",
    "})\n",
    "rides_per_hour.head()"
   ]
  },
  {
   "cell_type": "code",
   "execution_count": 12,
   "metadata": {
    "colab": {
     "base_uri": "https://localhost:8080/",
     "height": 294
    },
    "colab_type": "code",
    "id": "UWRpdSVfDPni",
    "outputId": "9a3a7205-d5fc-45a3-b3ac-0ca32410b72d"
   },
   "outputs": [
    {
     "data": {
      "text/plain": [
       "Text(0.5,1,'Number of Casual and Registered Riders Per Hour on Average')"
      ]
     },
     "execution_count": 12,
     "metadata": {},
     "output_type": "execute_result"
    },
    {
     "data": {
      "image/png": "[encoded data removed]",
      "text/plain": [
       "<Figure size 576x396 with 1 Axes>"
      ]
     },
     "metadata": {},
     "output_type": "display_data"
    }
   ],
   "source": [
    "plt.scatter(rides_per_hour.index, rides_per_hour.casual, label = \"Casual Riders per Hour (mean)\")\n",
    "plt.scatter(rides_per_hour.index, rides_per_hour.registered, label = \"Registered Riders per Hour (mean)\")\n",
    "plt.xlabel('Hour')\n",
    "plt.ylabel('Rides on Average')\n",
    "plt.legend()\n",
    "plt.title('Number of Casual and Registered Riders Per Hour on Average')"
   ]
  },
  {
   "cell_type": "markdown",
   "metadata": {},
   "source": [
    "*your answer here*\n",
    "\n",
    "Most casual rides occur in the middle of the day, whereas most registered riders take trips during rush hour (7-9am, 4-7pm). The rides are periodic."
   ]
  },
  {
   "cell_type": "markdown",
   "metadata": {
    "colab_type": "text",
    "id": "f6_TBEJPDhkb"
   },
   "source": [
    "#### **2.3** Use the variable `weather` to show how each weather category affects the relationships in question 2.2.  What do you observe?"
   ]
  },
  {
   "cell_type": "code",
   "execution_count": 13,
   "metadata": {},
   "outputs": [
    {
     "data": {
      "text/html": [
       "<div>\n",
       "<style scoped>\n",
       "    .dataframe tbody tr th:only-of-type {\n",
       "        vertical-align: middle;\n",
       "    }\n",
       "\n",
       "    .dataframe tbody tr th {\n",
       "        vertical-align: top;\n",
       "    }\n",
       "\n",
       "    .dataframe thead th {\n",
       "        text-align: right;\n",
       "    }\n",
       "</style>\n",
       "<table border=\"1\" class=\"dataframe\">\n",
       "  <thead>\n",
       "    <tr style=\"text-align: right;\">\n",
       "      <th></th>\n",
       "      <th>hour</th>\n",
       "      <th>weather</th>\n",
       "      <th>casual</th>\n",
       "      <th>registered</th>\n",
       "    </tr>\n",
       "  </thead>\n",
       "  <tbody>\n",
       "    <tr>\n",
       "      <th>0</th>\n",
       "      <td>0</td>\n",
       "      <td>1</td>\n",
       "      <td>11.429448</td>\n",
       "      <td>47.732106</td>\n",
       "    </tr>\n",
       "    <tr>\n",
       "      <th>1</th>\n",
       "      <td>0</td>\n",
       "      <td>2</td>\n",
       "      <td>8.648649</td>\n",
       "      <td>38.583784</td>\n",
       "    </tr>\n",
       "    <tr>\n",
       "      <th>2</th>\n",
       "      <td>0</td>\n",
       "      <td>3</td>\n",
       "      <td>3.576923</td>\n",
       "      <td>24.538462</td>\n",
       "    </tr>\n",
       "    <tr>\n",
       "      <th>3</th>\n",
       "      <td>1</td>\n",
       "      <td>1</td>\n",
       "      <td>6.951020</td>\n",
       "      <td>27.444898</td>\n",
       "    </tr>\n",
       "    <tr>\n",
       "      <th>4</th>\n",
       "      <td>1</td>\n",
       "      <td>2</td>\n",
       "      <td>6.536313</td>\n",
       "      <td>29.005587</td>\n",
       "    </tr>\n",
       "  </tbody>\n",
       "</table>\n",
       "</div>"
      ],
      "text/plain": [
       "   hour  weather     casual  registered\n",
       "0     0        1  11.429448   47.732106\n",
       "1     0        2   8.648649   38.583784\n",
       "2     0        3   3.576923   24.538462\n",
       "3     1        1   6.951020   27.444898\n",
       "4     1        2   6.536313   29.005587"
      ]
     },
     "execution_count": 13,
     "metadata": {},
     "output_type": "execute_result"
    }
   ],
   "source": [
    "# your code here\n",
    "rides_per_hour = df.groupby(['hour', 'weather']).agg({\n",
    "    \"casual\" : 'mean',\n",
    "    'registered' : 'mean'\n",
    "})\n",
    "rides_per_hour.reset_index(inplace=True)  \n",
    "rides_per_hour.head()"
   ]
  },
  {
   "cell_type": "code",
   "execution_count": 14,
   "metadata": {
    "colab": {
     "base_uri": "https://localhost:8080/",
     "height": 620
    },
    "colab_type": "code",
    "id": "iHRjrTO6DPiw",
    "outputId": "0181c95e-02f1-4b38-c099-10f38b2d415c"
   },
   "outputs": [
    {
     "name": "stderr",
     "output_type": "stream",
     "text": [
      "/Users/joshfeldman/anaconda3/envs/py36/lib/python3.6/site-packages/matplotlib/figure.py:457: UserWarning: matplotlib is currently using a non-GUI backend, so cannot show the figure\n",
      "  \"matplotlib is currently using a non-GUI backend, \"\n"
     ]
    },
    {
     "data": {
      "image/png": "[encoded data removed]",
      "text/plain": [
       "<Figure size 576x396 with 4 Axes>"
      ]
     },
     "metadata": {},
     "output_type": "display_data"
    }
   ],
   "source": [
    "# your code here\n",
    "fig, ax = plt.subplots(2,2)\n",
    "for id1, row in enumerate(ax):\n",
    "    for id2, axes in enumerate(row):\n",
    "        weather = 2*(id1)+ (id2)+1\n",
    "        df_weather = rides_per_hour[rides_per_hour.weather == weather]\n",
    "        axes.scatter(df_weather.index, df_weather.casual, label = \"Casual Riders per Hour (mean)\")\n",
    "        axes.scatter(df_weather.index, df_weather.registered, label = \"Registered Riders per Hour (mean)\")\n",
    "        axes.set_xlabel('Hour')\n",
    "        axes.set_ylabel('Rides on Average')\n",
    "        axes.set_ylim(0,450)\n",
    "        axes.legend()\n",
    "        axes.set_title('Weather: {}'.format(weather))\n",
    "fig.suptitle(\"Number of Casual and Registered Riders Per Hour on Average \")\n",
    "fig.subplots_adjust(hspace = 0.5)\n",
    "fig.show()"
   ]
  },
  {
   "cell_type": "markdown",
   "metadata": {},
   "source": [
    "*your answer here*\n",
    "\n",
    "Though the relative frequencies seem similar, the number of rides overall decreases as the weather increases from 1 to 4"
   ]
  },
  {
   "cell_type": "markdown",
   "metadata": {},
   "source": [
    "#### **2.4** Make a new dataframe with the following subset of attributes from the previous dataset and with each entry being just **one** day: \n",
    "\n",
    "- `dteday`, the timestamp for that day (fine to set to noon or any other time) \n",
    "- `weekday`, the day of the week\n",
    "- `weather`, the most severe weather that day\n",
    "- `season`, the season that day falls in\n",
    "- `temp`, the average temperature (normalized)\n",
    "- `atemp`, the average atemp that day (normalized)\n",
    "- `windspeed`, the average windspeed that day (normalized)\n",
    "- `hum`, the average humidity that day (normalized)\n",
    "- `casual`, the **total** number of rentals by casual users\n",
    "- `registered`, the **total** number of rentals by registered users\n",
    "- `counts`, the **total** number of rentals of that day\n",
    "\n",
    "#### Name this dataframe `bikes_by_day`.\n",
    "\n",
    "#### Make a plot showing  the _distribution_ of the number of casual and registered riders on each day of the week."
   ]
  },
  {
   "cell_type": "code",
   "execution_count": 15,
   "metadata": {},
   "outputs": [
    {
     "data": {
      "text/html": [
       "<div>\n",
       "<style scoped>\n",
       "    .dataframe tbody tr th:only-of-type {\n",
       "        vertical-align: middle;\n",
       "    }\n",
       "\n",
       "    .dataframe tbody tr th {\n",
       "        vertical-align: top;\n",
       "    }\n",
       "\n",
       "    .dataframe thead th {\n",
       "        text-align: right;\n",
       "    }\n",
       "</style>\n",
       "<table border=\"1\" class=\"dataframe\">\n",
       "  <thead>\n",
       "    <tr style=\"text-align: right;\">\n",
       "      <th></th>\n",
       "      <th>dteday</th>\n",
       "      <th>weekday</th>\n",
       "      <th>weather</th>\n",
       "      <th>season</th>\n",
       "      <th>temp</th>\n",
       "      <th>atemp</th>\n",
       "      <th>windspeed</th>\n",
       "      <th>hum</th>\n",
       "      <th>casual</th>\n",
       "      <th>registered</th>\n",
       "      <th>counts</th>\n",
       "    </tr>\n",
       "  </thead>\n",
       "  <tbody>\n",
       "    <tr>\n",
       "      <th>0</th>\n",
       "      <td>2011-01-01</td>\n",
       "      <td>6</td>\n",
       "      <td>3</td>\n",
       "      <td>1</td>\n",
       "      <td>0.344167</td>\n",
       "      <td>0.363625</td>\n",
       "      <td>0.160446</td>\n",
       "      <td>0.805833</td>\n",
       "      <td>331</td>\n",
       "      <td>654</td>\n",
       "      <td>985</td>\n",
       "    </tr>\n",
       "    <tr>\n",
       "      <th>1</th>\n",
       "      <td>2011-01-02</td>\n",
       "      <td>0</td>\n",
       "      <td>3</td>\n",
       "      <td>1</td>\n",
       "      <td>0.363478</td>\n",
       "      <td>0.353739</td>\n",
       "      <td>0.248539</td>\n",
       "      <td>0.696087</td>\n",
       "      <td>131</td>\n",
       "      <td>670</td>\n",
       "      <td>801</td>\n",
       "    </tr>\n",
       "    <tr>\n",
       "      <th>2</th>\n",
       "      <td>2011-01-03</td>\n",
       "      <td>1</td>\n",
       "      <td>1</td>\n",
       "      <td>1</td>\n",
       "      <td>0.196364</td>\n",
       "      <td>0.189405</td>\n",
       "      <td>0.248309</td>\n",
       "      <td>0.437273</td>\n",
       "      <td>120</td>\n",
       "      <td>1229</td>\n",
       "      <td>1349</td>\n",
       "    </tr>\n",
       "    <tr>\n",
       "      <th>3</th>\n",
       "      <td>2011-01-04</td>\n",
       "      <td>2</td>\n",
       "      <td>2</td>\n",
       "      <td>1</td>\n",
       "      <td>0.200000</td>\n",
       "      <td>0.212122</td>\n",
       "      <td>0.160296</td>\n",
       "      <td>0.590435</td>\n",
       "      <td>108</td>\n",
       "      <td>1454</td>\n",
       "      <td>1562</td>\n",
       "    </tr>\n",
       "    <tr>\n",
       "      <th>4</th>\n",
       "      <td>2011-01-05</td>\n",
       "      <td>3</td>\n",
       "      <td>1</td>\n",
       "      <td>1</td>\n",
       "      <td>0.226957</td>\n",
       "      <td>0.229270</td>\n",
       "      <td>0.186900</td>\n",
       "      <td>0.436957</td>\n",
       "      <td>82</td>\n",
       "      <td>1518</td>\n",
       "      <td>1600</td>\n",
       "    </tr>\n",
       "    <tr>\n",
       "      <th>5</th>\n",
       "      <td>2011-01-06</td>\n",
       "      <td>4</td>\n",
       "      <td>2</td>\n",
       "      <td>1</td>\n",
       "      <td>0.204348</td>\n",
       "      <td>0.233209</td>\n",
       "      <td>0.089565</td>\n",
       "      <td>0.518261</td>\n",
       "      <td>88</td>\n",
       "      <td>1518</td>\n",
       "      <td>1606</td>\n",
       "    </tr>\n",
       "    <tr>\n",
       "      <th>6</th>\n",
       "      <td>2011-01-07</td>\n",
       "      <td>5</td>\n",
       "      <td>3</td>\n",
       "      <td>1</td>\n",
       "      <td>0.196522</td>\n",
       "      <td>0.208839</td>\n",
       "      <td>0.168726</td>\n",
       "      <td>0.498696</td>\n",
       "      <td>148</td>\n",
       "      <td>1362</td>\n",
       "      <td>1510</td>\n",
       "    </tr>\n",
       "    <tr>\n",
       "      <th>7</th>\n",
       "      <td>2011-01-08</td>\n",
       "      <td>6</td>\n",
       "      <td>3</td>\n",
       "      <td>1</td>\n",
       "      <td>0.165000</td>\n",
       "      <td>0.162254</td>\n",
       "      <td>0.266804</td>\n",
       "      <td>0.535833</td>\n",
       "      <td>68</td>\n",
       "      <td>891</td>\n",
       "      <td>959</td>\n",
       "    </tr>\n",
       "    <tr>\n",
       "      <th>8</th>\n",
       "      <td>2011-01-09</td>\n",
       "      <td>0</td>\n",
       "      <td>1</td>\n",
       "      <td>1</td>\n",
       "      <td>0.138333</td>\n",
       "      <td>0.116175</td>\n",
       "      <td>0.361950</td>\n",
       "      <td>0.434167</td>\n",
       "      <td>54</td>\n",
       "      <td>768</td>\n",
       "      <td>822</td>\n",
       "    </tr>\n",
       "    <tr>\n",
       "      <th>9</th>\n",
       "      <td>2011-01-10</td>\n",
       "      <td>1</td>\n",
       "      <td>2</td>\n",
       "      <td>1</td>\n",
       "      <td>0.150833</td>\n",
       "      <td>0.150888</td>\n",
       "      <td>0.223267</td>\n",
       "      <td>0.482917</td>\n",
       "      <td>41</td>\n",
       "      <td>1280</td>\n",
       "      <td>1321</td>\n",
       "    </tr>\n",
       "  </tbody>\n",
       "</table>\n",
       "</div>"
      ],
      "text/plain": [
       "      dteday  weekday  weather  season      temp     atemp  windspeed  \\\n",
       "0 2011-01-01        6        3       1  0.344167  0.363625   0.160446   \n",
       "1 2011-01-02        0        3       1  0.363478  0.353739   0.248539   \n",
       "2 2011-01-03        1        1       1  0.196364  0.189405   0.248309   \n",
       "3 2011-01-04        2        2       1  0.200000  0.212122   0.160296   \n",
       "4 2011-01-05        3        1       1  0.226957  0.229270   0.186900   \n",
       "5 2011-01-06        4        2       1  0.204348  0.233209   0.089565   \n",
       "6 2011-01-07        5        3       1  0.196522  0.208839   0.168726   \n",
       "7 2011-01-08        6        3       1  0.165000  0.162254   0.266804   \n",
       "8 2011-01-09        0        1       1  0.138333  0.116175   0.361950   \n",
       "9 2011-01-10        1        2       1  0.150833  0.150888   0.223267   \n",
       "\n",
       "        hum  casual  registered  counts  \n",
       "0  0.805833     331         654     985  \n",
       "1  0.696087     131         670     801  \n",
       "2  0.437273     120        1229    1349  \n",
       "3  0.590435     108        1454    1562  \n",
       "4  0.436957      82        1518    1600  \n",
       "5  0.518261      88        1518    1606  \n",
       "6  0.498696     148        1362    1510  \n",
       "7  0.535833      68         891     959  \n",
       "8  0.434167      54         768     822  \n",
       "9  0.482917      41        1280    1321  "
      ]
     },
     "execution_count": 15,
     "metadata": {},
     "output_type": "execute_result"
    }
   ],
   "source": [
    "# your code here\n",
    "bikes_by_day = df.groupby('dteday').agg({\n",
    "    'weekday' : 'min',\n",
    "    'weather' : 'max',\n",
    "    'season': 'min',\n",
    "    'temp': 'mean',\n",
    "    'atemp': 'mean',\n",
    "    'windspeed' : \"mean\",\n",
    "    'hum' : \"mean\",\n",
    "    \"casual\":\"sum\",\n",
    "    'registered':\"sum\",\n",
    "    \"counts\": \"sum\" \n",
    "})\n",
    "bikes_by_day.reset_index(inplace=True) \n",
    "bikes_by_day.head(10)"
   ]
  },
  {
   "cell_type": "code",
   "execution_count": 16,
   "metadata": {
    "colab": {
     "base_uri": "https://localhost:8080/",
     "height": 388
    },
    "colab_type": "code",
    "id": "loa_O57jTNF8",
    "outputId": "bd4b2bba-6fe8-449c-fa05-300a068ad3b7"
   },
   "outputs": [
    {
     "name": "stderr",
     "output_type": "stream",
     "text": [
      "/Users/joshfeldman/anaconda3/envs/py36/lib/python3.6/site-packages/scipy/stats/stats.py:1713: FutureWarning: Using a non-tuple sequence for multidimensional indexing is deprecated; use `arr[tuple(seq)]` instead of `arr[seq]`. In the future this will be interpreted as an array index, `arr[np.array(seq)]`, which will result either in an error or a different result.\n",
      "  return np.add.reduce(sorted[indexer] * weights, axis=axis) / sumval\n",
      "/Users/joshfeldman/anaconda3/envs/py36/lib/python3.6/site-packages/matplotlib/figure.py:457: UserWarning: matplotlib is currently using a non-GUI backend, so cannot show the figure\n",
      "  \"matplotlib is currently using a non-GUI backend, \"\n"
     ]
    },
    {
     "data": {
      "image/png": "[encoded data removed]",
      "text/plain": [
       "<Figure size 504x1008 with 7 Axes>"
      ]
     },
     "metadata": {},
     "output_type": "display_data"
    }
   ],
   "source": [
    "# Set up the matplotlib figure\n",
    "fig, axes = plt.subplots(7, 1, figsize=(7, 14), sharex=True, sharey = True)\n",
    "sns.despine(left=True)\n",
    "for day in range(7):\n",
    "    bikes_by_weekday = bikes_by_day[bikes_by_day.weekday == day]\n",
    "    sns.distplot(bikes_by_weekday.casual, kde = False, norm_hist = True, label = \"Casual\", ax=axes[day])\n",
    "    sns.distplot(bikes_by_weekday.registered, kde = False, norm_hist = True, label = \"Registered\", ax=axes[day])\n",
    "    axes[day].set_xlabel('Rides')\n",
    "    axes[day].set_ylabel('Density')\n",
    "    axes[day].set_title('Day: {}'.format(day))\n",
    "    axes[day].legend()\n",
    "fig.suptitle(\"Distribution of rides per day\")\n",
    "fig.tight_layout()\n",
    "fig.show()"
   ]
  },
  {
   "cell_type": "markdown",
   "metadata": {
    "colab_type": "text",
    "id": "UlC-VtPZTnRC"
   },
   "source": [
    "*your answer here*\n",
    "\n",
    "Observations:\n",
    "* The casual riders increase on the weekend\n",
    "* The registered riders increase on weekdays"
   ]
  },
  {
   "cell_type": "markdown",
   "metadata": {
    "colab_type": "text",
    "id": "Vb2LWlKuDsGi"
   },
   "source": [
    "#### **2.5** Use `bikes_by_day` to visualize how the distribution of **total number of rides** per day (casual and registered riders combined) varies with the **season**. Do you see any **outliers**? Here we use the pyplot's boxplot function definition of an outlier as any value 1.5 times the IQR above the 75th percentile or 1.5 times the IQR below the 25th percentiles. If you see any outliers, identify those dates and investigate if they are a chance occurence, an error in the data collection, or a significant event (an online search of those date(s) might help). "
   ]
  },
  {
   "cell_type": "code",
   "execution_count": 17,
   "metadata": {},
   "outputs": [
    {
     "data": {
      "image/png": "[encoded data removed]",
      "text/plain": [
       "<Figure size 576x396 with 1 Axes>"
      ]
     },
     "metadata": {},
     "output_type": "display_data"
    }
   ],
   "source": [
    "# your code here \n",
    "sns.boxplot(bikes_by_day.season,bikes_by_day.counts)\n",
    "plt.title('Rides per Day vs. Season')\n",
    "plt.show()"
   ]
  },
  {
   "cell_type": "code",
   "execution_count": 18,
   "metadata": {},
   "outputs": [
    {
     "name": "stderr",
     "output_type": "stream",
     "text": [
      "/Users/joshfeldman/anaconda3/envs/py36/lib/python3.6/site-packages/ipykernel/__main__.py:2: UserWarning: Boolean Series key will be reindexed to match DataFrame index.\n",
      "  from ipykernel import kernelapp as app\n"
     ]
    },
    {
     "data": {
      "text/html": [
       "<div>\n",
       "<style scoped>\n",
       "    .dataframe tbody tr th:only-of-type {\n",
       "        vertical-align: middle;\n",
       "    }\n",
       "\n",
       "    .dataframe tbody tr th {\n",
       "        vertical-align: top;\n",
       "    }\n",
       "\n",
       "    .dataframe thead th {\n",
       "        text-align: right;\n",
       "    }\n",
       "</style>\n",
       "<table border=\"1\" class=\"dataframe\">\n",
       "  <thead>\n",
       "    <tr style=\"text-align: right;\">\n",
       "      <th></th>\n",
       "      <th>dteday</th>\n",
       "      <th>weekday</th>\n",
       "      <th>weather</th>\n",
       "      <th>season</th>\n",
       "      <th>temp</th>\n",
       "      <th>atemp</th>\n",
       "      <th>windspeed</th>\n",
       "      <th>hum</th>\n",
       "      <th>casual</th>\n",
       "      <th>registered</th>\n",
       "      <th>counts</th>\n",
       "    </tr>\n",
       "  </thead>\n",
       "  <tbody>\n",
       "    <tr>\n",
       "      <th>441</th>\n",
       "      <td>2012-03-17</td>\n",
       "      <td>6</td>\n",
       "      <td>2</td>\n",
       "      <td>1</td>\n",
       "      <td>0.514167</td>\n",
       "      <td>0.505046</td>\n",
       "      <td>0.110704</td>\n",
       "      <td>0.755833</td>\n",
       "      <td>3155</td>\n",
       "      <td>4681</td>\n",
       "      <td>7836</td>\n",
       "    </tr>\n",
       "  </tbody>\n",
       "</table>\n",
       "</div>"
      ],
      "text/plain": [
       "        dteday  weekday  weather  season      temp     atemp  windspeed  \\\n",
       "441 2012-03-17        6        2       1  0.514167  0.505046   0.110704   \n",
       "\n",
       "          hum  casual  registered  counts  \n",
       "441  0.755833    3155        4681    7836  "
      ]
     },
     "execution_count": 18,
     "metadata": {},
     "output_type": "execute_result"
    }
   ],
   "source": [
    "# your code here\n",
    "bikes_by_day[bikes_by_day.season == 1][bikes_by_day.counts > 7000]"
   ]
  },
  {
   "cell_type": "code",
   "execution_count": 19,
   "metadata": {
    "colab": {},
    "colab_type": "code",
    "id": "lbqvw6zZDPcu"
   },
   "outputs": [
    {
     "name": "stderr",
     "output_type": "stream",
     "text": [
      "/Users/joshfeldman/anaconda3/envs/py36/lib/python3.6/site-packages/ipykernel/__main__.py:2: UserWarning: Boolean Series key will be reindexed to match DataFrame index.\n",
      "  from ipykernel import kernelapp as app\n"
     ]
    },
    {
     "data": {
      "text/html": [
       "<div>\n",
       "<style scoped>\n",
       "    .dataframe tbody tr th:only-of-type {\n",
       "        vertical-align: middle;\n",
       "    }\n",
       "\n",
       "    .dataframe tbody tr th {\n",
       "        vertical-align: top;\n",
       "    }\n",
       "\n",
       "    .dataframe thead th {\n",
       "        text-align: right;\n",
       "    }\n",
       "</style>\n",
       "<table border=\"1\" class=\"dataframe\">\n",
       "  <thead>\n",
       "    <tr style=\"text-align: right;\">\n",
       "      <th></th>\n",
       "      <th>dteday</th>\n",
       "      <th>weekday</th>\n",
       "      <th>weather</th>\n",
       "      <th>season</th>\n",
       "      <th>temp</th>\n",
       "      <th>atemp</th>\n",
       "      <th>windspeed</th>\n",
       "      <th>hum</th>\n",
       "      <th>casual</th>\n",
       "      <th>registered</th>\n",
       "      <th>counts</th>\n",
       "    </tr>\n",
       "  </thead>\n",
       "  <tbody>\n",
       "    <tr>\n",
       "      <th>667</th>\n",
       "      <td>2012-10-29</td>\n",
       "      <td>1</td>\n",
       "      <td>3</td>\n",
       "      <td>4</td>\n",
       "      <td>0.44</td>\n",
       "      <td>0.4394</td>\n",
       "      <td>0.3582</td>\n",
       "      <td>0.88</td>\n",
       "      <td>2</td>\n",
       "      <td>20</td>\n",
       "      <td>22</td>\n",
       "    </tr>\n",
       "  </tbody>\n",
       "</table>\n",
       "</div>"
      ],
      "text/plain": [
       "        dteday  weekday  weather  season  temp   atemp  windspeed   hum  \\\n",
       "667 2012-10-29        1        3       4  0.44  0.4394     0.3582  0.88   \n",
       "\n",
       "     casual  registered  counts  \n",
       "667       2          20      22  "
      ]
     },
     "execution_count": 19,
     "metadata": {},
     "output_type": "execute_result"
    }
   ],
   "source": [
    "# your code here\n",
    "bikes_by_day[bikes_by_day.season == 4][bikes_by_day.counts < 100]"
   ]
  },
  {
   "cell_type": "markdown",
   "metadata": {
    "colab_type": "text",
    "id": "q-hGvjzZEK9Q"
   },
   "source": [
    "*your answer here* \n",
    "\n",
    "The first anamoly on March 17th, 2012 might be explained by the fact that it was both a hot day and St. Patrick's day.\n",
    "\n",
    "The second anamoly on October 29th, 2012 might be explained by the fact that it was during Hurricane Sandy."
   ]
  },
  {
   "cell_type": "markdown",
   "metadata": {
    "colab_type": "text",
    "id": "tzCBgP6Xc8yQ"
   },
   "source": [
    "<div class='exercise'> <b> Question 3: Prepare the data for Regression </b> </div>\n",
    "\n",
    "In order to build and evaluate our regression models, a little data cleaning is needed.  In this problem, we will explicitly create binary variables to represent the categorical predictors, set up the train-test split in a careful way, remove ancillary variables, and do a little data exploration that will be useful to consider in the regression models later.\n",
    "\n",
    "**3.1** Using `bikes_df`, with hourly data about rentals, convert the categorical attributes ('season', 'month', 'weekday', 'weather') into multiple binary attributes using **one-hot encoding**.\n",
    "\n",
    "**3.2** Split the updated `bikes_df` dataset in a train and test part. Do this in a 'stratified' fashion, ensuring that all months are equally represented in each set. Explain your choice for a splitting algorithm. \n",
    "\n",
    "**3.3** Although we asked you to create your train and test set, but for consistency and easy checking, we ask that for the rest of this problem set you use the train and test set provided in the he files `data/BSS_train.csv` and `data/BSS_test.csv`. Read these two files into dataframes `BSS_train` and `BSS_test`, respectively. Remove the `dteday` column from both the train and the test dataset (its format cannot be used for analysis). Also, remove any predictors that would make predicting the `count` trivial. Note we gave more meaningful names to the one-hot encoded variables.\n",
    "\n"
   ]
  },
  {
   "cell_type": "markdown",
   "metadata": {
    "colab_type": "text",
    "id": "xJRfJ-m8c8yR"
   },
   "source": [
    "#### Answers"
   ]
  },
  {
   "cell_type": "markdown",
   "metadata": {
    "colab_type": "text",
    "id": "FCllngRNc8yS"
   },
   "source": [
    "#### **3.1** Using `bikes_df`, with hourly data about rentals, convert the categorical attributes ('season', 'month', 'weekday', 'weather') into multiple binary attributes using **one-hot encoding**."
   ]
  },
  {
   "cell_type": "code",
   "execution_count": 20,
   "metadata": {
    "colab": {},
    "colab_type": "code",
    "id": "mVSlO245c8yS"
   },
   "outputs": [
    {
     "data": {
      "text/plain": [
       "Index(['dteday', 'hour', 'holiday', 'workingday', 'temp', 'atemp', 'hum',\n",
       "       'windspeed', 'casual', 'registered', 'year', 'counts', 'season_2',\n",
       "       'season_3', 'season_4', 'month_2', 'month_3', 'month_4', 'month_5',\n",
       "       'month_6', 'month_7', 'month_8', 'month_9', 'month_10', 'month_11',\n",
       "       'month_12', 'weekday_1', 'weekday_2', 'weekday_3', 'weekday_4',\n",
       "       'weekday_5', 'weekday_6', 'weather_2', 'weather_3', 'weather_4'],\n",
       "      dtype='object')"
      ]
     },
     "execution_count": 20,
     "metadata": {},
     "output_type": "execute_result"
    }
   ],
   "source": [
    "# your code here\n",
    "bikes_df = pd.get_dummies(df, columns = ['season', 'month', 'weekday', 'weather'], drop_first = True)\n",
    "bikes_df.columns"
   ]
  },
  {
   "cell_type": "code",
   "execution_count": 21,
   "metadata": {
    "scrolled": true
   },
   "outputs": [
    {
     "data": {
      "text/html": [
       "<div>\n",
       "<style scoped>\n",
       "    .dataframe tbody tr th:only-of-type {\n",
       "        vertical-align: middle;\n",
       "    }\n",
       "\n",
       "    .dataframe tbody tr th {\n",
       "        vertical-align: top;\n",
       "    }\n",
       "\n",
       "    .dataframe thead th {\n",
       "        text-align: right;\n",
       "    }\n",
       "</style>\n",
       "<table border=\"1\" class=\"dataframe\">\n",
       "  <thead>\n",
       "    <tr style=\"text-align: right;\">\n",
       "      <th></th>\n",
       "      <th>dteday</th>\n",
       "      <th>hour</th>\n",
       "      <th>holiday</th>\n",
       "      <th>workingday</th>\n",
       "      <th>temp</th>\n",
       "      <th>atemp</th>\n",
       "      <th>hum</th>\n",
       "      <th>windspeed</th>\n",
       "      <th>casual</th>\n",
       "      <th>registered</th>\n",
       "      <th>...</th>\n",
       "      <th>month_12</th>\n",
       "      <th>weekday_1</th>\n",
       "      <th>weekday_2</th>\n",
       "      <th>weekday_3</th>\n",
       "      <th>weekday_4</th>\n",
       "      <th>weekday_5</th>\n",
       "      <th>weekday_6</th>\n",
       "      <th>weather_2</th>\n",
       "      <th>weather_3</th>\n",
       "      <th>weather_4</th>\n",
       "    </tr>\n",
       "  </thead>\n",
       "  <tbody>\n",
       "    <tr>\n",
       "      <th>0</th>\n",
       "      <td>2011-01-01</td>\n",
       "      <td>0</td>\n",
       "      <td>0</td>\n",
       "      <td>0</td>\n",
       "      <td>0.24</td>\n",
       "      <td>0.2879</td>\n",
       "      <td>0.81</td>\n",
       "      <td>0.0</td>\n",
       "      <td>3</td>\n",
       "      <td>13</td>\n",
       "      <td>...</td>\n",
       "      <td>0</td>\n",
       "      <td>0</td>\n",
       "      <td>0</td>\n",
       "      <td>0</td>\n",
       "      <td>0</td>\n",
       "      <td>0</td>\n",
       "      <td>1</td>\n",
       "      <td>0</td>\n",
       "      <td>0</td>\n",
       "      <td>0</td>\n",
       "    </tr>\n",
       "    <tr>\n",
       "      <th>1</th>\n",
       "      <td>2011-01-01</td>\n",
       "      <td>1</td>\n",
       "      <td>0</td>\n",
       "      <td>0</td>\n",
       "      <td>0.22</td>\n",
       "      <td>0.2727</td>\n",
       "      <td>0.80</td>\n",
       "      <td>0.0</td>\n",
       "      <td>8</td>\n",
       "      <td>32</td>\n",
       "      <td>...</td>\n",
       "      <td>0</td>\n",
       "      <td>0</td>\n",
       "      <td>0</td>\n",
       "      <td>0</td>\n",
       "      <td>0</td>\n",
       "      <td>0</td>\n",
       "      <td>1</td>\n",
       "      <td>0</td>\n",
       "      <td>0</td>\n",
       "      <td>0</td>\n",
       "    </tr>\n",
       "    <tr>\n",
       "      <th>2</th>\n",
       "      <td>2011-01-01</td>\n",
       "      <td>2</td>\n",
       "      <td>0</td>\n",
       "      <td>0</td>\n",
       "      <td>0.22</td>\n",
       "      <td>0.2727</td>\n",
       "      <td>0.80</td>\n",
       "      <td>0.0</td>\n",
       "      <td>5</td>\n",
       "      <td>27</td>\n",
       "      <td>...</td>\n",
       "      <td>0</td>\n",
       "      <td>0</td>\n",
       "      <td>0</td>\n",
       "      <td>0</td>\n",
       "      <td>0</td>\n",
       "      <td>0</td>\n",
       "      <td>1</td>\n",
       "      <td>0</td>\n",
       "      <td>0</td>\n",
       "      <td>0</td>\n",
       "    </tr>\n",
       "    <tr>\n",
       "      <th>3</th>\n",
       "      <td>2011-01-01</td>\n",
       "      <td>3</td>\n",
       "      <td>0</td>\n",
       "      <td>0</td>\n",
       "      <td>0.24</td>\n",
       "      <td>0.2879</td>\n",
       "      <td>0.75</td>\n",
       "      <td>0.0</td>\n",
       "      <td>3</td>\n",
       "      <td>10</td>\n",
       "      <td>...</td>\n",
       "      <td>0</td>\n",
       "      <td>0</td>\n",
       "      <td>0</td>\n",
       "      <td>0</td>\n",
       "      <td>0</td>\n",
       "      <td>0</td>\n",
       "      <td>1</td>\n",
       "      <td>0</td>\n",
       "      <td>0</td>\n",
       "      <td>0</td>\n",
       "    </tr>\n",
       "    <tr>\n",
       "      <th>4</th>\n",
       "      <td>2011-01-01</td>\n",
       "      <td>4</td>\n",
       "      <td>0</td>\n",
       "      <td>0</td>\n",
       "      <td>0.24</td>\n",
       "      <td>0.2879</td>\n",
       "      <td>0.75</td>\n",
       "      <td>0.0</td>\n",
       "      <td>0</td>\n",
       "      <td>1</td>\n",
       "      <td>...</td>\n",
       "      <td>0</td>\n",
       "      <td>0</td>\n",
       "      <td>0</td>\n",
       "      <td>0</td>\n",
       "      <td>0</td>\n",
       "      <td>0</td>\n",
       "      <td>1</td>\n",
       "      <td>0</td>\n",
       "      <td>0</td>\n",
       "      <td>0</td>\n",
       "    </tr>\n",
       "  </tbody>\n",
       "</table>\n",
       "<p>5 rows × 35 columns</p>\n",
       "</div>"
      ],
      "text/plain": [
       "      dteday  hour  holiday  workingday  temp   atemp   hum  windspeed  \\\n",
       "0 2011-01-01     0        0           0  0.24  0.2879  0.81        0.0   \n",
       "1 2011-01-01     1        0           0  0.22  0.2727  0.80        0.0   \n",
       "2 2011-01-01     2        0           0  0.22  0.2727  0.80        0.0   \n",
       "3 2011-01-01     3        0           0  0.24  0.2879  0.75        0.0   \n",
       "4 2011-01-01     4        0           0  0.24  0.2879  0.75        0.0   \n",
       "\n",
       "   casual  registered    ...      month_12  weekday_1  weekday_2  weekday_3  \\\n",
       "0       3          13    ...             0          0          0          0   \n",
       "1       8          32    ...             0          0          0          0   \n",
       "2       5          27    ...             0          0          0          0   \n",
       "3       3          10    ...             0          0          0          0   \n",
       "4       0           1    ...             0          0          0          0   \n",
       "\n",
       "   weekday_4  weekday_5  weekday_6  weather_2  weather_3  weather_4  \n",
       "0          0          0          1          0          0          0  \n",
       "1          0          0          1          0          0          0  \n",
       "2          0          0          1          0          0          0  \n",
       "3          0          0          1          0          0          0  \n",
       "4          0          0          1          0          0          0  \n",
       "\n",
       "[5 rows x 35 columns]"
      ]
     },
     "execution_count": 21,
     "metadata": {},
     "output_type": "execute_result"
    }
   ],
   "source": [
    "bikes_df.head()"
   ]
  },
  {
   "cell_type": "markdown",
   "metadata": {
    "colab_type": "text",
    "id": "4YDGoSH2c8yi"
   },
   "source": [
    "####  **3.2** Split the updated `bikes_df` dataset in a train and test part. Do this in a 'stratified' fashion, ensuring that all months are equally represented in each set. Explain your choice for a splitting algorithm."
   ]
  },
  {
   "cell_type": "code",
   "execution_count": 22,
   "metadata": {
    "colab": {},
    "colab_type": "code",
    "id": "d8HO16a5c8yi"
   },
   "outputs": [],
   "source": [
    "bikes_df['month'] = df.month\n",
    "train, test = train_test_split(bikes_df,\n",
    "                               test_size = 0.2, \n",
    "                               shuffle = True, \n",
    "                               stratify = bikes_df['month'],\n",
    "                               random_state = 42\n",
    "                              )\n",
    "train = train.drop(columns = ['month'])\n",
    "test = test.drop(columns = ['month'])"
   ]
  },
  {
   "cell_type": "markdown",
   "metadata": {},
   "source": [
    "*your answer here*\n",
    "I stratified the train test split method by months by setting the `stratify` argument to month. This algorithm preserves the original distribution of months in the training and test sets."
   ]
  },
  {
   "cell_type": "markdown",
   "metadata": {
    "colab_type": "text",
    "id": "YdnWWzdvc8yr"
   },
   "source": [
    "#### **3.3** Although we asked you to create your train and test set, but for consistency and easy checking, we ask that for the rest of this problem set you use the train and test set provided in the he files `data/BSS_train.csv` and `data/BSS_test.csv`. Read these two files into dataframes `BSS_train` and `BSS_test`, respectively. Remove the `dteday` column from both the train and the test dataset (its format cannot be used for analysis). Also, remove any predictors that would make predicting the `count` trivial. Note we gave more meaningful names to the one-hot encoded variables."
   ]
  },
  {
   "cell_type": "code",
   "execution_count": 23,
   "metadata": {
    "colab": {},
    "colab_type": "code",
    "id": "NJP32EyCc8yt"
   },
   "outputs": [
    {
     "data": {
      "text/html": [
       "<div>\n",
       "<style scoped>\n",
       "    .dataframe tbody tr th:only-of-type {\n",
       "        vertical-align: middle;\n",
       "    }\n",
       "\n",
       "    .dataframe tbody tr th {\n",
       "        vertical-align: top;\n",
       "    }\n",
       "\n",
       "    .dataframe thead th {\n",
       "        text-align: right;\n",
       "    }\n",
       "</style>\n",
       "<table border=\"1\" class=\"dataframe\">\n",
       "  <thead>\n",
       "    <tr style=\"text-align: right;\">\n",
       "      <th></th>\n",
       "      <th>Unnamed: 0</th>\n",
       "      <th>dteday</th>\n",
       "      <th>hour</th>\n",
       "      <th>holiday</th>\n",
       "      <th>year</th>\n",
       "      <th>workingday</th>\n",
       "      <th>temp</th>\n",
       "      <th>atemp</th>\n",
       "      <th>hum</th>\n",
       "      <th>windspeed</th>\n",
       "      <th>...</th>\n",
       "      <th>Dec</th>\n",
       "      <th>Mon</th>\n",
       "      <th>Tue</th>\n",
       "      <th>Wed</th>\n",
       "      <th>Thu</th>\n",
       "      <th>Fri</th>\n",
       "      <th>Sat</th>\n",
       "      <th>Cloudy</th>\n",
       "      <th>Snow</th>\n",
       "      <th>Storm</th>\n",
       "    </tr>\n",
       "  </thead>\n",
       "  <tbody>\n",
       "    <tr>\n",
       "      <th>0</th>\n",
       "      <td>0</td>\n",
       "      <td>2011-01-01</td>\n",
       "      <td>0</td>\n",
       "      <td>0</td>\n",
       "      <td>0</td>\n",
       "      <td>0</td>\n",
       "      <td>0.24</td>\n",
       "      <td>0.2879</td>\n",
       "      <td>0.81</td>\n",
       "      <td>0.0</td>\n",
       "      <td>...</td>\n",
       "      <td>0</td>\n",
       "      <td>0</td>\n",
       "      <td>0</td>\n",
       "      <td>0</td>\n",
       "      <td>0</td>\n",
       "      <td>0</td>\n",
       "      <td>1</td>\n",
       "      <td>0</td>\n",
       "      <td>0</td>\n",
       "      <td>0</td>\n",
       "    </tr>\n",
       "    <tr>\n",
       "      <th>1</th>\n",
       "      <td>1</td>\n",
       "      <td>2011-01-01</td>\n",
       "      <td>1</td>\n",
       "      <td>0</td>\n",
       "      <td>0</td>\n",
       "      <td>0</td>\n",
       "      <td>0.22</td>\n",
       "      <td>0.2727</td>\n",
       "      <td>0.80</td>\n",
       "      <td>0.0</td>\n",
       "      <td>...</td>\n",
       "      <td>0</td>\n",
       "      <td>0</td>\n",
       "      <td>0</td>\n",
       "      <td>0</td>\n",
       "      <td>0</td>\n",
       "      <td>0</td>\n",
       "      <td>1</td>\n",
       "      <td>0</td>\n",
       "      <td>0</td>\n",
       "      <td>0</td>\n",
       "    </tr>\n",
       "    <tr>\n",
       "      <th>2</th>\n",
       "      <td>2</td>\n",
       "      <td>2011-01-01</td>\n",
       "      <td>2</td>\n",
       "      <td>0</td>\n",
       "      <td>0</td>\n",
       "      <td>0</td>\n",
       "      <td>0.22</td>\n",
       "      <td>0.2727</td>\n",
       "      <td>0.80</td>\n",
       "      <td>0.0</td>\n",
       "      <td>...</td>\n",
       "      <td>0</td>\n",
       "      <td>0</td>\n",
       "      <td>0</td>\n",
       "      <td>0</td>\n",
       "      <td>0</td>\n",
       "      <td>0</td>\n",
       "      <td>1</td>\n",
       "      <td>0</td>\n",
       "      <td>0</td>\n",
       "      <td>0</td>\n",
       "    </tr>\n",
       "    <tr>\n",
       "      <th>3</th>\n",
       "      <td>3</td>\n",
       "      <td>2011-01-01</td>\n",
       "      <td>3</td>\n",
       "      <td>0</td>\n",
       "      <td>0</td>\n",
       "      <td>0</td>\n",
       "      <td>0.24</td>\n",
       "      <td>0.2879</td>\n",
       "      <td>0.75</td>\n",
       "      <td>0.0</td>\n",
       "      <td>...</td>\n",
       "      <td>0</td>\n",
       "      <td>0</td>\n",
       "      <td>0</td>\n",
       "      <td>0</td>\n",
       "      <td>0</td>\n",
       "      <td>0</td>\n",
       "      <td>1</td>\n",
       "      <td>0</td>\n",
       "      <td>0</td>\n",
       "      <td>0</td>\n",
       "    </tr>\n",
       "    <tr>\n",
       "      <th>4</th>\n",
       "      <td>4</td>\n",
       "      <td>2011-01-01</td>\n",
       "      <td>4</td>\n",
       "      <td>0</td>\n",
       "      <td>0</td>\n",
       "      <td>0</td>\n",
       "      <td>0.24</td>\n",
       "      <td>0.2879</td>\n",
       "      <td>0.75</td>\n",
       "      <td>0.0</td>\n",
       "      <td>...</td>\n",
       "      <td>0</td>\n",
       "      <td>0</td>\n",
       "      <td>0</td>\n",
       "      <td>0</td>\n",
       "      <td>0</td>\n",
       "      <td>0</td>\n",
       "      <td>1</td>\n",
       "      <td>0</td>\n",
       "      <td>0</td>\n",
       "      <td>0</td>\n",
       "    </tr>\n",
       "  </tbody>\n",
       "</table>\n",
       "<p>5 rows × 36 columns</p>\n",
       "</div>"
      ],
      "text/plain": [
       "   Unnamed: 0      dteday  hour  holiday  year  workingday  temp   atemp  \\\n",
       "0           0  2011-01-01     0        0     0           0  0.24  0.2879   \n",
       "1           1  2011-01-01     1        0     0           0  0.22  0.2727   \n",
       "2           2  2011-01-01     2        0     0           0  0.22  0.2727   \n",
       "3           3  2011-01-01     3        0     0           0  0.24  0.2879   \n",
       "4           4  2011-01-01     4        0     0           0  0.24  0.2879   \n",
       "\n",
       "    hum  windspeed  ...    Dec  Mon  Tue  Wed  Thu  Fri  Sat  Cloudy  Snow  \\\n",
       "0  0.81        0.0  ...      0    0    0    0    0    0    1       0     0   \n",
       "1  0.80        0.0  ...      0    0    0    0    0    0    1       0     0   \n",
       "2  0.80        0.0  ...      0    0    0    0    0    0    1       0     0   \n",
       "3  0.75        0.0  ...      0    0    0    0    0    0    1       0     0   \n",
       "4  0.75        0.0  ...      0    0    0    0    0    0    1       0     0   \n",
       "\n",
       "   Storm  \n",
       "0      0  \n",
       "1      0  \n",
       "2      0  \n",
       "3      0  \n",
       "4      0  \n",
       "\n",
       "[5 rows x 36 columns]"
      ]
     },
     "execution_count": 23,
     "metadata": {},
     "output_type": "execute_result"
    }
   ],
   "source": [
    "# your code here\n",
    "BSS_train = pd.read_csv('./data/BSS_train.csv')\n",
    "BSS_test = pd.read_csv('./data/BSS_test.csv')\n",
    "BSS_train.head()"
   ]
  },
  {
   "cell_type": "code",
   "execution_count": 24,
   "metadata": {},
   "outputs": [
    {
     "data": {
      "text/plain": [
       "Index(['Unnamed: 0', 'dteday', 'hour', 'holiday', 'year', 'workingday', 'temp',\n",
       "       'atemp', 'hum', 'windspeed', 'casual', 'registered', 'counts', 'spring',\n",
       "       'summer', 'fall', 'Feb', 'Mar', 'Apr', 'May', 'Jun', 'Jul', 'Aug',\n",
       "       'Sept', 'Oct', 'Nov', 'Dec', 'Mon', 'Tue', 'Wed', 'Thu', 'Fri', 'Sat',\n",
       "       'Cloudy', 'Snow', 'Storm'],\n",
       "      dtype='object')"
      ]
     },
     "execution_count": 24,
     "metadata": {},
     "output_type": "execute_result"
    }
   ],
   "source": [
    "BSS_train.columns"
   ]
  },
  {
   "cell_type": "code",
   "execution_count": 25,
   "metadata": {
    "colab": {
     "base_uri": "https://localhost:8080/",
     "height": 235
    },
    "colab_type": "code",
    "id": "IbS-_SkOc8yz",
    "outputId": "d6e7966d-161c-4b75-a345-12b1cd743214"
   },
   "outputs": [],
   "source": [
    "# your code here\n",
    "columns_to_drop = ['Unnamed: 0', 'casual', 'registered', 'dteday']\n",
    "\n",
    "BSS_train = BSS_train.drop(columns=columns_to_drop)\n",
    "BSS_test = BSS_test.drop(columns=columns_to_drop)"
   ]
  },
  {
   "cell_type": "markdown",
   "metadata": {
    "colab_type": "text",
    "id": "KEchjjaTc8zS"
   },
   "source": [
    "<div class='exercise'> <b> Question 4: Multiple Linear Regression </b> </div>\n",
    "\n",
    "**4.1** Use statsmodels to fit a multiple linear regression model to the training set using all the predictors (no interactions or polynomial terms) to predict `counts`, and report its $R^2$ score on the train and test sets.\n",
    "\n",
    "**4.2** Examine the estimated coefficients and report which ones are statistically significant at a significance level of 5% (p-value < 0.05). You should see some strange values, such as `July` producing 93 fewer rentals, all else equal, than January.\n",
    "\n",
    "**4.3** To diagnose the model, make two plots: first a histogram of the residuals, and second a plot of the residuals of the fitted model ${e} = y - \\hat{y}$ as a function of the predicted value $\\hat{y}$. Draw a horizontal line denoting the zero residual value on the Y-axis. What do the plots reveal about the OLS assumptions (linearity, constant variance, and normality)?\n",
    "\n",
    "**4.4** Perhaps we can do better via a model with polynomial terms. Build a dataset `X_train_poly` from `X_train` with added $x^2$ terms for `temp`, `hour`, and `humidity`. Are these polynomial terms important? How does predicted ridership change as each of `temp`, `hour`, and `humidity` increase?\n",
    "\n",
    "**4.5** The strange coefficients from 4.2 could also come from _multicolinearity_, where one or more predictors capture the same information as existing predictors. Why can multicolinearity lead to erroneous coefficient values? Create a temporary dataset `X_train_drop` that drops the following 'redundant' predictors from `X_train`:  `workingday` `atemp` `spring` `summer` and `fall`. Fit a multiple linear regression model to `X_train_drop`. Are the estimates more sensible in this model?\n"
   ]
  },
  {
   "cell_type": "markdown",
   "metadata": {
    "colab_type": "text",
    "id": "L_lWDprsc8zT"
   },
   "source": [
    "### Answers\n",
    "#### **4.1** Use statsmodels to fit a multiple linear regression model to the training set using all the predictors (no interactions or polynomial terms) to predict `counts`, and report its $R^2$ score on the train and test sets."
   ]
  },
  {
   "cell_type": "code",
   "execution_count": 26,
   "metadata": {
    "colab": {
     "base_uri": "https://localhost:8080/",
     "height": 1023
    },
    "colab_type": "code",
    "id": "IKzwaki0c8zb",
    "outputId": "1d8f33fe-88e9-48e3-bb17-301e5995f68d"
   },
   "outputs": [],
   "source": [
    "# your code here\n",
    "y_train = BSS_train['counts']\n",
    "X_train = sm.add_constant(BSS_train.drop(columns=['counts']))\n",
    "model = OLS(y_train, X_train).fit()"
   ]
  },
  {
   "cell_type": "code",
   "execution_count": 27,
   "metadata": {
    "colab": {
     "base_uri": "https://localhost:8080/",
     "height": 1023
    },
    "colab_type": "code",
    "id": "IKzwaki0c8zb",
    "outputId": "1d8f33fe-88e9-48e3-bb17-301e5995f68d"
   },
   "outputs": [
    {
     "name": "stdout",
     "output_type": "stream",
     "text": [
      "R squared (train):  0.4065387827969087\n",
      "R squared (test):  0.40638554757102274\n"
     ]
    }
   ],
   "source": [
    "# your code here\n",
    "y_train_pred = model.predict(X_train)\n",
    "\n",
    "print(\"R squared (train): \", r2_score(y_train, y_train_pred))\n",
    "\n",
    "y_test = BSS_test['counts']\n",
    "X_test = sm.add_constant(BSS_test.drop(columns=['counts']))\n",
    "y_test_pred = model.predict(X_test)\n",
    "\n",
    "print(\"R squared (test): \", r2_score(y_test, y_test_pred))"
   ]
  },
  {
   "cell_type": "markdown",
   "metadata": {
    "colab_type": "text",
    "id": "_ngJuC6Fc8zy"
   },
   "source": [
    "#### **4.2** Examine the estimated coefficients and report which ones are statistically significant at a significance level of 5% (p-value < 0.05). You should see some strange values, such as `July` producing 93 fewer rentals, all else equal, than January."
   ]
  },
  {
   "cell_type": "code",
   "execution_count": 28,
   "metadata": {
    "colab": {
     "base_uri": "https://localhost:8080/",
     "height": 181
    },
    "colab_type": "code",
    "id": "nqAwvdpwc8z0",
    "outputId": "eafb2a5f-bab6-499f-c2b6-eaa067f396c0"
   },
   "outputs": [
    {
     "name": "stdout",
     "output_type": "stream",
     "text": [
      "Significant coefficients (p < 0.05)\n",
      "const          1.470264e-02\n",
      "hour           0.000000e+00\n",
      "holiday        6.095043e-03\n",
      "year          6.205883e-218\n",
      "workingday     3.905740e-05\n",
      "temp           4.767468e-14\n",
      "hum           2.797780e-149\n",
      "windspeed      3.628163e-02\n",
      "spring         6.082058e-09\n",
      "summer         7.609902e-04\n",
      "fall           6.106365e-20\n",
      "Apr            2.640964e-05\n",
      "May            1.592599e-03\n",
      "Jun            8.447047e-10\n",
      "Jul            1.110753e-14\n",
      "Aug            5.685359e-07\n",
      "Nov            6.619949e-03\n",
      "Sat            6.490550e-04\n",
      "Cloudy         1.926802e-02\n",
      "Snow           4.454966e-09\n",
      "dtype: float64\n"
     ]
    }
   ],
   "source": [
    "# your code here\n",
    "print(\"Significant coefficients (p < 0.05)\")\n",
    "print(model.pvalues[model.pvalues <0.05])"
   ]
  },
  {
   "cell_type": "markdown",
   "metadata": {
    "colab_type": "text",
    "id": "uD-U_jUynl8U"
   },
   "source": [
    "#### **4.3** To diagnose the model, make two plots: first a histogram of the residuals, and second a plot of the residuals of the fitted model ${e} = y - \\hat{y}$ as a function of the predicted value $\\hat{y}$. Draw a horizontal line denoting the zero residual value on the Y-axis. What do the plots reveal about the OLS assumptions (linearity, constant variance, and normality)?"
   ]
  },
  {
   "cell_type": "code",
   "execution_count": 29,
   "metadata": {
    "colab": {
     "base_uri": "https://localhost:8080/",
     "height": 335
    },
    "colab_type": "code",
    "id": "oHsvLM0QqBwK",
    "outputId": "8c13863c-e393-427c-d77d-7c0066b59c4e"
   },
   "outputs": [
    {
     "data": {
      "image/png": "[encoded data removed]",
      "text/plain": [
       "<Figure size 576x396 with 1 Axes>"
      ]
     },
     "metadata": {},
     "output_type": "display_data"
    }
   ],
   "source": [
    "# your code here\n",
    "plt.hist(y_train - y_train_pred)\n",
    "plt.xlabel('residuals')\n",
    "plt.xlabel('count')\n",
    "plt.title('Distribution of residuals')\n",
    "plt.show()"
   ]
  },
  {
   "cell_type": "code",
   "execution_count": 30,
   "metadata": {},
   "outputs": [
    {
     "data": {
      "image/png": "[encoded data removed]",
      "text/plain": [
       "<Figure size 576x396 with 1 Axes>"
      ]
     },
     "metadata": {},
     "output_type": "display_data"
    }
   ],
   "source": [
    "plt.scatter(y_train_pred,y_train-y_train_pred)\n",
    "plt.hlines(0,-200,500)\n",
    "plt.xlabel('predicted value')\n",
    "plt.ylabel('residual')\n",
    "plt.title(\"Residual as a Function of the Predicted Value\")\n",
    "plt.show()"
   ]
  },
  {
   "cell_type": "markdown",
   "metadata": {
    "colab_type": "text",
    "id": "CI-_PyAdqCNE"
   },
   "source": [
    "*your answer here* \n",
    "\n",
    "**Linearity:** The data might not be linear because, when we examine the histogram of the residuals, we see that the distribution is not symmetric. The distribution is right skewed, meaning that the data is likely convex.\n",
    "\n",
    "**Constant Variance**: The variance is not constant because, when we examine the plot of the residuals vs. predicted value, we see that the residuals have higher variance for higher predicted values. If the variance were constant, we would expect the variance of the residuals to be equally distributed at all predicted values.\n",
    "\n",
    "**Normality:** The distribution of residuals is not normal because it is asymetric. This means that our normality assumption also does not hold"
   ]
  },
  {
   "cell_type": "markdown",
   "metadata": {
    "colab_type": "text",
    "id": "qWqdXMNpnqVG"
   },
   "source": [
    "#### **4.4** Perhaps we can do better via a model with polynomial terms. Build a dataset `X_train_poly` from `X_train` with added $x^2$ terms for `temp`, `hour`, and `humidity`. Are these polynomial terms important? How does predicted ridership change as each of `temp`, `hour`, and `humidity` increase?"
   ]
  },
  {
   "cell_type": "code",
   "execution_count": 31,
   "metadata": {
    "colab": {
     "base_uri": "https://localhost:8080/",
     "height": 1106
    },
    "colab_type": "code",
    "id": "biVeiXYwnkzL",
    "outputId": "e3628270-7b19-4970-b802-29adf0c9920c"
   },
   "outputs": [
    {
     "data": {
      "text/html": [
       "<table class=\"simpletable\">\n",
       "<caption>OLS Regression Results</caption>\n",
       "<tr>\n",
       "  <th>Dep. Variable:</th>         <td>counts</td>      <th>  R-squared:         </th> <td>   0.501</td> \n",
       "</tr>\n",
       "<tr>\n",
       "  <th>Model:</th>                   <td>OLS</td>       <th>  Adj. R-squared:    </th> <td>   0.500</td> \n",
       "</tr>\n",
       "<tr>\n",
       "  <th>Method:</th>             <td>Least Squares</td>  <th>  F-statistic:       </th> <td>   421.8</td> \n",
       "</tr>\n",
       "<tr>\n",
       "  <th>Date:</th>             <td>Mon, 01 Oct 2018</td> <th>  Prob (F-statistic):</th>  <td>  0.00</td>  \n",
       "</tr>\n",
       "<tr>\n",
       "  <th>Time:</th>                 <td>16:48:07</td>     <th>  Log-Likelihood:    </th> <td> -87102.</td> \n",
       "</tr>\n",
       "<tr>\n",
       "  <th>No. Observations:</th>      <td> 13903</td>      <th>  AIC:               </th> <td>1.743e+05</td>\n",
       "</tr>\n",
       "<tr>\n",
       "  <th>Df Residuals:</th>          <td> 13869</td>      <th>  BIC:               </th> <td>1.745e+05</td>\n",
       "</tr>\n",
       "<tr>\n",
       "  <th>Df Model:</th>              <td>    33</td>      <th>                     </th>     <td> </td>    \n",
       "</tr>\n",
       "<tr>\n",
       "  <th>Covariance Type:</th>      <td>nonrobust</td>    <th>                     </th>     <td> </td>    \n",
       "</tr>\n",
       "</table>\n",
       "<table class=\"simpletable\">\n",
       "<tr>\n",
       "        <td></td>          <th>coef</th>     <th>std err</th>      <th>t</th>      <th>P>|t|</th>  <th>[0.025</th>    <th>0.975]</th>  \n",
       "</tr>\n",
       "<tr>\n",
       "  <th>const</th>        <td> -185.2131</td> <td>   14.016</td> <td>  -13.214</td> <td> 0.000</td> <td> -212.687</td> <td> -157.739</td>\n",
       "</tr>\n",
       "<tr>\n",
       "  <th>hour</th>         <td>   39.5786</td> <td>    0.662</td> <td>   59.777</td> <td> 0.000</td> <td>   38.281</td> <td>   40.876</td>\n",
       "</tr>\n",
       "<tr>\n",
       "  <th>holiday</th>      <td>  -13.0061</td> <td>    6.056</td> <td>   -2.148</td> <td> 0.032</td> <td>  -24.877</td> <td>   -1.135</td>\n",
       "</tr>\n",
       "<tr>\n",
       "  <th>year</th>         <td>   81.0305</td> <td>    2.199</td> <td>   36.854</td> <td> 0.000</td> <td>   76.721</td> <td>   85.340</td>\n",
       "</tr>\n",
       "<tr>\n",
       "  <th>workingday</th>   <td>   13.2894</td> <td>    2.524</td> <td>    5.265</td> <td> 0.000</td> <td>    8.342</td> <td>   18.237</td>\n",
       "</tr>\n",
       "<tr>\n",
       "  <th>temp</th>         <td>  132.7247</td> <td>   58.298</td> <td>    2.277</td> <td> 0.023</td> <td>   18.452</td> <td>  246.997</td>\n",
       "</tr>\n",
       "<tr>\n",
       "  <th>atemp</th>        <td>   67.4957</td> <td>   43.532</td> <td>    1.550</td> <td> 0.121</td> <td>  -17.833</td> <td>  152.824</td>\n",
       "</tr>\n",
       "<tr>\n",
       "  <th>hum</th>          <td>   11.8636</td> <td>   36.114</td> <td>    0.329</td> <td> 0.743</td> <td>  -58.925</td> <td>   82.652</td>\n",
       "</tr>\n",
       "<tr>\n",
       "  <th>windspeed</th>    <td>   -6.9100</td> <td>    9.920</td> <td>   -0.697</td> <td> 0.486</td> <td>  -26.354</td> <td>   12.534</td>\n",
       "</tr>\n",
       "<tr>\n",
       "  <th>spring</th>       <td>   43.7116</td> <td>    6.805</td> <td>    6.424</td> <td> 0.000</td> <td>   30.374</td> <td>   57.049</td>\n",
       "</tr>\n",
       "<tr>\n",
       "  <th>summer</th>       <td>   33.9087</td> <td>    8.066</td> <td>    4.204</td> <td> 0.000</td> <td>   18.098</td> <td>   49.720</td>\n",
       "</tr>\n",
       "<tr>\n",
       "  <th>fall</th>         <td>   72.1937</td> <td>    6.878</td> <td>   10.497</td> <td> 0.000</td> <td>   58.712</td> <td>   85.675</td>\n",
       "</tr>\n",
       "<tr>\n",
       "  <th>Feb</th>          <td>    1.6487</td> <td>    5.538</td> <td>    0.298</td> <td> 0.766</td> <td>   -9.207</td> <td>   12.504</td>\n",
       "</tr>\n",
       "<tr>\n",
       "  <th>Mar</th>          <td>    9.5583</td> <td>    6.304</td> <td>    1.516</td> <td> 0.129</td> <td>   -2.798</td> <td>   21.914</td>\n",
       "</tr>\n",
       "<tr>\n",
       "  <th>Apr</th>          <td>  -10.7152</td> <td>    9.238</td> <td>   -1.160</td> <td> 0.246</td> <td>  -28.824</td> <td>    7.393</td>\n",
       "</tr>\n",
       "<tr>\n",
       "  <th>May</th>          <td>   -2.7388</td> <td>    9.789</td> <td>   -0.280</td> <td> 0.780</td> <td>  -21.926</td> <td>   16.449</td>\n",
       "</tr>\n",
       "<tr>\n",
       "  <th>Jun</th>          <td>  -23.0368</td> <td>    9.922</td> <td>   -2.322</td> <td> 0.020</td> <td>  -42.485</td> <td>   -3.588</td>\n",
       "</tr>\n",
       "<tr>\n",
       "  <th>Jul</th>          <td>  -53.5230</td> <td>   11.163</td> <td>   -4.795</td> <td> 0.000</td> <td>  -75.405</td> <td>  -31.642</td>\n",
       "</tr>\n",
       "<tr>\n",
       "  <th>Aug</th>          <td>  -23.6944</td> <td>   10.965</td> <td>   -2.161</td> <td> 0.031</td> <td>  -45.188</td> <td>   -2.201</td>\n",
       "</tr>\n",
       "<tr>\n",
       "  <th>Sept</th>         <td>   10.9055</td> <td>    9.887</td> <td>    1.103</td> <td> 0.270</td> <td>   -8.475</td> <td>   30.286</td>\n",
       "</tr>\n",
       "<tr>\n",
       "  <th>Oct</th>          <td>    2.8452</td> <td>    9.262</td> <td>    0.307</td> <td> 0.759</td> <td>  -15.309</td> <td>   20.999</td>\n",
       "</tr>\n",
       "<tr>\n",
       "  <th>Nov</th>          <td>  -16.5926</td> <td>    8.897</td> <td>   -1.865</td> <td> 0.062</td> <td>  -34.032</td> <td>    0.846</td>\n",
       "</tr>\n",
       "<tr>\n",
       "  <th>Dec</th>          <td>   -6.9106</td> <td>    7.078</td> <td>   -0.976</td> <td> 0.329</td> <td>  -20.784</td> <td>    6.963</td>\n",
       "</tr>\n",
       "<tr>\n",
       "  <th>Mon</th>          <td>   -2.4620</td> <td>    2.731</td> <td>   -0.901</td> <td> 0.367</td> <td>   -7.816</td> <td>    2.892</td>\n",
       "</tr>\n",
       "<tr>\n",
       "  <th>Tue</th>          <td>   -3.8629</td> <td>    2.943</td> <td>   -1.313</td> <td> 0.189</td> <td>   -9.631</td> <td>    1.905</td>\n",
       "</tr>\n",
       "<tr>\n",
       "  <th>Wed</th>          <td>    2.1275</td> <td>    2.920</td> <td>    0.729</td> <td> 0.466</td> <td>   -3.596</td> <td>    7.851</td>\n",
       "</tr>\n",
       "<tr>\n",
       "  <th>Thu</th>          <td>   -0.2540</td> <td>    2.922</td> <td>   -0.087</td> <td> 0.931</td> <td>   -5.981</td> <td>    5.473</td>\n",
       "</tr>\n",
       "<tr>\n",
       "  <th>Fri</th>          <td>    4.7347</td> <td>    2.923</td> <td>    1.620</td> <td> 0.105</td> <td>   -0.995</td> <td>   10.465</td>\n",
       "</tr>\n",
       "<tr>\n",
       "  <th>Sat</th>          <td>   16.7983</td> <td>    4.021</td> <td>    4.178</td> <td> 0.000</td> <td>    8.917</td> <td>   24.679</td>\n",
       "</tr>\n",
       "<tr>\n",
       "  <th>Cloudy</th>       <td>   -8.4327</td> <td>    2.680</td> <td>   -3.146</td> <td> 0.002</td> <td>  -13.687</td> <td>   -3.179</td>\n",
       "</tr>\n",
       "<tr>\n",
       "  <th>Snow</th>         <td>  -47.3269</td> <td>    4.583</td> <td>  -10.327</td> <td> 0.000</td> <td>  -56.310</td> <td>  -38.344</td>\n",
       "</tr>\n",
       "<tr>\n",
       "  <th>Storm</th>        <td>   35.5800</td> <td>   90.246</td> <td>    0.394</td> <td> 0.693</td> <td> -141.315</td> <td>  212.475</td>\n",
       "</tr>\n",
       "<tr>\n",
       "  <th>temp_squared</th> <td>  109.4437</td> <td>   36.470</td> <td>    3.001</td> <td> 0.003</td> <td>   37.958</td> <td>  180.930</td>\n",
       "</tr>\n",
       "<tr>\n",
       "  <th>hour_squared</th> <td>   -1.3570</td> <td>    0.027</td> <td>  -50.567</td> <td> 0.000</td> <td>   -1.410</td> <td>   -1.304</td>\n",
       "</tr>\n",
       "<tr>\n",
       "  <th>hum_squared</th>  <td> -108.7057</td> <td>   28.944</td> <td>   -3.756</td> <td> 0.000</td> <td> -165.440</td> <td>  -51.971</td>\n",
       "</tr>\n",
       "</table>\n",
       "<table class=\"simpletable\">\n",
       "<tr>\n",
       "  <th>Omnibus:</th>       <td>2946.543</td> <th>  Durbin-Watson:     </th> <td>   0.890</td>\n",
       "</tr>\n",
       "<tr>\n",
       "  <th>Prob(Omnibus):</th>  <td> 0.000</td>  <th>  Jarque-Bera (JB):  </th> <td>6094.033</td>\n",
       "</tr>\n",
       "<tr>\n",
       "  <th>Skew:</th>           <td> 1.253</td>  <th>  Prob(JB):          </th> <td>    0.00</td>\n",
       "</tr>\n",
       "<tr>\n",
       "  <th>Kurtosis:</th>       <td> 5.059</td>  <th>  Cond. No.          </th> <td>1.35e+16</td>\n",
       "</tr>\n",
       "</table><br/><br/>Warnings:<br/>[1] Standard Errors assume that the covariance matrix of the errors is correctly specified.<br/>[2] The smallest eigenvalue is 4.56e-24. This might indicate that there are<br/>strong multicollinearity problems or that the design matrix is singular."
      ],
      "text/plain": [
       "<class 'statsmodels.iolib.summary.Summary'>\n",
       "\"\"\"\n",
       "                            OLS Regression Results                            \n",
       "==============================================================================\n",
       "Dep. Variable:                 counts   R-squared:                       0.501\n",
       "Model:                            OLS   Adj. R-squared:                  0.500\n",
       "Method:                 Least Squares   F-statistic:                     421.8\n",
       "Date:                Mon, 01 Oct 2018   Prob (F-statistic):               0.00\n",
       "Time:                        16:48:07   Log-Likelihood:                -87102.\n",
       "No. Observations:               13903   AIC:                         1.743e+05\n",
       "Df Residuals:                   13869   BIC:                         1.745e+05\n",
       "Df Model:                          33                                         \n",
       "Covariance Type:            nonrobust                                         \n",
       "================================================================================\n",
       "                   coef    std err          t      P>|t|      [0.025      0.975]\n",
       "--------------------------------------------------------------------------------\n",
       "const         -185.2131     14.016    -13.214      0.000    -212.687    -157.739\n",
       "hour            39.5786      0.662     59.777      0.000      38.281      40.876\n",
       "holiday        -13.0061      6.056     -2.148      0.032     -24.877      -1.135\n",
       "year            81.0305      2.199     36.854      0.000      76.721      85.340\n",
       "workingday      13.2894      2.524      5.265      0.000       8.342      18.237\n",
       "temp           132.7247     58.298      2.277      0.023      18.452     246.997\n",
       "atemp           67.4957     43.532      1.550      0.121     -17.833     152.824\n",
       "hum             11.8636     36.114      0.329      0.743     -58.925      82.652\n",
       "windspeed       -6.9100      9.920     -0.697      0.486     -26.354      12.534\n",
       "spring          43.7116      6.805      6.424      0.000      30.374      57.049\n",
       "summer          33.9087      8.066      4.204      0.000      18.098      49.720\n",
       "fall            72.1937      6.878     10.497      0.000      58.712      85.675\n",
       "Feb              1.6487      5.538      0.298      0.766      -9.207      12.504\n",
       "Mar              9.5583      6.304      1.516      0.129      -2.798      21.914\n",
       "Apr            -10.7152      9.238     -1.160      0.246     -28.824       7.393\n",
       "May             -2.7388      9.789     -0.280      0.780     -21.926      16.449\n",
       "Jun            -23.0368      9.922     -2.322      0.020     -42.485      -3.588\n",
       "Jul            -53.5230     11.163     -4.795      0.000     -75.405     -31.642\n",
       "Aug            -23.6944     10.965     -2.161      0.031     -45.188      -2.201\n",
       "Sept            10.9055      9.887      1.103      0.270      -8.475      30.286\n",
       "Oct              2.8452      9.262      0.307      0.759     -15.309      20.999\n",
       "Nov            -16.5926      8.897     -1.865      0.062     -34.032       0.846\n",
       "Dec             -6.9106      7.078     -0.976      0.329     -20.784       6.963\n",
       "Mon             -2.4620      2.731     -0.901      0.367      -7.816       2.892\n",
       "Tue             -3.8629      2.943     -1.313      0.189      -9.631       1.905\n",
       "Wed              2.1275      2.920      0.729      0.466      -3.596       7.851\n",
       "Thu             -0.2540      2.922     -0.087      0.931      -5.981       5.473\n",
       "Fri              4.7347      2.923      1.620      0.105      -0.995      10.465\n",
       "Sat             16.7983      4.021      4.178      0.000       8.917      24.679\n",
       "Cloudy          -8.4327      2.680     -3.146      0.002     -13.687      -3.179\n",
       "Snow           -47.3269      4.583    -10.327      0.000     -56.310     -38.344\n",
       "Storm           35.5800     90.246      0.394      0.693    -141.315     212.475\n",
       "temp_squared   109.4437     36.470      3.001      0.003      37.958     180.930\n",
       "hour_squared    -1.3570      0.027    -50.567      0.000      -1.410      -1.304\n",
       "hum_squared   -108.7057     28.944     -3.756      0.000    -165.440     -51.971\n",
       "==============================================================================\n",
       "Omnibus:                     2946.543   Durbin-Watson:                   0.890\n",
       "Prob(Omnibus):                  0.000   Jarque-Bera (JB):             6094.033\n",
       "Skew:                           1.253   Prob(JB):                         0.00\n",
       "Kurtosis:                       5.059   Cond. No.                     1.35e+16\n",
       "==============================================================================\n",
       "\n",
       "Warnings:\n",
       "[1] Standard Errors assume that the covariance matrix of the errors is correctly specified.\n",
       "[2] The smallest eigenvalue is 4.56e-24. This might indicate that there are\n",
       "strong multicollinearity problems or that the design matrix is singular.\n",
       "\"\"\""
      ]
     },
     "execution_count": 31,
     "metadata": {},
     "output_type": "execute_result"
    }
   ],
   "source": [
    "# your code here\n",
    "# your code here\n",
    "BSS_train_poly = BSS_train.copy()\n",
    "BSS_train_poly['temp_squared'] = BSS_train_poly.temp ** 2\n",
    "BSS_train_poly['hour_squared'] = BSS_train_poly.hour ** 2\n",
    "BSS_train_poly['hum_squared'] = BSS_train_poly.hum ** 2\n",
    "\n",
    "y_train_poly = BSS_train_poly['counts']\n",
    "X_train_poly = sm.add_constant(BSS_train_poly.drop(columns=['counts']))\n",
    "poly_model = OLS(y_train_poly, X_train_poly).fit()\n",
    "\n",
    "poly_model.summary()"
   ]
  },
  {
   "cell_type": "markdown",
   "metadata": {},
   "source": [
    "*your answer here*\n",
    "\n",
    "Temperature:\n",
    "$$\n",
    "y = \\ldots+109t^2+132t+\\ldots\n",
    "$$\n",
    "y is a convex function of temperature.\n",
    "\n",
    "Hour:\n",
    "$$\n",
    "y = \\ldots-1.35h^2+39h+\\ldots\n",
    "$$\n",
    "y is a concave function of hour.\n",
    "\n",
    "Humidity\n",
    "$$\n",
    "y = \\ldots-108h^2+11h+\\ldots\n",
    "$$\n",
    "y is a concave function of humidity\n",
    "\n"
   ]
  },
  {
   "cell_type": "markdown",
   "metadata": {
    "colab_type": "text",
    "id": "nprVPIbmc80L"
   },
   "source": [
    "#### **4.5** The strange coefficients from 4.2 could also come from _multicolinearity_, where one or more predictors capture the same information as existing predictors. Why can multicolinearity lead to erroneous coefficient values? Create a temporary dataset `X_train_drop` that drops the following 'redundant' predictors from `X_train`:  `workingday` `atemp` `spring` `summer` and `fall`. Fit a multiple linear regression model to `X_train_drop`. Are the estimates more sensible in this model?"
   ]
  },
  {
   "cell_type": "code",
   "execution_count": 32,
   "metadata": {
    "colab": {
     "base_uri": "https://localhost:8080/",
     "height": 981
    },
    "colab_type": "code",
    "id": "p46k3AfFc80L",
    "outputId": "3f0ae636-8488-4eee-ac6d-7bacfaf9e957"
   },
   "outputs": [
    {
     "data": {
      "text/html": [
       "<table class=\"simpletable\">\n",
       "<caption>OLS Regression Results</caption>\n",
       "<tr>\n",
       "  <th>Dep. Variable:</th>         <td>counts</td>      <th>  R-squared:         </th> <td>   0.402</td> \n",
       "</tr>\n",
       "<tr>\n",
       "  <th>Model:</th>                   <td>OLS</td>       <th>  Adj. R-squared:    </th> <td>   0.401</td> \n",
       "</tr>\n",
       "<tr>\n",
       "  <th>Method:</th>             <td>Least Squares</td>  <th>  F-statistic:       </th> <td>   358.3</td> \n",
       "</tr>\n",
       "<tr>\n",
       "  <th>Date:</th>             <td>Mon, 01 Oct 2018</td> <th>  Prob (F-statistic):</th>  <td>  0.00</td>  \n",
       "</tr>\n",
       "<tr>\n",
       "  <th>Time:</th>                 <td>16:48:07</td>     <th>  Log-Likelihood:    </th> <td> -88363.</td> \n",
       "</tr>\n",
       "<tr>\n",
       "  <th>No. Observations:</th>      <td> 13903</td>      <th>  AIC:               </th> <td>1.768e+05</td>\n",
       "</tr>\n",
       "<tr>\n",
       "  <th>Df Residuals:</th>          <td> 13876</td>      <th>  BIC:               </th> <td>1.770e+05</td>\n",
       "</tr>\n",
       "<tr>\n",
       "  <th>Df Model:</th>              <td>    26</td>      <th>                     </th>     <td> </td>    \n",
       "</tr>\n",
       "<tr>\n",
       "  <th>Covariance Type:</th>      <td>nonrobust</td>    <th>                     </th>     <td> </td>    \n",
       "</tr>\n",
       "</table>\n",
       "<table class=\"simpletable\">\n",
       "<tr>\n",
       "      <td></td>         <th>coef</th>     <th>std err</th>      <th>t</th>      <th>P>|t|</th>  <th>[0.025</th>    <th>0.975]</th>  \n",
       "</tr>\n",
       "<tr>\n",
       "  <th>const</th>     <td>  -20.0627</td> <td>    8.541</td> <td>   -2.349</td> <td> 0.019</td> <td>  -36.805</td> <td>   -3.321</td>\n",
       "</tr>\n",
       "<tr>\n",
       "  <th>hour</th>      <td>    7.2378</td> <td>    0.185</td> <td>   39.095</td> <td> 0.000</td> <td>    6.875</td> <td>    7.601</td>\n",
       "</tr>\n",
       "<tr>\n",
       "  <th>holiday</th>   <td>  -35.8906</td> <td>    7.395</td> <td>   -4.854</td> <td> 0.000</td> <td>  -50.385</td> <td>  -21.396</td>\n",
       "</tr>\n",
       "<tr>\n",
       "  <th>year</th>      <td>   76.3039</td> <td>    2.389</td> <td>   31.945</td> <td> 0.000</td> <td>   71.622</td> <td>   80.986</td>\n",
       "</tr>\n",
       "<tr>\n",
       "  <th>temp</th>      <td>  406.2359</td> <td>   13.279</td> <td>   30.593</td> <td> 0.000</td> <td>  380.208</td> <td>  432.264</td>\n",
       "</tr>\n",
       "<tr>\n",
       "  <th>hum</th>       <td> -201.5103</td> <td>    7.800</td> <td>  -25.835</td> <td> 0.000</td> <td> -216.799</td> <td> -186.221</td>\n",
       "</tr>\n",
       "<tr>\n",
       "  <th>windspeed</th> <td>   11.9668</td> <td>   10.448</td> <td>    1.145</td> <td> 0.252</td> <td>   -8.512</td> <td>   32.446</td>\n",
       "</tr>\n",
       "<tr>\n",
       "  <th>Feb</th>       <td>   -7.6897</td> <td>    5.986</td> <td>   -1.285</td> <td> 0.199</td> <td>  -19.422</td> <td>    4.043</td>\n",
       "</tr>\n",
       "<tr>\n",
       "  <th>Mar</th>       <td>    2.8889</td> <td>    6.158</td> <td>    0.469</td> <td> 0.639</td> <td>   -9.182</td> <td>   14.960</td>\n",
       "</tr>\n",
       "<tr>\n",
       "  <th>Apr</th>       <td>    1.0237</td> <td>    6.594</td> <td>    0.155</td> <td> 0.877</td> <td>  -11.902</td> <td>   13.950</td>\n",
       "</tr>\n",
       "<tr>\n",
       "  <th>May</th>       <td>    7.2426</td> <td>    7.613</td> <td>    0.951</td> <td> 0.341</td> <td>   -7.680</td> <td>   22.165</td>\n",
       "</tr>\n",
       "<tr>\n",
       "  <th>Jun</th>       <td>  -30.6611</td> <td>    8.346</td> <td>   -3.674</td> <td> 0.000</td> <td>  -47.020</td> <td>  -14.302</td>\n",
       "</tr>\n",
       "<tr>\n",
       "  <th>Jul</th>       <td>  -67.7620</td> <td>    9.062</td> <td>   -7.477</td> <td> 0.000</td> <td>  -85.525</td> <td>  -49.999</td>\n",
       "</tr>\n",
       "<tr>\n",
       "  <th>Aug</th>       <td>  -34.2712</td> <td>    8.628</td> <td>   -3.972</td> <td> 0.000</td> <td>  -51.183</td> <td>  -17.359</td>\n",
       "</tr>\n",
       "<tr>\n",
       "  <th>Sept</th>      <td>   20.6406</td> <td>    7.882</td> <td>    2.619</td> <td> 0.009</td> <td>    5.191</td> <td>   36.090</td>\n",
       "</tr>\n",
       "<tr>\n",
       "  <th>Oct</th>       <td>   50.7025</td> <td>    6.823</td> <td>    7.431</td> <td> 0.000</td> <td>   37.329</td> <td>   64.076</td>\n",
       "</tr>\n",
       "<tr>\n",
       "  <th>Nov</th>       <td>   42.3211</td> <td>    6.111</td> <td>    6.926</td> <td> 0.000</td> <td>   30.344</td> <td>   54.299</td>\n",
       "</tr>\n",
       "<tr>\n",
       "  <th>Dec</th>       <td>   34.2134</td> <td>    5.952</td> <td>    5.748</td> <td> 0.000</td> <td>   22.546</td> <td>   45.881</td>\n",
       "</tr>\n",
       "<tr>\n",
       "  <th>Mon</th>       <td>    9.2907</td> <td>    4.570</td> <td>    2.033</td> <td> 0.042</td> <td>    0.333</td> <td>   18.248</td>\n",
       "</tr>\n",
       "<tr>\n",
       "  <th>Tue</th>       <td>    4.7929</td> <td>    4.442</td> <td>    1.079</td> <td> 0.281</td> <td>   -3.914</td> <td>   13.500</td>\n",
       "</tr>\n",
       "<tr>\n",
       "  <th>Wed</th>       <td>   13.2143</td> <td>    4.417</td> <td>    2.992</td> <td> 0.003</td> <td>    4.557</td> <td>   21.871</td>\n",
       "</tr>\n",
       "<tr>\n",
       "  <th>Thu</th>       <td>    8.0051</td> <td>    4.445</td> <td>    1.801</td> <td> 0.072</td> <td>   -0.708</td> <td>   16.718</td>\n",
       "</tr>\n",
       "<tr>\n",
       "  <th>Fri</th>       <td>   13.0474</td> <td>    4.429</td> <td>    2.946</td> <td> 0.003</td> <td>    4.367</td> <td>   21.728</td>\n",
       "</tr>\n",
       "<tr>\n",
       "  <th>Sat</th>       <td>   14.1461</td> <td>    4.397</td> <td>    3.217</td> <td> 0.001</td> <td>    5.528</td> <td>   22.764</td>\n",
       "</tr>\n",
       "<tr>\n",
       "  <th>Cloudy</th>    <td>    6.7192</td> <td>    2.909</td> <td>    2.310</td> <td> 0.021</td> <td>    1.018</td> <td>   12.421</td>\n",
       "</tr>\n",
       "<tr>\n",
       "  <th>Snow</th>      <td>  -29.1668</td> <td>    4.828</td> <td>   -6.041</td> <td> 0.000</td> <td>  -38.631</td> <td>  -19.703</td>\n",
       "</tr>\n",
       "<tr>\n",
       "  <th>Storm</th>     <td>   40.3125</td> <td>   98.759</td> <td>    0.408</td> <td> 0.683</td> <td> -153.267</td> <td>  233.893</td>\n",
       "</tr>\n",
       "</table>\n",
       "<table class=\"simpletable\">\n",
       "<tr>\n",
       "  <th>Omnibus:</th>       <td>2850.389</td> <th>  Durbin-Watson:     </th> <td>   0.749</td>\n",
       "</tr>\n",
       "<tr>\n",
       "  <th>Prob(Omnibus):</th>  <td> 0.000</td>  <th>  Jarque-Bera (JB):  </th> <td>5702.134</td>\n",
       "</tr>\n",
       "<tr>\n",
       "  <th>Skew:</th>           <td> 1.231</td>  <th>  Prob(JB):          </th> <td>    0.00</td>\n",
       "</tr>\n",
       "<tr>\n",
       "  <th>Kurtosis:</th>       <td> 4.944</td>  <th>  Cond. No.          </th> <td>1.13e+03</td>\n",
       "</tr>\n",
       "</table><br/><br/>Warnings:<br/>[1] Standard Errors assume that the covariance matrix of the errors is correctly specified.<br/>[2] The condition number is large, 1.13e+03. This might indicate that there are<br/>strong multicollinearity or other numerical problems."
      ],
      "text/plain": [
       "<class 'statsmodels.iolib.summary.Summary'>\n",
       "\"\"\"\n",
       "                            OLS Regression Results                            \n",
       "==============================================================================\n",
       "Dep. Variable:                 counts   R-squared:                       0.402\n",
       "Model:                            OLS   Adj. R-squared:                  0.401\n",
       "Method:                 Least Squares   F-statistic:                     358.3\n",
       "Date:                Mon, 01 Oct 2018   Prob (F-statistic):               0.00\n",
       "Time:                        16:48:07   Log-Likelihood:                -88363.\n",
       "No. Observations:               13903   AIC:                         1.768e+05\n",
       "Df Residuals:                   13876   BIC:                         1.770e+05\n",
       "Df Model:                          26                                         \n",
       "Covariance Type:            nonrobust                                         \n",
       "==============================================================================\n",
       "                 coef    std err          t      P>|t|      [0.025      0.975]\n",
       "------------------------------------------------------------------------------\n",
       "const        -20.0627      8.541     -2.349      0.019     -36.805      -3.321\n",
       "hour           7.2378      0.185     39.095      0.000       6.875       7.601\n",
       "holiday      -35.8906      7.395     -4.854      0.000     -50.385     -21.396\n",
       "year          76.3039      2.389     31.945      0.000      71.622      80.986\n",
       "temp         406.2359     13.279     30.593      0.000     380.208     432.264\n",
       "hum         -201.5103      7.800    -25.835      0.000    -216.799    -186.221\n",
       "windspeed     11.9668     10.448      1.145      0.252      -8.512      32.446\n",
       "Feb           -7.6897      5.986     -1.285      0.199     -19.422       4.043\n",
       "Mar            2.8889      6.158      0.469      0.639      -9.182      14.960\n",
       "Apr            1.0237      6.594      0.155      0.877     -11.902      13.950\n",
       "May            7.2426      7.613      0.951      0.341      -7.680      22.165\n",
       "Jun          -30.6611      8.346     -3.674      0.000     -47.020     -14.302\n",
       "Jul          -67.7620      9.062     -7.477      0.000     -85.525     -49.999\n",
       "Aug          -34.2712      8.628     -3.972      0.000     -51.183     -17.359\n",
       "Sept          20.6406      7.882      2.619      0.009       5.191      36.090\n",
       "Oct           50.7025      6.823      7.431      0.000      37.329      64.076\n",
       "Nov           42.3211      6.111      6.926      0.000      30.344      54.299\n",
       "Dec           34.2134      5.952      5.748      0.000      22.546      45.881\n",
       "Mon            9.2907      4.570      2.033      0.042       0.333      18.248\n",
       "Tue            4.7929      4.442      1.079      0.281      -3.914      13.500\n",
       "Wed           13.2143      4.417      2.992      0.003       4.557      21.871\n",
       "Thu            8.0051      4.445      1.801      0.072      -0.708      16.718\n",
       "Fri           13.0474      4.429      2.946      0.003       4.367      21.728\n",
       "Sat           14.1461      4.397      3.217      0.001       5.528      22.764\n",
       "Cloudy         6.7192      2.909      2.310      0.021       1.018      12.421\n",
       "Snow         -29.1668      4.828     -6.041      0.000     -38.631     -19.703\n",
       "Storm         40.3125     98.759      0.408      0.683    -153.267     233.893\n",
       "==============================================================================\n",
       "Omnibus:                     2850.389   Durbin-Watson:                   0.749\n",
       "Prob(Omnibus):                  0.000   Jarque-Bera (JB):             5702.134\n",
       "Skew:                           1.231   Prob(JB):                         0.00\n",
       "Kurtosis:                       4.944   Cond. No.                     1.13e+03\n",
       "==============================================================================\n",
       "\n",
       "Warnings:\n",
       "[1] Standard Errors assume that the covariance matrix of the errors is correctly specified.\n",
       "[2] The condition number is large, 1.13e+03. This might indicate that there are\n",
       "strong multicollinearity or other numerical problems.\n",
       "\"\"\""
      ]
     },
     "execution_count": 32,
     "metadata": {},
     "output_type": "execute_result"
    }
   ],
   "source": [
    "# your code here\n",
    "# your code here\n",
    "y_train = BSS_train['counts']\n",
    "X_train = sm.add_constant(BSS_train.drop(columns=['counts','workingday','atemp', 'spring', 'summer', 'fall']))\n",
    "model = OLS(y_train, X_train).fit()\n",
    "model.summary()"
   ]
  },
  {
   "cell_type": "markdown",
   "metadata": {
    "colab_type": "text",
    "id": "mhKEQxfDc80h"
   },
   "source": [
    "*your answer here*\n",
    "The output is slightly more sensible although july is still negative. Multicollinearity can lead to bad coefficient estimates because (1) the matrix inversion necessary to calculate the coefficients is unstable and (2) the standard error on these coefficients increase because it there isn't a unique minimization of the loss function."
   ]
  },
  {
   "cell_type": "markdown",
   "metadata": {
    "colab_type": "text",
    "id": "DjzKvaT9c80m"
   },
   "source": [
    "<div class='exercise'><b> Question 5: Subset Selection </b> </div>\n",
    "Perhaps we can automate finding a good set of predictors. This question focuses on forward stepwise selection, where predictors are added to the model one by one.\n",
    "\n",
    "**5.1** Implement forward step-wise selection to select a minimal subset of predictors that are related to the response variable. Run your code on the richest dataset, `X_train_poly`, and determine which predictors are selected.\n",
    "\n",
    "We require that you implement the method **from scratch**. You may use the Bayesian Information Criterion (BIC) to choose the best subset size. \n",
    "\n",
    "<i>Note: Implementing from scratch means you are not allowed to use a solution provided by a Python library, such as sklearn or use a solution you found on the internet. You have to write all of the code on your own. However you MAY use the `model.bic` attribute implemented in statsmodels.</i>\n",
    "\n",
    "**5.2** Does forward selection eliminate one or more of the colinear predictors we dropped in Question  4.5 (`workingday` `atemp` `spring` `summer` and `fall`)? If any of the five predictors are not dropped, explain why.\n",
    "\n",
    "**5.3** Fit the linear regression model using the identified subset of predictors to the training set. How do the train and test $R^2$ scores for this fitted step-wise model compare with the train and test $R^2$ scores from the polynomial model fitted in Question 4.4?"
   ]
  },
  {
   "cell_type": "markdown",
   "metadata": {
    "colab_type": "text",
    "id": "0Nooig1lc80n"
   },
   "source": [
    "### Answers"
   ]
  },
  {
   "cell_type": "markdown",
   "metadata": {
    "colab_type": "text",
    "id": "3uIyUQgZc80q"
   },
   "source": [
    "#### **5.1** Implement forward step-wise selection to select a minimal subset of predictors that are related to the response variable. Run your code on the richest dataset, `X_train_poly`, and determine which predictors are selected.\n",
    "\n",
    "#### We require that you implement the method **from scratch**. You may use the Bayesian Information Criterion (BIC) to choose the best subset size. \n",
    "\n",
    "#### <i>Note: Implementing from scratch means you are not allowed to use a solution provided by a Python library, such as sklearn or use a solution you found on the internet. You have to write all of the code on your own. However you MAY use the `model.bic` attribute implemented in statsmodels.</i>"
   ]
  },
  {
   "cell_type": "code",
   "execution_count": 33,
   "metadata": {
    "colab": {},
    "colab_type": "code",
    "id": "iZpFWE0ic80u"
   },
   "outputs": [],
   "source": [
    "# your code here\n",
    "def forward_selection(X,y):\n",
    "    included_columns = []\n",
    "    remaining_columns = list(X.columns)\n",
    "    best_overall_bic = float(\"inf\") \n",
    "    for idx in range(len(X.columns)):\n",
    "        best_bic = float(\"inf\")\n",
    "        for col in remaining_columns:\n",
    "            columns_to_try = included_columns.copy()\n",
    "            columns_to_try.append(col)\n",
    "            model = OLS(y, X[columns_to_try]).fit()\n",
    "            if best_bic > model.bic:\n",
    "                best_bic = model.bic\n",
    "                best_col = col\n",
    "                best_model = model\n",
    "        included_columns.append(best_col)\n",
    "        remaining_columns.remove(best_col)\n",
    "        if best_overall_bic > best_bic:\n",
    "            best_overall_bic = best_bic\n",
    "            best_overall_model = best_model\n",
    "            best_columns = included_columns.copy()\n",
    "    return best_overall_model, best_columns"
   ]
  },
  {
   "cell_type": "code",
   "execution_count": 34,
   "metadata": {
    "colab": {
     "base_uri": "https://localhost:8080/",
     "height": 235
    },
    "colab_type": "code",
    "id": "ELAaceUpc80w",
    "outputId": "c3d6adf3-00a1-4dab-d89b-13997516b3be"
   },
   "outputs": [],
   "source": [
    "# your code here\n",
    "best_model, best_columns = forward_selection(X_train_poly,y_train)"
   ]
  },
  {
   "cell_type": "code",
   "execution_count": 35,
   "metadata": {
    "colab": {
     "base_uri": "https://localhost:8080/",
     "height": 235
    },
    "colab_type": "code",
    "id": "ELAaceUpc80w",
    "outputId": "c3d6adf3-00a1-4dab-d89b-13997516b3be"
   },
   "outputs": [
    {
     "name": "stdout",
     "output_type": "stream",
     "text": [
      "Covariates with lowest BIC:\n",
      "['temp', 'hour', 'hum_squared', 'hour_squared', 'year', 'const', 'fall', 'Jul', 'Snow', 'spring', 'Sept', 'holiday', 'Cloudy']\n"
     ]
    }
   ],
   "source": [
    "print(\"Covariates with lowest BIC:\")\n",
    "print(best_columns)"
   ]
  },
  {
   "cell_type": "markdown",
   "metadata": {
    "colab_type": "text",
    "id": "uxHuVKiZc81C"
   },
   "source": [
    "#### **5.2** Does forward selection eliminate one or more of the colinear predictors we dropped in Question  4.5 (`workingday` `atemp` `spring` `summer` and `fall`)? If any of the five predictors are not dropped, explain why."
   ]
  },
  {
   "cell_type": "markdown",
   "metadata": {
    "colab_type": "text",
    "id": "UsA0MaIZc81D"
   },
   "source": [
    "*your answer here*\n",
    "\n",
    "All of the predictors except spring are dropped. Spring wasn't dropped because the variable(s) it was collinear with was(were) dropped instead."
   ]
  },
  {
   "cell_type": "markdown",
   "metadata": {
    "colab_type": "text",
    "id": "wJrtlhoRc81V"
   },
   "source": [
    "#### **5.3** Fit the linear regression model using the identified subset of predictors to the training set. How do the train and test $R^2$ scores for this fitted step-wise model compare with the train and test $R^2$ scores from the polynomial model fitted in Question 4.4?"
   ]
  },
  {
   "cell_type": "code",
   "execution_count": 36,
   "metadata": {
    "colab": {
     "base_uri": "https://localhost:8080/",
     "height": 53
    },
    "colab_type": "code",
    "id": "rCmSY4qxc81a",
    "outputId": "ae742b58-3493-4d9d-8fd0-b8d3dfcc45e7"
   },
   "outputs": [
    {
     "name": "stdout",
     "output_type": "stream",
     "text": [
      "R squared (stepwise selection, train):  0.5009041530600604\n",
      "R squared (stepwise selection, test):  0.49653116472922565\n",
      "R squared (stepwise selection, train):  0.4979274979859656\n",
      "R squared (stepwise selection, test):  0.4943103235558135\n"
     ]
    }
   ],
   "source": [
    "# your code here\n",
    "y_train = BSS_train['counts']\n",
    "y_test = BSS_test['counts']\n",
    "\n",
    "BSS_test_poly = BSS_test.copy()\n",
    "BSS_test_poly['temp_squared'] = BSS_test_poly.temp ** 2\n",
    "BSS_test_poly['hour_squared'] = BSS_test_poly.hour ** 2\n",
    "BSS_test_poly['hum_squared'] = BSS_test_poly.hum ** 2\n",
    "X_test_poly = sm.add_constant(BSS_test_poly.drop(columns=['counts']))\n",
    "\n",
    "print(\"R squared (stepwise selection, train): \",r2_score(y_train, poly_model.predict(X_train_poly)))\n",
    "print(\"R squared (stepwise selection, test): \",r2_score(y_test, poly_model.predict(X_test_poly)))\n",
    "print(\"R squared (stepwise selection, train): \",r2_score(y_train, best_model.predict(X_train_poly[best_columns])))\n",
    "print(\"R squared (stepwise selection, test): \",r2_score(y_test, best_model.predict(X_test_poly[best_columns])))"
   ]
  },
  {
   "cell_type": "code",
   "execution_count": 37,
   "metadata": {},
   "outputs": [
    {
     "data": {
      "text/html": [
       "<table class=\"simpletable\">\n",
       "<caption>OLS Regression Results</caption>\n",
       "<tr>\n",
       "  <th>Dep. Variable:</th>         <td>counts</td>      <th>  R-squared:         </th> <td>   0.501</td> \n",
       "</tr>\n",
       "<tr>\n",
       "  <th>Model:</th>                   <td>OLS</td>       <th>  Adj. R-squared:    </th> <td>   0.500</td> \n",
       "</tr>\n",
       "<tr>\n",
       "  <th>Method:</th>             <td>Least Squares</td>  <th>  F-statistic:       </th> <td>   421.8</td> \n",
       "</tr>\n",
       "<tr>\n",
       "  <th>Date:</th>             <td>Mon, 01 Oct 2018</td> <th>  Prob (F-statistic):</th>  <td>  0.00</td>  \n",
       "</tr>\n",
       "<tr>\n",
       "  <th>Time:</th>                 <td>16:48:10</td>     <th>  Log-Likelihood:    </th> <td> -87102.</td> \n",
       "</tr>\n",
       "<tr>\n",
       "  <th>No. Observations:</th>      <td> 13903</td>      <th>  AIC:               </th> <td>1.743e+05</td>\n",
       "</tr>\n",
       "<tr>\n",
       "  <th>Df Residuals:</th>          <td> 13869</td>      <th>  BIC:               </th> <td>1.745e+05</td>\n",
       "</tr>\n",
       "<tr>\n",
       "  <th>Df Model:</th>              <td>    33</td>      <th>                     </th>     <td> </td>    \n",
       "</tr>\n",
       "<tr>\n",
       "  <th>Covariance Type:</th>      <td>nonrobust</td>    <th>                     </th>     <td> </td>    \n",
       "</tr>\n",
       "</table>\n",
       "<table class=\"simpletable\">\n",
       "<tr>\n",
       "        <td></td>          <th>coef</th>     <th>std err</th>      <th>t</th>      <th>P>|t|</th>  <th>[0.025</th>    <th>0.975]</th>  \n",
       "</tr>\n",
       "<tr>\n",
       "  <th>const</th>        <td> -185.2131</td> <td>   14.016</td> <td>  -13.214</td> <td> 0.000</td> <td> -212.687</td> <td> -157.739</td>\n",
       "</tr>\n",
       "<tr>\n",
       "  <th>hour</th>         <td>   39.5786</td> <td>    0.662</td> <td>   59.777</td> <td> 0.000</td> <td>   38.281</td> <td>   40.876</td>\n",
       "</tr>\n",
       "<tr>\n",
       "  <th>holiday</th>      <td>  -13.0061</td> <td>    6.056</td> <td>   -2.148</td> <td> 0.032</td> <td>  -24.877</td> <td>   -1.135</td>\n",
       "</tr>\n",
       "<tr>\n",
       "  <th>year</th>         <td>   81.0305</td> <td>    2.199</td> <td>   36.854</td> <td> 0.000</td> <td>   76.721</td> <td>   85.340</td>\n",
       "</tr>\n",
       "<tr>\n",
       "  <th>workingday</th>   <td>   13.2894</td> <td>    2.524</td> <td>    5.265</td> <td> 0.000</td> <td>    8.342</td> <td>   18.237</td>\n",
       "</tr>\n",
       "<tr>\n",
       "  <th>temp</th>         <td>  132.7247</td> <td>   58.298</td> <td>    2.277</td> <td> 0.023</td> <td>   18.452</td> <td>  246.997</td>\n",
       "</tr>\n",
       "<tr>\n",
       "  <th>atemp</th>        <td>   67.4957</td> <td>   43.532</td> <td>    1.550</td> <td> 0.121</td> <td>  -17.833</td> <td>  152.824</td>\n",
       "</tr>\n",
       "<tr>\n",
       "  <th>hum</th>          <td>   11.8636</td> <td>   36.114</td> <td>    0.329</td> <td> 0.743</td> <td>  -58.925</td> <td>   82.652</td>\n",
       "</tr>\n",
       "<tr>\n",
       "  <th>windspeed</th>    <td>   -6.9100</td> <td>    9.920</td> <td>   -0.697</td> <td> 0.486</td> <td>  -26.354</td> <td>   12.534</td>\n",
       "</tr>\n",
       "<tr>\n",
       "  <th>spring</th>       <td>   43.7116</td> <td>    6.805</td> <td>    6.424</td> <td> 0.000</td> <td>   30.374</td> <td>   57.049</td>\n",
       "</tr>\n",
       "<tr>\n",
       "  <th>summer</th>       <td>   33.9087</td> <td>    8.066</td> <td>    4.204</td> <td> 0.000</td> <td>   18.098</td> <td>   49.720</td>\n",
       "</tr>\n",
       "<tr>\n",
       "  <th>fall</th>         <td>   72.1937</td> <td>    6.878</td> <td>   10.497</td> <td> 0.000</td> <td>   58.712</td> <td>   85.675</td>\n",
       "</tr>\n",
       "<tr>\n",
       "  <th>Feb</th>          <td>    1.6487</td> <td>    5.538</td> <td>    0.298</td> <td> 0.766</td> <td>   -9.207</td> <td>   12.504</td>\n",
       "</tr>\n",
       "<tr>\n",
       "  <th>Mar</th>          <td>    9.5583</td> <td>    6.304</td> <td>    1.516</td> <td> 0.129</td> <td>   -2.798</td> <td>   21.914</td>\n",
       "</tr>\n",
       "<tr>\n",
       "  <th>Apr</th>          <td>  -10.7152</td> <td>    9.238</td> <td>   -1.160</td> <td> 0.246</td> <td>  -28.824</td> <td>    7.393</td>\n",
       "</tr>\n",
       "<tr>\n",
       "  <th>May</th>          <td>   -2.7388</td> <td>    9.789</td> <td>   -0.280</td> <td> 0.780</td> <td>  -21.926</td> <td>   16.449</td>\n",
       "</tr>\n",
       "<tr>\n",
       "  <th>Jun</th>          <td>  -23.0368</td> <td>    9.922</td> <td>   -2.322</td> <td> 0.020</td> <td>  -42.485</td> <td>   -3.588</td>\n",
       "</tr>\n",
       "<tr>\n",
       "  <th>Jul</th>          <td>  -53.5230</td> <td>   11.163</td> <td>   -4.795</td> <td> 0.000</td> <td>  -75.405</td> <td>  -31.642</td>\n",
       "</tr>\n",
       "<tr>\n",
       "  <th>Aug</th>          <td>  -23.6944</td> <td>   10.965</td> <td>   -2.161</td> <td> 0.031</td> <td>  -45.188</td> <td>   -2.201</td>\n",
       "</tr>\n",
       "<tr>\n",
       "  <th>Sept</th>         <td>   10.9055</td> <td>    9.887</td> <td>    1.103</td> <td> 0.270</td> <td>   -8.475</td> <td>   30.286</td>\n",
       "</tr>\n",
       "<tr>\n",
       "  <th>Oct</th>          <td>    2.8452</td> <td>    9.262</td> <td>    0.307</td> <td> 0.759</td> <td>  -15.309</td> <td>   20.999</td>\n",
       "</tr>\n",
       "<tr>\n",
       "  <th>Nov</th>          <td>  -16.5926</td> <td>    8.897</td> <td>   -1.865</td> <td> 0.062</td> <td>  -34.032</td> <td>    0.846</td>\n",
       "</tr>\n",
       "<tr>\n",
       "  <th>Dec</th>          <td>   -6.9106</td> <td>    7.078</td> <td>   -0.976</td> <td> 0.329</td> <td>  -20.784</td> <td>    6.963</td>\n",
       "</tr>\n",
       "<tr>\n",
       "  <th>Mon</th>          <td>   -2.4620</td> <td>    2.731</td> <td>   -0.901</td> <td> 0.367</td> <td>   -7.816</td> <td>    2.892</td>\n",
       "</tr>\n",
       "<tr>\n",
       "  <th>Tue</th>          <td>   -3.8629</td> <td>    2.943</td> <td>   -1.313</td> <td> 0.189</td> <td>   -9.631</td> <td>    1.905</td>\n",
       "</tr>\n",
       "<tr>\n",
       "  <th>Wed</th>          <td>    2.1275</td> <td>    2.920</td> <td>    0.729</td> <td> 0.466</td> <td>   -3.596</td> <td>    7.851</td>\n",
       "</tr>\n",
       "<tr>\n",
       "  <th>Thu</th>          <td>   -0.2540</td> <td>    2.922</td> <td>   -0.087</td> <td> 0.931</td> <td>   -5.981</td> <td>    5.473</td>\n",
       "</tr>\n",
       "<tr>\n",
       "  <th>Fri</th>          <td>    4.7347</td> <td>    2.923</td> <td>    1.620</td> <td> 0.105</td> <td>   -0.995</td> <td>   10.465</td>\n",
       "</tr>\n",
       "<tr>\n",
       "  <th>Sat</th>          <td>   16.7983</td> <td>    4.021</td> <td>    4.178</td> <td> 0.000</td> <td>    8.917</td> <td>   24.679</td>\n",
       "</tr>\n",
       "<tr>\n",
       "  <th>Cloudy</th>       <td>   -8.4327</td> <td>    2.680</td> <td>   -3.146</td> <td> 0.002</td> <td>  -13.687</td> <td>   -3.179</td>\n",
       "</tr>\n",
       "<tr>\n",
       "  <th>Snow</th>         <td>  -47.3269</td> <td>    4.583</td> <td>  -10.327</td> <td> 0.000</td> <td>  -56.310</td> <td>  -38.344</td>\n",
       "</tr>\n",
       "<tr>\n",
       "  <th>Storm</th>        <td>   35.5800</td> <td>   90.246</td> <td>    0.394</td> <td> 0.693</td> <td> -141.315</td> <td>  212.475</td>\n",
       "</tr>\n",
       "<tr>\n",
       "  <th>temp_squared</th> <td>  109.4437</td> <td>   36.470</td> <td>    3.001</td> <td> 0.003</td> <td>   37.958</td> <td>  180.930</td>\n",
       "</tr>\n",
       "<tr>\n",
       "  <th>hour_squared</th> <td>   -1.3570</td> <td>    0.027</td> <td>  -50.567</td> <td> 0.000</td> <td>   -1.410</td> <td>   -1.304</td>\n",
       "</tr>\n",
       "<tr>\n",
       "  <th>hum_squared</th>  <td> -108.7057</td> <td>   28.944</td> <td>   -3.756</td> <td> 0.000</td> <td> -165.440</td> <td>  -51.971</td>\n",
       "</tr>\n",
       "</table>\n",
       "<table class=\"simpletable\">\n",
       "<tr>\n",
       "  <th>Omnibus:</th>       <td>2946.543</td> <th>  Durbin-Watson:     </th> <td>   0.890</td>\n",
       "</tr>\n",
       "<tr>\n",
       "  <th>Prob(Omnibus):</th>  <td> 0.000</td>  <th>  Jarque-Bera (JB):  </th> <td>6094.033</td>\n",
       "</tr>\n",
       "<tr>\n",
       "  <th>Skew:</th>           <td> 1.253</td>  <th>  Prob(JB):          </th> <td>    0.00</td>\n",
       "</tr>\n",
       "<tr>\n",
       "  <th>Kurtosis:</th>       <td> 5.059</td>  <th>  Cond. No.          </th> <td>1.35e+16</td>\n",
       "</tr>\n",
       "</table><br/><br/>Warnings:<br/>[1] Standard Errors assume that the covariance matrix of the errors is correctly specified.<br/>[2] The smallest eigenvalue is 4.56e-24. This might indicate that there are<br/>strong multicollinearity problems or that the design matrix is singular."
      ],
      "text/plain": [
       "<class 'statsmodels.iolib.summary.Summary'>\n",
       "\"\"\"\n",
       "                            OLS Regression Results                            \n",
       "==============================================================================\n",
       "Dep. Variable:                 counts   R-squared:                       0.501\n",
       "Model:                            OLS   Adj. R-squared:                  0.500\n",
       "Method:                 Least Squares   F-statistic:                     421.8\n",
       "Date:                Mon, 01 Oct 2018   Prob (F-statistic):               0.00\n",
       "Time:                        16:48:10   Log-Likelihood:                -87102.\n",
       "No. Observations:               13903   AIC:                         1.743e+05\n",
       "Df Residuals:                   13869   BIC:                         1.745e+05\n",
       "Df Model:                          33                                         \n",
       "Covariance Type:            nonrobust                                         \n",
       "================================================================================\n",
       "                   coef    std err          t      P>|t|      [0.025      0.975]\n",
       "--------------------------------------------------------------------------------\n",
       "const         -185.2131     14.016    -13.214      0.000    -212.687    -157.739\n",
       "hour            39.5786      0.662     59.777      0.000      38.281      40.876\n",
       "holiday        -13.0061      6.056     -2.148      0.032     -24.877      -1.135\n",
       "year            81.0305      2.199     36.854      0.000      76.721      85.340\n",
       "workingday      13.2894      2.524      5.265      0.000       8.342      18.237\n",
       "temp           132.7247     58.298      2.277      0.023      18.452     246.997\n",
       "atemp           67.4957     43.532      1.550      0.121     -17.833     152.824\n",
       "hum             11.8636     36.114      0.329      0.743     -58.925      82.652\n",
       "windspeed       -6.9100      9.920     -0.697      0.486     -26.354      12.534\n",
       "spring          43.7116      6.805      6.424      0.000      30.374      57.049\n",
       "summer          33.9087      8.066      4.204      0.000      18.098      49.720\n",
       "fall            72.1937      6.878     10.497      0.000      58.712      85.675\n",
       "Feb              1.6487      5.538      0.298      0.766      -9.207      12.504\n",
       "Mar              9.5583      6.304      1.516      0.129      -2.798      21.914\n",
       "Apr            -10.7152      9.238     -1.160      0.246     -28.824       7.393\n",
       "May             -2.7388      9.789     -0.280      0.780     -21.926      16.449\n",
       "Jun            -23.0368      9.922     -2.322      0.020     -42.485      -3.588\n",
       "Jul            -53.5230     11.163     -4.795      0.000     -75.405     -31.642\n",
       "Aug            -23.6944     10.965     -2.161      0.031     -45.188      -2.201\n",
       "Sept            10.9055      9.887      1.103      0.270      -8.475      30.286\n",
       "Oct              2.8452      9.262      0.307      0.759     -15.309      20.999\n",
       "Nov            -16.5926      8.897     -1.865      0.062     -34.032       0.846\n",
       "Dec             -6.9106      7.078     -0.976      0.329     -20.784       6.963\n",
       "Mon             -2.4620      2.731     -0.901      0.367      -7.816       2.892\n",
       "Tue             -3.8629      2.943     -1.313      0.189      -9.631       1.905\n",
       "Wed              2.1275      2.920      0.729      0.466      -3.596       7.851\n",
       "Thu             -0.2540      2.922     -0.087      0.931      -5.981       5.473\n",
       "Fri              4.7347      2.923      1.620      0.105      -0.995      10.465\n",
       "Sat             16.7983      4.021      4.178      0.000       8.917      24.679\n",
       "Cloudy          -8.4327      2.680     -3.146      0.002     -13.687      -3.179\n",
       "Snow           -47.3269      4.583    -10.327      0.000     -56.310     -38.344\n",
       "Storm           35.5800     90.246      0.394      0.693    -141.315     212.475\n",
       "temp_squared   109.4437     36.470      3.001      0.003      37.958     180.930\n",
       "hour_squared    -1.3570      0.027    -50.567      0.000      -1.410      -1.304\n",
       "hum_squared   -108.7057     28.944     -3.756      0.000    -165.440     -51.971\n",
       "==============================================================================\n",
       "Omnibus:                     2946.543   Durbin-Watson:                   0.890\n",
       "Prob(Omnibus):                  0.000   Jarque-Bera (JB):             6094.033\n",
       "Skew:                           1.253   Prob(JB):                         0.00\n",
       "Kurtosis:                       5.059   Cond. No.                     1.35e+16\n",
       "==============================================================================\n",
       "\n",
       "Warnings:\n",
       "[1] Standard Errors assume that the covariance matrix of the errors is correctly specified.\n",
       "[2] The smallest eigenvalue is 4.56e-24. This might indicate that there are\n",
       "strong multicollinearity problems or that the design matrix is singular.\n",
       "\"\"\""
      ]
     },
     "execution_count": 37,
     "metadata": {},
     "output_type": "execute_result"
    }
   ],
   "source": [
    "poly_model.summary()"
   ]
  },
  {
   "cell_type": "code",
   "execution_count": 38,
   "metadata": {},
   "outputs": [
    {
     "data": {
      "text/html": [
       "<table class=\"simpletable\">\n",
       "<caption>OLS Regression Results</caption>\n",
       "<tr>\n",
       "  <th>Dep. Variable:</th>         <td>counts</td>      <th>  R-squared:         </th> <td>   0.498</td> \n",
       "</tr>\n",
       "<tr>\n",
       "  <th>Model:</th>                   <td>OLS</td>       <th>  Adj. R-squared:    </th> <td>   0.497</td> \n",
       "</tr>\n",
       "<tr>\n",
       "  <th>Method:</th>             <td>Least Squares</td>  <th>  F-statistic:       </th> <td>   1148.</td> \n",
       "</tr>\n",
       "<tr>\n",
       "  <th>Date:</th>             <td>Mon, 01 Oct 2018</td> <th>  Prob (F-statistic):</th>  <td>  0.00</td>  \n",
       "</tr>\n",
       "<tr>\n",
       "  <th>Time:</th>                 <td>16:48:10</td>     <th>  Log-Likelihood:    </th> <td> -87144.</td> \n",
       "</tr>\n",
       "<tr>\n",
       "  <th>No. Observations:</th>      <td> 13903</td>      <th>  AIC:               </th> <td>1.743e+05</td>\n",
       "</tr>\n",
       "<tr>\n",
       "  <th>Df Residuals:</th>          <td> 13890</td>      <th>  BIC:               </th> <td>1.744e+05</td>\n",
       "</tr>\n",
       "<tr>\n",
       "  <th>Df Model:</th>              <td>    12</td>      <th>                     </th>     <td> </td>    \n",
       "</tr>\n",
       "<tr>\n",
       "  <th>Covariance Type:</th>      <td>nonrobust</td>    <th>                     </th>     <td> </td>    \n",
       "</tr>\n",
       "</table>\n",
       "<table class=\"simpletable\">\n",
       "<tr>\n",
       "        <td></td>          <th>coef</th>     <th>std err</th>      <th>t</th>      <th>P>|t|</th>  <th>[0.025</th>    <th>0.975]</th>  \n",
       "</tr>\n",
       "<tr>\n",
       "  <th>temp</th>         <td>  310.9097</td> <td>    6.890</td> <td>   45.125</td> <td> 0.000</td> <td>  297.404</td> <td>  324.415</td>\n",
       "</tr>\n",
       "<tr>\n",
       "  <th>hour</th>         <td>   39.5749</td> <td>    0.647</td> <td>   61.177</td> <td> 0.000</td> <td>   38.307</td> <td>   40.843</td>\n",
       "</tr>\n",
       "<tr>\n",
       "  <th>hum_squared</th>  <td>  -97.3713</td> <td>    5.534</td> <td>  -17.595</td> <td> 0.000</td> <td> -108.219</td> <td>  -86.524</td>\n",
       "</tr>\n",
       "<tr>\n",
       "  <th>hour_squared</th> <td>   -1.3582</td> <td>    0.026</td> <td>  -51.420</td> <td> 0.000</td> <td>   -1.410</td> <td>   -1.306</td>\n",
       "</tr>\n",
       "<tr>\n",
       "  <th>year</th>         <td>   80.3153</td> <td>    2.182</td> <td>   36.804</td> <td> 0.000</td> <td>   76.038</td> <td>   84.593</td>\n",
       "</tr>\n",
       "<tr>\n",
       "  <th>const</th>        <td> -189.1223</td> <td>    5.283</td> <td>  -35.795</td> <td> 0.000</td> <td> -199.479</td> <td> -178.766</td>\n",
       "</tr>\n",
       "<tr>\n",
       "  <th>fall</th>         <td>   56.0162</td> <td>    2.797</td> <td>   20.026</td> <td> 0.000</td> <td>   50.533</td> <td>   61.499</td>\n",
       "</tr>\n",
       "<tr>\n",
       "  <th>Jul</th>          <td>  -25.6107</td> <td>    4.679</td> <td>   -5.473</td> <td> 0.000</td> <td>  -34.783</td> <td>  -16.438</td>\n",
       "</tr>\n",
       "<tr>\n",
       "  <th>Snow</th>         <td>  -48.1081</td> <td>    4.447</td> <td>  -10.819</td> <td> 0.000</td> <td>  -56.824</td> <td>  -39.392</td>\n",
       "</tr>\n",
       "<tr>\n",
       "  <th>spring</th>       <td>   25.8171</td> <td>    2.910</td> <td>    8.873</td> <td> 0.000</td> <td>   20.114</td> <td>   31.520</td>\n",
       "</tr>\n",
       "<tr>\n",
       "  <th>Sept</th>         <td>   29.2489</td> <td>    4.302</td> <td>    6.798</td> <td> 0.000</td> <td>   20.816</td> <td>   37.682</td>\n",
       "</tr>\n",
       "<tr>\n",
       "  <th>holiday</th>      <td>  -27.4291</td> <td>    6.432</td> <td>   -4.265</td> <td> 0.000</td> <td>  -40.037</td> <td>  -14.822</td>\n",
       "</tr>\n",
       "<tr>\n",
       "  <th>Cloudy</th>       <td>   -8.4814</td> <td>    2.666</td> <td>   -3.181</td> <td> 0.001</td> <td>  -13.707</td> <td>   -3.256</td>\n",
       "</tr>\n",
       "</table>\n",
       "<table class=\"simpletable\">\n",
       "<tr>\n",
       "  <th>Omnibus:</th>       <td>2990.921</td> <th>  Durbin-Watson:     </th> <td>   0.884</td>\n",
       "</tr>\n",
       "<tr>\n",
       "  <th>Prob(Omnibus):</th>  <td> 0.000</td>  <th>  Jarque-Bera (JB):  </th> <td>6264.394</td>\n",
       "</tr>\n",
       "<tr>\n",
       "  <th>Skew:</th>           <td> 1.265</td>  <th>  Prob(JB):          </th> <td>    0.00</td>\n",
       "</tr>\n",
       "<tr>\n",
       "  <th>Kurtosis:</th>       <td> 5.102</td>  <th>  Cond. No.          </th> <td>1.85e+03</td>\n",
       "</tr>\n",
       "</table><br/><br/>Warnings:<br/>[1] Standard Errors assume that the covariance matrix of the errors is correctly specified.<br/>[2] The condition number is large, 1.85e+03. This might indicate that there are<br/>strong multicollinearity or other numerical problems."
      ],
      "text/plain": [
       "<class 'statsmodels.iolib.summary.Summary'>\n",
       "\"\"\"\n",
       "                            OLS Regression Results                            \n",
       "==============================================================================\n",
       "Dep. Variable:                 counts   R-squared:                       0.498\n",
       "Model:                            OLS   Adj. R-squared:                  0.497\n",
       "Method:                 Least Squares   F-statistic:                     1148.\n",
       "Date:                Mon, 01 Oct 2018   Prob (F-statistic):               0.00\n",
       "Time:                        16:48:10   Log-Likelihood:                -87144.\n",
       "No. Observations:               13903   AIC:                         1.743e+05\n",
       "Df Residuals:                   13890   BIC:                         1.744e+05\n",
       "Df Model:                          12                                         \n",
       "Covariance Type:            nonrobust                                         \n",
       "================================================================================\n",
       "                   coef    std err          t      P>|t|      [0.025      0.975]\n",
       "--------------------------------------------------------------------------------\n",
       "temp           310.9097      6.890     45.125      0.000     297.404     324.415\n",
       "hour            39.5749      0.647     61.177      0.000      38.307      40.843\n",
       "hum_squared    -97.3713      5.534    -17.595      0.000    -108.219     -86.524\n",
       "hour_squared    -1.3582      0.026    -51.420      0.000      -1.410      -1.306\n",
       "year            80.3153      2.182     36.804      0.000      76.038      84.593\n",
       "const         -189.1223      5.283    -35.795      0.000    -199.479    -178.766\n",
       "fall            56.0162      2.797     20.026      0.000      50.533      61.499\n",
       "Jul            -25.6107      4.679     -5.473      0.000     -34.783     -16.438\n",
       "Snow           -48.1081      4.447    -10.819      0.000     -56.824     -39.392\n",
       "spring          25.8171      2.910      8.873      0.000      20.114      31.520\n",
       "Sept            29.2489      4.302      6.798      0.000      20.816      37.682\n",
       "holiday        -27.4291      6.432     -4.265      0.000     -40.037     -14.822\n",
       "Cloudy          -8.4814      2.666     -3.181      0.001     -13.707      -3.256\n",
       "==============================================================================\n",
       "Omnibus:                     2990.921   Durbin-Watson:                   0.884\n",
       "Prob(Omnibus):                  0.000   Jarque-Bera (JB):             6264.394\n",
       "Skew:                           1.265   Prob(JB):                         0.00\n",
       "Kurtosis:                       5.102   Cond. No.                     1.85e+03\n",
       "==============================================================================\n",
       "\n",
       "Warnings:\n",
       "[1] Standard Errors assume that the covariance matrix of the errors is correctly specified.\n",
       "[2] The condition number is large, 1.85e+03. This might indicate that there are\n",
       "strong multicollinearity or other numerical problems.\n",
       "\"\"\""
      ]
     },
     "execution_count": 38,
     "metadata": {},
     "output_type": "execute_result"
    }
   ],
   "source": [
    "best_model.summary()"
   ]
  },
  {
   "cell_type": "markdown",
   "metadata": {
    "colab_type": "text",
    "id": "wbZ6s57Bc81d"
   },
   "source": [
    "*your answer here*\n",
    "The performance of the two models are similar, but the model with covariates chosen through forward stepwise selection has much lower standard errors on the coefficients. This means that the degree to which each factor contributes to the outcome is much more certain, making this model more interpretable."
   ]
  },
  {
   "cell_type": "markdown",
   "metadata": {
    "colab_type": "text",
    "id": "PanzNDosc810"
   },
   "source": [
    "#  Written Report to the Administrators [20 pts]\n",
    "<br>\n",
    "\n",
    "<div class='exercise'> <b> Question 6 </b> </div>\n",
    "\n",
    "Write a short repost stating some of your findings on how the administrators can increase the bike share system's revenue. You might want to include suggestions such as what model to use to predict ridership, what additional services to provide, or when to give discounts, etc. \n",
    "Include your report as a pdf file in canvas. The report should not be longer than one page (300 words) and should include a maximum of 5 figures. "
   ]
  },
  {
   "cell_type": "markdown",
   "metadata": {
    "colab_type": "text",
    "id": "kBmZvyrAc811"
   },
   "source": [
    "#### Answers 6\n",
    "\n",
    "\n"
   ]
  },
  {
   "cell_type": "markdown",
   "metadata": {
    "colab_type": "text",
    "id": "6xeKgjkqc812"
   },
   "source": [
    "**Recommendation 1: Incentivize the casual riders to redistribute the bikes for the registered riders.**\n",
    "\n",
    "One of the challenges of bike share programs is ensuring that stations have enough docking stations and bikes for the supply and demand. Although we do not have access to the individual station data, there are nevertheless some actions you can take to ensure everyone can access/return a bike when they need.\n",
    "\n",
    "A key trend in your data is in the average number of riders per hour for both the casual and registered users (See Fig 1). The registered riders use the system to presumably commute to and from work. Peak times are 7am-9am and 4pm-7pm. The casual riders, who are most likely tourists, use the service most in between those times (11am-6pm).\n",
    "\n",
    "Since the casual riders may have less restricted schedules, you could incentivize them to move the bikes around during the day to prepare for evening rush hour. This could be done through financial discounts or suggested bike routes that may help them see interesting parts of DC while conveniently guiding them to return the bikes to where they're needed."
   ]
  },
  {
   "cell_type": "code",
   "execution_count": 39,
   "metadata": {
    "colab": {
     "base_uri": "https://localhost:8080/",
     "height": 677
    },
    "colab_type": "code",
    "id": "QdAAmsaUc813",
    "outputId": "bd979173-fe25-4d40-e82b-4ef99ab60305"
   },
   "outputs": [
    {
     "data": {
      "image/png": "[encoded data removed]",
      "text/plain": [
       "<Figure size 576x396 with 1 Axes>"
      ]
     },
     "metadata": {},
     "output_type": "display_data"
    }
   ],
   "source": [
    "# your code here\n",
    "# your code here\n",
    "rides_per_hour = df.groupby('hour').agg({\n",
    "    \"casual\" : 'mean',\n",
    "    'registered' : 'mean'\n",
    "})\n",
    "rides_per_hour.head()\n",
    "plt.scatter(rides_per_hour.index, rides_per_hour.casual, label = \"Casual Riders per Hour (mean)\")\n",
    "plt.scatter(rides_per_hour.index, rides_per_hour.registered, label = \"Registered Riders per Hour (mean)\")\n",
    "plt.xlabel('Hour')\n",
    "plt.ylabel('Rides on Average')\n",
    "plt.legend()\n",
    "plt.title('Fig 1: Number of Casual and Registered Riders Per Hour on Average')\n",
    "plt.show()"
   ]
  },
  {
   "cell_type": "markdown",
   "metadata": {
    "colab_type": "text",
    "id": "UU8GF7mZc815"
   },
   "source": [
    "**Recommendation 2: Using a Predictive Model to Help Registered Users Know Where to Get and Return Bikes**\n",
    "\n",
    "We have developed a predictive model that explains about half of the variance in your data (test set $R^2$ = 0.494). The model is a linear regression on most of your dataset with some additional terms added.\n",
    "\n",
    "One way in which you could use this model is to help registered riders know when to pick up and return their bikes during rush hour. If the model is predicting that the service will become heavily used within the next hour, you could send alerts to riders urging them to leave earlier. Conversely, if you expect the service to quiet down in the next hour, you could encourage the rider to wait a bit, thus making it more likely that a bike will be available. This could distribute use during your peak hours, meaning that it will be less likely that any station will be totally full or empty.\n",
    "\n",
    "Additionally, if you expect a day to be very popular with riders, you could set up a casual employment model (like uber) where individuals would move bikes to where they're most needed. While this likely would not be cost effective every day, the predictive model would help you know when to spend money on bike-movers. "
   ]
  },
  {
   "cell_type": "markdown",
   "metadata": {
    "colab_type": "text",
    "id": "B3NeXsrQc81-"
   },
   "source": [
    "*your answer here* \n",
    "\n",
    "**Recommendation 3: Investigate Boosting Ridership in Cooler Months**\n",
    "\n",
    "We used a method called forward stepwise variable selection to choose the variables that are most associated with number of rides per hour (see table below). The `coef` column represents the degree to which the covariate is associated with the number of rides. The greatest association is with the `temp` or temperature covariate. One potential opportunity is to see if there are ways to encourage people to bike as the temperature begins to drop. \n",
    "\n",
    "A final insight is that the year parameter is 80. This means that if the present trend continues, you can expect an increase of 80 rides/hour per year. The future is bright for the bike share!"
   ]
  },
  {
   "cell_type": "code",
   "execution_count": 40,
   "metadata": {},
   "outputs": [
    {
     "data": {
      "text/html": [
       "<table class=\"simpletable\">\n",
       "<tr>\n",
       "        <td></td>          <th>coef</th>     <th>std err</th>      <th>t</th>      <th>P>|t|</th>  <th>[0.025</th>    <th>0.975]</th>  \n",
       "</tr>\n",
       "<tr>\n",
       "  <th>temp</th>         <td>  310.9097</td> <td>    6.890</td> <td>   45.125</td> <td> 0.000</td> <td>  297.404</td> <td>  324.415</td>\n",
       "</tr>\n",
       "<tr>\n",
       "  <th>hour</th>         <td>   39.5749</td> <td>    0.647</td> <td>   61.177</td> <td> 0.000</td> <td>   38.307</td> <td>   40.843</td>\n",
       "</tr>\n",
       "<tr>\n",
       "  <th>hum_squared</th>  <td>  -97.3713</td> <td>    5.534</td> <td>  -17.595</td> <td> 0.000</td> <td> -108.219</td> <td>  -86.524</td>\n",
       "</tr>\n",
       "<tr>\n",
       "  <th>hour_squared</th> <td>   -1.3582</td> <td>    0.026</td> <td>  -51.420</td> <td> 0.000</td> <td>   -1.410</td> <td>   -1.306</td>\n",
       "</tr>\n",
       "<tr>\n",
       "  <th>year</th>         <td>   80.3153</td> <td>    2.182</td> <td>   36.804</td> <td> 0.000</td> <td>   76.038</td> <td>   84.593</td>\n",
       "</tr>\n",
       "<tr>\n",
       "  <th>const</th>        <td> -189.1223</td> <td>    5.283</td> <td>  -35.795</td> <td> 0.000</td> <td> -199.479</td> <td> -178.766</td>\n",
       "</tr>\n",
       "<tr>\n",
       "  <th>fall</th>         <td>   56.0162</td> <td>    2.797</td> <td>   20.026</td> <td> 0.000</td> <td>   50.533</td> <td>   61.499</td>\n",
       "</tr>\n",
       "<tr>\n",
       "  <th>Jul</th>          <td>  -25.6107</td> <td>    4.679</td> <td>   -5.473</td> <td> 0.000</td> <td>  -34.783</td> <td>  -16.438</td>\n",
       "</tr>\n",
       "<tr>\n",
       "  <th>Snow</th>         <td>  -48.1081</td> <td>    4.447</td> <td>  -10.819</td> <td> 0.000</td> <td>  -56.824</td> <td>  -39.392</td>\n",
       "</tr>\n",
       "<tr>\n",
       "  <th>spring</th>       <td>   25.8171</td> <td>    2.910</td> <td>    8.873</td> <td> 0.000</td> <td>   20.114</td> <td>   31.520</td>\n",
       "</tr>\n",
       "<tr>\n",
       "  <th>Sept</th>         <td>   29.2489</td> <td>    4.302</td> <td>    6.798</td> <td> 0.000</td> <td>   20.816</td> <td>   37.682</td>\n",
       "</tr>\n",
       "<tr>\n",
       "  <th>holiday</th>      <td>  -27.4291</td> <td>    6.432</td> <td>   -4.265</td> <td> 0.000</td> <td>  -40.037</td> <td>  -14.822</td>\n",
       "</tr>\n",
       "<tr>\n",
       "  <th>Cloudy</th>       <td>   -8.4814</td> <td>    2.666</td> <td>   -3.181</td> <td> 0.001</td> <td>  -13.707</td> <td>   -3.256</td>\n",
       "</tr>\n",
       "</table>"
      ],
      "text/plain": [
       "<class 'statsmodels.iolib.table.SimpleTable'>"
      ]
     },
     "execution_count": 40,
     "metadata": {},
     "output_type": "execute_result"
    }
   ],
   "source": [
    "best_model.summary().tables[1]"
   ]
  }
 ],
 "metadata": {
  "colab": {
   "collapsed_sections": [
    "NuMc7yPEc8wl",
    "tzCBgP6Xc8yQ",
    "xJRfJ-m8c8yR",
    "kBmZvyrAc811"
   ],
   "name": "cs109a_hw3_solutions_109.ipynb",
   "provenance": [],
   "version": "0.3.2"
  },
  "kernelspec": {
   "display_name": "Python [conda env:py36]",
   "language": "python",
   "name": "conda-env-py36-py"
  },
  "language_info": {
   "codemirror_mode": {
    "name": "ipython",
    "version": 3
   },
   "file_extension": ".py",
   "mimetype": "text/x-python",
   "name": "python",
   "nbconvert_exporter": "python",
   "pygments_lexer": "ipython3",
   "version": "3.6.6"
  }
 },
 "nbformat": 4,
 "nbformat_minor": 1
}
