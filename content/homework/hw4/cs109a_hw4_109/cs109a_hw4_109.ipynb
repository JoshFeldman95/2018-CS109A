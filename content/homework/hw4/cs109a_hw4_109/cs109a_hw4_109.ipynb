{
 "cells": [
  {
   "cell_type": "markdown",
   "metadata": {
    "colab_type": "text",
    "id": "uaoVZSrv48aE"
   },
   "source": [
    "# <img style=\"float: left; padding-right: 10px; width: 45px\" src=\"https://raw.githubusercontent.com/Harvard-IACS/2018-CS109A/master/content/styles/iacs.png\"> CS109A Introduction to Data Science: \n",
    "## Homework 4 - Regularization \n",
    "\n",
    "\n",
    "\n",
    "**Harvard University**<br/>\n",
    "**Fall 2018**<br/>\n",
    "**Instructors**: Pavlos Protopapas, Kevin Rader\n",
    "\n",
    "<hr style=\"height:2pt\">"
   ]
  },
  {
   "cell_type": "markdown",
   "metadata": {
    "colab_type": "text",
    "id": "9KsLD_en48aI"
   },
   "source": [
    "### INSTRUCTIONS\n",
    "\n",
    "- **This homework must be completed individually.**\n",
    "\n",
    "- To submit your assignment follow the instructions given in Canvas.\n",
    "- Restart the kernel and run the whole notebook again before you submit. \n",
    "- As much as possible, try and stick to the hints and functions we import at the top of the homework, as those are the ideas and tools the class supports and is aiming to teach. And if a problem specifies a particular library you're required to use that library, and possibly others from the import list.\n",
    "\n",
    "\n",
    "Names of people you have worked with goes here: "
   ]
  },
  {
   "cell_type": "markdown",
   "metadata": {},
   "source": []
  },
  {
   "cell_type": "markdown",
   "metadata": {
    "colab_type": "text",
    "id": "9KsLD_en48aI"
   },
   "source": [
    "<hr style=\"height:2pt\">"
   ]
  },
  {
   "cell_type": "code",
   "execution_count": 85,
   "metadata": {
    "colab": {
     "base_uri": "https://localhost:8080/",
     "height": 17
    },
    "colab_type": "code",
    "id": "O1guCDAx48aK",
    "outputId": "0aa1afea-ee13-46c0-cdf0-150d57fd1ad8"
   },
   "outputs": [
    {
     "data": {
      "text/html": [
       "<style>\n",
       "h1 { \n",
       "    padding-top: 25px;\n",
       "    padding-bottom: 25px;\n",
       "    text-align: left; \n",
       "    padding-left: 10px;\n",
       "    background-color: #DDDDDD; \n",
       "    color: black;\n",
       "}\n",
       "h2 { \n",
       "    padding-top: 10px;\n",
       "    padding-bottom: 10px;\n",
       "    text-align: left; \n",
       "    padding-left: 5px;\n",
       "    background-color: #EEEEEE; \n",
       "    color: black;\n",
       "}\n",
       "\n",
       "div.exercise {\n",
       "\tbackground-color: #ffcccc;\n",
       "\tborder-color: #E9967A; \t\n",
       "\tborder-left: 5px solid #800080; \n",
       "\tpadding: 0.5em;\n",
       "}\n",
       "div.theme {\n",
       "\tbackground-color: #DDDDDD;\n",
       "\tborder-color: #E9967A; \t\n",
       "\tborder-left: 5px solid #800080; \n",
       "\tpadding: 0.5em;\n",
       "\tfont-size: 18pt;\n",
       "}\n",
       "p.q1 { \n",
       "    padding-top: 5px;\n",
       "    padding-bottom: 5px;\n",
       "    text-align: left; \n",
       "    padding-left: 5px;\n",
       "    background-color: #EEEEEE; \n",
       "    color: black;\n",
       "}\n",
       "header {\n",
       "   padding-top: 35px;\n",
       "    padding-bottom: 35px;\n",
       "    text-align: left; \n",
       "    padding-left: 10px;\n",
       "    background-color: #DDDDDD; \n",
       "    color: black;\n",
       "}\n",
       "</style>\n",
       "\n"
      ],
      "text/plain": [
       "<IPython.core.display.HTML object>"
      ]
     },
     "execution_count": 85,
     "metadata": {},
     "output_type": "execute_result"
    }
   ],
   "source": [
    "#RUN THIS CELL \n",
    "import requests\n",
    "from IPython.core.display import HTML\n",
    "styles = requests.get(\"https://raw.githubusercontent.com/Harvard-IACS/2018-CS109A/master/content/styles/cs109.css\").text\n",
    "HTML(styles)"
   ]
  },
  {
   "cell_type": "markdown",
   "metadata": {
    "colab_type": "text",
    "id": "7kh0dA7W48ad"
   },
   "source": [
    "import these libraries"
   ]
  },
  {
   "cell_type": "code",
   "execution_count": 86,
   "metadata": {
    "colab": {},
    "colab_type": "code",
    "id": "j02kGLE-48ah"
   },
   "outputs": [],
   "source": [
    "import warnings\n",
    "#warnings.filterwarnings('ignore')\n",
    "import numpy as np\n",
    "import pandas as pd\n",
    "import matplotlib\n",
    "import matplotlib.pyplot as plt\n",
    "from sklearn.metrics import r2_score\n",
    "from sklearn.preprocessing import PolynomialFeatures\n",
    "from sklearn.linear_model import Ridge\n",
    "from sklearn.linear_model import Lasso\n",
    "from sklearn.linear_model import RidgeCV\n",
    "from sklearn.linear_model import LassoCV\n",
    "from sklearn.linear_model import LinearRegression\n",
    "from sklearn.preprocessing import StandardScaler\n",
    "from sklearn.model_selection import train_test_split\n",
    "\n",
    "from sklearn.model_selection import cross_val_score\n",
    "from sklearn.model_selection import LeaveOneOut\n",
    "from sklearn.model_selection import KFold\n",
    "\n",
    "import statsmodels.api as sm\n",
    "from statsmodels.regression.linear_model import OLS\n",
    "\n",
    "from pandas.core import datetools\n",
    "%matplotlib inline"
   ]
  },
  {
   "cell_type": "markdown",
   "metadata": {},
   "source": [
    "# Continuing Bike Sharing Usage Data\n",
    "\n",
    "In this homework, we will focus on regularization and cross validation. We will continue to build regression models for the [Capital Bikeshare program](https://www.capitalbikeshare.com) in Washington D.C.  See homework 3 for more information about the Capital Bikeshare data that we'll be using extensively. \n",
    "\n"
   ]
  },
  {
   "cell_type": "markdown",
   "metadata": {},
   "source": [
    "<div class='exercise'> <b> Question 1 [20pts]  Data pre-processing </b> </div>"
   ]
  },
  {
   "cell_type": "markdown",
   "metadata": {
    "colab_type": "text",
    "id": "YNsROjOHaAA2"
   },
   "source": [
    "**1.1** Read in the provided `bikes_student.csv` to a data frame named `bikes_main`. Split it into a training set `bikes_train` and a validation set `bikes_val`. Use `random_state=90`, a test set size of .2, and stratify on month. Remember to specify the data's index column as you read it in.\n",
    "\n",
    "**1.2** As with last homework, the response will be the `counts` column and we'll drop `counts`, `registered` and `casual` for being trivial predictors, drop `workingday` and `month` for being multicollinear with other columns, and `dteday` for being inappropriate for regression. Write code to do this.\n",
    "\n",
    "Encapsulate this process as a function with appropriate inputs and outputs, and **test** your code by producing `practice_y_train` and `practice_X_train`.\n",
    "\n",
    "**1.3** Write a function to standardize a provided subset of columns in your training/validation/test sets. Remember that while you will be scaling all of your data, you must learn the scaling parameters (mean and SD) from only the training set.\n",
    "\n",
    "Test your code by building a list of all non-binary columns in your `practice_X_train` and scaling only those columns. Call the result `practice_X_train_scaled`. Display the `.describe()` and verify that you have correctly scaled all columns, including the polynomial columns.\n",
    "\n",
    "**Hint: employ the provided list of binary columns and use `pd.columns.difference()`**\n",
    "\n",
    "`binary_columns = [ 'holiday', 'workingday','Feb', 'Mar', 'Apr',\n",
    "       'May', 'Jun', 'Jul', 'Aug', 'Sept', 'Oct', 'Nov', 'Dec', 'spring',\n",
    "       'summer', 'fall', 'Mon', 'Tue', 'Wed', 'Thu', 'Fri', 'Sat',\n",
    "       'Cloudy', 'Snow', 'Storm']`\n",
    "\n",
    "\n",
    "**1.4** Write a code to augment your a dataset with higher-order features for `temp`, `atemp`, `hum`,`windspeed`, and `hour`. You should include ONLY the pure powers of these columns. So with degree=2 you should produce `atemp^2` and `hum^2` but not `atemp*hum` or any other two-feature interactions. \n",
    "\n",
    "\n",
    "Encapsulate this process as a function with appropriate inputs and outputs, and test your code by producing `practice_X_train_poly`, a training dataset with quadratic and cubic features built from `practice_X_train_scaled`, and printing `practice_X_train_poly`'s column names and `.head()`.\n",
    "\n",
    "**1.5** Write code to add interaction terms to the model. Specifically, we want interactions between the continuous predictors (`temp`,`atemp`, `hum`,`windspeed`) and the month and weekday dummies (`Feb`, `Mar`...`Dec`, `Mon`, `Tue`, ... `Sat`). That means you SHOULD build `atemp*Feb` and `hum*Mon` and so on, but NOT `Feb*Mar` and NOT `Feb*Tue`. The interaction terms should always be a continuous feature times a month dummy or a continuous feature times a weekday dummy.\n",
    "\n",
    "\n",
    "Encapsulate this process as a function with appropriate inputs and outputs, and test your code by adding interaction terms to `practice_X_train_poly` and show its column names and `.head()`**\n",
    "\n",
    "**1.6** Combine all your code so far into a function that takes in `bikes_train`, `bikes_val`, the names of columns for polynomial, the target column, the columns to be dropped and produces computation-ready design matrices `X_train` and `X_val` and responses `y_train` and `y_val`. Your final function should build correct, scaled design matrices with the stated interaction terms and any polynomial degree.\n",
    "\n"
   ]
  },
  {
   "cell_type": "markdown",
   "metadata": {},
   "source": [
    "### Solutions "
   ]
  },
  {
   "cell_type": "markdown",
   "metadata": {},
   "source": [
    "**1.1** Read in the provided `bikes_student.csv` to a data frame named `bikes_main`. Split it into a training set `bikes_train` and a validation set `bikes_val`. Use `random_state=90`, a test set size of .2, and stratify on month. Remember to specify the data's index column as you read it in."
   ]
  },
  {
   "cell_type": "code",
   "execution_count": 88,
   "metadata": {
    "colab": {},
    "colab_type": "code",
    "id": "eWIlhxR39wwq"
   },
   "outputs": [
    {
     "data": {
      "text/html": [
       "<div>\n",
       "<style scoped>\n",
       "    .dataframe tbody tr th:only-of-type {\n",
       "        vertical-align: middle;\n",
       "    }\n",
       "\n",
       "    .dataframe tbody tr th {\n",
       "        vertical-align: top;\n",
       "    }\n",
       "\n",
       "    .dataframe thead th {\n",
       "        text-align: right;\n",
       "    }\n",
       "</style>\n",
       "<table border=\"1\" class=\"dataframe\">\n",
       "  <thead>\n",
       "    <tr style=\"text-align: right;\">\n",
       "      <th></th>\n",
       "      <th>dteday</th>\n",
       "      <th>hour</th>\n",
       "      <th>year</th>\n",
       "      <th>holiday</th>\n",
       "      <th>workingday</th>\n",
       "      <th>temp</th>\n",
       "      <th>atemp</th>\n",
       "      <th>hum</th>\n",
       "      <th>windspeed</th>\n",
       "      <th>casual</th>\n",
       "      <th>...</th>\n",
       "      <th>Mon</th>\n",
       "      <th>Tue</th>\n",
       "      <th>Wed</th>\n",
       "      <th>Thu</th>\n",
       "      <th>Fri</th>\n",
       "      <th>Sat</th>\n",
       "      <th>Cloudy</th>\n",
       "      <th>Snow</th>\n",
       "      <th>Storm</th>\n",
       "      <th>month</th>\n",
       "    </tr>\n",
       "  </thead>\n",
       "  <tbody>\n",
       "    <tr>\n",
       "      <th>5887</th>\n",
       "      <td>2011-09-07</td>\n",
       "      <td>19</td>\n",
       "      <td>0</td>\n",
       "      <td>0</td>\n",
       "      <td>1</td>\n",
       "      <td>0.64</td>\n",
       "      <td>0.5758</td>\n",
       "      <td>0.89</td>\n",
       "      <td>0.0000</td>\n",
       "      <td>14</td>\n",
       "      <td>...</td>\n",
       "      <td>0</td>\n",
       "      <td>0</td>\n",
       "      <td>1</td>\n",
       "      <td>0</td>\n",
       "      <td>0</td>\n",
       "      <td>0</td>\n",
       "      <td>1</td>\n",
       "      <td>0</td>\n",
       "      <td>0</td>\n",
       "      <td>9</td>\n",
       "    </tr>\n",
       "    <tr>\n",
       "      <th>10558</th>\n",
       "      <td>2012-03-21</td>\n",
       "      <td>1</td>\n",
       "      <td>1</td>\n",
       "      <td>0</td>\n",
       "      <td>1</td>\n",
       "      <td>0.52</td>\n",
       "      <td>0.5000</td>\n",
       "      <td>0.83</td>\n",
       "      <td>0.0896</td>\n",
       "      <td>4</td>\n",
       "      <td>...</td>\n",
       "      <td>0</td>\n",
       "      <td>0</td>\n",
       "      <td>1</td>\n",
       "      <td>0</td>\n",
       "      <td>0</td>\n",
       "      <td>0</td>\n",
       "      <td>0</td>\n",
       "      <td>0</td>\n",
       "      <td>0</td>\n",
       "      <td>3</td>\n",
       "    </tr>\n",
       "    <tr>\n",
       "      <th>14130</th>\n",
       "      <td>2012-08-16</td>\n",
       "      <td>23</td>\n",
       "      <td>1</td>\n",
       "      <td>0</td>\n",
       "      <td>1</td>\n",
       "      <td>0.70</td>\n",
       "      <td>0.6515</td>\n",
       "      <td>0.54</td>\n",
       "      <td>0.1045</td>\n",
       "      <td>58</td>\n",
       "      <td>...</td>\n",
       "      <td>0</td>\n",
       "      <td>0</td>\n",
       "      <td>0</td>\n",
       "      <td>1</td>\n",
       "      <td>0</td>\n",
       "      <td>0</td>\n",
       "      <td>0</td>\n",
       "      <td>0</td>\n",
       "      <td>0</td>\n",
       "      <td>8</td>\n",
       "    </tr>\n",
       "    <tr>\n",
       "      <th>2727</th>\n",
       "      <td>2011-04-28</td>\n",
       "      <td>13</td>\n",
       "      <td>0</td>\n",
       "      <td>0</td>\n",
       "      <td>1</td>\n",
       "      <td>0.62</td>\n",
       "      <td>0.5758</td>\n",
       "      <td>0.83</td>\n",
       "      <td>0.2985</td>\n",
       "      <td>18</td>\n",
       "      <td>...</td>\n",
       "      <td>0</td>\n",
       "      <td>0</td>\n",
       "      <td>0</td>\n",
       "      <td>1</td>\n",
       "      <td>0</td>\n",
       "      <td>0</td>\n",
       "      <td>1</td>\n",
       "      <td>0</td>\n",
       "      <td>0</td>\n",
       "      <td>4</td>\n",
       "    </tr>\n",
       "    <tr>\n",
       "      <th>8716</th>\n",
       "      <td>2012-01-04</td>\n",
       "      <td>0</td>\n",
       "      <td>1</td>\n",
       "      <td>0</td>\n",
       "      <td>1</td>\n",
       "      <td>0.08</td>\n",
       "      <td>0.0606</td>\n",
       "      <td>0.42</td>\n",
       "      <td>0.3284</td>\n",
       "      <td>0</td>\n",
       "      <td>...</td>\n",
       "      <td>0</td>\n",
       "      <td>0</td>\n",
       "      <td>1</td>\n",
       "      <td>0</td>\n",
       "      <td>0</td>\n",
       "      <td>0</td>\n",
       "      <td>0</td>\n",
       "      <td>0</td>\n",
       "      <td>0</td>\n",
       "      <td>1</td>\n",
       "    </tr>\n",
       "  </tbody>\n",
       "</table>\n",
       "<p>5 rows × 36 columns</p>\n",
       "</div>"
      ],
      "text/plain": [
       "           dteday  hour  year  holiday  workingday  temp   atemp   hum  \\\n",
       "5887   2011-09-07    19     0        0           1  0.64  0.5758  0.89   \n",
       "10558  2012-03-21     1     1        0           1  0.52  0.5000  0.83   \n",
       "14130  2012-08-16    23     1        0           1  0.70  0.6515  0.54   \n",
       "2727   2011-04-28    13     0        0           1  0.62  0.5758  0.83   \n",
       "8716   2012-01-04     0     1        0           1  0.08  0.0606  0.42   \n",
       "\n",
       "       windspeed  casual  ...    Mon  Tue  Wed  Thu  Fri  Sat  Cloudy  Snow  \\\n",
       "5887      0.0000      14  ...      0    0    1    0    0    0       1     0   \n",
       "10558     0.0896       4  ...      0    0    1    0    0    0       0     0   \n",
       "14130     0.1045      58  ...      0    0    0    1    0    0       0     0   \n",
       "2727      0.2985      18  ...      0    0    0    1    0    0       1     0   \n",
       "8716      0.3284       0  ...      0    0    1    0    0    0       0     0   \n",
       "\n",
       "       Storm  month  \n",
       "5887       0      9  \n",
       "10558      0      3  \n",
       "14130      0      8  \n",
       "2727       0      4  \n",
       "8716       0      1  \n",
       "\n",
       "[5 rows x 36 columns]"
      ]
     },
     "execution_count": 88,
     "metadata": {},
     "output_type": "execute_result"
    }
   ],
   "source": [
    "# read in the data\n",
    "bikes_main = pd.read_csv('./data/bikes_student.csv', index_col= 0)\n",
    "bikes_main.head()"
   ]
  },
  {
   "cell_type": "code",
   "execution_count": 89,
   "metadata": {},
   "outputs": [
    {
     "name": "stdout",
     "output_type": "stream",
     "text": [
      "Index(['dteday', 'hour', 'year', 'holiday', 'workingday', 'temp', 'atemp',\n",
      "       'hum', 'windspeed', 'casual', 'registered', 'counts', 'Feb', 'Mar',\n",
      "       'Apr', 'May', 'Jun', 'Jul', 'Aug', 'Sept', 'Oct', 'Nov', 'Dec',\n",
      "       'spring', 'summer', 'fall', 'Mon', 'Tue', 'Wed', 'Thu', 'Fri', 'Sat',\n",
      "       'Cloudy', 'Snow', 'Storm', 'month'],\n",
      "      dtype='object')\n"
     ]
    }
   ],
   "source": [
    "print(bikes_main.columns)"
   ]
  },
  {
   "cell_type": "code",
   "execution_count": 90,
   "metadata": {},
   "outputs": [],
   "source": [
    "bikes_train, bikes_val = train_test_split(bikes_main, \n",
    "                                          random_state=90, \n",
    "                                          test_size = 0.2, \n",
    "                                          stratify = bikes_main.month)"
   ]
  },
  {
   "cell_type": "markdown",
   "metadata": {
    "colab_type": "text",
    "id": "i0YncxWuaW3k"
   },
   "source": [
    "**1.2** As with last homework, the response will be the `counts` column and we'll drop `counts`, `registered` and `casual` for being trivial predictors, drop `workingday` and `month` for being multicolinear with other columns, and `dteday` for being inappropriate for regression. Write code to do this.\n",
    "\n",
    "Encapsulate this process as a function with appropriate inputs and outputs, and test your code by producing `practice_y_train` and `practice_X_train`\n"
   ]
  },
  {
   "cell_type": "code",
   "execution_count": 91,
   "metadata": {},
   "outputs": [],
   "source": [
    "# your code here\n",
    "def get_X_and_y(df, response_column, columns_to_drop):\n",
    "    response_column = ['counts']\n",
    "    columns_to_drop = ['counts', 'registered', 'casual','workingday','month','dteday']\n",
    "    \n",
    "    df_X = df.drop(columns_to_drop, axis = 1)\n",
    "    df_y = df[response_column]\n",
    "    \n",
    "    return df_X, df_y"
   ]
  },
  {
   "cell_type": "code",
   "execution_count": 92,
   "metadata": {},
   "outputs": [],
   "source": [
    "response_column = ['counts']\n",
    "columns_to_drop = ['counts', 'registered', 'casual','workingday','month','dteday']\n",
    "practice_X_train, practice_y_train = get_X_and_y(bikes_train, response_column, columns_to_drop)"
   ]
  },
  {
   "cell_type": "code",
   "execution_count": 93,
   "metadata": {},
   "outputs": [
    {
     "name": "stdout",
     "output_type": "stream",
     "text": [
      "Index(['hour', 'year', 'holiday', 'temp', 'atemp', 'hum', 'windspeed', 'Feb',\n",
      "       'Mar', 'Apr', 'May', 'Jun', 'Jul', 'Aug', 'Sept', 'Oct', 'Nov', 'Dec',\n",
      "       'spring', 'summer', 'fall', 'Mon', 'Tue', 'Wed', 'Thu', 'Fri', 'Sat',\n",
      "       'Cloudy', 'Snow', 'Storm'],\n",
      "      dtype='object')\n"
     ]
    }
   ],
   "source": [
    "print(practice_X_train.columns)"
   ]
  },
  {
   "cell_type": "code",
   "execution_count": 94,
   "metadata": {},
   "outputs": [
    {
     "name": "stdout",
     "output_type": "stream",
     "text": [
      "Index(['counts'], dtype='object')\n"
     ]
    }
   ],
   "source": [
    "print(practice_y_train.columns)"
   ]
  },
  {
   "cell_type": "markdown",
   "metadata": {
    "colab_type": "text",
    "id": "Mr3zjw-Y48cx"
   },
   "source": [
    "**1.3** Write a function to standardize a provided subset of columns in your training/validation/test sets. Remember that while you will be scaling all of your data, you must learn the scaling parameters (mean and SD) from only the training set.\n",
    "\n",
    "Test your code by building a list of all non-binary columns in your `practice_X_train` and scaling only those columns. Call the result `practice_X_train_scaled`. Display the `.describe()` and verify that you have correctly scaled all columns, including the polynomial columns.\n",
    "\n",
    "**Hint: employ the provided list of binary columns and use `pd.columns.difference()`**\n",
    "\n",
    "`binary_columns = [ 'holiday', 'workingday','Feb', 'Mar', 'Apr',\n",
    "       'May', 'Jun', 'Jul', 'Aug', 'Sept', 'Oct', 'Nov', 'Dec', 'spring',\n",
    "       'summer', 'fall', 'Mon', 'Tue', 'Wed', 'Thu', 'Fri', 'Sat',\n",
    "       'Cloudy', 'Snow', 'Storm']`\n"
   ]
  },
  {
   "cell_type": "code",
   "execution_count": 102,
   "metadata": {
    "colab": {
     "base_uri": "https://localhost:8080/",
     "height": 349
    },
    "colab_type": "code",
    "id": "pIm1TIqf48c4",
    "outputId": "af5391ee-8a4b-49da-ade4-4e8411fb412e",
    "scrolled": true
   },
   "outputs": [],
   "source": [
    "# your code here\n",
    "def scale_col(df_to_scale, df_train, col_to_scale):\n",
    "    df = df_to_scale.copy()\n",
    "    for col in df:\n",
    "        if col in col_to_scale:\n",
    "            df[col] = (df[col] - df_train[col].mean())/df_train[col].std()\n",
    "    \n",
    "    #standardize columns\n",
    "    return df"
   ]
  },
  {
   "cell_type": "code",
   "execution_count": 103,
   "metadata": {},
   "outputs": [
    {
     "data": {
      "text/html": [
       "<div>\n",
       "<style scoped>\n",
       "    .dataframe tbody tr th:only-of-type {\n",
       "        vertical-align: middle;\n",
       "    }\n",
       "\n",
       "    .dataframe tbody tr th {\n",
       "        vertical-align: top;\n",
       "    }\n",
       "\n",
       "    .dataframe thead th {\n",
       "        text-align: right;\n",
       "    }\n",
       "</style>\n",
       "<table border=\"1\" class=\"dataframe\">\n",
       "  <thead>\n",
       "    <tr style=\"text-align: right;\">\n",
       "      <th></th>\n",
       "      <th>hour</th>\n",
       "      <th>year</th>\n",
       "      <th>holiday</th>\n",
       "      <th>temp</th>\n",
       "      <th>atemp</th>\n",
       "      <th>hum</th>\n",
       "      <th>windspeed</th>\n",
       "      <th>Feb</th>\n",
       "      <th>Mar</th>\n",
       "      <th>Apr</th>\n",
       "      <th>...</th>\n",
       "      <th>fall</th>\n",
       "      <th>Mon</th>\n",
       "      <th>Tue</th>\n",
       "      <th>Wed</th>\n",
       "      <th>Thu</th>\n",
       "      <th>Fri</th>\n",
       "      <th>Sat</th>\n",
       "      <th>Cloudy</th>\n",
       "      <th>Snow</th>\n",
       "      <th>Storm</th>\n",
       "    </tr>\n",
       "  </thead>\n",
       "  <tbody>\n",
       "    <tr>\n",
       "      <th>count</th>\n",
       "      <td>1.000000e+03</td>\n",
       "      <td>1.000000e+03</td>\n",
       "      <td>1000.000000</td>\n",
       "      <td>1.000000e+03</td>\n",
       "      <td>1.000000e+03</td>\n",
       "      <td>1.000000e+03</td>\n",
       "      <td>1.000000e+03</td>\n",
       "      <td>1000.000000</td>\n",
       "      <td>1000.000000</td>\n",
       "      <td>1000.000000</td>\n",
       "      <td>...</td>\n",
       "      <td>1000.000000</td>\n",
       "      <td>1000.000000</td>\n",
       "      <td>1000.000000</td>\n",
       "      <td>1000.000000</td>\n",
       "      <td>1000.000000</td>\n",
       "      <td>1000.00000</td>\n",
       "      <td>1000.00000</td>\n",
       "      <td>1000.000000</td>\n",
       "      <td>1000.000000</td>\n",
       "      <td>1000.0</td>\n",
       "    </tr>\n",
       "    <tr>\n",
       "      <th>mean</th>\n",
       "      <td>-1.278977e-16</td>\n",
       "      <td>-4.973799e-17</td>\n",
       "      <td>0.027000</td>\n",
       "      <td>5.329071e-17</td>\n",
       "      <td>-1.101341e-16</td>\n",
       "      <td>1.136868e-16</td>\n",
       "      <td>8.881784e-17</td>\n",
       "      <td>0.078000</td>\n",
       "      <td>0.085000</td>\n",
       "      <td>0.082000</td>\n",
       "      <td>...</td>\n",
       "      <td>0.248000</td>\n",
       "      <td>0.143000</td>\n",
       "      <td>0.148000</td>\n",
       "      <td>0.162000</td>\n",
       "      <td>0.128000</td>\n",
       "      <td>0.12700</td>\n",
       "      <td>0.15000</td>\n",
       "      <td>0.280000</td>\n",
       "      <td>0.082000</td>\n",
       "      <td>0.0</td>\n",
       "    </tr>\n",
       "    <tr>\n",
       "      <th>std</th>\n",
       "      <td>1.000000e+00</td>\n",
       "      <td>1.000000e+00</td>\n",
       "      <td>0.162164</td>\n",
       "      <td>1.000000e+00</td>\n",
       "      <td>1.000000e+00</td>\n",
       "      <td>1.000000e+00</td>\n",
       "      <td>1.000000e+00</td>\n",
       "      <td>0.268306</td>\n",
       "      <td>0.279021</td>\n",
       "      <td>0.274502</td>\n",
       "      <td>...</td>\n",
       "      <td>0.432068</td>\n",
       "      <td>0.350248</td>\n",
       "      <td>0.355278</td>\n",
       "      <td>0.368635</td>\n",
       "      <td>0.334257</td>\n",
       "      <td>0.33314</td>\n",
       "      <td>0.35725</td>\n",
       "      <td>0.449224</td>\n",
       "      <td>0.274502</td>\n",
       "      <td>0.0</td>\n",
       "    </tr>\n",
       "    <tr>\n",
       "      <th>min</th>\n",
       "      <td>-1.645340e+00</td>\n",
       "      <td>-1.017656e+00</td>\n",
       "      <td>0.000000</td>\n",
       "      <td>-2.346801e+00</td>\n",
       "      <td>-2.401403e+00</td>\n",
       "      <td>-3.395903e+00</td>\n",
       "      <td>-1.553427e+00</td>\n",
       "      <td>0.000000</td>\n",
       "      <td>0.000000</td>\n",
       "      <td>0.000000</td>\n",
       "      <td>...</td>\n",
       "      <td>0.000000</td>\n",
       "      <td>0.000000</td>\n",
       "      <td>0.000000</td>\n",
       "      <td>0.000000</td>\n",
       "      <td>0.000000</td>\n",
       "      <td>0.00000</td>\n",
       "      <td>0.00000</td>\n",
       "      <td>0.000000</td>\n",
       "      <td>0.000000</td>\n",
       "      <td>0.0</td>\n",
       "    </tr>\n",
       "    <tr>\n",
       "      <th>25%</th>\n",
       "      <td>-9.185353e-01</td>\n",
       "      <td>-1.017656e+00</td>\n",
       "      <td>0.000000</td>\n",
       "      <td>-7.918731e-01</td>\n",
       "      <td>-8.117208e-01</td>\n",
       "      <td>-7.417755e-01</td>\n",
       "      <td>-7.227439e-01</td>\n",
       "      <td>0.000000</td>\n",
       "      <td>0.000000</td>\n",
       "      <td>0.000000</td>\n",
       "      <td>...</td>\n",
       "      <td>0.000000</td>\n",
       "      <td>0.000000</td>\n",
       "      <td>0.000000</td>\n",
       "      <td>0.000000</td>\n",
       "      <td>0.000000</td>\n",
       "      <td>0.00000</td>\n",
       "      <td>0.00000</td>\n",
       "      <td>0.000000</td>\n",
       "      <td>0.000000</td>\n",
       "      <td>0.0</td>\n",
       "    </tr>\n",
       "    <tr>\n",
       "      <th>50%</th>\n",
       "      <td>-4.637012e-02</td>\n",
       "      <td>9.816679e-01</td>\n",
       "      <td>0.000000</td>\n",
       "      <td>3.742194e-02</td>\n",
       "      <td>7.143602e-02</td>\n",
       "      <td>5.446269e-02</td>\n",
       "      <td>-1.129730e-02</td>\n",
       "      <td>0.000000</td>\n",
       "      <td>0.000000</td>\n",
       "      <td>0.000000</td>\n",
       "      <td>...</td>\n",
       "      <td>0.000000</td>\n",
       "      <td>0.000000</td>\n",
       "      <td>0.000000</td>\n",
       "      <td>0.000000</td>\n",
       "      <td>0.000000</td>\n",
       "      <td>0.00000</td>\n",
       "      <td>0.00000</td>\n",
       "      <td>0.000000</td>\n",
       "      <td>0.000000</td>\n",
       "      <td>0.0</td>\n",
       "    </tr>\n",
       "    <tr>\n",
       "      <th>75%</th>\n",
       "      <td>8.257951e-01</td>\n",
       "      <td>9.816679e-01</td>\n",
       "      <td>0.000000</td>\n",
       "      <td>8.667170e-01</td>\n",
       "      <td>8.665686e-01</td>\n",
       "      <td>8.507009e-01</td>\n",
       "      <td>4.632654e-01</td>\n",
       "      <td>0.000000</td>\n",
       "      <td>0.000000</td>\n",
       "      <td>0.000000</td>\n",
       "      <td>...</td>\n",
       "      <td>0.000000</td>\n",
       "      <td>0.000000</td>\n",
       "      <td>0.000000</td>\n",
       "      <td>0.000000</td>\n",
       "      <td>0.000000</td>\n",
       "      <td>0.00000</td>\n",
       "      <td>0.00000</td>\n",
       "      <td>1.000000</td>\n",
       "      <td>0.000000</td>\n",
       "      <td>0.0</td>\n",
       "    </tr>\n",
       "    <tr>\n",
       "      <th>max</th>\n",
       "      <td>1.697960e+00</td>\n",
       "      <td>9.816679e-01</td>\n",
       "      <td>1.000000</td>\n",
       "      <td>2.317983e+00</td>\n",
       "      <td>2.544858e+00</td>\n",
       "      <td>1.912352e+00</td>\n",
       "      <td>5.208893e+00</td>\n",
       "      <td>1.000000</td>\n",
       "      <td>1.000000</td>\n",
       "      <td>1.000000</td>\n",
       "      <td>...</td>\n",
       "      <td>1.000000</td>\n",
       "      <td>1.000000</td>\n",
       "      <td>1.000000</td>\n",
       "      <td>1.000000</td>\n",
       "      <td>1.000000</td>\n",
       "      <td>1.00000</td>\n",
       "      <td>1.00000</td>\n",
       "      <td>1.000000</td>\n",
       "      <td>1.000000</td>\n",
       "      <td>0.0</td>\n",
       "    </tr>\n",
       "  </tbody>\n",
       "</table>\n",
       "<p>8 rows × 30 columns</p>\n",
       "</div>"
      ],
      "text/plain": [
       "               hour          year      holiday          temp         atemp  \\\n",
       "count  1.000000e+03  1.000000e+03  1000.000000  1.000000e+03  1.000000e+03   \n",
       "mean  -1.278977e-16 -4.973799e-17     0.027000  5.329071e-17 -1.101341e-16   \n",
       "std    1.000000e+00  1.000000e+00     0.162164  1.000000e+00  1.000000e+00   \n",
       "min   -1.645340e+00 -1.017656e+00     0.000000 -2.346801e+00 -2.401403e+00   \n",
       "25%   -9.185353e-01 -1.017656e+00     0.000000 -7.918731e-01 -8.117208e-01   \n",
       "50%   -4.637012e-02  9.816679e-01     0.000000  3.742194e-02  7.143602e-02   \n",
       "75%    8.257951e-01  9.816679e-01     0.000000  8.667170e-01  8.665686e-01   \n",
       "max    1.697960e+00  9.816679e-01     1.000000  2.317983e+00  2.544858e+00   \n",
       "\n",
       "                hum     windspeed          Feb          Mar          Apr  \\\n",
       "count  1.000000e+03  1.000000e+03  1000.000000  1000.000000  1000.000000   \n",
       "mean   1.136868e-16  8.881784e-17     0.078000     0.085000     0.082000   \n",
       "std    1.000000e+00  1.000000e+00     0.268306     0.279021     0.274502   \n",
       "min   -3.395903e+00 -1.553427e+00     0.000000     0.000000     0.000000   \n",
       "25%   -7.417755e-01 -7.227439e-01     0.000000     0.000000     0.000000   \n",
       "50%    5.446269e-02 -1.129730e-02     0.000000     0.000000     0.000000   \n",
       "75%    8.507009e-01  4.632654e-01     0.000000     0.000000     0.000000   \n",
       "max    1.912352e+00  5.208893e+00     1.000000     1.000000     1.000000   \n",
       "\n",
       "        ...           fall          Mon          Tue          Wed  \\\n",
       "count   ...    1000.000000  1000.000000  1000.000000  1000.000000   \n",
       "mean    ...       0.248000     0.143000     0.148000     0.162000   \n",
       "std     ...       0.432068     0.350248     0.355278     0.368635   \n",
       "min     ...       0.000000     0.000000     0.000000     0.000000   \n",
       "25%     ...       0.000000     0.000000     0.000000     0.000000   \n",
       "50%     ...       0.000000     0.000000     0.000000     0.000000   \n",
       "75%     ...       0.000000     0.000000     0.000000     0.000000   \n",
       "max     ...       1.000000     1.000000     1.000000     1.000000   \n",
       "\n",
       "               Thu         Fri         Sat       Cloudy         Snow   Storm  \n",
       "count  1000.000000  1000.00000  1000.00000  1000.000000  1000.000000  1000.0  \n",
       "mean      0.128000     0.12700     0.15000     0.280000     0.082000     0.0  \n",
       "std       0.334257     0.33314     0.35725     0.449224     0.274502     0.0  \n",
       "min       0.000000     0.00000     0.00000     0.000000     0.000000     0.0  \n",
       "25%       0.000000     0.00000     0.00000     0.000000     0.000000     0.0  \n",
       "50%       0.000000     0.00000     0.00000     0.000000     0.000000     0.0  \n",
       "75%       0.000000     0.00000     0.00000     1.000000     0.000000     0.0  \n",
       "max       1.000000     1.00000     1.00000     1.000000     1.000000     0.0  \n",
       "\n",
       "[8 rows x 30 columns]"
      ]
     },
     "execution_count": 103,
     "metadata": {},
     "output_type": "execute_result"
    }
   ],
   "source": [
    "binary_columns = [ 'holiday', 'workingday','Feb', 'Mar', 'Apr',\n",
    "       'May', 'Jun', 'Jul', 'Aug', 'Sept', 'Oct', 'Nov', 'Dec', 'spring',\n",
    "       'summer', 'fall', 'Mon', 'Tue', 'Wed', 'Thu', 'Fri', 'Sat',\n",
    "       'Cloudy', 'Snow', 'Storm']\n",
    "non_binary_columns = practice_X_train.columns.difference(binary_columns)\n",
    "practice_X_train_scaled  = scale_col(practice_X_train, practice_X_train, non_binary_columns)\n",
    "practice_X_train_scaled.describe()"
   ]
  },
  {
   "cell_type": "markdown",
   "metadata": {
    "colab_type": "text",
    "id": "zEBl-5bU48ci"
   },
   "source": [
    "**1.4** Write a code to augment your a dataset with higher-order features for `temp`, `atemp`, `hum`,`windspeed`, and `hour`. You should include ONLY pure powers of these columns. So with degree=2 you should produce `atemp^2` and `hum^2` but not `atemp*hum` or any other two-feature interactions. \n",
    "\n",
    "\n",
    "Encapsulate this process as a function with apropriate inputs and outputs, and test your code by producing `practice_X_train_poly`, a training dataset with qudratic and cubic features built from `practice_X_train_scaled`, and printing `practice_X_train_poly`'s column names and `.head()`."
   ]
  },
  {
   "cell_type": "code",
   "execution_count": 107,
   "metadata": {
    "colab": {
     "base_uri": "https://localhost:8080/",
     "height": 126
    },
    "colab_type": "code",
    "id": "UXgj9yxu48cj",
    "outputId": "d1e9e4f7-41ab-4cae-a900-e11e0890638e"
   },
   "outputs": [],
   "source": [
    "# your code here\n",
    "def add_poly_columns(df, columns, degree, \n",
    "                     nonbinary_columns = ['atemp', 'hour', 'hum', 'temp', 'windspeed', 'year']):\n",
    "    \"\"\"\n",
    "    df pandas DataFrame: the df to add polynomial terms to\n",
    "    columns list(str): the list of columns for which to add polynomial terms\n",
    "    degree int: add polynomials from 2 to this degree (inclusive). Interactions are not included.\n",
    "    \"\"\"\n",
    "    df_poly = df.copy()\n",
    "    for d in range(2, degree + 1):\n",
    "        for col in columns:\n",
    "            if col in nonbinary_columns:\n",
    "                df_poly[col+'^'+str(d)] = df[col].apply(lambda x : x**d)\n",
    "    return df_poly"
   ]
  },
  {
   "cell_type": "code",
   "execution_count": 108,
   "metadata": {},
   "outputs": [
    {
     "data": {
      "text/html": [
       "<div>\n",
       "<style scoped>\n",
       "    .dataframe tbody tr th:only-of-type {\n",
       "        vertical-align: middle;\n",
       "    }\n",
       "\n",
       "    .dataframe tbody tr th {\n",
       "        vertical-align: top;\n",
       "    }\n",
       "\n",
       "    .dataframe thead th {\n",
       "        text-align: right;\n",
       "    }\n",
       "</style>\n",
       "<table border=\"1\" class=\"dataframe\">\n",
       "  <thead>\n",
       "    <tr style=\"text-align: right;\">\n",
       "      <th></th>\n",
       "      <th>hour</th>\n",
       "      <th>year</th>\n",
       "      <th>holiday</th>\n",
       "      <th>temp</th>\n",
       "      <th>atemp</th>\n",
       "      <th>hum</th>\n",
       "      <th>windspeed</th>\n",
       "      <th>Feb</th>\n",
       "      <th>Mar</th>\n",
       "      <th>Apr</th>\n",
       "      <th>...</th>\n",
       "      <th>temp^2</th>\n",
       "      <th>atemp^2</th>\n",
       "      <th>hum^2</th>\n",
       "      <th>windspeed^2</th>\n",
       "      <th>hour^3</th>\n",
       "      <th>year^3</th>\n",
       "      <th>temp^3</th>\n",
       "      <th>atemp^3</th>\n",
       "      <th>hum^3</th>\n",
       "      <th>windspeed^3</th>\n",
       "    </tr>\n",
       "  </thead>\n",
       "  <tbody>\n",
       "    <tr>\n",
       "      <th>15762</th>\n",
       "      <td>1.697960</td>\n",
       "      <td>0.981668</td>\n",
       "      <td>0</td>\n",
       "      <td>0.244746</td>\n",
       "      <td>0.248650</td>\n",
       "      <td>0.479123</td>\n",
       "      <td>-0.722744</td>\n",
       "      <td>0</td>\n",
       "      <td>0</td>\n",
       "      <td>0</td>\n",
       "      <td>...</td>\n",
       "      <td>0.059900</td>\n",
       "      <td>0.061827</td>\n",
       "      <td>0.229559</td>\n",
       "      <td>0.522359</td>\n",
       "      <td>4.895337</td>\n",
       "      <td>0.946006</td>\n",
       "      <td>0.014660</td>\n",
       "      <td>0.015373</td>\n",
       "      <td>0.109987</td>\n",
       "      <td>-0.377532</td>\n",
       "    </tr>\n",
       "    <tr>\n",
       "      <th>4213</th>\n",
       "      <td>-0.046370</td>\n",
       "      <td>-1.017656</td>\n",
       "      <td>0</td>\n",
       "      <td>1.385026</td>\n",
       "      <td>1.131807</td>\n",
       "      <td>-1.538014</td>\n",
       "      <td>0.226382</td>\n",
       "      <td>0</td>\n",
       "      <td>0</td>\n",
       "      <td>0</td>\n",
       "      <td>...</td>\n",
       "      <td>1.918298</td>\n",
       "      <td>1.280987</td>\n",
       "      <td>2.365486</td>\n",
       "      <td>0.051249</td>\n",
       "      <td>-0.000100</td>\n",
       "      <td>-1.053908</td>\n",
       "      <td>2.656894</td>\n",
       "      <td>1.449831</td>\n",
       "      <td>-3.638150</td>\n",
       "      <td>0.011602</td>\n",
       "    </tr>\n",
       "    <tr>\n",
       "      <th>14301</th>\n",
       "      <td>-1.354618</td>\n",
       "      <td>0.981668</td>\n",
       "      <td>0</td>\n",
       "      <td>0.866717</td>\n",
       "      <td>0.866569</td>\n",
       "      <td>0.266793</td>\n",
       "      <td>-1.553427</td>\n",
       "      <td>0</td>\n",
       "      <td>0</td>\n",
       "      <td>0</td>\n",
       "      <td>...</td>\n",
       "      <td>0.751198</td>\n",
       "      <td>0.750941</td>\n",
       "      <td>0.071178</td>\n",
       "      <td>2.413137</td>\n",
       "      <td>-2.485710</td>\n",
       "      <td>0.946006</td>\n",
       "      <td>0.651076</td>\n",
       "      <td>0.650742</td>\n",
       "      <td>0.018990</td>\n",
       "      <td>-3.748633</td>\n",
       "    </tr>\n",
       "    <tr>\n",
       "      <th>15900</th>\n",
       "      <td>-0.918535</td>\n",
       "      <td>0.981668</td>\n",
       "      <td>0</td>\n",
       "      <td>-0.999197</td>\n",
       "      <td>-0.988352</td>\n",
       "      <td>0.903783</td>\n",
       "      <td>-0.485860</td>\n",
       "      <td>0</td>\n",
       "      <td>0</td>\n",
       "      <td>0</td>\n",
       "      <td>...</td>\n",
       "      <td>0.998394</td>\n",
       "      <td>0.976840</td>\n",
       "      <td>0.816825</td>\n",
       "      <td>0.236060</td>\n",
       "      <td>-0.774975</td>\n",
       "      <td>0.946006</td>\n",
       "      <td>-0.997593</td>\n",
       "      <td>-0.965462</td>\n",
       "      <td>0.738233</td>\n",
       "      <td>-0.114692</td>\n",
       "    </tr>\n",
       "    <tr>\n",
       "      <th>14320</th>\n",
       "      <td>1.407239</td>\n",
       "      <td>0.981668</td>\n",
       "      <td>0</td>\n",
       "      <td>1.074041</td>\n",
       "      <td>1.043200</td>\n",
       "      <td>-0.157867</td>\n",
       "      <td>-0.248181</td>\n",
       "      <td>0</td>\n",
       "      <td>0</td>\n",
       "      <td>0</td>\n",
       "      <td>...</td>\n",
       "      <td>1.153564</td>\n",
       "      <td>1.088266</td>\n",
       "      <td>0.024922</td>\n",
       "      <td>0.061594</td>\n",
       "      <td>2.786783</td>\n",
       "      <td>0.946006</td>\n",
       "      <td>1.238974</td>\n",
       "      <td>1.135279</td>\n",
       "      <td>-0.003934</td>\n",
       "      <td>-0.015286</td>\n",
       "    </tr>\n",
       "  </tbody>\n",
       "</table>\n",
       "<p>5 rows × 42 columns</p>\n",
       "</div>"
      ],
      "text/plain": [
       "           hour      year  holiday      temp     atemp       hum  windspeed  \\\n",
       "15762  1.697960  0.981668        0  0.244746  0.248650  0.479123  -0.722744   \n",
       "4213  -0.046370 -1.017656        0  1.385026  1.131807 -1.538014   0.226382   \n",
       "14301 -1.354618  0.981668        0  0.866717  0.866569  0.266793  -1.553427   \n",
       "15900 -0.918535  0.981668        0 -0.999197 -0.988352  0.903783  -0.485860   \n",
       "14320  1.407239  0.981668        0  1.074041  1.043200 -0.157867  -0.248181   \n",
       "\n",
       "       Feb  Mar  Apr     ...         temp^2   atemp^2     hum^2  windspeed^2  \\\n",
       "15762    0    0    0     ...       0.059900  0.061827  0.229559     0.522359   \n",
       "4213     0    0    0     ...       1.918298  1.280987  2.365486     0.051249   \n",
       "14301    0    0    0     ...       0.751198  0.750941  0.071178     2.413137   \n",
       "15900    0    0    0     ...       0.998394  0.976840  0.816825     0.236060   \n",
       "14320    0    0    0     ...       1.153564  1.088266  0.024922     0.061594   \n",
       "\n",
       "         hour^3    year^3    temp^3   atemp^3     hum^3  windspeed^3  \n",
       "15762  4.895337  0.946006  0.014660  0.015373  0.109987    -0.377532  \n",
       "4213  -0.000100 -1.053908  2.656894  1.449831 -3.638150     0.011602  \n",
       "14301 -2.485710  0.946006  0.651076  0.650742  0.018990    -3.748633  \n",
       "15900 -0.774975  0.946006 -0.997593 -0.965462  0.738233    -0.114692  \n",
       "14320  2.786783  0.946006  1.238974  1.135279 -0.003934    -0.015286  \n",
       "\n",
       "[5 rows x 42 columns]"
      ]
     },
     "execution_count": 108,
     "metadata": {},
     "output_type": "execute_result"
    }
   ],
   "source": [
    "columns = practice_X_train_scaled.columns\n",
    "practice_X_train_poly = add_poly_columns(practice_X_train_scaled, columns, 3)\n",
    "practice_X_train_poly.head()"
   ]
  },
  {
   "cell_type": "code",
   "execution_count": 109,
   "metadata": {},
   "outputs": [
    {
     "name": "stdout",
     "output_type": "stream",
     "text": [
      "Index(['hour', 'year', 'holiday', 'temp', 'atemp', 'hum', 'windspeed', 'Feb',\n",
      "       'Mar', 'Apr', 'May', 'Jun', 'Jul', 'Aug', 'Sept', 'Oct', 'Nov', 'Dec',\n",
      "       'spring', 'summer', 'fall', 'Mon', 'Tue', 'Wed', 'Thu', 'Fri', 'Sat',\n",
      "       'Cloudy', 'Snow', 'Storm', 'hour^2', 'year^2', 'temp^2', 'atemp^2',\n",
      "       'hum^2', 'windspeed^2', 'hour^3', 'year^3', 'temp^3', 'atemp^3',\n",
      "       'hum^3', 'windspeed^3'],\n",
      "      dtype='object')\n"
     ]
    }
   ],
   "source": [
    "print(practice_X_train_poly.columns)"
   ]
  },
  {
   "cell_type": "markdown",
   "metadata": {
    "colab_type": "text",
    "id": "pK5Mhlqc48dG"
   },
   "source": [
    "**1.5** Write code to add interaction terms to the model. Specifically, we want interactions between the continuous predictors (`temp`,`atemp`, `hum`,`windspeed`) and the month and weekday dummies (`Feb`, `Mar`...`Dec`, `Mon`, `Tue`, ... `Sat`). That means you SHOULD build `atemp*Feb` and `hum*Mon` and so on, but NOT `Feb*Mar` and NOT `Feb*Tue`. The interaction terms should always be a continuous feature times a month dummy or a continuous feature times a weekday dummy.\n",
    "\n",
    "\n",
    "Encapsulate this process as a function with appropriate inputs and outputs, and test your code by adding interaction terms to `practice_X_train_poly` and show its column names and `.head()`**\n"
   ]
  },
  {
   "cell_type": "code",
   "execution_count": 111,
   "metadata": {
    "colab": {},
    "colab_type": "code",
    "id": "gB6wlgj948dP",
    "scrolled": false
   },
   "outputs": [],
   "source": [
    "# your code here\n",
    "def add_interaction_terms(df_to_add_interactions,\n",
    "                          df_original,\n",
    "                          continuous_columns = ['temp','atemp','hum','windspeed'],\n",
    "                          dummy_columns = ['Feb', 'Mar', 'Apr','May', 'Jun', 'Jul',\n",
    "                                           'Aug', 'Sept', 'Oct', 'Nov', 'Dec','Mon', \n",
    "                                           'Tue', 'Wed', 'Thu', 'Fri', 'Sat']):\n",
    "    \"\"\"\n",
    "    df_to_add_interactions pandas DataFrame: dataframe to add interaction terms\n",
    "    df_original pandas DataFrame: dataframe holding the terms to form interactions with\n",
    "    continuous_columns list(str): names of continuous predictors\n",
    "    dummy_columns: names of dummy predictors (0/1)\n",
    "    \"\"\"\n",
    "    df_interact = df_to_add_interactions.copy()\n",
    "    for cont_col in continuous_columns:\n",
    "        for other_col in dummy_columns:\n",
    "            if cont_col is not other_col:\n",
    "                df_interact[cont_col+\"*\"+other_col] = df_original[cont_col]*df_original[other_col]\n",
    "    return df_interact"
   ]
  },
  {
   "cell_type": "code",
   "execution_count": 112,
   "metadata": {},
   "outputs": [],
   "source": [
    "practice_X_train_interact = add_interaction_terms(practice_X_train_poly, practice_X_train)"
   ]
  },
  {
   "cell_type": "code",
   "execution_count": 115,
   "metadata": {},
   "outputs": [
    {
     "name": "stdout",
     "output_type": "stream",
     "text": [
      "['hour', 'year', 'holiday', 'temp', 'atemp', 'hum', 'windspeed', 'Feb', 'Mar', 'Apr', 'May', 'Jun', 'Jul', 'Aug', 'Sept', 'Oct', 'Nov', 'Dec', 'spring', 'summer', 'fall', 'Mon', 'Tue', 'Wed', 'Thu', 'Fri', 'Sat', 'Cloudy', 'Snow', 'Storm', 'hour^2', 'year^2', 'temp^2', 'atemp^2', 'hum^2', 'windspeed^2', 'hour^3', 'year^3', 'temp^3', 'atemp^3', 'hum^3', 'windspeed^3', 'temp*Feb', 'temp*Mar', 'temp*Apr', 'temp*May', 'temp*Jun', 'temp*Jul', 'temp*Aug', 'temp*Sept', 'temp*Oct', 'temp*Nov', 'temp*Dec', 'temp*Mon', 'temp*Tue', 'temp*Wed', 'temp*Thu', 'temp*Fri', 'temp*Sat', 'atemp*Feb', 'atemp*Mar', 'atemp*Apr', 'atemp*May', 'atemp*Jun', 'atemp*Jul', 'atemp*Aug', 'atemp*Sept', 'atemp*Oct', 'atemp*Nov', 'atemp*Dec', 'atemp*Mon', 'atemp*Tue', 'atemp*Wed', 'atemp*Thu', 'atemp*Fri', 'atemp*Sat', 'hum*Feb', 'hum*Mar', 'hum*Apr', 'hum*May', 'hum*Jun', 'hum*Jul', 'hum*Aug', 'hum*Sept', 'hum*Oct', 'hum*Nov', 'hum*Dec', 'hum*Mon', 'hum*Tue', 'hum*Wed', 'hum*Thu', 'hum*Fri', 'hum*Sat', 'windspeed*Feb', 'windspeed*Mar', 'windspeed*Apr', 'windspeed*May', 'windspeed*Jun', 'windspeed*Jul', 'windspeed*Aug', 'windspeed*Sept', 'windspeed*Oct', 'windspeed*Nov', 'windspeed*Dec', 'windspeed*Mon', 'windspeed*Tue', 'windspeed*Wed', 'windspeed*Thu', 'windspeed*Fri', 'windspeed*Sat']\n"
     ]
    }
   ],
   "source": [
    "print([c for c in practice_X_train_interact.columns])"
   ]
  },
  {
   "cell_type": "code",
   "execution_count": 116,
   "metadata": {},
   "outputs": [
    {
     "data": {
      "text/html": [
       "<div>\n",
       "<style scoped>\n",
       "    .dataframe tbody tr th:only-of-type {\n",
       "        vertical-align: middle;\n",
       "    }\n",
       "\n",
       "    .dataframe tbody tr th {\n",
       "        vertical-align: top;\n",
       "    }\n",
       "\n",
       "    .dataframe thead th {\n",
       "        text-align: right;\n",
       "    }\n",
       "</style>\n",
       "<table border=\"1\" class=\"dataframe\">\n",
       "  <thead>\n",
       "    <tr style=\"text-align: right;\">\n",
       "      <th></th>\n",
       "      <th>hour</th>\n",
       "      <th>year</th>\n",
       "      <th>holiday</th>\n",
       "      <th>temp</th>\n",
       "      <th>atemp</th>\n",
       "      <th>hum</th>\n",
       "      <th>windspeed</th>\n",
       "      <th>Feb</th>\n",
       "      <th>Mar</th>\n",
       "      <th>Apr</th>\n",
       "      <th>...</th>\n",
       "      <th>windspeed*Sept</th>\n",
       "      <th>windspeed*Oct</th>\n",
       "      <th>windspeed*Nov</th>\n",
       "      <th>windspeed*Dec</th>\n",
       "      <th>windspeed*Mon</th>\n",
       "      <th>windspeed*Tue</th>\n",
       "      <th>windspeed*Wed</th>\n",
       "      <th>windspeed*Thu</th>\n",
       "      <th>windspeed*Fri</th>\n",
       "      <th>windspeed*Sat</th>\n",
       "    </tr>\n",
       "  </thead>\n",
       "  <tbody>\n",
       "    <tr>\n",
       "      <th>15762</th>\n",
       "      <td>1.697960</td>\n",
       "      <td>0.981668</td>\n",
       "      <td>0</td>\n",
       "      <td>0.244746</td>\n",
       "      <td>0.248650</td>\n",
       "      <td>0.479123</td>\n",
       "      <td>-0.722744</td>\n",
       "      <td>0</td>\n",
       "      <td>0</td>\n",
       "      <td>0</td>\n",
       "      <td>...</td>\n",
       "      <td>0.0</td>\n",
       "      <td>0.1045</td>\n",
       "      <td>0.0</td>\n",
       "      <td>0.0</td>\n",
       "      <td>0.0</td>\n",
       "      <td>0.1045</td>\n",
       "      <td>0.0000</td>\n",
       "      <td>0.0</td>\n",
       "      <td>0.0000</td>\n",
       "      <td>0.0</td>\n",
       "    </tr>\n",
       "    <tr>\n",
       "      <th>4213</th>\n",
       "      <td>-0.046370</td>\n",
       "      <td>-1.017656</td>\n",
       "      <td>0</td>\n",
       "      <td>1.385026</td>\n",
       "      <td>1.131807</td>\n",
       "      <td>-1.538014</td>\n",
       "      <td>0.226382</td>\n",
       "      <td>0</td>\n",
       "      <td>0</td>\n",
       "      <td>0</td>\n",
       "      <td>...</td>\n",
       "      <td>0.0</td>\n",
       "      <td>0.0000</td>\n",
       "      <td>0.0</td>\n",
       "      <td>0.0</td>\n",
       "      <td>0.0</td>\n",
       "      <td>0.0000</td>\n",
       "      <td>0.2239</td>\n",
       "      <td>0.0</td>\n",
       "      <td>0.0000</td>\n",
       "      <td>0.0</td>\n",
       "    </tr>\n",
       "    <tr>\n",
       "      <th>14301</th>\n",
       "      <td>-1.354618</td>\n",
       "      <td>0.981668</td>\n",
       "      <td>0</td>\n",
       "      <td>0.866717</td>\n",
       "      <td>0.866569</td>\n",
       "      <td>0.266793</td>\n",
       "      <td>-1.553427</td>\n",
       "      <td>0</td>\n",
       "      <td>0</td>\n",
       "      <td>0</td>\n",
       "      <td>...</td>\n",
       "      <td>0.0</td>\n",
       "      <td>0.0000</td>\n",
       "      <td>0.0</td>\n",
       "      <td>0.0</td>\n",
       "      <td>0.0</td>\n",
       "      <td>0.0000</td>\n",
       "      <td>0.0000</td>\n",
       "      <td>0.0</td>\n",
       "      <td>0.0000</td>\n",
       "      <td>0.0</td>\n",
       "    </tr>\n",
       "    <tr>\n",
       "      <th>15900</th>\n",
       "      <td>-0.918535</td>\n",
       "      <td>0.981668</td>\n",
       "      <td>0</td>\n",
       "      <td>-0.999197</td>\n",
       "      <td>-0.988352</td>\n",
       "      <td>0.903783</td>\n",
       "      <td>-0.485860</td>\n",
       "      <td>0</td>\n",
       "      <td>0</td>\n",
       "      <td>0</td>\n",
       "      <td>...</td>\n",
       "      <td>0.0</td>\n",
       "      <td>0.1343</td>\n",
       "      <td>0.0</td>\n",
       "      <td>0.0</td>\n",
       "      <td>0.0</td>\n",
       "      <td>0.0000</td>\n",
       "      <td>0.1343</td>\n",
       "      <td>0.0</td>\n",
       "      <td>0.0000</td>\n",
       "      <td>0.0</td>\n",
       "    </tr>\n",
       "    <tr>\n",
       "      <th>14320</th>\n",
       "      <td>1.407239</td>\n",
       "      <td>0.981668</td>\n",
       "      <td>0</td>\n",
       "      <td>1.074041</td>\n",
       "      <td>1.043200</td>\n",
       "      <td>-0.157867</td>\n",
       "      <td>-0.248181</td>\n",
       "      <td>0</td>\n",
       "      <td>0</td>\n",
       "      <td>0</td>\n",
       "      <td>...</td>\n",
       "      <td>0.0</td>\n",
       "      <td>0.0000</td>\n",
       "      <td>0.0</td>\n",
       "      <td>0.0</td>\n",
       "      <td>0.0</td>\n",
       "      <td>0.0000</td>\n",
       "      <td>0.0000</td>\n",
       "      <td>0.0</td>\n",
       "      <td>0.1642</td>\n",
       "      <td>0.0</td>\n",
       "    </tr>\n",
       "  </tbody>\n",
       "</table>\n",
       "<p>5 rows × 110 columns</p>\n",
       "</div>"
      ],
      "text/plain": [
       "           hour      year  holiday      temp     atemp       hum  windspeed  \\\n",
       "15762  1.697960  0.981668        0  0.244746  0.248650  0.479123  -0.722744   \n",
       "4213  -0.046370 -1.017656        0  1.385026  1.131807 -1.538014   0.226382   \n",
       "14301 -1.354618  0.981668        0  0.866717  0.866569  0.266793  -1.553427   \n",
       "15900 -0.918535  0.981668        0 -0.999197 -0.988352  0.903783  -0.485860   \n",
       "14320  1.407239  0.981668        0  1.074041  1.043200 -0.157867  -0.248181   \n",
       "\n",
       "       Feb  Mar  Apr      ...        windspeed*Sept  windspeed*Oct  \\\n",
       "15762    0    0    0      ...                   0.0         0.1045   \n",
       "4213     0    0    0      ...                   0.0         0.0000   \n",
       "14301    0    0    0      ...                   0.0         0.0000   \n",
       "15900    0    0    0      ...                   0.0         0.1343   \n",
       "14320    0    0    0      ...                   0.0         0.0000   \n",
       "\n",
       "       windspeed*Nov  windspeed*Dec  windspeed*Mon  windspeed*Tue  \\\n",
       "15762            0.0            0.0            0.0         0.1045   \n",
       "4213             0.0            0.0            0.0         0.0000   \n",
       "14301            0.0            0.0            0.0         0.0000   \n",
       "15900            0.0            0.0            0.0         0.0000   \n",
       "14320            0.0            0.0            0.0         0.0000   \n",
       "\n",
       "       windspeed*Wed  windspeed*Thu  windspeed*Fri  windspeed*Sat  \n",
       "15762         0.0000            0.0         0.0000            0.0  \n",
       "4213          0.2239            0.0         0.0000            0.0  \n",
       "14301         0.0000            0.0         0.0000            0.0  \n",
       "15900         0.1343            0.0         0.0000            0.0  \n",
       "14320         0.0000            0.0         0.1642            0.0  \n",
       "\n",
       "[5 rows x 110 columns]"
      ]
     },
     "execution_count": 116,
     "metadata": {},
     "output_type": "execute_result"
    }
   ],
   "source": [
    "practice_X_train_interact.head()"
   ]
  },
  {
   "cell_type": "markdown",
   "metadata": {
    "colab_type": "text",
    "id": "MGd5qdPu48da"
   },
   "source": [
    "**1.6** Combine all your code so far into a function that takes in `bikes_train`, `bikes_val`, the names of columns for polynomial, the target column, the columns to be dropped and produces computation-ready design matrices `X_train` and `X_val` and responses `y_train` and `y_val`. Your final function should build correct, scaled design matrices with the stated interaction terms and any polynomial degree."
   ]
  },
  {
   "cell_type": "code",
   "execution_count": 55,
   "metadata": {},
   "outputs": [],
   "source": [
    "def get_design_mats(train_df, val_df,  degree, \n",
    "                    columns_forpoly=['temp', 'atemp', 'hum','windspeed', 'hour'],\n",
    "                    target_col='counts', \n",
    "                    bad_columns=['counts', 'registered', 'casual', 'workingday', 'month', 'dteday']):\n",
    "    # add code here \n",
    "    \n",
    "    # get predictors and target\n",
    "    x_val,y_val = get_X_and_y(val_df, target_col, bad_columns)\n",
    "    x_train,y_train = get_X_and_y(train_df, target_col, bad_columns)\n",
    "    \n",
    "    # scale columns\n",
    "    x_val_scaled = scale_col(x_val, x_train, columns_forpoly)\n",
    "    x_train_scaled = scale_col(x_train, x_train, columns_forpoly)\n",
    "    \n",
    "    # add polynomial terms\n",
    "    x_val_poly = add_poly_columns(x_val_scaled, columns_forpoly, degree)\n",
    "    x_train_poly = add_poly_columns(x_train_scaled, columns_forpoly, degree)\n",
    "    \n",
    "    # add interaction terms\n",
    "    x_val_interact = add_interaction_terms(x_val_poly, x_val)\n",
    "    x_train_interact = add_interaction_terms(x_train_poly, x_train)\n",
    "    \n",
    "    x_train, x_val = x_train_interact, x_val_interact\n",
    "    \n",
    "    return x_train,y_train, x_val,y_val"
   ]
  },
  {
   "cell_type": "code",
   "execution_count": 56,
   "metadata": {},
   "outputs": [],
   "source": [
    "# your code here\n",
    "x_train,y_train, x_val,y_val = get_design_mats(bikes_train, bikes_val,  3)"
   ]
  },
  {
   "cell_type": "code",
   "execution_count": 57,
   "metadata": {},
   "outputs": [
    {
     "data": {
      "text/plain": [
       "Index(['hour', 'year', 'holiday', 'temp', 'atemp', 'hum', 'windspeed', 'Feb',\n",
       "       'Mar', 'Apr',\n",
       "       ...\n",
       "       'windspeed*Sept', 'windspeed*Oct', 'windspeed*Nov', 'windspeed*Dec',\n",
       "       'windspeed*Mon', 'windspeed*Tue', 'windspeed*Wed', 'windspeed*Thu',\n",
       "       'windspeed*Fri', 'windspeed*Sat'],\n",
       "      dtype='object', length=108)"
      ]
     },
     "execution_count": 57,
     "metadata": {},
     "output_type": "execute_result"
    }
   ],
   "source": [
    "x_train.columns"
   ]
  },
  {
   "cell_type": "code",
   "execution_count": 58,
   "metadata": {},
   "outputs": [
    {
     "data": {
      "text/plain": [
       "Index(['counts'], dtype='object')"
      ]
     },
     "execution_count": 58,
     "metadata": {},
     "output_type": "execute_result"
    }
   ],
   "source": [
    "y_train.columns"
   ]
  },
  {
   "cell_type": "code",
   "execution_count": 59,
   "metadata": {},
   "outputs": [
    {
     "data": {
      "text/plain": [
       "Index(['hour', 'year', 'holiday', 'temp', 'atemp', 'hum', 'windspeed', 'Feb',\n",
       "       'Mar', 'Apr',\n",
       "       ...\n",
       "       'windspeed*Sept', 'windspeed*Oct', 'windspeed*Nov', 'windspeed*Dec',\n",
       "       'windspeed*Mon', 'windspeed*Tue', 'windspeed*Wed', 'windspeed*Thu',\n",
       "       'windspeed*Fri', 'windspeed*Sat'],\n",
       "      dtype='object', length=108)"
      ]
     },
     "execution_count": 59,
     "metadata": {},
     "output_type": "execute_result"
    }
   ],
   "source": [
    "x_val.columns"
   ]
  },
  {
   "cell_type": "code",
   "execution_count": 60,
   "metadata": {},
   "outputs": [
    {
     "data": {
      "text/plain": [
       "Index(['counts'], dtype='object')"
      ]
     },
     "execution_count": 60,
     "metadata": {},
     "output_type": "execute_result"
    }
   ],
   "source": [
    "y_val.columns"
   ]
  },
  {
   "cell_type": "markdown",
   "metadata": {},
   "source": [
    "<div class='exercise'> <b> Question 2 [20pts]: Regularization via Ridge </b></div>"
   ]
  },
  {
   "cell_type": "markdown",
   "metadata": {},
   "source": [
    "**2.1** For each degree in 1 through 8:\n",
    "\n",
    "1.  Build the training design matrix and validation design matrix using the function `get_design_mats` with polynomial terms up through the specified degree.\n",
    "\n",
    "2.  Fit a regression model to the training data.\n",
    "\n",
    "3.  Report the model's score on the validation data.\n",
    "\n",
    "**2.2** Discuss patterns you see in the results from 2.1. Which model would you select, and why?\n",
    "\n",
    "**2.3** Let's try regularizing our models via ridge regression. Build a table showing the validation set $R^2$ of polynomial models with degree from 1-8, regularized at the levels $\\lambda = (.01, .05, .1,.5, 1, 5, 10, 50, 100)$. Do not perform cross validation at this point, simply report performance on the single validation set. \n",
    "\n",
    "**2.4** Find the best-scoring degree and regularization combination.\n",
    "\n",
    "**2.5** It's time to see how well our selected model will do on future data. Read in the provided test dataset, do any required formatting, and report the best model's $R^2$ score. How does it compare to the validation set score that made us choose this model? \n",
    "\n",
    "**2.6** Why do you think our model's test score was quite a bit worse than its validation score? Does the test set simply contain harder examples, or is something else going on?"
   ]
  },
  {
   "cell_type": "markdown",
   "metadata": {},
   "source": [
    "### Solutions "
   ]
  },
  {
   "cell_type": "markdown",
   "metadata": {},
   "source": [
    "**2.1** For each degree in 1 through 8:\n",
    "\n",
    "1.  Build the training design matrix and validation design matrix using the function `get_design_mats` with polynomial terms up through the specified degree.\n",
    "\n",
    "2.  Fit a regression model to the training data.\n",
    "\n",
    "3.  Report the model's score on the validation data."
   ]
  },
  {
   "cell_type": "code",
   "execution_count": 124,
   "metadata": {
    "colab": {
     "base_uri": "https://localhost:8080/",
     "height": 380
    },
    "colab_type": "code",
    "id": "VTWx4demHUo0",
    "outputId": "fb9ca7f7-8b7b-42e5-fab8-471ab5f57180"
   },
   "outputs": [
    {
     "data": {
      "text/plain": [
       "Text(0.5,1,'The Best Performing Model is at Degree 8')"
      ]
     },
     "execution_count": 124,
     "metadata": {},
     "output_type": "execute_result"
    },
    {
     "data": {
      "image/png": "[encoded data removed]",
      "text/plain": [
       "<Figure size 432x288 with 1 Axes>"
      ]
     },
     "metadata": {},
     "output_type": "display_data"
    }
   ],
   "source": [
    "# your code here\n",
    "scores = {}\n",
    "for deg in range(1,9):\n",
    "    x_train, y_train, x_val, y_val = get_design_mats(bikes_train, bikes_val,  deg)\n",
    "    model = LinearRegression().fit(x_train, y_train)\n",
    "    scores['deg ' + str(deg)] = model.score(x_val,y_val)\n",
    "plt.bar(scores.keys(),scores.values())\n",
    "plt.ylabel('R^2 score')\n",
    "plt.title('The Best Performing Model is at Degree 8')"
   ]
  },
  {
   "cell_type": "markdown",
   "metadata": {},
   "source": [
    "**2.2** Discuss patterns you see in the results from 2.1. Which model would you select, and why?**"
   ]
  },
  {
   "cell_type": "markdown",
   "metadata": {},
   "source": [
    "*your answer here*\n",
    "\n",
    "I would select the degree 8 model although, since this is the highest degree we tested, I would explore higher degree polynomials."
   ]
  },
  {
   "cell_type": "markdown",
   "metadata": {
    "colab_type": "text",
    "id": "sQJ1vesGNwOf"
   },
   "source": [
    "**2.3** Let's try regularizing our models via ridge regression. Build a table showing the validation set $R^2$ of polynomial models with degree from 1-8, regularized at the levels $\\lambda = (.01, .05, .1,.5, 1, 5, 10, 50, 100)$. Do not perform cross validation at this point, simply report performance on the single validation set. \n"
   ]
  },
  {
   "cell_type": "code",
   "execution_count": 174,
   "metadata": {
    "colab": {
     "base_uri": "https://localhost:8080/",
     "height": 224
    },
    "colab_type": "code",
    "id": "GUvYAWHzQAmb",
    "outputId": "7a60ee39-ee8e-46a9-aff7-781580b83717"
   },
   "outputs": [],
   "source": [
    "# your code here\n",
    "scores = {}\n",
    "reg_param = [0.01, 0.05, .1,.5,1,5,10,50,100]\n",
    "for deg in range(1,9):\n",
    "    scores['deg_' + str(deg)] = []\n",
    "    for reg in reg_param:\n",
    "        x_train, y_train, x_val, y_val = get_design_mats(bikes_train, bikes_val,  deg)\n",
    "        model = Ridge(alpha = reg).fit(x_train, y_train)\n",
    "        scores['deg_' + str(deg)].append(model.score(x_val,y_val))\n",
    "scores_df = pd.DataFrame(scores)"
   ]
  },
  {
   "cell_type": "code",
   "execution_count": 175,
   "metadata": {},
   "outputs": [],
   "source": [
    "reg_param_str = [str(r) for r in reg_param]"
   ]
  },
  {
   "cell_type": "code",
   "execution_count": 184,
   "metadata": {},
   "outputs": [
    {
     "data": {
      "text/plain": [
       "Text(0.5,1,'The best model performance is achieved with \\n degree = 8 and regularization parameter = .1')"
      ]
     },
     "execution_count": 184,
     "metadata": {},
     "output_type": "execute_result"
    },
    {
     "data": {
      "image/png": "[encoded data removed]",
      "text/plain": [
       "<Figure size 720x504 with 1 Axes>"
      ]
     },
     "metadata": {},
     "output_type": "display_data"
    }
   ],
   "source": [
    "plt.figure(figsize = (10,7))\n",
    "for col in scores_df:\n",
    "    plt.plot(reg_param_str, scores_df[col], label = col)\n",
    "plt.legend()\n",
    "plt.xlabel('regularization parameter')\n",
    "plt.ylabel('R^2')\n",
    "plt.title(\"The best model performance is achieved with \\n degree = 8 and regularization parameter = .1\")"
   ]
  },
  {
   "cell_type": "markdown",
   "metadata": {
    "colab_type": "text",
    "id": "TBwFV1wCTWnw"
   },
   "source": [
    "**2.4** Find the best-scoring degree and regularization combination."
   ]
  },
  {
   "cell_type": "code",
   "execution_count": 188,
   "metadata": {
    "colab": {
     "base_uri": "https://localhost:8080/",
     "height": 90
    },
    "colab_type": "code",
    "id": "1zminoljTm9y",
    "outputId": "b12035c4-5a20-4449-fed4-dcc5e81c0db9"
   },
   "outputs": [
    {
     "name": "stdout",
     "output_type": "stream",
     "text": [
      "The best degree is deg_8 and the best regularization parameter is 0.1\n"
     ]
    }
   ],
   "source": [
    "# your code here\n",
    "best_score = 0\n",
    "best_degree = None\n",
    "best_reg = None\n",
    "for col in scores_df:\n",
    "    for idx, param in enumerate(reg_param):\n",
    "        if scores_df[col][idx] > best_score:\n",
    "            best_score = scores_df[col][idx]\n",
    "            best_degree = col\n",
    "            best_reg = param\n",
    "print(\"The best degree is {} and the best regularization parameter is {}\".format(best_degree, best_reg))"
   ]
  },
  {
   "cell_type": "markdown",
   "metadata": {
    "colab_type": "text",
    "id": "KU3rqk4qU5BK"
   },
   "source": [
    "**2.5** It's time to see how well our selected model will do on future data. Read in the provided test dataset `data/bikes_test.csv`, do any required formatting, and report the best model's $R^2$ score. How does it compare to the validation set score that made us choose this model? "
   ]
  },
  {
   "cell_type": "code",
   "execution_count": 67,
   "metadata": {
    "colab": {},
    "colab_type": "code",
    "id": "cbzfV7HaW_U1"
   },
   "outputs": [
    {
     "data": {
      "text/html": [
       "<div>\n",
       "<style scoped>\n",
       "    .dataframe tbody tr th:only-of-type {\n",
       "        vertical-align: middle;\n",
       "    }\n",
       "\n",
       "    .dataframe tbody tr th {\n",
       "        vertical-align: top;\n",
       "    }\n",
       "\n",
       "    .dataframe thead th {\n",
       "        text-align: right;\n",
       "    }\n",
       "</style>\n",
       "<table border=\"1\" class=\"dataframe\">\n",
       "  <thead>\n",
       "    <tr style=\"text-align: right;\">\n",
       "      <th></th>\n",
       "      <th>dteday</th>\n",
       "      <th>hour</th>\n",
       "      <th>year</th>\n",
       "      <th>holiday</th>\n",
       "      <th>workingday</th>\n",
       "      <th>temp</th>\n",
       "      <th>atemp</th>\n",
       "      <th>hum</th>\n",
       "      <th>windspeed</th>\n",
       "      <th>casual</th>\n",
       "      <th>...</th>\n",
       "      <th>Mon</th>\n",
       "      <th>Tue</th>\n",
       "      <th>Wed</th>\n",
       "      <th>Thu</th>\n",
       "      <th>Fri</th>\n",
       "      <th>Sat</th>\n",
       "      <th>Cloudy</th>\n",
       "      <th>Snow</th>\n",
       "      <th>Storm</th>\n",
       "      <th>month</th>\n",
       "    </tr>\n",
       "  </thead>\n",
       "  <tbody>\n",
       "    <tr>\n",
       "      <th>7955</th>\n",
       "      <td>2011-12-03</td>\n",
       "      <td>3</td>\n",
       "      <td>0</td>\n",
       "      <td>0</td>\n",
       "      <td>0</td>\n",
       "      <td>0.24</td>\n",
       "      <td>0.2424</td>\n",
       "      <td>0.70</td>\n",
       "      <td>0.1343</td>\n",
       "      <td>4</td>\n",
       "      <td>...</td>\n",
       "      <td>0</td>\n",
       "      <td>0</td>\n",
       "      <td>0</td>\n",
       "      <td>0</td>\n",
       "      <td>0</td>\n",
       "      <td>1</td>\n",
       "      <td>0</td>\n",
       "      <td>0</td>\n",
       "      <td>0</td>\n",
       "      <td>12</td>\n",
       "    </tr>\n",
       "    <tr>\n",
       "      <th>113</th>\n",
       "      <td>2011-01-05</td>\n",
       "      <td>22</td>\n",
       "      <td>0</td>\n",
       "      <td>0</td>\n",
       "      <td>1</td>\n",
       "      <td>0.18</td>\n",
       "      <td>0.1970</td>\n",
       "      <td>0.55</td>\n",
       "      <td>0.1343</td>\n",
       "      <td>1</td>\n",
       "      <td>...</td>\n",
       "      <td>0</td>\n",
       "      <td>0</td>\n",
       "      <td>1</td>\n",
       "      <td>0</td>\n",
       "      <td>0</td>\n",
       "      <td>0</td>\n",
       "      <td>0</td>\n",
       "      <td>0</td>\n",
       "      <td>0</td>\n",
       "      <td>1</td>\n",
       "    </tr>\n",
       "    <tr>\n",
       "      <th>701</th>\n",
       "      <td>2011-02-01</td>\n",
       "      <td>14</td>\n",
       "      <td>0</td>\n",
       "      <td>0</td>\n",
       "      <td>1</td>\n",
       "      <td>0.22</td>\n",
       "      <td>0.2576</td>\n",
       "      <td>0.80</td>\n",
       "      <td>0.0896</td>\n",
       "      <td>5</td>\n",
       "      <td>...</td>\n",
       "      <td>0</td>\n",
       "      <td>1</td>\n",
       "      <td>0</td>\n",
       "      <td>0</td>\n",
       "      <td>0</td>\n",
       "      <td>0</td>\n",
       "      <td>1</td>\n",
       "      <td>0</td>\n",
       "      <td>0</td>\n",
       "      <td>2</td>\n",
       "    </tr>\n",
       "    <tr>\n",
       "      <th>12221</th>\n",
       "      <td>2012-05-29</td>\n",
       "      <td>10</td>\n",
       "      <td>1</td>\n",
       "      <td>0</td>\n",
       "      <td>1</td>\n",
       "      <td>0.74</td>\n",
       "      <td>0.6970</td>\n",
       "      <td>0.70</td>\n",
       "      <td>0.2985</td>\n",
       "      <td>67</td>\n",
       "      <td>...</td>\n",
       "      <td>0</td>\n",
       "      <td>1</td>\n",
       "      <td>0</td>\n",
       "      <td>0</td>\n",
       "      <td>0</td>\n",
       "      <td>0</td>\n",
       "      <td>0</td>\n",
       "      <td>0</td>\n",
       "      <td>0</td>\n",
       "      <td>5</td>\n",
       "    </tr>\n",
       "    <tr>\n",
       "      <th>7255</th>\n",
       "      <td>2011-11-03</td>\n",
       "      <td>22</td>\n",
       "      <td>0</td>\n",
       "      <td>0</td>\n",
       "      <td>1</td>\n",
       "      <td>0.40</td>\n",
       "      <td>0.4091</td>\n",
       "      <td>0.82</td>\n",
       "      <td>0.0000</td>\n",
       "      <td>21</td>\n",
       "      <td>...</td>\n",
       "      <td>0</td>\n",
       "      <td>0</td>\n",
       "      <td>0</td>\n",
       "      <td>1</td>\n",
       "      <td>0</td>\n",
       "      <td>0</td>\n",
       "      <td>0</td>\n",
       "      <td>0</td>\n",
       "      <td>0</td>\n",
       "      <td>11</td>\n",
       "    </tr>\n",
       "  </tbody>\n",
       "</table>\n",
       "<p>5 rows × 36 columns</p>\n",
       "</div>"
      ],
      "text/plain": [
       "           dteday  hour  year  holiday  workingday  temp   atemp   hum  \\\n",
       "7955   2011-12-03     3     0        0           0  0.24  0.2424  0.70   \n",
       "113    2011-01-05    22     0        0           1  0.18  0.1970  0.55   \n",
       "701    2011-02-01    14     0        0           1  0.22  0.2576  0.80   \n",
       "12221  2012-05-29    10     1        0           1  0.74  0.6970  0.70   \n",
       "7255   2011-11-03    22     0        0           1  0.40  0.4091  0.82   \n",
       "\n",
       "       windspeed  casual  ...    Mon  Tue  Wed  Thu  Fri  Sat  Cloudy  Snow  \\\n",
       "7955      0.1343       4  ...      0    0    0    0    0    1       0     0   \n",
       "113       0.1343       1  ...      0    0    1    0    0    0       0     0   \n",
       "701       0.0896       5  ...      0    1    0    0    0    0       1     0   \n",
       "12221     0.2985      67  ...      0    1    0    0    0    0       0     0   \n",
       "7255      0.0000      21  ...      0    0    0    1    0    0       0     0   \n",
       "\n",
       "       Storm  month  \n",
       "7955       0     12  \n",
       "113        0      1  \n",
       "701        0      2  \n",
       "12221      0      5  \n",
       "7255       0     11  \n",
       "\n",
       "[5 rows x 36 columns]"
      ]
     },
     "execution_count": 67,
     "metadata": {},
     "output_type": "execute_result"
    }
   ],
   "source": [
    "# your code here\n",
    "bikes_test = pd.read_csv('./data/bikes_test.csv', index_col= 0)\n",
    "bikes_test.head()"
   ]
  },
  {
   "cell_type": "code",
   "execution_count": 189,
   "metadata": {},
   "outputs": [
    {
     "name": "stdout",
     "output_type": "stream",
     "text": [
      "R^2 score for best performing model on test set:  0.5896762331536515\n"
     ]
    }
   ],
   "source": [
    "# set best params\n",
    "best_deg = 8\n",
    "best_reg_param = 0.01\n",
    "\n",
    "# fit model\n",
    "x_train, y_train, x_test, y_test = get_design_mats(bikes_main, bikes_test, best_deg)\n",
    "model = Ridge(alpha = best_reg_param).fit(x_train, y_train)\n",
    "\n",
    "#evaluate best model\n",
    "print(\"R^2 score for best performing model on test set: \",model.score(x_test,y_test))"
   ]
  },
  {
   "cell_type": "markdown",
   "metadata": {},
   "source": [
    "**2.6** Why do you think our model's test score was quite a bit worse than its validation score? Does the test set simply contain harder examples, or is something else going on?"
   ]
  },
  {
   "cell_type": "markdown",
   "metadata": {},
   "source": [
    "*your answer here*\n",
    "While in this case the test score was higher than the validation score, there are two reasons why this might occur.\n",
    "\n",
    "* **Regression to the Mean:** The performance of any model is a combination of true predictive ability and luck. For every additional model you evaluate, the chance that the best performing model was chosen based on luck rather skill increases. While this model still may be the best, it's performance may regress towards the mean when evaluated on the test set.\n",
    "\n",
    "* **Distributional Shift Between Train and Test Data:** If the distribution of our test data does not match the distribution of our training and validation data, then model performance may suffer. This could happen if the test data was generated over a different time period, was not a representative sample of the dataset, or by chance.\n",
    "\n",
    "* **Overfitting the validation data** If you evaluate a number of models on the training set, you will begin to fit to the individual data points in the validation set and not the underlying data generating distribution. This will lead to a \"best\" model with high variance that may not perform well in general."
   ]
  },
  {
   "cell_type": "markdown",
   "metadata": {},
   "source": [
    "<div class='exercise'><b> Question 3 [20pts]: Comparing Ridge, Lasso, and OLS </b> </div>"
   ]
  },
  {
   "cell_type": "markdown",
   "metadata": {},
   "source": [
    "**3.1** Build a dataset with polynomial degree 1 and fit an OLS model, a Ridge model, and a Lasso model. Use `RidgeCV` and `LassoCV` to select the best regularization level from among `(.1,.5,1,5,10,50,100)`. \n",
    "\n",
    "Note: On the lasso model, you will need to increase `max_iter` to 100,000 for the optimization to converge.\n",
    "\n",
    "**3.2** Plot histograms of the coefficients found by each of OLS, ridge, and lasso. What trends do you see in the magnitude of the coefficients?\n",
    "\n",
    "**3.3** The plots above show the overall distribution of coefficient values in each model, but do not show how each model treats individual coefficients. Build a plot which cleanly presents, for each feature in the data, 1) The coefficient assigned by OLS, 2) the coefficient assigned by ridge, and 3) the coefficient assigned by lasso.\n",
    "\n",
    "**Hint: Bar plots are a possible choice, but you are not required to use them**\n",
    "\n",
    "**Hint: use `xticks` to label coefficients with their feature names**\n",
    "\n",
    "**3.4** What trends do you see in the plot above? How do the three approaches handle the correlated pair `temp` and `atemp`?"
   ]
  },
  {
   "cell_type": "markdown",
   "metadata": {},
   "source": [
    "### Solutions"
   ]
  },
  {
   "cell_type": "markdown",
   "metadata": {},
   "source": [
    "**3.1** Build a dataset with polynomial degree 1 and fit an OLS model, a Ridge model, and a Lasso model. Use `RidgeCV` and `LassoCV` to select the best regularization level from among `(.1,.5,1,5,10,50,100)`. \n",
    "\n",
    "Note: On the lasso model, you will need to increase `max_iter` to 100,000 for the optimization to converge."
   ]
  },
  {
   "cell_type": "code",
   "execution_count": 70,
   "metadata": {},
   "outputs": [
    {
     "name": "stderr",
     "output_type": "stream",
     "text": [
      "/Users/joshfeldman/anaconda3/envs/py36/lib/python3.6/site-packages/sklearn/linear_model/coordinate_descent.py:1094: DataConversionWarning: A column-vector y was passed when a 1d array was expected. Please change the shape of y to (n_samples, ), for example using ravel().\n",
      "  y = column_or_1d(y, warn=True)\n"
     ]
    }
   ],
   "source": [
    "#your code here\n",
    "reg_param = [.1,.5,1,5,10,50,100]\n",
    "x_train, y_train, x_test, y_test = get_design_mats(bikes_main, bikes_test, 1)\n",
    "model_ols = LinearRegression().fit(x_train, y_train)\n",
    "model_ridge = RidgeCV(alphas = reg_param).fit(x_train, y_train)\n",
    "model_lasso = LassoCV(alphas = reg_param, max_iter = 100000).fit(x_train, y_train)"
   ]
  },
  {
   "cell_type": "markdown",
   "metadata": {},
   "source": [
    "\n",
    "**3.2** Plot histograms of the coefficients found by each of OLS, ridge, and lasso. What trends do you see in the magnitude of the coefficients?"
   ]
  },
  {
   "cell_type": "code",
   "execution_count": 71,
   "metadata": {},
   "outputs": [
    {
     "name": "stderr",
     "output_type": "stream",
     "text": [
      "/Users/joshfeldman/anaconda3/envs/py36/lib/python3.6/site-packages/matplotlib/figure.py:457: UserWarning: matplotlib is currently using a non-GUI backend, so cannot show the figure\n",
      "  \"matplotlib is currently using a non-GUI backend, \"\n"
     ]
    },
    {
     "data": {
      "image/png": "[encoded data removed]",
      "text/plain": [
       "<Figure size 504x504 with 3 Axes>"
      ]
     },
     "metadata": {},
     "output_type": "display_data"
    }
   ],
   "source": [
    "fig, axes = plt.subplots(3, 1, figsize=(7, 7), sharex=True, sharey = True)\n",
    "models = [model_ols, model_ridge, model_lasso]\n",
    "model_names = ['ols','ridge','lasso']\n",
    "axes[0].hist(list(model_ols.coef_[0]),bins = 50)\n",
    "axes[0].set_xlabel('Coefficient')\n",
    "axes[0].set_ylabel('Count')\n",
    "axes[0].set_title('OLS')\n",
    "\n",
    "axes[1].hist(list(model_ridge.coef_[0]))\n",
    "axes[1].set_xlabel('Coefficient')\n",
    "axes[1].set_ylabel('Count')\n",
    "axes[1].set_title('Ridge')\n",
    "\n",
    "axes[2].hist(list(model_lasso.coef_))\n",
    "axes[2].set_xlabel('Coefficient')\n",
    "axes[2].set_ylabel('Count')\n",
    "axes[2].set_title('Lasso')\n",
    "\n",
    "fig.suptitle('Coefficient Distribution for OLS, Ridge, Lasso Regressions',y=1.01)\n",
    "fig.tight_layout()\n",
    "fig.show()"
   ]
  },
  {
   "cell_type": "markdown",
   "metadata": {},
   "source": [
    "*your answer here*\n"
   ]
  },
  {
   "cell_type": "markdown",
   "metadata": {},
   "source": [
    "Lasso and ridge both have a smaller range in their coefficient values when compared to OLS. Lasso has many more values equal to 0, while Ridge simply has smaller coefficient values."
   ]
  },
  {
   "cell_type": "markdown",
   "metadata": {},
   "source": [
    "**3.3** The plots above show the overall distribution of coefficient values in each model, but do not show how each model treats individual coefficients. Build a plot which cleanly presents, for each feature in the data, 1) The coefficient assigned by OLS, 2) the coefficient assigned by ridge, and 3) the coefficient assigned by lasso.\n",
    "\n",
    "**Hint: Bar plots are a possible choice, but you are not required to use them**\n",
    "\n",
    "**Hint: use `xticks` to label coefficients with their feature names**"
   ]
  },
  {
   "cell_type": "code",
   "execution_count": 82,
   "metadata": {},
   "outputs": [
    {
     "data": {
      "image/png": "[encoded data removed]",
      "text/plain": [
       "<Figure size 360x720 with 1 Axes>"
      ]
     },
     "metadata": {},
     "output_type": "display_data"
    }
   ],
   "source": [
    "# your code here\n",
    "df_coefs = pd.DataFrame({'ols': model_ols.coef_[0], 'ridge': model_ridge.coef_[0], 'lasso': model_lasso.coef_})\n",
    "df_coefs.index = x_train.columns\n",
    "non_interaction = [var_name for var_name in df_coefs.index if \"*\" not in var_name]\n",
    "coef_plt = (df_coefs\n",
    "            .loc[non_interaction]\n",
    "            .sort_values(by='ols')\n",
    "            .plot(kind = 'barh',\n",
    "                  title = \"Coefficients for Non-Interaction terms in \\nOLS, Ridge, and Lasso Linear Regression\",\n",
    "                  figsize = (5,10)\n",
    "                 )\n",
    "           )\n",
    "coef_plt.set_xlabel('coefficient value')\n",
    "coef_plt.set_ylabel('coefficient name')\n",
    "plt.show()"
   ]
  },
  {
   "cell_type": "code",
   "execution_count": 84,
   "metadata": {
    "scrolled": false
   },
   "outputs": [
    {
     "data": {
      "text/plain": [
       "Text(0,0.5,'coefficient name')"
      ]
     },
     "execution_count": 84,
     "metadata": {},
     "output_type": "execute_result"
    },
    {
     "data": {
      "image/png": "[encoded data removed]",
      "text/plain": [
       "<Figure size 360x2520 with 1 Axes>"
      ]
     },
     "metadata": {},
     "output_type": "display_data"
    }
   ],
   "source": [
    "# your code here\n",
    "interaction = [var_name for var_name in df_coefs.index if \"*\" in var_name]\n",
    "coef_plt = (df_coefs\n",
    "            .loc[interaction]\n",
    "            .plot(kind = 'barh',\n",
    "                  title = \"Coefficients for Interaction terms in \\nOLS, Ridge, and Lasso Linear Regression\",\n",
    "                  figsize = (5,35)\n",
    "                 )\n",
    "           )\n",
    "coef_plt.set_xlabel('coefficient value')\n",
    "coef_plt.set_ylabel('coefficient name')"
   ]
  },
  {
   "cell_type": "markdown",
   "metadata": {},
   "source": [
    "**3.4** What trends do you see in the plot above? How do the three approaches handle the correlated pair `temp` and `atemp`?"
   ]
  },
  {
   "cell_type": "markdown",
   "metadata": {},
   "source": [
    "*your answer here*\n",
    "\n",
    "There is greater variance in the coefficients for the OLS regression as opposed to ridge and lasso. A contributing factor to the stability of ridge and lasso is that these methods better handle collinearities in the data. While OLS sets `temp` to a large positive value and `atemp` to a large negative value, ridge and lasso both set `temp` to a relatively large positive value but restrict `atemp` to small positive values. This occurs because, by discounting large parameter values, ridge and lasso are forced to be more efficient with the information provided. If `temp` and `atemp` are collinear, these regularized models will make the parameters for one of these covariates small in order to avoid encoding redundant information (and in the case of lasso, even nullify the coeffecient altogether)."
   ]
  },
  {
   "cell_type": "markdown",
   "metadata": {},
   "source": [
    "<div class='exercise'> <b> Question 4 [20 pts]: Reflection </b></div>\n",
    "These problems are open-ended, and you are not expected to write more than 2-3 sentences. We are interested in seeing that you have thought about these issues; you will be graded on how well you justify your conclusions here, not on what you conclude."
   ]
  },
  {
   "cell_type": "markdown",
   "metadata": {},
   "source": [
    "**4.1** Reflect back on the `get_design_mats` function you built. Writing this function useful in your analysis? What issues might you have encountered if you copy/pasted the model-building code instead of tying it together in a function? Does a `get_design_mat` function seem wise in general, or are there better options?"
   ]
  },
  {
   "cell_type": "markdown",
   "metadata": {},
   "source": [
    "*your answer here*\n",
    "\n",
    "Implementing the get_design matrix allows for greater reproducibility, clarity, and rhobustness:\n",
    "* If someone wanted to reproduce my preprocessing steps, they would only have to look at this function. \n",
    "* It also makes it clear to someone reading my code what preprocessing steps I took. \n",
    "* Finally, if I want to iterate on my preprocessing steps, it ensures that I am applying the same methods to my training, validation, and test sets. If we apply different preprocessing steps in training, validation, and testing, we may get innacurate results or errors.\n",
    "\n",
    "Implementing a `get_design_mat` function is wise in general. However, if we want to compare different preprocessing and modelling combinations, one might need to implement multiple preprocessing functions, which could be stored in a list or another more advanced data structure as needed. Additionally, if we wanted to encapsulate the preprocessing and model into a single data structure, one might want to implement a class."
   ]
  },
  {
   "cell_type": "markdown",
   "metadata": {},
   "source": [
    "**4.2** What are the costs and benefits of applying ridge/lasso regularization to an overfit OLS model, versus setting a specific degree of polynomial or forward selecting features for the model?"
   ]
  },
  {
   "cell_type": "markdown",
   "metadata": {},
   "source": [
    "*your answer here*\n",
    "\n",
    "**benefits:** \n",
    "* The benefit of using ridge/lasso regularization over setting a specific degree polynomial is that it doesn't require us to know the ideal degree beforehand, which might be difficult to discover.  \n",
    "* The benefit of using ridge/lasso regularization over forward selection is that it regularizes all the freatures simultaneously, while foward selection does a greedy search\n",
    "* Lasso and ridge can handle the case when p > n \n",
    "* Ridge/Lasso might lead to more accurate predictions than forward selection because they can adjust the weights of the covariates instead of making a binary decision to include or not. This applies more to ridge than lasso since lasso tends to set coeffecients to 0.\n",
    "\n",
    "**costs:**\n",
    "* Lasso and ridge require you to specify a tuning parameter, which might be difficult and costly to discover due to the need to conduct cross validation for each candidate parameter.\n"
   ]
  },
  {
   "cell_type": "markdown",
   "metadata": {},
   "source": [
    "**4.3** This pset posed a purely predictive goal: forecast ridership as accurately as possible. How important is interpretability in this context? Considering, e.g., your lasso and ridge models from Question 3, how would you react if the models predicted well, but the coefficient values didn't make sense once interpreted?"
   ]
  },
  {
   "cell_type": "markdown",
   "metadata": {},
   "source": [
    "*your answer here*\n",
    "\n",
    "Interpretability is still important, even if the goal is prediction. If our model encounters outliers with respect to our training data or if the data generating process changes over time, it must be either robust to these changes or we should be confident that we can confidently identify these moments. An interpretable model helps us ensure that our regression is not merely identifying patterns in the data, but actually learning a model of the world that - at the very least - doesn't completely contradict our own conceptions and theories. Furthermore, if we are operating in a high stakes situation where single errors have a high cost, an interpretable model may help a human operator catch mistakes in real time. Finally, interpretability may actually result in better models because we can more easily diagnose why our model makes incorrect predictions. We can use this to information to iterate and improve.\n",
    "\n",
    "If the model predicted well, but the coefficients didn't make sense, I would first look for colinearities in my data. Since it could be that the strange covariate being used for prediction is correlated with a covariate that makes more sense, the model might be using the strange covariate as a proxy for the expected covariate.\n",
    "\n",
    "Strange covariates could also be a warning sign that our model is not as good as our test set score suggests. I would check to make sure that there are no bugs in my code and, if possible, collect more data to test on. \n",
    "\n",
    "I would reflect on whether my data is an innacurate sample, because this might result in my conceptual model of the problem being different from the data generating process.\n",
    "\n",
    "Finally, if it seems like the strange covariate has genuine explanatory power, I might revise my conceptual model of the problem."
   ]
  },
  {
   "cell_type": "markdown",
   "metadata": {},
   "source": [
    "\n",
    "**4.4** Reflect back on our original goal of helping BikeShare predict what demand will be like in the week ahead, and thus how many bikes they can bring in for maintenance. In your view, did we accomplish this goal? If yes, which model would you put into production and why? If not, which model came closest, what other analyses might you conduct, and how likely do you think they are to work"
   ]
  },
  {
   "cell_type": "markdown",
   "metadata": {},
   "source": [
    "*your answer here*\n",
    "\n",
    "I do not think we accomplished the goal of building a predictive model we can be confident in.\n",
    "\n",
    "The model that came closest was the degree 8 ridge regression with a regularization parameter of 0.1.\n",
    "\n",
    "I am not confident in this model for three reasons:\n",
    "\n",
    "1) Degree 8 was at the edge of our polynomial range, meaning that degree 9+ terms would likely give better performance. I would explore higher degree terms.\n",
    "\n",
    "2) Evaluating our model based on R^2 is flawed because (a) if there is a small minority of instances that our model performs poorly on, it will be hidden in the average (b) using squared error means that our evaluation might be too sensitive to outliers. I would cluster my data and see if there are certain groups for which performance is particularly low and I would also consider other loss functions.\n",
    "\n",
    "3) Since we performed many validation tests, the chance that our best performing model simply was lucky is high. I would evaluate the models using cross validation to reduce this effect."
   ]
  },
  {
   "cell_type": "markdown",
   "metadata": {},
   "source": []
  },
  {
   "cell_type": "code",
   "execution_count": null,
   "metadata": {},
   "outputs": [],
   "source": []
  }
 ],
 "metadata": {
  "colab": {
   "collapsed_sections": [],
   "name": "day_level_test.ipynb",
   "provenance": [],
   "toc_visible": true,
   "version": "0.3.2"
  },
  "kernelspec": {
   "display_name": "Python [conda env:py36]",
   "language": "python",
   "name": "conda-env-py36-py"
  },
  "language_info": {
   "codemirror_mode": {
    "name": "ipython",
    "version": 3
   },
   "file_extension": ".py",
   "mimetype": "text/x-python",
   "name": "python",
   "nbconvert_exporter": "python",
   "pygments_lexer": "ipython3",
   "version": "3.6.6"
  }
 },
 "nbformat": 4,
 "nbformat_minor": 1
}
