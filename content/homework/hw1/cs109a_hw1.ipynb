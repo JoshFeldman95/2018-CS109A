{
 "cells": [
  {
   "cell_type": "markdown",
   "metadata": {},
   "source": [
    "# <img style=\"float: left; padding-right: 10px; width: 45px\" src=\"https://raw.githubusercontent.com/Harvard-IACS/2018-CS109A/master/content/styles/iacs.png\"> CS109A Introduction to Data Science \n",
    "\n",
    "## Homework 1: Data Collection - Web Scraping - Data Parsing\n",
    "\n",
    "**Harvard University**<br/>\n",
    "**Fall 2018**<br/>\n",
    "**Instructors**: Pavlos Protopapas and Kevin Rader\n",
    "\n",
    "\n",
    "\n",
    "<hr style='height:2px'>"
   ]
  },
  {
   "cell_type": "code",
   "execution_count": 2,
   "metadata": {},
   "outputs": [
    {
     "data": {
      "text/html": [
       "<style>\n",
       "h1 { \n",
       "    padding-top: 25px;\n",
       "    padding-bottom: 25px;\n",
       "    text-align: left; \n",
       "    padding-left: 10px;\n",
       "    background-color: #DDDDDD; \n",
       "    color: black;\n",
       "}\n",
       "h2 { \n",
       "    padding-top: 10px;\n",
       "    padding-bottom: 10px;\n",
       "    text-align: left; \n",
       "    padding-left: 5px;\n",
       "    background-color: #EEEEEE; \n",
       "    color: black;\n",
       "}\n",
       "\n",
       "div.exercise {\n",
       "\tbackground-color: #ffcccc;\n",
       "\tborder-color: #E9967A; \t\n",
       "\tborder-left: 5px solid #800080; \n",
       "\tpadding: 0.5em;\n",
       "}\n",
       "div.theme {\n",
       "\tbackground-color: #DDDDDD;\n",
       "\tborder-color: #E9967A; \t\n",
       "\tborder-left: 5px solid #800080; \n",
       "\tpadding: 0.5em;\n",
       "\tfont-size: 18pt;\n",
       "}\n",
       "p.q1 { \n",
       "    padding-top: 5px;\n",
       "    padding-bottom: 5px;\n",
       "    text-align: left; \n",
       "    padding-left: 5px;\n",
       "    background-color: #EEEEEE; \n",
       "    color: black;\n",
       "}\n",
       "header {\n",
       "   padding-top: 35px;\n",
       "    padding-bottom: 35px;\n",
       "    text-align: left; \n",
       "    padding-left: 10px;\n",
       "    background-color: #DDDDDD; \n",
       "    color: black;\n",
       "}\n",
       "</style>\n",
       "\n"
      ],
      "text/plain": [
       "<IPython.core.display.HTML object>"
      ]
     },
     "execution_count": 2,
     "metadata": {},
     "output_type": "execute_result"
    }
   ],
   "source": [
    "## RUN THIS CELL TO GET THE RIGHT FORMATTING \n",
    "import requests\n",
    "from IPython.core.display import HTML\n",
    "styles = requests.get(\"https://raw.githubusercontent.com/Harvard-IACS/2018-CS109A/master/content/styles/cs109.css\").text\n",
    "HTML(styles)"
   ]
  },
  {
   "cell_type": "markdown",
   "metadata": {},
   "source": [
    "#### Instructions\n",
    "- To submit your assignment follow the instructions given in Canvas.\n",
    "- The deliverables in Canvas are: <br/>\n",
    "    a) This python notebook with your code and answers, plus a pdf version of it (see Canvas for details),<br/>\n",
    "    b) the bibtex file you created, <br/>\n",
    "    c) The CSV file you created, <br/>\n",
    "    d) The JSON file you created. <br/>\n",
    "    \n",
    "- Exercise **responsible scraping**. Web servers can become slow or unresponsive if they receive too many requests from the same source in a short amount of time. Use a delay of 10 seconds between requests in your code. This helps not to get blocked by the target website. Run the webpage fetching part of the homework only once and do not re-run after you have saved the results in the JSON file (details below). \n",
    "- Web scraping requests can take several minutes. This is another reason why you should not wait until the last minute to do this homework.\n",
    "- For this assignment, we will use Python 3.5 for grading.\n",
    "\n",
    "\n",
    "# Data Collection - Web Scraping - Data Parsing \n",
    " \n",
    "\n",
    "In this homework, your goal is to learn how to acquire, parse, clean, and analyze data. Initially you will read the data from a file, and then later scrape them directly from a website. You will look for specific pieces of information by parsing the data, clean the data to prepare them for analysis, and finally, answer some questions.\n",
    "\n",
    "In doing so you will get more familiar with three of the common file formats for storing and transferring data, which are:\n",
    "- CSV, a text-based file format used for storing tabular data that are separated by some delimiter, usually comma or space.\n",
    "- HTML/XML, the stuff the web is made of.\n",
    "- JavaScript Object Notation (JSON), a text-based open standard designed for transmitting structured data over the web."
   ]
  },
  {
   "cell_type": "code",
   "execution_count": 3,
   "metadata": {},
   "outputs": [],
   "source": [
    "# import the necessary libraries\n",
    "%matplotlib inline\n",
    "import numpy as np\n",
    "import scipy as sp\n",
    "import matplotlib as mpl\n",
    "import matplotlib.cm as cm\n",
    "import matplotlib.pyplot as plt\n",
    "import pandas as pd\n",
    "import time\n",
    "pd.set_option('display.width', 500)\n",
    "pd.set_option('display.max_columns', 100)\n",
    "pd.set_option('display.notebook_repr_html', True)\n",
    "import seaborn as sns"
   ]
  },
  {
   "cell_type": "markdown",
   "metadata": {},
   "source": [
    "## Help a professor parse their publications and extract information.\n",
    "\n",
    "### Overview\n",
    "\n",
    "In this part your goal is to parse the HTML page of a professor containing some of his/her publications, and answer some questions. This page is provided to you in the file `data/publist_super_clean.html`. There are 45 publications in descending order from No. 244 to No. 200.\n"
   ]
  },
  {
   "cell_type": "code",
   "execution_count": 4,
   "metadata": {},
   "outputs": [],
   "source": [
    "# use this file provided\n",
    "PUB_FILENAME = 'data/publist_super_clean.html'"
   ]
  },
  {
   "cell_type": "markdown",
   "metadata": {},
   "source": [
    "<div class='exercise'><b> Question 1 [40 pts]: Parsing and Converting to bibTex and CSV using Beautiful Soup and python string manipulation </b></div>\n",
    "\n",
    "A lot of the bibliographic and publication information is displayed in various websites in a not-so-structured HTML files. Some publishers prefer to store and transmit this information in a .bibTex file which looks roughly like this (we've simplified a few things):\n",
    "```\n",
    "@article { \n",
    "     author = \"John Doyle\"\n",
    "     title = \"Interaction between atoms\"\n",
    "     URL = \"Papers/PhysRevB_81_085406_2010.pdf\"\n",
    "     journal = \"Phys. Rev. B\"\n",
    "     volume = \"81\"\n",
    "}\n",
    "```\n",
    "You will notice that this file format is a set of items, each of which is a set of key-value pairs. In the python world, you can think of this as a list of dictionaries.\n",
    "If you think about spreadsheets (as represented by CSV files), they have the same structure. Each line is an item, and has multiple features, or keys, as represented by that line's value for the column corresponding to the key.\n",
    "\n",
    "You are given an .html file containing a list of papers scraped from the author's website and you are to write the information into .bibTex and .CSV formats. A useful tool for parsing websites is BeautifulSoup  (http://www.crummy.com/software/BeautifulSoup/) (BS).  In this problem, will parse the  file using BS, which makes parsing HTML a lot easier.\n",
    "\n",
    "**1.1** Write a function called `make_soup` that accepts a filename for an HTML file and returns a BS object.\n",
    "    \n",
    "**1.2** Write a function that reads in the BS object, parses it, converts it into a list of dictionaries: one dictionary per paper. Each of these dictionaries should have the following format (with different values for each publication):\n",
    "```\n",
    "{'author': 'L.A. Agapito, N. Kioussis and E. Kaxiras',\n",
    " 'title': '\"Electric-field control of magnetism in graphene quantum dots:\\n Ab initio calculations\"',\n",
    " 'URL': 'Papers/PhysRevB_82_201411_2010.pdf',\n",
    " 'journal': 'Phys. Rev. B',\n",
    " 'volume': '82'}\n",
    "```\n",
    "\n",
    "\n",
    "**1.3** Convert the list of dictionaries into standard .bibTex format using python string manipulation, and write the results into a file called `publist.bib`.\n",
    "\n",
    "**1.4** Convert the list of dictionaries into standard tabular .csv format using pandas, and write the results into a file called `publist.csv`. The csv file should have a header and no integer index.\n",
    "\n",
    "    \n",
    "#### HINT \n",
    "- Inspect the HTML code for tags that indicate information chunks such as `title` of the paper.  The `find_all` method of BeautifulSoup might be useful.\n",
    "- Question 1.2 is better handled if you break the code into functions, each performing a small task such as finding the author(s) for each paper. \n",
    "- Question 1.3 is effectively tackled by first using python string formatting on a template string.\n",
    "- Make sure you catch exceptions when needed. \n",
    "- Make sure you check for **missing data** and handle these cases as you see fit. \n",
    "\n",
    "\n",
    "#### Resources\n",
    "- [BeautifulSoup Tutorial](https://www.dataquest.io/blog/web-scraping-tutorial-python/).\n",
    "- More about the [BibTex format](http://www.bibtex.org).<BR>\n",
    "    \n",
    "### Answers "
   ]
  },
  {
   "cell_type": "code",
   "execution_count": 5,
   "metadata": {},
   "outputs": [],
   "source": [
    "# import the necessary libraries \n",
    "from bs4 import BeautifulSoup"
   ]
  },
  {
   "cell_type": "markdown",
   "metadata": {},
   "source": [
    "<span class='sq'>**1.1 Write a function called `make_soup`  ...**</span>"
   ]
  },
  {
   "cell_type": "code",
   "execution_count": 6,
   "metadata": {},
   "outputs": [],
   "source": [
    "def make_soup(filename: str) -> BeautifulSoup: \n",
    "    '''Open the file and convert into a BS object. \n",
    "       \n",
    "       Args:\n",
    "           filename: A string name of the file.\n",
    "       \n",
    "       Returns:\n",
    "           A BS object containing the HTML page ready to be parsed.\n",
    "    '''\n",
    "    # your code here\n",
    "    with open(filename, 'r') as f:\n",
    "        html_text = f.read() \n",
    "    return BeautifulSoup(html_text, 'html.parser')"
   ]
  },
  {
   "cell_type": "code",
   "execution_count": 13,
   "metadata": {},
   "outputs": [],
   "source": [
    "# check your code - print the BS object, you should get a familiar HTML page as text\n",
    "# clear/remove output before making pdf\n",
    "\n",
    "#soup = make_soup(PUB_FILENAME)\n",
    "#print(soup)"
   ]
  },
  {
   "cell_type": "markdown",
   "metadata": {},
   "source": [
    "Your output should look **like** this:\n",
    "```\n",
    "<!DOCTYPE HTML PUBLIC \"-//W3C//DTD HTML 4.01 Transitional//EN\"\n",
    "   \"http://www.w3.org/TR/html4/loose.dtd\">\n",
    "\n",
    "<title>Kaxiras E journal publications</title>\n",
    "<head>\n",
    "<meta content=\"text/html;charset=utf-8\" http-equiv=\"Content-Type\"/>\n",
    "<link href=\"../styles/style_pubs.css\" rel=\"stylesheet\" type=\"text/css\"/>\n",
    "<meta content=\"\" name=\"description\"/>\n",
    "<meta content=\"Kaxiras E, Multiscale Methods, Computational Materials\" name=\"keywords\"/>\n",
    "</head>\n",
    "<body>\n",
    "<ol start=\"244\">\n",
    "<li>\n",
    "<a href=\"Papers/2011/PhysRevB_84_125411_2011.pdf\" target=\"paper244\">\n",
    "\"Approaching the intrinsic band gap in suspended high-mobility graphene nanoribbons\"</a>\n",
    "<br/>Ming-Wei Lin, Cheng Ling, Luis A. Agapito, Nicholas Kioussis, Yiyang Zhang, Mark Ming-Cheng Cheng,\n",
    "<i>PHYSICAL REVIEW B </i> <b>84</b>,  125411 (2011)\n",
    "<br/>\n",
    "</li>\n",
    "</ol>\n",
    "<ol start=\"243\">\n",
    "<li>\n",
    "<a href=\"Papers/2011/PhysRevB_84_035325_2011.pdf\" target=\"paper243\">\n",
    "\"Effect of symmetry breaking on the optical absorption of semiconductor nanoparticles\"</a>\n",
    "<br/>JAdam Gali, Efthimios Kaxiras, Gergely T. Zimanyi, Sheng Meng,\n",
    "<i>PHYSICAL REVIEW B </i> <b>84</b>,  035325 (2011)\n",
    "<br/>\n",
    "</li>\n",
    "</ol>\n",
    "\n",
    "...\n",
    "\n",
    "```"
   ]
  },
  {
   "cell_type": "markdown",
   "metadata": {},
   "source": [
    "**1.2 Write a function that reads in the BS object, parses it, converts it into a list of dictionaries...**"
   ]
  },
  {
   "cell_type": "code",
   "execution_count": 8,
   "metadata": {},
   "outputs": [],
   "source": [
    "# clear output before making pdf\n",
    "# your code here \n",
    "def list_of_html_citations(soup):\n",
    "    body = soup.find('body')\n",
    "    return body.find_all('ol')\n",
    "\n",
    "def clean_text(text):\n",
    "    text_to_strip = ['\\n',' ',',']\n",
    "    for t in text_to_strip:\n",
    "        text = text.strip(t)\n",
    "    text = text.replace(\"\\n\",\" \")\n",
    "    return text\n",
    "\n",
    "def get_title(citation):\n",
    "    text = citation.find('a').get_text()\n",
    "    return clean_text(text)\n",
    "\n",
    "def get_author(citation):\n",
    "    text = citation.find('li').contents[4]\n",
    "    return clean_text(text)\n",
    "\n",
    "def get_url(citation):\n",
    "    text = citation.find('a').get('href')\n",
    "    return clean_text(text)\n",
    "\n",
    "def get_journal(citation):\n",
    "    text = citation.find('i').get_text()\n",
    "    return clean_text(text)\n",
    "\n",
    "def get_volume(citation):\n",
    "    tag = citation.find('b')\n",
    "    if tag is None:\n",
    "        return None\n",
    "    else:\n",
    "        text = tag.get_text()\n",
    "        return clean_text(text)\n",
    "\n",
    "def create_citation_dict(citation):\n",
    "    return {\n",
    "        'author': get_author(citation),\n",
    "        'title': get_title(citation),\n",
    "        'URL': get_url(citation),\n",
    "        'journal': get_journal(citation),\n",
    "        'volume': get_volume(citation)\n",
    "    }\n",
    "\n",
    "def parse_for_citations(soup):\n",
    "    return [create_citation_dict(c) for c in list_of_html_citations(soup)]\n",
    "        "
   ]
  },
  {
   "cell_type": "code",
   "execution_count": 9,
   "metadata": {},
   "outputs": [
    {
     "data": {
      "text/plain": [
       "[{'author': 'Ming-Wei Lin, Cheng Ling, Luis A. Agapito, Nicholas Kioussis, Yiyang Zhang, Mark Ming-Cheng Cheng',\n",
       "  'title': '\"Approaching the intrinsic band gap in suspended high-mobility graphene nanoribbons\"',\n",
       "  'URL': 'Papers/2011/PhysRevB_84_125411_2011.pdf',\n",
       "  'journal': 'PHYSICAL REVIEW B',\n",
       "  'volume': '84'},\n",
       " {'author': 'JAdam Gali, Efthimios Kaxiras, Gergely T. Zimanyi, Sheng Meng',\n",
       "  'title': '\"Effect of symmetry breaking on the optical absorption of semiconductor nanoparticles\"',\n",
       "  'URL': 'Papers/2011/PhysRevB_84_035325_2011.pdf',\n",
       "  'journal': 'PHYSICAL REVIEW B',\n",
       "  'volume': '84'},\n",
       " {'author': 'Jan M. Knaup, Han Li, Joost J. Vlassak, and Efthimios Kaxiras',\n",
       "  'title': '\"Influence of CH2 content and network defects on the elastic properties of organosilicate glasses\"',\n",
       "  'URL': 'Papers/2011/PhysRevB_83_054204_2011.pdf',\n",
       "  'journal': 'PHYSICAL REVIEW B',\n",
       "  'volume': '83'},\n",
       " {'author': 'Martin Heiss, Sonia Conesa-Boj, Jun Ren, Hsiang-Han Tseng, Adam Gali',\n",
       "  'title': '\"Direct correlation of crystal structure and optical properties in wurtzite/zinc-blende GaAs nanowire heterostructures\"',\n",
       "  'URL': 'Papers/2011/PhysRevB_83_045303_2011.pdf',\n",
       "  'journal': 'PHYSICAL REVIEW B',\n",
       "  'volume': '83'},\n",
       " {'author': 'Simone Melchionna, Efthimios Kaxiras, Massimo Bernaschi and Sauro Succi',\n",
       "  'title': '\"Endothelial shear stress from large-scale blood flow simulations\"',\n",
       "  'URL': 'Papers/2011/PhilTransRSocA_369_2354_2011.pdf',\n",
       "  'journal': 'Phil. Trans. R. Soc. A',\n",
       "  'volume': '369'},\n",
       " {'author': 'J R Maze, A Gali, E Togan, Y Chu, A Trifonov',\n",
       "  'title': '\"Properties of nitrogen-vacancy centers in diamond: the group theoretic approach\"',\n",
       "  'URL': 'Papers/2011/NewJPhys_13_025025_2011.pdf',\n",
       "  'journal': 'New Journal of Physics',\n",
       "  'volume': '13'},\n",
       " {'author': 'Kejie Zhao, Wei L. Wang, John Gregoire, Matt Pharr, Zhigang Suo',\n",
       "  'title': '\"Lithium-Assisted Plastic Deformation of Silicon Electrodes in Lithium-Ion Batteries: A First-Principles Theoretical Study\"',\n",
       "  'URL': 'Papers/2011/NanoLett_11_2962-2967_2011.pdf',\n",
       "  'journal': 'Nano Lett.',\n",
       "  'volume': '11'},\n",
       " {'author': 'Masataka Katono, Takeru Bessho, Sheng Meng, Robin Humphry-Baker, Guido Rothenberger',\n",
       "  'title': '\"D-π-A Dye System Containing Cyano-Benzoic Acid as Anchoring Group for Dye-Sensitized Solar Cells\"',\n",
       "  'URL': 'Papers/2011/Langmuir_27_14248_2011.pdf',\n",
       "  'journal': 'Langmuir',\n",
       "  'volume': '27'},\n",
       " {'author': 'Thomas D. Kuhne, Tod A. Pascal, Efthimios Kaxiras, and Yousung Jung',\n",
       "  'title': '\"New Insights into the Structure of the Vapor/Water Interface from Large-Scale First-Principles Simulations\"',\n",
       "  'URL': 'Papers/2011/JPhysChemLett_2_105-113_2011.pdf',\n",
       "  'journal': 'J. Phys. Chem. Lett.',\n",
       "  'volume': '2'},\n",
       " {'author': 'Sheng Meng, Efthimios Kaxiras, Md. K. Nazeeruddin, and Michael Gratzel',\n",
       "  'title': '\"Design of Dye Acceptors for Photovoltaics from First-Principles Calculations\"',\n",
       "  'URL': 'Papers/2011/JPhysChemC_115_9276-9282_2011.pdf',\n",
       "  'journal': 'J. Phys. Chem. C',\n",
       "  'volume': '115'},\n",
       " {'author': 'Bingjun Xu, Jan Haubrich, Thomas A. Baker, Efthimios Kaxiras, and Cynthia M. Friend',\n",
       "  'title': '\"Theoretical Study of O-Assisted Selective Coupling of Methanol on Au(111)\"',\n",
       "  'URL': 'Papers/2011/JPhysChemC_115_3703-3708_2011.pdf',\n",
       "  'journal': 'J. Phys. Chem. C',\n",
       "  'volume': '115'},\n",
       " {'author': 'Jun Ren, Sheng Meng, Yi-Lin Wang, Xu-Cun Ma, Qi-Kun Xue, Efthimios Kaxiras',\n",
       "  'title': '\"Properties of copper (fluoro-)phthalocyanine layers deposited on epitaxial graphene\"',\n",
       "  'URL': 'Papers/2011/JChemPhys_134_194706_2011.pdf',\n",
       "  'journal': 'J. Chem. Phys.',\n",
       "  'volume': '134'},\n",
       " {'author': 'Jan Haubrich, Efthimios Kaxiras, and Cynthia M. Friend',\n",
       "  'title': '\"The Role of Surface and Subsurface Point Defects for Chemical Model Studies on TiO2: A First-Principles Theoretical Study of Formaldehyde Bonding on Rutile TiO2(110)\"',\n",
       "  'URL': 'Papers/2011/Chemistry_17_4496-4506_2011.pdf',\n",
       "  'journal': 'Chem. Eur. J.',\n",
       "  'volume': '17'},\n",
       " {'author': 'Thomas A. Baker, Bingjun Xu, Stephen C. Jensen, Cynthia M. Friend and Efthimios Kaxiras',\n",
       "  'title': '\"Role of defects in propene adsorption and reaction on a partially O-covered Au(111) surface\"',\n",
       "  'URL': 'Papers/2011/CatalSciTechnol_1_1166_2011.pdf',\n",
       "  'journal': 'Catal. Sci. Technol.',\n",
       "  'volume': '1'},\n",
       " {'author': 'Youdong Mao, Wei L. Wang, Dongguang Wei, Efthimios Kaxiras, and Joseph G. Sodroski',\n",
       "  'title': '\"Graphene Structures at an Extreme Degree of Buckling\"',\n",
       "  'URL': 'Papers/2011/ACSNano_5_1395-1400_2011.pdf',\n",
       "  'journal': 'ACSNano.',\n",
       "  'volume': '5'},\n",
       " {'author': 'H. Li, J.M. Knaup, E. Kaxiras and J.J. Vlassak',\n",
       "  'title': '\"Stiffening of organosilicate glasses by organic cross-linking\"',\n",
       "  'URL': 'Papers/ActaMater_59_44-52_2011.pdf',\n",
       "  'journal': 'Acta Mater.',\n",
       "  'volume': '59'},\n",
       " {'author': 'W.L. Wang and E. Kaxiras',\n",
       "  'title': '\"Graphene hydrate: theoretical prediction of a new insulating  form of graphene\"',\n",
       "  'URL': 'Papers/NewJPhys_12_125012_2010.pdf',\n",
       "  'journal': 'New J. Phys.',\n",
       "  'volume': '12'},\n",
       " {'author': 'L.A. Agapito, N. Kioussis and E. Kaxiras',\n",
       "  'title': '\"Electric-field control of magnetism in graphene quantum dots:  Ab initio calculations\"',\n",
       "  'URL': 'Papers/PhysRevB_82_201411_2010.pdf',\n",
       "  'journal': 'Phys. Rev. B',\n",
       "  'volume': '82'},\n",
       " {'author': 'A. Peters, S. Melchionna, E. Kaxiras, J. Latt, J. Sircar, S. Succi',\n",
       "  'title': '\"Multiscale simulation of cardiovascular flows on the IBM Bluegene/P:  full heart-circulation system at near red-blood cell resolution\"',\n",
       "  'URL': 'Papers/IEEE-SC10_2010.pdf',\n",
       "  'journal': '2010 ACM/IEEE International Conference for High Performance',\n",
       "  'volume': None},\n",
       " {'author': 'J. Ren, E. Kaxiras and S. Meng',\n",
       "  'title': '\"Optical properties of clusters and molecules from real-time time-dependent density functional theory using a self-consistent field\"',\n",
       "  'URL': 'Papers/MolPhys_108_1829-1844_2010.pdf',\n",
       "  'journal': 'Molec. Phys.',\n",
       "  'volume': '108'},\n",
       " {'author': 'T.A. Baker, E. Kaxiras and C.M. Friend',\n",
       "  'title': '\"Insights from Theory on the Relationship Between Surface Reactivity and Gold Atom Release\"',\n",
       "  'URL': 'Papers/TopicsCatal_53_365-377_2010.pdf',\n",
       "  'journal': 'Top. Catal.',\n",
       "  'volume': '53'},\n",
       " {'author': 'H.P. Chen, R.K. Kalia, E. Kaxiras, G. Lu, A. Nakano, K. Nomura',\n",
       "  'title': '\"Embrittlement of Metal by Solute Segregation-Induced Amorphization\"',\n",
       "  'URL': 'Papers/PhysRevLett_104_155502_2010.pdf',\n",
       "  'journal': 'Phys. Rev. Lett.',\n",
       "  'volume': '104'},\n",
       " {'author': 'S. Meng and E. Kaxiras',\n",
       "  'title': '\"Electron and Hole Dynamics in Dye-Sensitized Solar Cells: Influencing Factors and Systematic Trends\"',\n",
       "  'URL': 'Papers/NanoLett_10_1238-1247_2010.pdf',\n",
       "  'journal': 'NanoLett.',\n",
       "  'volume': '10'},\n",
       " {'author': 'C.L. Chang, S.K.R.S. Sankaranarayanan, D. Ruzmetov, M.H. Engelhard, E. Kaxiras and S. Ramanathan',\n",
       "  'title': '\"Compositional tuning of ultrathin surface oxides on metal and alloy substrates using photons: Dynamic simulations and experiments\"',\n",
       "  'URL': 'Papers/PhysRevB_81_085406_2010.pdf',\n",
       "  'journal': 'Phys. Rev. B',\n",
       "  'volume': '81'},\n",
       " {'author': 'T.A. Baker, C.M. Friend and E. Kaxiras',\n",
       "  'title': '\"Local Bonding Effects in the Oxidation of CO on Oxygen-Covered Au(111) from Ab Initio Molecular Dynamics Simulations\"',\n",
       "  'URL': 'Papers/JChemTheComp_6_279-287_2010.pdf',\n",
       "  'journal': 'J. Chem. Theory Comput.',\n",
       "  'volume': '6'},\n",
       " {'author': 'S. Melchionna, M. Bernaschi, S. Succi, E. Kaxiras, F.J. Rybicki, D. Mitsouras, A.U. Coskun and C.L. Feldman',\n",
       "  'title': '\"Hydrokinetic approach to large-scale cardiovascular blood flow\"',\n",
       "  'URL': 'Papers/CompPhysComm_181_462-472_2010.pdf',\n",
       "  'journal': 'Comp. Phys. Comm.',\n",
       "  'volume': '181'},\n",
       " {'author': 'M. Bernaschi, M. Fatica, S. Melchionna, S. Succi and E. Kaxiras',\n",
       "  'title': '\"A flexible high-performance Lattice Boltzmann GPU code for the simulations of fluid flows in complex geometries\"',\n",
       "  'URL': 'Papers/ConcComp_22_1-14_2010.pdf',\n",
       "  'journal': 'Concurrency Computat.: Pract. Exper.',\n",
       "  'volume': '22'},\n",
       " {'author': 'E. Manousakis, J. Ren, S. Meng and E. Kaxiras',\n",
       "  'title': '\"Is the nature of magnetic order in copper-oxides and iron-pnictides  different?\"',\n",
       "  'URL': 'Papers/SolStComm_150_62-65_2010.pdf',\n",
       "  'journal': 'Sol. St. Comm.',\n",
       "  'volume': '150'},\n",
       " {'author': 'A. Gali, E. Janzen, P. Deak, G. Kresse and E. Kaxiras',\n",
       "  'title': '\"Theory of Spin-Conserving Excitation of the N-V Center in Diamond\"',\n",
       "  'URL': 'Papers/PhysRevLett_103_186404_2009.pdf',\n",
       "  'journal': 'Phys. Rev. Lett.',\n",
       "  'volume': '103'},\n",
       " {'author': 'S.K.R.S. Sankaranarayanan, E. Kaxiras and S. Ramanathan',\n",
       "  'title': '\"Electric field tuning of oxygen stoichiometry at oxide surfaces: molecular dynamics isimulations studies iof zirconia\"',\n",
       "  'URL': 'Papers/EnEnviSci_2_1196-1204_2009.pdf',\n",
       "  'journal': 'Energy & Environmental Sci.',\n",
       "  'volume': '2'},\n",
       " {'author': 'M. Bernaschi, S. Melchionna, S. Succi, M. Fyta, E. Kaxiras',\n",
       "  'title': '\"MUPHY: A parallel MUlti PHYsics/scale code for high performance  bio-fluidic simulations\"',\n",
       "  'URL': 'Papers/CompPhysComm_180_1495-1502_2009.pdf',\n",
       "  'journal': 'Comp. Phys. Comm.',\n",
       "  'volume': '180'},\n",
       " {'author': 'T.A. Baker, B.J. Xu, X.Y. Liu, E. Kaxiras and C.M. Friend',\n",
       "  'title': '\"Nature of Oxidation of the Au(111) Surface: Experiment and Theoretical Investigation\"',\n",
       "  'URL': 'Papers/JPhysChemC_113_16561-16564_2009.pdf',\n",
       "  'journal': 'J. Phys. Chem. C',\n",
       "  'volume': '113'},\n",
       " {'author': 'F.J. Rybicki, S. Melchionna, D. Mitsouras, A.U. Coskun, A.G. Whitmore, E. Kaxiras, S. Succi, P.H. Stone and C.L. Feldman',\n",
       "  'title': '\"Prediction of coronary artery plaque progression and potential rupture from 320-detector row prospectively ECG-gated single heart beat CT angiography:  Lattice Boltzmann evaluation of endothelial shear stress\"',\n",
       "  'URL': 'Papers/IntJCardImag_25_289-299_2009.pdf',\n",
       "  'journal': 'Int. J. Cardiovasc. Imaging',\n",
       "  'volume': '25'},\n",
       " {'author': 'H. Chen, W.G. Zhu, E. Kaxiras, and Z.Y. Zhang',\n",
       "  'title': '\"Optimization of Mn doping in group-IV-based dilute magnetic semiconductors by electronic codopants\"',\n",
       "  'URL': 'Papers/PhysRevB_79_235202_2009.pdf',\n",
       "  'journal': 'Phys. Rev. B',\n",
       "  'volume': '79'},\n",
       " {'author': 'M. Fyta, S. Melchionna, M. Bernaschi, E. Kaxiras and S. Succi',\n",
       "  'title': '\"Numerical simulation of conformational variability in biopolymer translocation  through wide nanopores\"',\n",
       "  'URL': 'Papers/JStatMech_2009.pdf',\n",
       "  'journal': 'J. Stat. Mech: Th. and Exper.',\n",
       "  'volume': '06'},\n",
       " {'author': 'E.M. Kotsalis, J.H. Walther, E. Kaxiras and P. Koumoutsakos',\n",
       "  'title': '\"Control algorithm for multiscale flow simulations of water\"',\n",
       "  'URL': 'Papers/PhysRevE_79_045701RC_2009.pdf',\n",
       "  'journal': 'Phys. Rev. E - Rap. Comm.',\n",
       "  'volume': '79'},\n",
       " {'author': 'C.E. Lekka, J. Ren, S. Meng and E. Kaxiras',\n",
       "  'title': '\"Structural, Electronic, and Optical Properties of Representative Cu-Flavonoid Complexes\"',\n",
       "  'URL': 'Papers/JPhysChemB_113_6478_2009.pdf',\n",
       "  'journal': 'J. Phys. Chem. B',\n",
       "  'volume': '113'},\n",
       " {'author': 'W.L. Wang, O.V. Yazyev, S. Meng and E. Kaxiras',\n",
       "  'title': '\"Topological Frustration in Graphene Nanoflakes: Magnetic Order and Spin Logic Devices\"',\n",
       "  'URL': 'Papers/PhysRevLett_102_157201_2009.pdf',\n",
       "  'journal': 'Phys. Rev. Lett.',\n",
       "  'volume': '102'},\n",
       " {'author': 'A. Gali and E. Kaxiras',\n",
       "  'title': '\"Comment on \\'Ab initio Electronic and Optical Properties of the N-V-Center in Diamond\\'\"',\n",
       "  'URL': 'Papers/PhysRevLett_102_149703_2009.pdf',\n",
       "  'journal': 'Ab initio',\n",
       "  'volume': '102'},\n",
       " {'author': 'S. Melchionna, M. Bernaschi, M. Fyta, E. Kaxiras and S. Succi',\n",
       "  'title': '\"Quantized biopolymer translocation through nanopores: Departure from simple scaling\"',\n",
       "  'URL': 'Papers/PhysRevE_79_030901RC_2009.pdf',\n",
       "  'journal': 'Phys. Rev. E - Rap. Comm.',\n",
       "  'volume': '79'},\n",
       " {'author': 'S.K.R.S. Sankaranarayanan, E. Kaxiras, S. Ramanathan',\n",
       "  'title': '\"Atomistic Simulation of Field Enhanced Oxidation of Al(1000) Beyond the Mott Potential\"',\n",
       "  'URL': 'Papers/PhysRevLett_102_095504_2009.pdf',\n",
       "  'journal': 'Phys. Rev. Lett.',\n",
       "  'volume': '102'},\n",
       " {'author': 'T.A. Baker, C.M. Friend and E. Kaxiras',\n",
       "  'title': '\"Effects of chlorine and oxygen coverage on the structure of the Au(111) surface\"',\n",
       "  'URL': 'Papers/JChemPhys_130_084701_2009.pdf',\n",
       "  'journal': 'J. Chem. Phys.',\n",
       "  'volume': '130'},\n",
       " {'author': 'T.A. Baker, C.M. Friend and E. Kaxiras',\n",
       "  'title': '\"Atomic Oxygen Adsorption on Au(111) Surfaces with Defects\"',\n",
       "  'URL': 'Papers/JPhysChemC_113_3232_2009.pdf',\n",
       "  'journal': 'J. Phys. Chem. C',\n",
       "  'volume': '113'},\n",
       " {'author': 'E. Kaxiras and S. Succi',\n",
       "  'title': '\"Multiscale simulations of complex systems: computation meets reality\"',\n",
       "  'URL': 'Papers/SciModSim_15_59_2008.pdf',\n",
       "  'journal': 'Sci. Model. Simul.',\n",
       "  'volume': '15'},\n",
       " {'author': 'E. Manousakis, J. Ren, S. Meng and E. Kaxiras',\n",
       "  'title': '\"Effective Hamiltonian for FeAs-based superconductors\"',\n",
       "  'URL': 'Papers/PhysRevB_78_205112_2008.pdf',\n",
       "  'journal': 'Phys. Rev. B',\n",
       "  'volume': '78'}]"
      ]
     },
     "execution_count": 9,
     "metadata": {},
     "output_type": "execute_result"
    }
   ],
   "source": [
    "# your code here\n",
    "parse_for_citations(soup)"
   ]
  },
  {
   "cell_type": "markdown",
   "metadata": {},
   "source": [
    "**1.3 Convert the list of dictionaries into the .bibTex format using python string manipulation (python string formatting on a template string is particularly useful)..**"
   ]
  },
  {
   "cell_type": "code",
   "execution_count": 10,
   "metadata": {},
   "outputs": [],
   "source": [
    "# your code here\n",
    "def create_bibtex(citation_list):  \n",
    "    with open(\"publist.bib\", \"w\") as f:\n",
    "        for c in citation_list:\n",
    "            if c['volume'] is None:\n",
    "                f.write('@article{\\n\\tauthor = \"%s\"\\n\\ttitle = %s\\n\\tURL = \"%s\"\\n\\tjournal = \"%s\"\\n}\\n'\n",
    "                    % (c['author'],c['title'],c['URL'],c['journal']))\n",
    "            else:\n",
    "                f.write('@article{\\n\\tauthor = \"%s\"\\n\\ttitle = %s\\n\\tURL = \"%s\"\\n\\tjournal = \"%s\"\\n\\tvolume = %s\\n}\\n'\n",
    "                    % (c['author'],c['title'],c['URL'],c['journal'],c['volume']))\n",
    "    "
   ]
  },
  {
   "cell_type": "code",
   "execution_count": 11,
   "metadata": {},
   "outputs": [],
   "source": [
    "# your code here\n",
    "citation_list = parse_for_citations(soup)\n",
    "create_bibtex(citation_list)"
   ]
  },
  {
   "cell_type": "code",
   "execution_count": 14,
   "metadata": {},
   "outputs": [],
   "source": [
    "# check your answer - print the bibTex file\n",
    "# clear/remove output before making pdf\n",
    "\n",
    "#f = open('publist.bib','r')\n",
    "#print (f.read())"
   ]
  },
  {
   "cell_type": "markdown",
   "metadata": {},
   "source": [
    "Your output should look like this\n",
    "```\n",
    "@article{    \n",
    "     author = \"Ming-Wei Lin, Cheng Ling, Luis A. Agapito, Nicholas Kioussis, Yiyang Zhang, Mark Ming-Cheng Cheng\",\n",
    "     title = \"Approaching the intrinsic band gap in suspended high-mobility graphene nanoribbons\",\n",
    "     URL = \"Papers/2011/PhysRevB_84_125411_2011.pdf\",\n",
    "     journal = \"PHYSICAL REVIEW B\",\n",
    "     volume = 84\n",
    "}\n",
    "\n",
    "...\n",
    "\n",
    "@article{    \n",
    "     author = \"E. Kaxiras and S. Succi\",\n",
    "     title = \"Multiscale simulations of complex systems: computation meets reality\",\n",
    "     URL = \"Papers/SciModSim_15_59_2008.pdf\",\n",
    "     journal = \"Sci. Model. Simul.\",\n",
    "     volume = 15\n",
    "}\n",
    "\n",
    "```"
   ]
  },
  {
   "cell_type": "markdown",
   "metadata": {},
   "source": [
    "** 1.4 Convert the list of dictionaries into the .csv format using pandas, and write the data into `publist.csv`. The csv file should have a header and no integer index...**"
   ]
  },
  {
   "cell_type": "code",
   "execution_count": 457,
   "metadata": {},
   "outputs": [
    {
     "data": {
      "text/html": [
       "<div>\n",
       "<style scoped>\n",
       "    .dataframe tbody tr th:only-of-type {\n",
       "        vertical-align: middle;\n",
       "    }\n",
       "\n",
       "    .dataframe tbody tr th {\n",
       "        vertical-align: top;\n",
       "    }\n",
       "\n",
       "    .dataframe thead th {\n",
       "        text-align: right;\n",
       "    }\n",
       "</style>\n",
       "<table border=\"1\" class=\"dataframe\">\n",
       "  <thead>\n",
       "    <tr style=\"text-align: right;\">\n",
       "      <th></th>\n",
       "      <th>URL</th>\n",
       "      <th>author</th>\n",
       "      <th>journal</th>\n",
       "      <th>title</th>\n",
       "      <th>volume</th>\n",
       "    </tr>\n",
       "  </thead>\n",
       "  <tbody>\n",
       "    <tr>\n",
       "      <th>0</th>\n",
       "      <td>Papers/2011/PhysRevB_84_125411_2011.pdf</td>\n",
       "      <td>Ming-Wei Lin, Cheng Ling, Luis A. Agapito, Nic...</td>\n",
       "      <td>PHYSICAL REVIEW B</td>\n",
       "      <td>\"Approaching the intrinsic band gap in suspend...</td>\n",
       "      <td>84</td>\n",
       "    </tr>\n",
       "    <tr>\n",
       "      <th>1</th>\n",
       "      <td>Papers/2011/PhysRevB_84_035325_2011.pdf</td>\n",
       "      <td>JAdam Gali, Efthimios Kaxiras, Gergely T. Zima...</td>\n",
       "      <td>PHYSICAL REVIEW B</td>\n",
       "      <td>\"Effect of symmetry breaking on the optical ab...</td>\n",
       "      <td>84</td>\n",
       "    </tr>\n",
       "    <tr>\n",
       "      <th>2</th>\n",
       "      <td>Papers/2011/PhysRevB_83_054204_2011.pdf</td>\n",
       "      <td>Jan M. Knaup, Han Li, Joost J. Vlassak, and Ef...</td>\n",
       "      <td>PHYSICAL REVIEW B</td>\n",
       "      <td>\"Influence of CH2 content and network defects ...</td>\n",
       "      <td>83</td>\n",
       "    </tr>\n",
       "    <tr>\n",
       "      <th>3</th>\n",
       "      <td>Papers/2011/PhysRevB_83_045303_2011.pdf</td>\n",
       "      <td>Martin Heiss, Sonia Conesa-Boj, Jun Ren, Hsian...</td>\n",
       "      <td>PHYSICAL REVIEW B</td>\n",
       "      <td>\"Direct correlation of crystal structure and o...</td>\n",
       "      <td>83</td>\n",
       "    </tr>\n",
       "    <tr>\n",
       "      <th>4</th>\n",
       "      <td>Papers/2011/PhilTransRSocA_369_2354_2011.pdf</td>\n",
       "      <td>Simone Melchionna, Efthimios Kaxiras, Massimo ...</td>\n",
       "      <td>Phil. Trans. R. Soc. A</td>\n",
       "      <td>\"Endothelial shear stress from large-scale blo...</td>\n",
       "      <td>369</td>\n",
       "    </tr>\n",
       "  </tbody>\n",
       "</table>\n",
       "</div>"
      ],
      "text/plain": [
       "                                            URL                                             author                 journal                                              title volume\n",
       "0       Papers/2011/PhysRevB_84_125411_2011.pdf  Ming-Wei Lin, Cheng Ling, Luis A. Agapito, Nic...       PHYSICAL REVIEW B  \"Approaching the intrinsic band gap in suspend...     84\n",
       "1       Papers/2011/PhysRevB_84_035325_2011.pdf  JAdam Gali, Efthimios Kaxiras, Gergely T. Zima...       PHYSICAL REVIEW B  \"Effect of symmetry breaking on the optical ab...     84\n",
       "2       Papers/2011/PhysRevB_83_054204_2011.pdf  Jan M. Knaup, Han Li, Joost J. Vlassak, and Ef...       PHYSICAL REVIEW B  \"Influence of CH2 content and network defects ...     83\n",
       "3       Papers/2011/PhysRevB_83_045303_2011.pdf  Martin Heiss, Sonia Conesa-Boj, Jun Ren, Hsian...       PHYSICAL REVIEW B  \"Direct correlation of crystal structure and o...     83\n",
       "4  Papers/2011/PhilTransRSocA_369_2354_2011.pdf  Simone Melchionna, Efthimios Kaxiras, Massimo ...  Phil. Trans. R. Soc. A  \"Endothelial shear stress from large-scale blo...    369"
      ]
     },
     "execution_count": 457,
     "metadata": {},
     "output_type": "execute_result"
    }
   ],
   "source": [
    "# make sure you use head() when printing the dataframe\n",
    "# your code here\n",
    "def convert_to_pandas(citation_list):\n",
    "    return pd.DataFrame(citation_list)\n",
    "\n",
    "citation_list = parse_for_citations(soup)\n",
    "citations_pd = convert_to_pandas(citation_list)\n",
    "citations_pd.head()"
   ]
  },
  {
   "cell_type": "code",
   "execution_count": 458,
   "metadata": {},
   "outputs": [],
   "source": [
    "# your code here\n",
    "citations_pd.to_csv(\"publist.csv\", index = False)"
   ]
  },
  {
   "cell_type": "code",
   "execution_count": 459,
   "metadata": {
    "scrolled": true
   },
   "outputs": [
    {
     "name": "stdout",
     "output_type": "stream",
     "text": [
      "URL,author,journal,title,volume\r\n",
      "Papers/2011/PhysRevB_84_125411_2011.pdf,\"Ming-Wei Lin, Cheng Ling, Luis A. Agapito, Nicholas Kioussis, Yiyang Zhang, Mark Ming-Cheng Cheng\",PHYSICAL REVIEW B,\"\"\"Approaching the intrinsic band gap in suspended high-mobility graphene nanoribbons\"\"\",84\r\n",
      "Papers/2011/PhysRevB_84_035325_2011.pdf,\"JAdam Gali, Efthimios Kaxiras, Gergely T. Zimanyi, Sheng Meng\",PHYSICAL REVIEW B,\"\"\"Effect of symmetry breaking on the optical absorption of semiconductor nanoparticles\"\"\",84\r\n"
     ]
    }
   ],
   "source": [
    "!head -3 publist.csv"
   ]
  },
  {
   "cell_type": "markdown",
   "metadata": {},
   "source": [
    "<hr style='height:2px'>\n",
    "## Follow the stars in IMDb's list of \"The Top 100 Stars for 2017\" \n",
    "\n",
    "### Overview\n",
    "In this part, your goal is to extract information from IMDb's Top 100 Stars for 2017 (https://www.imdb.com/list/ls025814950/) and perform some analysis on each star in the list. In particular we are interested to know: a) how many performers made their first movie at 17? b) how many performers started as child actors? c) who is the most proliferate actress or actor in IMDb's list of the Top 100 Stars for 2017? . These questions are addressed in more details in the Questions below. \n",
    "\n",
    "When data is not given to us in a file, we need to fetch them using one of the following ways:\n",
    "- download a file from a source URL\n",
    "- query a database \n",
    "- query a web API \n",
    "- scrape data from the web page"
   ]
  },
  {
   "cell_type": "markdown",
   "metadata": {},
   "source": [
    "<div class='exercise'><b> Question 2 [52 pts]: Web Scraping using Beautiful Soup and exploring using Pandas </b></div>\n",
    "\n",
    "**2.1** Download the webpage of the \"Top 100 Stars for 2017\" (https://www.imdb.com/list/ls025814950/) into a `requests` object and name it `my_page`. Explain what the following attributes are:\n",
    "\n",
    "- `my_page.text`, \n",
    "- `my_page.status_code`,\n",
    "- `my_page.content`.\n",
    "\n",
    "**2.2** Create a Beautiful Soup object named `star_soup` using `my_page` as input.\n",
    "\n",
    "**2.3** Write a function called `parse_stars` that accepts `star_soup` as its input and generates a list of dictionaries named `starlist` (see definition below; order of dictionaries does not matter). One of the fields of this dictionary is the `url` of each star's individual page, which you need to scrape and save the contents in the `page` field. Note that there is a ton of information about each star on these webpages.\n",
    "\n",
    "```\n",
    "name: the name of the actor/actress as it appears at the top\n",
    "gender: 0 or 1: translate the word 'actress' into 1 and 'actor' into '0'\n",
    "url: the url of the link under their name that leads to a page with details\n",
    "page: BS object with html text acquired by scraping the above 'url' page' \n",
    "```\n",
    "\n",
    "**2.4** Write a function called `create_star_table` which takes `starlist` as an input and extracts information about each star (see function definition for the exact information to be extracted and the exact output definition).  Only extract information from the first box on each star's page. If the first box is acting, consider only acting credits and the star's acting debut, if the first box is Directing, consider only directing credits and directorial debut.\n",
    "\n",
    "**2.5** Now that you have scraped all the info you need, it's good practice to save the last data structure you created to disk. Save the data structure to a JSON file named `starinfo.json` and submit this JSON file in Canvas. If you do this, if you have to restart, you won't need to redo all the requests and parsings from before.  \n",
    "\n",
    "**2.6** We provide a JSON file called `data/staff_starinfo.json` created by CS109 teaching staff for consistency, which you should use for the rest of the homework. Import the contents of this JSON file  into a pandas dataframe called `frame`. Check the types of variables in each column and clean these variables if needed. Add a new column to your dataframe with the age of each actor when they made their first appearance, movie or TV, (name this column `age_at_first_movie`). Check some of the values of this new column. Do you find any problems? You don't need to fix them.\n",
    "\n",
    "**2.7** You are now ready to answer the following intriguing questions: \n",
    "- **2.7.1** How many performers made their first appearance (movie or TV) when he/she was 17 years old?\n",
    "\n",
    "- **2.7.2** How many performers started as child actors? Define child actor as a person younger than 12 years old. \n",
    "\n",
    "**2.8** Make a plot of the number of credits against the name of actor/actress. Who is the most prolific actress or actor in IMDb's list of the Top 100 Stars for 2017? Define **most prolific** as the performer with the most credits.\n",
    "    \n",
    "### Hints\n",
    "- Create a variable that groups actors/actresses by the age of their first movie. Use pandas' `.groupby` to divide the dataframe into groups of performers that for example started performing as children (age $<$ 12). The grouped variable is a `GroupBy` pandas object and this object has all of the information needed to then apply operations to each of the groups.\n",
    "- When cleaning the data make sure the variables with which you are performing calculations are in numerical format.\n",
    "- The column with the year has some values that are double, e.g. **'2000-2001'** and the column with age has some empty cells. You need to deal with these in a reasonable fashion before performing calculations on the data. \n",
    "- You should include both movies and TV shows.\n",
    "    \n",
    "### Resources\n",
    "- The `requests` library makes working with HTTP requests powerful and easy. For more on the `requests` library see http://docs.python-requests.org/\n",
    "\n",
    "### Answers"
   ]
  },
  {
   "cell_type": "code",
   "execution_count": 15,
   "metadata": {},
   "outputs": [],
   "source": [
    "import requests"
   ]
  },
  {
   "cell_type": "markdown",
   "metadata": {},
   "source": [
    "**2.1 Download the webpage of the \"Top 100 Stars for 2017 ...**"
   ]
  },
  {
   "cell_type": "code",
   "execution_count": 201,
   "metadata": {},
   "outputs": [],
   "source": [
    "# your code here\n",
    "my_page = requests.get(\"https://www.imdb.com/list/ls025814950/\")"
   ]
  },
  {
   "cell_type": "markdown",
   "metadata": {},
   "source": [
    "*your answer here*\n",
    "* my_page.text is the decoded html content of the website. Requests automatically decodes the server's content.\n",
    "* my_page.status_code is the status of the HTTP request (i.e. 202 = accepted, 400 = bad request, etc.). More information available here: https://en.wikipedia.org/wiki/List_of_HTTP_status_codes\n",
    "* my_page.content is the html content of the website provided by the server"
   ]
  },
  {
   "cell_type": "markdown",
   "metadata": {},
   "source": [
    "**2.2 Create a Beautiful Soup object named star_soup giving my_page as input.**"
   ]
  },
  {
   "cell_type": "code",
   "execution_count": 202,
   "metadata": {},
   "outputs": [],
   "source": [
    "# your code here\n",
    "star_soup = BeautifulSoup(my_page.text, 'html.parser')"
   ]
  },
  {
   "cell_type": "code",
   "execution_count": 15,
   "metadata": {},
   "outputs": [],
   "source": [
    "# check your code - you should see a familiar HTML page\n",
    "# clear/remove output before making pdf\n",
    "\n",
    "#print (star_soup.prettify()[:])"
   ]
  },
  {
   "cell_type": "markdown",
   "metadata": {},
   "source": [
    "**2.3 Write a function called `parse_stars` that accepts `star_soup` as its input ...**"
   ]
  },
  {
   "cell_type": "markdown",
   "metadata": {},
   "source": [
    "```\n",
    "Function\n",
    "--------\n",
    "parse_stars\n",
    "\n",
    "Input\n",
    "------\n",
    "star_soup: the soup object with the scraped page\n",
    "   \n",
    "Returns\n",
    "-------\n",
    "a list of dictionaries; each dictionary corresponds to a star profile and has the following data:\n",
    "\n",
    "    name: the name of the actor/actress as it appears at the top\n",
    "    gender: 0 or 1: translate the word 'actress' into 1 and 'actor' into '0'\n",
    "    url: the url of the link under their name that leads to a page with details\n",
    "    page: BS object with 'html text acquired by scraping the above 'url' page' \n",
    "\n",
    "Example:\n",
    "--------\n",
    "{'name': Tom Hardy,\n",
    "  'gender': 0,\n",
    "  'url': https://www.imdb.com/name/nm0362766/?ref_=nmls_hd,\n",
    "  'page': BS object with 'html text acquired by scraping the 'url' page'\n",
    "}\n",
    "\n",
    "```"
   ]
  },
  {
   "cell_type": "code",
   "execution_count": 252,
   "metadata": {},
   "outputs": [
    {
     "name": "stdout",
     "output_type": "stream",
     "text": [
      "scraped Gal Gadot\n",
      "scraped Tom Hardy\n",
      "scraped Emilia Clarke\n",
      "scraped Alexandra Daddario\n",
      "scraped Bill Skarsgård\n",
      "scraped Pom Klementieff\n",
      "scraped Ana de Armas\n",
      "scraped Dan Stevens\n",
      "scraped Sofia Boutella\n",
      "scraped Katherine Langford\n",
      "scraped Karen Gillan\n",
      "scraped Margot Robbie\n",
      "scraped Felicity Jones\n",
      "scraped Emma Stone\n",
      "scraped Dylan Minnette\n",
      "scraped Jennifer Lawrence\n",
      "scraped Alicia Vikander\n",
      "scraped Britt Robertson\n",
      "scraped Ruby Rose\n",
      "scraped Brie Larson\n",
      "scraped Keanu Reeves\n",
      "scraped Sophia Lillis\n",
      "scraped Jessica Henwick\n",
      "scraped Cara Delevingne\n",
      "scraped Haley Bennett\n",
      "scraped Luke Evans\n",
      "scraped Teresa Palmer\n",
      "scraped Tom Holland\n",
      "scraped Alison Brie\n",
      "scraped Robin Wright\n",
      "scraped Zendaya\n",
      "scraped Emma Watson\n",
      "scraped Scarlett Johansson\n",
      "scraped Dafne Keen\n",
      "scraped Kelly Rohrbach\n",
      "scraped Eiza González\n",
      "scraped Laura Haddock\n",
      "scraped Mary Elizabeth Winstead\n",
      "scraped Taron Egerton\n",
      "scraped Anya Taylor-Joy\n",
      "scraped Elizabeth Debicki\n",
      "scraped Katheryn Winnick\n",
      "scraped Sean Young\n",
      "scraped Bill Paxton\n",
      "scraped Charlie Hunnam\n",
      "scraped Yvonne Strahovski\n",
      "scraped Jason Momoa\n",
      "scraped Lily James\n",
      "scraped Jodie Whittaker\n",
      "scraped Ryan Gosling\n",
      "scraped Adrianne Palicki\n",
      "scraped Millie Bobby Brown\n",
      "scraped Allison Williams\n",
      "scraped Chris Pratt\n",
      "scraped Katherine Waterston\n",
      "scraped Tom Cruise\n",
      "scraped Johnny Depp\n",
      "scraped James McAvoy\n",
      "scraped Travis Fimmel\n",
      "scraped Charlize Theron\n",
      "scraped Cole Sprouse\n",
      "scraped Kaya Scodelario\n",
      "scraped Abigail Breslin\n",
      "scraped Daisy Ridley\n",
      "scraped Emily Browning\n",
      "scraped Christopher Nolan\n",
      "scraped Zoe Saldana\n",
      "scraped Lena Headey\n",
      "scraped Hugh Jackman\n",
      "scraped Kit Harington\n",
      "scraped Leonardo DiCaprio\n",
      "scraped Malina Weissman\n",
      "scraped Finn Jones\n",
      "scraped Chloë Grace Moretz\n",
      "scraped Alexander Skarsgård\n",
      "scraped Amy Adams\n",
      "scraped Bella Thorne\n",
      "scraped Rebecca Ferguson\n",
      "scraped Julia Garner\n",
      "scraped Joan Crawford\n",
      "scraped Kate Mara\n",
      "scraped Chris Pine\n",
      "scraped Bryce Dallas Howard\n",
      "scraped Halston Sage\n",
      "scraped Kate Beckinsale\n",
      "scraped Connie Nielsen\n",
      "scraped Auli'i Cravalho\n",
      "scraped Mädchen Amick\n",
      "scraped Serinda Swan\n",
      "scraped Dave Bautista\n",
      "scraped Rose Leslie\n",
      "scraped Annabelle Wallis\n",
      "scraped Zoey Deutch\n",
      "scraped Sophie Turner\n",
      "scraped Dakota Johnson\n",
      "scraped Rosamund Pike\n",
      "scraped Elodie Yung\n",
      "scraped Shailene Woodley\n",
      "scraped Nina Dobrev\n",
      "scraped Christian Navarro\n"
     ]
    }
   ],
   "source": [
    "# your code here \n",
    "def list_of_html_profiles(soup):\n",
    "    return soup.find_all('div', class_ = \"lister-item-content\")\n",
    "\n",
    "def clean_text(text):\n",
    "    text_to_strip = ['\\n',' ',',']\n",
    "    for t in text_to_strip:\n",
    "        text = text.strip(t)\n",
    "    text = text.replace(\"\\n\",\" \")\n",
    "    return text\n",
    "\n",
    "def get_name(profile):\n",
    "    text = profile.find('a').get_text()\n",
    "    return clean_text(text)\n",
    "\n",
    "def get_gender(profile):\n",
    "    occupation = profile.find('p', class_ = \"text-muted text-small\").contents[0].strip()\n",
    "    if occupation.lower() == 'actor':\n",
    "        return 0\n",
    "    elif occupation.lower() == 'actress':\n",
    "        return 1\n",
    "    else:\n",
    "        return 2\n",
    "\n",
    "def get_url(profile):\n",
    "    text = \"https://www.imdb.com\" + profile.find('a')['href']\n",
    "    return text\n",
    "\n",
    "def get_page(profile):\n",
    "    url = get_url(profile)\n",
    "    my_page = requests.get(url)\n",
    "    time.sleep(10)\n",
    "    return BeautifulSoup(my_page.text, 'html.parser')\n",
    "\n",
    "def create_profile_dict(profile):  \n",
    "    profile_dict =  {\n",
    "        'name': get_name(profile),\n",
    "        'gender': get_gender(profile),\n",
    "        'url': get_url(profile),\n",
    "        'page': get_page(profile)\n",
    "    }\n",
    "    print(\"scraped %s\" % profile_dict['name'])\n",
    "    return profile_dict\n",
    "    \n",
    "\n",
    "def parse_soup(soup):\n",
    "    return [create_profile_dict(p) for p in list_of_html_profiles(soup)]\n",
    "\n",
    "starlist = parse_soup(star_soup)"
   ]
  },
  {
   "cell_type": "markdown",
   "metadata": {},
   "source": [
    "This should give you 100"
   ]
  },
  {
   "cell_type": "code",
   "execution_count": 253,
   "metadata": {},
   "outputs": [
    {
     "data": {
      "text/plain": [
       "100"
      ]
     },
     "execution_count": 253,
     "metadata": {},
     "output_type": "execute_result"
    }
   ],
   "source": [
    "len(starlist)"
   ]
  },
  {
   "cell_type": "code",
   "execution_count": 16,
   "metadata": {},
   "outputs": [],
   "source": [
    "# check your code\n",
    "# this list is large because of the html code into the `page` field\n",
    "# to get a better picture, print only the first element\n",
    "# clear/remove output before making pdf\n",
    "\n",
    "# print(starlist[0])"
   ]
  },
  {
   "cell_type": "markdown",
   "metadata": {},
   "source": [
    "Your output should look like this:\n",
    "```\n",
    "{'name': 'Gal Gadot',\n",
    " 'gender': 1,\n",
    " 'url': 'https://www.imdb.com/name/nm2933757?ref_=nmls_hd',\n",
    " 'page': \n",
    " <!DOCTYPE html>\n",
    " \n",
    " <html xmlns:fb=\"http://www.facebook.com/2008/fbml\" xmlns:og=\"http://ogp.me/ns#\">\n",
    " <head>\n",
    " <meta charset=\"utf-8\"/>\n",
    " <meta content=\"IE=edge\" http-equiv=\"X-UA-Compatible\"/>\n",
    " <meta content=\"app-id=342792525, app-argument=imdb:///name/nm2933757?src=mdot\" name=\"apple-itunes-app\"/>\n",
    " <script type=\"text/javascript\">var IMDbTimer={starttime: new Date().getTime(),pt:'java'};</script>\n",
    " <script>\n",
    "     if (typeof uet == 'function') {\n",
    "       uet(\"bb\", \"LoadTitle\", {wb: 1});\n",
    "     }\n",
    " </script>\n",
    " <script>(function(t){ (t.events = t.events || {})[\"csm_head_pre_title\"] = new Date().getTime(); })(IMDbTimer);</script>\n",
    " \n",
    "... \n",
    "\n",
    "\n",
    " ```"
   ]
  },
  {
   "cell_type": "markdown",
   "metadata": {},
   "source": [
    "**2.4 Write a function called `create_star_table` to extract information about each star ...**"
   ]
  },
  {
   "cell_type": "markdown",
   "metadata": {},
   "source": [
    "```\n",
    "Function\n",
    "--------\n",
    "create_star_table\n",
    "\n",
    "Input\n",
    "------\n",
    "the starlist\n",
    "   \n",
    "Returns\n",
    "-------\n",
    "\n",
    "a list of dictionaries; each dictionary corresponds to a star profile and has the following data:\n",
    "\n",
    "    star_name: the name of the actor/actress as it appears at the top\n",
    "    gender: 0 or 1 (1 for 'actress' and 0 for 'actor')  \n",
    "    year_born : year they were born\n",
    "    first_movie: title of their first movie or TV show\n",
    "    year_first_movie: the year they made their first movie or TV show\n",
    "    credits: number of movies or TV shows they have made in their career.\n",
    "    \n",
    "--------\n",
    "Example:\n",
    "\n",
    "{'star_name': Tom Hardy,\n",
    "  'gender': 0,\n",
    "  'year_born': 1997,\n",
    "  'first_movie' : 'Batman',\n",
    "  'year_first_movie' : 2017,\n",
    "  'credits' : 24}\n",
    "  \n",
    "```"
   ]
  },
  {
   "cell_type": "code",
   "execution_count": 286,
   "metadata": {},
   "outputs": [],
   "source": [
    "starlist_copy = starlist.copy()"
   ]
  },
  {
   "cell_type": "code",
   "execution_count": 371,
   "metadata": {},
   "outputs": [],
   "source": [
    "def get_year(star_page):\n",
    "    try:\n",
    "        return star_page.find('div', {'id': 'name-born-info'}).find_all('a')[1].text\n",
    "    except AttributeError:\n",
    "        print('missing value')\n",
    "        return None\n",
    "\n",
    "def get_first_movie(star_page):\n",
    "    tags = star_page.find('div', class_='filmo-category-section').find_all('a')\n",
    "    movies = [tag.text for tag in tags if 'pisode' not in tag.text]\n",
    "    return movies[-1]\n",
    "\n",
    "def get_year_first_movie(star_page):\n",
    "    text = star_page.find('div', class_='filmo-category-section').find_all('span', class_='year_column')[-1].text\n",
    "    return re.sub('[^0-9-]', '', text)\n",
    "\n",
    "def get_credits(star_page):\n",
    "    try:\n",
    "        text = star_page.find('div', id = re.compile('filmo-head-act')).text\n",
    "        return re.sub('[^0-9]', '', text)\n",
    "    except AttributeError:\n",
    "        print('missing value')\n",
    "        return None\n",
    "\n",
    "def create_star_dict(old_star_dict):  \n",
    "    star_dict =  {\n",
    "        'star_name': old_star_dict['name'],\n",
    "        'gender': old_star_dict['gender'],\n",
    "        'year_born': get_year(old_star_dict['page']),\n",
    "        'first_movie': get_first_movie(old_star_dict['page']),\n",
    "        'year_first_movie': get_year_first_movie(old_star_dict['page']),\n",
    "        'credits': get_credits(old_star_dict['page'])\n",
    "    }\n",
    "    return star_dict\n",
    "\n",
    "def create_star_table(starlist: list) -> list:\n",
    "    return [create_star_dict(old_star_dict) for old_star_dict in starlist]"
   ]
  },
  {
   "cell_type": "code",
   "execution_count": 372,
   "metadata": {},
   "outputs": [
    {
     "name": "stdout",
     "output_type": "stream",
     "text": [
      "missing value\n",
      "missing value\n",
      "missing value\n"
     ]
    }
   ],
   "source": [
    "star_table = create_star_table(starlist)"
   ]
  },
  {
   "cell_type": "code",
   "execution_count": 17,
   "metadata": {},
   "outputs": [],
   "source": [
    "# check your code\n",
    "# clear/remove output before making the pdf file\n",
    "\n",
    "# star_table"
   ]
  },
  {
   "cell_type": "markdown",
   "metadata": {},
   "source": [
    "Your output should look like this (the order of elements is not important):\n",
    "```\n",
    "[{'name': 'Gal Gadot',\n",
    "  'gender': 1,\n",
    "  'year_born': '1985',\n",
    "  'first_movie': 'Bubot',\n",
    "  'year_first_movie': '2007',\n",
    "  'credits': '25'},\n",
    " {'name': 'Tom Hardy',\n",
    "  'gender': 0,\n",
    "  'year_born': '1977',\n",
    "  'first_movie': 'Tommaso',\n",
    "  'year_first_movie': '2001',\n",
    "  'credits': '55'},\n",
    "  \n",
    "...\n",
    "```"
   ]
  },
  {
   "cell_type": "markdown",
   "metadata": {},
   "source": [
    "**2.5 Now that you have scraped all the info you need, it's a good practice to save the last data structure you ...**"
   ]
  },
  {
   "cell_type": "code",
   "execution_count": 374,
   "metadata": {},
   "outputs": [],
   "source": [
    "# your code here\n",
    "import json\n",
    "with open('starinfo.json', 'w') as file:\n",
    "    json.dump(star_table, file)"
   ]
  },
  {
   "cell_type": "markdown",
   "metadata": {},
   "source": [
    "To check your JSON saving, re-open the JSON file and reload the code"
   ]
  },
  {
   "cell_type": "code",
   "execution_count": 19,
   "metadata": {},
   "outputs": [],
   "source": [
    "#with open(\"starinfo.json\", \"r\") as fd:\n",
    "#    star_table = json.load(fd)\n",
    "    \n",
    "# output should be the same\n",
    "# clear/remove output before making the pdf file\n",
    "\n",
    "# star_table"
   ]
  },
  {
   "cell_type": "markdown",
   "metadata": {},
   "source": [
    "**2.6 Import the contents of the staff's JSON file (`data/staff_starinfo.json`) into a pandas dataframe. ...**"
   ]
  },
  {
   "cell_type": "markdown",
   "metadata": {},
   "source": [
    "**2.6** We provide a JSON file called `data/staff_starinfo.json` created by CS109 teaching staff for consistency, which you should use for the rest of the homework. Import the contents of this JSON file  into a pandas dataframe called `frame`. Check the types of variables in each column and clean these variables if needed. Add a new column to your dataframe with the age of each actor when they made their first appearance, movie or TV, (name this column `age_at_first_movie`). Check some of the values of this new column. Do you find any problems? You don't need to fix them."
   ]
  },
  {
   "cell_type": "code",
   "execution_count": 392,
   "metadata": {},
   "outputs": [
    {
     "data": {
      "text/html": [
       "<div>\n",
       "<style scoped>\n",
       "    .dataframe tbody tr th:only-of-type {\n",
       "        vertical-align: middle;\n",
       "    }\n",
       "\n",
       "    .dataframe tbody tr th {\n",
       "        vertical-align: top;\n",
       "    }\n",
       "\n",
       "    .dataframe thead th {\n",
       "        text-align: right;\n",
       "    }\n",
       "</style>\n",
       "<table border=\"1\" class=\"dataframe\">\n",
       "  <thead>\n",
       "    <tr style=\"text-align: right;\">\n",
       "      <th></th>\n",
       "      <th>credits</th>\n",
       "      <th>first_movie</th>\n",
       "      <th>gender</th>\n",
       "      <th>name</th>\n",
       "      <th>year_born</th>\n",
       "      <th>year_first_movie</th>\n",
       "    </tr>\n",
       "  </thead>\n",
       "  <tbody>\n",
       "    <tr>\n",
       "      <th>0</th>\n",
       "      <td>25</td>\n",
       "      <td>Bubot</td>\n",
       "      <td>1</td>\n",
       "      <td>Gal Gadot</td>\n",
       "      <td>1985</td>\n",
       "      <td>2007</td>\n",
       "    </tr>\n",
       "    <tr>\n",
       "      <th>1</th>\n",
       "      <td>55</td>\n",
       "      <td>Tommaso</td>\n",
       "      <td>0</td>\n",
       "      <td>Tom Hardy</td>\n",
       "      <td>1977</td>\n",
       "      <td>2001</td>\n",
       "    </tr>\n",
       "    <tr>\n",
       "      <th>2</th>\n",
       "      <td>17</td>\n",
       "      <td>Doctors</td>\n",
       "      <td>1</td>\n",
       "      <td>Emilia Clarke</td>\n",
       "      <td>1986</td>\n",
       "      <td>2009</td>\n",
       "    </tr>\n",
       "    <tr>\n",
       "      <th>3</th>\n",
       "      <td>51</td>\n",
       "      <td>All My Children</td>\n",
       "      <td>1</td>\n",
       "      <td>Alexandra Daddario</td>\n",
       "      <td>1986</td>\n",
       "      <td>2002-2003</td>\n",
       "    </tr>\n",
       "    <tr>\n",
       "      <th>4</th>\n",
       "      <td>30</td>\n",
       "      <td>Järngänget</td>\n",
       "      <td>0</td>\n",
       "      <td>Bill Skarsgård</td>\n",
       "      <td>1990</td>\n",
       "      <td>2000</td>\n",
       "    </tr>\n",
       "  </tbody>\n",
       "</table>\n",
       "</div>"
      ],
      "text/plain": [
       "   credits      first_movie  gender                name  year_born year_first_movie\n",
       "0       25            Bubot       1           Gal Gadot       1985             2007\n",
       "1       55          Tommaso       0           Tom Hardy       1977             2001\n",
       "2       17          Doctors       1       Emilia Clarke       1986             2009\n",
       "3       51  All My Children       1  Alexandra Daddario       1986        2002-2003\n",
       "4       30       Järngänget       0      Bill Skarsgård       1990             2000"
      ]
     },
     "execution_count": 392,
     "metadata": {},
     "output_type": "execute_result"
    }
   ],
   "source": [
    "# your code here\n",
    "frame = pd.read_json('./data/staff_starinfo.json')\n",
    "frame.head()"
   ]
  },
  {
   "cell_type": "code",
   "execution_count": 393,
   "metadata": {},
   "outputs": [
    {
     "name": "stdout",
     "output_type": "stream",
     "text": [
      "types before cleaning:\n",
      "credits              int64\n",
      "first_movie         object\n",
      "gender               int64\n",
      "name                object\n",
      "year_born            int64\n",
      "year_first_movie    object\n",
      "dtype: object\n",
      "types after cleaning:\n",
      "credits              int64\n",
      "first_movie         object\n",
      "gender               int64\n",
      "name                object\n",
      "year_born            int64\n",
      "year_first_movie     int64\n",
      "dtype: object\n"
     ]
    }
   ],
   "source": [
    "# your code here \n",
    "\n",
    "#check types\n",
    "print(\"types before cleaning:\")\n",
    "print(frame.dtypes)\n",
    "\n",
    "#take only first year when year_first_movie is of format yyyy-yyyy\n",
    "frame.year_first_movie = frame.year_first_movie.apply(lambda x: x[:4])\n",
    "\n",
    "#cast year_first_movie to int\n",
    "frame.year_first_movie = frame.year_first_movie.astype(int)\n",
    "\n",
    "#check types\n",
    "print(\"types after cleaning:\")\n",
    "print(frame.dtypes)"
   ]
  },
  {
   "cell_type": "code",
   "execution_count": 397,
   "metadata": {},
   "outputs": [
    {
     "name": "stdout",
     "output_type": "stream",
     "text": [
      "number of NA values: 0\n"
     ]
    }
   ],
   "source": [
    "# your code here\n",
    "#check for missing values\n",
    "print('number of NA values: %i' %frame.isna().sum().sum())"
   ]
  },
  {
   "cell_type": "code",
   "execution_count": 403,
   "metadata": {},
   "outputs": [
    {
     "data": {
      "text/html": [
       "<div>\n",
       "<style scoped>\n",
       "    .dataframe tbody tr th:only-of-type {\n",
       "        vertical-align: middle;\n",
       "    }\n",
       "\n",
       "    .dataframe tbody tr th {\n",
       "        vertical-align: top;\n",
       "    }\n",
       "\n",
       "    .dataframe thead th {\n",
       "        text-align: right;\n",
       "    }\n",
       "</style>\n",
       "<table border=\"1\" class=\"dataframe\">\n",
       "  <thead>\n",
       "    <tr style=\"text-align: right;\">\n",
       "      <th></th>\n",
       "      <th>credits</th>\n",
       "      <th>first_movie</th>\n",
       "      <th>gender</th>\n",
       "      <th>name</th>\n",
       "      <th>year_born</th>\n",
       "      <th>year_first_movie</th>\n",
       "      <th>age_at_first_movie</th>\n",
       "    </tr>\n",
       "  </thead>\n",
       "  <tbody>\n",
       "    <tr>\n",
       "      <th>63</th>\n",
       "      <td>32</td>\n",
       "      <td>Only Yesterday</td>\n",
       "      <td>1</td>\n",
       "      <td>Daisy Ridley</td>\n",
       "      <td>1992</td>\n",
       "      <td>1991</td>\n",
       "      <td>-1</td>\n",
       "    </tr>\n",
       "  </tbody>\n",
       "</table>\n",
       "</div>"
      ],
      "text/plain": [
       "    credits     first_movie  gender          name  year_born  year_first_movie  age_at_first_movie\n",
       "63       32  Only Yesterday       1  Daisy Ridley       1992              1991                  -1"
      ]
     },
     "execution_count": 403,
     "metadata": {},
     "output_type": "execute_result"
    }
   ],
   "source": [
    "# your code here\n",
    "frame['age_at_first_movie'] = frame['year_first_movie'] - frame['year_born']\n",
    "frame[frame['age_at_first_movie'] < 0]"
   ]
  },
  {
   "cell_type": "markdown",
   "metadata": {},
   "source": [
    "*your answer here*\n",
    "\n",
    "Daisy Ridley's first movie was apparently released before she was born."
   ]
  },
  {
   "cell_type": "markdown",
   "metadata": {},
   "source": [
    "**2.7 You are now ready to answer the following intriguing questions**:"
   ]
  },
  {
   "cell_type": "markdown",
   "metadata": {},
   "source": [
    "**2.7.1 How many performers made their first movie at 17?**"
   ]
  },
  {
   "cell_type": "code",
   "execution_count": 409,
   "metadata": {},
   "outputs": [
    {
     "name": "stdout",
     "output_type": "stream",
     "text": [
      "8 performers made their first movie at 17\n"
     ]
    }
   ],
   "source": [
    "# your code here\n",
    "print(\"%i performers made their first movie at 17\" % frame.groupby('age_at_first_movie').shape[0])"
   ]
  },
  {
   "cell_type": "markdown",
   "metadata": {},
   "source": [
    "Your output should look like this:<BR>\n",
    "8 performers made their first movie at 17"
   ]
  },
  {
   "cell_type": "markdown",
   "metadata": {},
   "source": [
    "**2.7.2 How many performers started as child actors? Define child actor as a person less than 12 years old.** "
   ]
  },
  {
   "cell_type": "code",
   "execution_count": 414,
   "metadata": {},
   "outputs": [
    {
     "name": "stdout",
     "output_type": "stream",
     "text": [
      "20 performers started as child actors\n"
     ]
    }
   ],
   "source": [
    "# your code here\n",
    "print(\"%i performers started as child actors\" % frame[frame.age_at_first_movie < 12].shape[0])"
   ]
  },
  {
   "cell_type": "markdown",
   "metadata": {},
   "source": [
    "**2.8 Make a plot of the number of credits versus the name of actor/actress.**"
   ]
  },
  {
   "cell_type": "code",
   "execution_count": 437,
   "metadata": {},
   "outputs": [
    {
     "data": {
      "text/plain": [
       "<Figure size 2880x720 with 0 Axes>"
      ]
     },
     "execution_count": 437,
     "metadata": {},
     "output_type": "execute_result"
    },
    {
     "data": {
      "image/png": "[encoded data removed]",
      "text/plain": [
       "<Figure size 1440x720 with 1 Axes>"
      ]
     },
     "metadata": {},
     "output_type": "display_data"
    },
    {
     "data": {
      "text/plain": [
       "<Figure size 2880x720 with 0 Axes>"
      ]
     },
     "metadata": {},
     "output_type": "display_data"
    }
   ],
   "source": [
    "# your code here\n",
    "frame = frame.sort_values('credits')\n",
    "plt.subplots(figsize=(20,10))\n",
    "ax = sns.barplot(x = frame.name, y = frame.credits)\n",
    "ax.set_title('Number of Movies or TV Shows per Actor/Actress')\n",
    "ax.set_xticklabels(frame.name, rotation=90)\n",
    "plt.figure(figsize=(40,10))\n"
   ]
  },
  {
   "cell_type": "code",
   "execution_count": 449,
   "metadata": {},
   "outputs": [
    {
     "name": "stdout",
     "output_type": "stream",
     "text": [
      "The most prolific actor is Sean Young\n"
     ]
    }
   ],
   "source": [
    "# your code here \n",
    "print(\"The most prolific actor is %s\" % list(frame[frame.credits == max(frame.credits)].name)[0])"
   ]
  },
  {
   "cell_type": "markdown",
   "metadata": {},
   "source": [
    "<hr style=\"height:2px\">\n",
    "##  Going the Extra Mile \n",
    "Be sure to complete problems 1 and 2 before tackling this problem...it is worth only 8 points.\n"
   ]
  },
  {
   "cell_type": "markdown",
   "metadata": {},
   "source": [
    "<div class='exercise'> <b>Question 3 [8 pts]: Parsing using Regular Expressions (regex) </b></div>\n",
    "\n",
    "Even though scraping HTML with regex is sometimes considered bad practice, you are to use python's **regular expressions** to answer this problem.  Regular expressions are useful to parse strings, text, tweets, etc. in general (for example, you may encounter a non-standard format for dates at some point). Do not use BeautifulSoup to answer this problem.\n",
    "\n",
    " **3.1** Write a function called `get_pubs` that takes an .html filename as an input and returns a string containing the HTML page in this file (see definition below). Call this function using `data/publist_super_clean.html` as input and name the returned string `prof_pubs`. \n",
    " \n",
    " **3.2** Calculate how many times the author named '`C.M. Friend`' appears in the list of publications. \n",
    " \n",
    " **3.3** Find all unique journals and copy them in a variable named `journals`.  \n",
    " \n",
    " **3.4** Create a list named `pub_authors` whose elements are strings containing the authors' names for each paper. \n",
    "    \n",
    "### Hints\n",
    "- Look for patterns in the HTML tags that reveal where each piece of information such as the title of the paper, the names of the authors, the journal name, is stored. For example, you might notice that the journal name(s) is contained between the &lt;I&gt; HTML tag. \n",
    "- Learning about your domain is always a good idea: you want to check the names to make sure that they belong to actual journals. Thus, while journal name(s) is contained between the &lt;I&gt; HTML tag, please note that <i>all</i> strings found between &lt;I&gt; tags may not be journal names.\n",
    "- Each publication has multiple authors. \n",
    "- `C.M. Friend` also shows up as `Cynthia M. Friend` in the file.  Count just `C. M. Friend`. \n",
    "- There is a comma at the end of the string of authors. You can choose to keep it in the string or remove it and put it back when you write the string as a BibTex entry. \n",
    "- You want to remove duplicates from the list of journals. Duplicates may also occur due to misspellings or spaces, such as: `Nano Lett.`, and `NanoLett.` You can assume that any journals with the same initials (e.g., `NL` for `NanoLett.`) are the same journal.\n",
    "\n",
    "### Resources\n",
    "- **Regular expressions:** a) https://docs.python.org/3.3/library/re.html, b) https://regexone.com, and c) https://docs.python.org/3/howto/regex.html. \n",
    "- ** HTML:** if you are not familiar with HTML see https://www.w3schools.com/html/ or one of the many tutorials on the internet. \n",
    "- ** Document Object Model (DOM):** for more on this programming interface for HTML and XML documents see https://www.w3schools.com/js/js_htmldom.asp. "
   ]
  },
  {
   "cell_type": "markdown",
   "metadata": {},
   "source": [
    "### Answers\n",
    "\n",
    "** 3.1  Write a function called `get_pubs` that takes an .html filename as an input and returns a string  ... **    "
   ]
  },
  {
   "cell_type": "code",
   "execution_count": 36,
   "metadata": {},
   "outputs": [],
   "source": [
    "# first import the necessary reg expr library\n",
    "import re"
   ]
  },
  {
   "cell_type": "code",
   "execution_count": 37,
   "metadata": {},
   "outputs": [],
   "source": [
    "# use this file provided\n",
    "PUB_FILENAME = 'data/publist_super_clean.html'"
   ]
  },
  {
   "cell_type": "code",
   "execution_count": 460,
   "metadata": {},
   "outputs": [],
   "source": [
    "# your code here\n",
    "def get_pubs(filename):\n",
    "    with open(filename, \"r\") as f:\n",
    "        return f.read()"
   ]
  },
  {
   "cell_type": "code",
   "execution_count": 462,
   "metadata": {},
   "outputs": [],
   "source": [
    "# your code here\n",
    "prof_pubs = get_pubs(PUB_FILENAME)"
   ]
  },
  {
   "cell_type": "code",
   "execution_count": 20,
   "metadata": {
    "scrolled": true
   },
   "outputs": [],
   "source": [
    "# checking your code \n",
    "# clear/remove output before creating the pdf file\n",
    "\n",
    "# print(prof_pubs)"
   ]
  },
  {
   "cell_type": "markdown",
   "metadata": {},
   "source": [
    "You should see an HTML page that looks like this (colors are not important)\n",
    "```html\n",
    "<LI>\n",
    "<A HREF=\"Papers/2011/PhysRevB_84_125411_2011.pdf\" target=\"paper244\">\n",
    "&quot;Approaching the intrinsic band gap in suspended high-mobility graphene nanoribbons&quot;</A>\n",
    "<BR>Ming-Wei Lin, Cheng Ling, Luis A. Agapito, Nicholas Kioussis, Yiyang Zhang, Mark Ming-Cheng Cheng,\n",
    "<I>PHYSICAL REVIEW B </I> <b>84</b>,  125411 (2011)\n",
    "<BR>\n",
    "</LI>\n",
    "</OL>\n",
    "\n",
    "<OL START=243>\n",
    "<LI>\n",
    "<A HREF=\"Papers/2011/PhysRevB_84_035325_2011.pdf\" target=\"paper243\">\n",
    "&quot;Effect of symmetry breaking on the optical absorption of semiconductor nanoparticles&quot;</A>\n",
    "<BR>JAdam Gali, Efthimios Kaxiras, Gergely T. Zimanyi, Sheng Meng,\n",
    "<I>PHYSICAL REVIEW B </I> <b>84</b>,  035325 (2011)\n",
    "<BR>\n",
    "</LI>\n",
    "</OL>\n",
    "\n",
    "<OL START=242>\n",
    "<LI>\n",
    "<A HREF=\"Papers/2011/PhysRevB_83_054204_2011.pdf\" target=\"paper242\">\n",
    "&quot;Influence of CH2 content and network defects on the elastic properties of organosilicate glasses&quot;</A>\n",
    "<BR>Jan M. Knaup, Han Li, Joost J. Vlassak, and Efthimios Kaxiras,\n",
    "<I>PHYSICAL REVIEW B </I> <b>83</b>,  054204 (2011)\n",
    "<BR>\n",
    "</LI>\n",
    "</OL>\n",
    "    ```"
   ]
  },
  {
   "cell_type": "markdown",
   "metadata": {},
   "source": [
    "**3.2 Calculate how many times the author ... **"
   ]
  },
  {
   "cell_type": "code",
   "execution_count": 524,
   "metadata": {},
   "outputs": [
    {
     "name": "stdout",
     "output_type": "stream",
     "text": [
      "C.M. Friend appears 5 times\n"
     ]
    }
   ],
   "source": [
    "# your code here\n",
    "print(\"C.M. Friend appears %i times\"%prof_pubs.count(\"C.M. Friend\"))"
   ]
  },
  {
   "cell_type": "markdown",
   "metadata": {},
   "source": [
    "**3.3 Find all unique journals and copy ...**"
   ]
  },
  {
   "cell_type": "code",
   "execution_count": 525,
   "metadata": {},
   "outputs": [],
   "source": [
    "# your code here \n",
    "journals_with_tags = set(re.findall(\"<I>.*</I>\",prof_pubs))\n",
    "journals = [name[3:-5] for name in journals_with_tags]\n",
    "journals.sort()\n",
    "journals.remove('NanoLett.')\n",
    "journals.remove('New J. Phys.')"
   ]
  },
  {
   "cell_type": "code",
   "execution_count": 526,
   "metadata": {},
   "outputs": [
    {
     "data": {
      "text/plain": [
       "['2010 ACM/IEEE International Conference for High Performance',\n",
       " 'ACSNano.',\n",
       " 'Ab initi',\n",
       " 'Acta Mater.',\n",
       " 'Catal. Sci. Technol.',\n",
       " 'Chem. Eur. J.',\n",
       " 'Comp. Phys. Comm.',\n",
       " 'Concurrency Computat.: Pract. Exper.',\n",
       " 'Energy & Environmental Sci.',\n",
       " 'Int. J. Cardiovasc. Imaging',\n",
       " 'J. Chem. Phys.',\n",
       " 'J. Chem. Theory Comput.',\n",
       " 'J. Phys. Chem. B',\n",
       " 'J. Phys. Chem. C',\n",
       " 'J. Phys. Chem. Lett.',\n",
       " 'J. Stat. Mech: Th. and Exper.',\n",
       " 'Langmuir',\n",
       " 'Molec. Phys.',\n",
       " 'Nano Lett.',\n",
       " 'New Journal of Physics',\n",
       " 'PHYSICAL REVIEW B',\n",
       " 'Phil. Trans. R. Soc. A',\n",
       " 'Phys. Rev. B',\n",
       " 'Phys. Rev. E - Rap. Comm.',\n",
       " 'Phys. Rev. Lett.',\n",
       " 'Sci. Model. Simul.',\n",
       " 'Sol. St. Comm.',\n",
       " 'Top. Catal.']"
      ]
     },
     "execution_count": 526,
     "metadata": {},
     "output_type": "execute_result"
    }
   ],
   "source": [
    "journals"
   ]
  },
  {
   "cell_type": "markdown",
   "metadata": {},
   "source": [
    "Your output should look like this (no duplicates):\n",
    "```\n",
    "{'2010 ACM/IEEE International Conference for High Performance',\n",
    " 'ACSNano.',\n",
    " 'Ab initio',\n",
    " 'Acta Mater.',\n",
    " 'Catal. Sci. Technol.',\n",
    " 'Chem. Eur. J.',\n",
    " 'Comp. Phys. Comm.',\n",
    " 'Concurrency Computat.: Pract. Exper.',\n",
    " 'Energy & Environmental Sci.',\n",
    " 'Int. J. Cardiovasc. Imaging',\n",
    " 'J. Chem. Phys.',\n",
    " 'J. Chem. Theory Comput.',\n",
    " 'J. Phys. Chem. B',\n",
    " 'J. Phys. Chem. C',\n",
    " 'J. Phys. Chem. Lett.',\n",
    " 'J. Stat. Mech: Th. and Exper.',\n",
    " 'Langmuir',\n",
    " 'Molec. Phys.',\n",
    " 'Nano Lett.',\n",
    " 'New Journal of Physics',\n",
    " 'PHYSICAL REVIEW B',\n",
    " 'Phil. Trans. R. Soc. A',\n",
    " 'Phys. Rev. E - Rap. Comm.',\n",
    " 'Phys. Rev. Lett.',\n",
    " 'Sci. Model. Simul.',\n",
    " 'Sol. St. Comm.',\n",
    " 'Top. Catal.'}\n",
    " ```"
   ]
  },
  {
   "cell_type": "markdown",
   "metadata": {},
   "source": [
    "**3.4 Create a list named `pub_authors`...**"
   ]
  },
  {
   "cell_type": "code",
   "execution_count": 527,
   "metadata": {},
   "outputs": [],
   "source": [
    "# your code here\n",
    "pub_authors_with_tags = re.findall(\"<BR>.*\\n<I>\",prof_pubs)\n",
    "pub_authors = [authors[4:-5].strip(\" ,\") for authors in pub_authors_with_tags]"
   ]
  },
  {
   "cell_type": "code",
   "execution_count": 528,
   "metadata": {},
   "outputs": [
    {
     "name": "stdout",
     "output_type": "stream",
     "text": [
      "Ming-Wei Lin, Cheng Ling, Luis A. Agapito, Nicholas Kioussis, Yiyang Zhang, Mark Ming-Cheng Cheng\n",
      "JAdam Gali, Efthimios Kaxiras, Gergely T. Zimanyi, Sheng Meng\n",
      "Jan M. Knaup, Han Li, Joost J. Vlassak, and Efthimios Kaxiras\n",
      "Martin Heiss, Sonia Conesa-Boj, Jun Ren, Hsiang-Han Tseng, Adam Gali\n",
      "Simone Melchionna, Efthimios Kaxiras, Massimo Bernaschi and Sauro Succi\n",
      "J R Maze, A Gali, E Togan, Y Chu, A Trifonov\n",
      "Kejie Zhao, Wei L. Wang, John Gregoire, Matt Pharr, Zhigang Suo\n",
      "Masataka Katono, Takeru Bessho, Sheng Meng, Robin Humphry-Baker, Guido Rothenberger\n",
      "Thomas D. Kuhne, Tod A. Pascal, Efthimios Kaxiras, and Yousung Jung\n",
      "Sheng Meng, Efthimios Kaxiras, Md. K. Nazeeruddin, and Michael Gratzel\n",
      "Bingjun Xu, Jan Haubrich, Thomas A. Baker, Efthimios Kaxiras, and Cynthia M. Friend\n",
      "Jun Ren, Sheng Meng, Yi-Lin Wang, Xu-Cun Ma, Qi-Kun Xue, Efthimios Kaxiras\n",
      "Jan Haubrich, Efthimios Kaxiras, and Cynthia M. Friend\n",
      "Thomas A. Baker, Bingjun Xu, Stephen C. Jensen, Cynthia M. Friend and Efthimios Kaxiras\n",
      "Youdong Mao, Wei L. Wang, Dongguang Wei, Efthimios Kaxiras, and Joseph G. Sodroski\n",
      "H. Li, J.M. Knaup, E. Kaxiras and J.J. Vlassak\n",
      "W.L. Wang and E. Kaxiras\n",
      "L.A. Agapito, N. Kioussis and E. Kaxiras\n",
      "A. Peters, S. Melchionna, E. Kaxiras, J. Latt, J. Sircar, S. Succi\n",
      "J. Ren, E. Kaxiras and S. Meng\n",
      "T.A. Baker, E. Kaxiras and C.M. Friend\n",
      "H.P. Chen, R.K. Kalia, E. Kaxiras, G. Lu, A. Nakano, K. Nomura\n",
      "S. Meng and E. Kaxiras\n",
      "C.L. Chang, S.K.R.S. Sankaranarayanan, D. Ruzmetov, M.H. Engelhard, E. Kaxiras and S. Ramanathan\n",
      "T.A. Baker, C.M. Friend and E. Kaxiras\n",
      "S. Melchionna, M. Bernaschi, S. Succi, E. Kaxiras, F.J. Rybicki, D. Mitsouras, A.U. Coskun and C.L. Feldman\n",
      "M. Bernaschi, M. Fatica, S. Melchionna, S. Succi and E. Kaxiras\n",
      "E. Manousakis, J. Ren, S. Meng and E. Kaxiras\n",
      "A. Gali, E. Janzen, P. Deak, G. Kresse and E. Kaxiras\n",
      "S.K.R.S. Sankaranarayanan, E. Kaxiras and S. Ramanathan\n",
      "M. Bernaschi, S. Melchionna, S. Succi, M. Fyta, E. Kaxiras\n",
      "T.A. Baker, B.J. Xu, X.Y. Liu, E. Kaxiras and C.M. Friend\n",
      "F.J. Rybicki, S. Melchionna, D. Mitsouras, A.U. Coskun, A.G. Whitmore, E. Kaxiras, S. Succi, P.H. Stone and C.L. Feldman\n",
      "H. Chen, W.G. Zhu, E. Kaxiras, and Z.Y. Zhang\n",
      "M. Fyta, S. Melchionna, M. Bernaschi, E. Kaxiras and S. Succi\n",
      "E.M. Kotsalis, J.H. Walther, E. Kaxiras and P. Koumoutsakos\n",
      "C.E. Lekka, J. Ren, S. Meng and E. Kaxiras\n",
      "W.L. Wang, O.V. Yazyev, S. Meng and E. Kaxiras\n",
      "A. Gali and E. Kaxiras\n",
      "S. Melchionna, M. Bernaschi, M. Fyta, E. Kaxiras and S. Succi\n",
      "S.K.R.S. Sankaranarayanan, E. Kaxiras, S. Ramanathan\n",
      "T.A. Baker, C.M. Friend and E. Kaxiras\n",
      "T.A. Baker, C.M. Friend and E. Kaxiras\n",
      "E. Kaxiras and S. Succi\n",
      "E. Manousakis, J. Ren, S. Meng and E. Kaxiras\n"
     ]
    }
   ],
   "source": [
    "# check your code: print the list of strings containing the author(s)' names\n",
    "for item in pub_authors:\n",
    "    print (item)"
   ]
  },
  {
   "cell_type": "markdown",
   "metadata": {},
   "source": [
    "Your output should look like this (a line for each paper's authors string of names)\n",
    "```\n",
    "Ming-Wei Lin, Cheng Ling, Luis A. Agapito, Nicholas Kioussis, Yiyang Zhang, Mark Ming-Cheng Cheng,\n",
    "JAdam Gali, Efthimios Kaxiras, Gergely T. Zimanyi, Sheng Meng,\n",
    "Jan M. Knaup, Han Li, Joost J. Vlassak, and Efthimios Kaxiras,\n",
    "Martin Heiss, Sonia Conesa-Boj, Jun Ren, Hsiang-Han Tseng, Adam Gali,\n",
    "\n",
    "...\n",
    "\n",
    "T.A. Baker, C.M. Friend and E. Kaxiras,\n",
    "T.A. Baker, C.M. Friend and E. Kaxiras,\n",
    "E. Kaxiras and S. Succi,\n",
    "E. Manousakis, J. Ren, S. Meng and E. Kaxiras,\n",
    "```"
   ]
  },
  {
   "cell_type": "code",
   "execution_count": null,
   "metadata": {},
   "outputs": [],
   "source": []
  }
 ],
 "metadata": {
  "anaconda-cloud": {},
  "kernelspec": {
   "display_name": "Python [conda env:py36]",
   "language": "python",
   "name": "conda-env-py36-py"
  },
  "language_info": {
   "codemirror_mode": {
    "name": "ipython",
    "version": 3
   },
   "file_extension": ".py",
   "mimetype": "text/x-python",
   "name": "python",
   "nbconvert_exporter": "python",
   "pygments_lexer": "ipython3",
   "version": "3.6.6"
  }
 },
 "nbformat": 4,
 "nbformat_minor": 2
}
