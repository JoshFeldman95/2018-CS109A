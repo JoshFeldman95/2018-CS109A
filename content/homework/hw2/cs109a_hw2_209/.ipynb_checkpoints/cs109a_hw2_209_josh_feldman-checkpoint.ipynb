{
 "cells": [
  {
   "cell_type": "markdown",
   "metadata": {},
   "source": [
    "# <img style=\"float: left; padding-right: 10px; width: 45px\" src=\"https://raw.githubusercontent.com/Harvard-IACS/2018-CS109A/master/content/styles/iacs.png\"> CS109A Introduction to Data Science: \n",
    "\n",
    "## Homework 2  AC 209 : Linear and k-NN Regression\n",
    "\n",
    "\n",
    "**Harvard University**<br/>\n",
    "**Fall 2018**<br/>\n",
    "**Instructors**: Pavlos Protopapas, Kevin Rader\n",
    "\n",
    "<hr style=\"height:2pt\">\n"
   ]
  },
  {
   "cell_type": "code",
   "execution_count": 3,
   "metadata": {},
   "outputs": [
    {
     "data": {
      "text/html": [
       "<style>\n",
       "h1 { \n",
       "    padding-top: 25px;\n",
       "    padding-bottom: 25px;\n",
       "    text-align: left; \n",
       "    padding-left: 10px;\n",
       "    background-color: #DDDDDD; \n",
       "    color: black;\n",
       "}\n",
       "h2 { \n",
       "    padding-top: 10px;\n",
       "    padding-bottom: 10px;\n",
       "    text-align: left; \n",
       "    padding-left: 5px;\n",
       "    background-color: #EEEEEE; \n",
       "    color: black;\n",
       "}\n",
       "\n",
       "div.exercise {\n",
       "\tbackground-color: #ffcccc;\n",
       "\tborder-color: #E9967A; \t\n",
       "\tborder-left: 5px solid #800080; \n",
       "\tpadding: 0.5em;\n",
       "}\n",
       "div.theme {\n",
       "\tbackground-color: #DDDDDD;\n",
       "\tborder-color: #E9967A; \t\n",
       "\tborder-left: 5px solid #800080; \n",
       "\tpadding: 0.5em;\n",
       "\tfont-size: 18pt;\n",
       "}\n",
       "p.q1 { \n",
       "    padding-top: 5px;\n",
       "    padding-bottom: 5px;\n",
       "    text-align: left; \n",
       "    padding-left: 5px;\n",
       "    background-color: #EEEEEE; \n",
       "    color: black;\n",
       "}\n",
       "header {\n",
       "   padding-top: 35px;\n",
       "    padding-bottom: 35px;\n",
       "    text-align: left; \n",
       "    padding-left: 10px;\n",
       "    background-color: #DDDDDD; \n",
       "    color: black;\n",
       "}\n",
       "</style>\n",
       "\n"
      ],
      "text/plain": [
       "<IPython.core.display.HTML object>"
      ]
     },
     "execution_count": 3,
     "metadata": {},
     "output_type": "execute_result"
    }
   ],
   "source": [
    "#RUN THIS CELL \n",
    "import requests\n",
    "from IPython.core.display import HTML\n",
    "styles = requests.get(\"https://raw.githubusercontent.com/Harvard-IACS/2018-CS109A/master/content/styles/cs109.css\").text\n",
    "HTML(styles)\n"
   ]
  },
  {
   "cell_type": "markdown",
   "metadata": {},
   "source": [
    "### INSTRUCTIONS\n",
    "\n",
    "- To submit your assignment follow the instructions given in canvas.\n",
    "- Restart the kernel and run the whole notebook again before you submit. \n",
    "- If you submit individually and you have worked with someone, please include the name of your [one] partner below. \n",
    "- As much as possible, try and stick to the hints and functions we import at the top of the homework, as those are the ideas and tools the class supports and is aiming to teach. And if a problem specifies a particular library you're required to use that library, and possibly others from the import list."
   ]
  },
  {
   "cell_type": "markdown",
   "metadata": {},
   "source": [
    "Names of people you have worked with goes here: "
   ]
  },
  {
   "cell_type": "markdown",
   "metadata": {},
   "source": [
    "<hr style=\"height:2pt\">"
   ]
  },
  {
   "cell_type": "code",
   "execution_count": 4,
   "metadata": {
    "scrolled": true
   },
   "outputs": [],
   "source": [
    "import numpy as np\n",
    "import pandas as pd\n",
    "import matplotlib\n",
    "import matplotlib.pyplot as plt\n",
    "from sklearn.metrics import r2_score\n",
    "from sklearn.neighbors import KNeighborsRegressor\n",
    "from sklearn.linear_model import LinearRegression\n",
    "from sklearn.model_selection import train_test_split\n",
    "import statsmodels.api as sm\n",
    "from statsmodels.api import OLS\n",
    "%matplotlib inline"
   ]
  },
  {
   "cell_type": "markdown",
   "metadata": {},
   "source": [
    "<hr style=\"height:2pt\">\n",
    "\n",
    "\n",
    "<div class='theme'>Linear Algebra, Accuracy, and Confidence Intervals </div>\n",
    "In this part of the homework, you will see how _uncertainty_ in the beta coefficients can directly impact our ability to make predictions with a linear regression model and how in general we can do inference on the predictors. You will explore a linear-algebra formula that tells us how accurately we've learned the beta parameters, going beyond simple SEs to describe the joint distribution of the betas. You'll see that the structure of the $X$ data can strongly impact how well we can learn the betas, and you'll determine desirable prroperties of the $X$ data.\n",
    "\n",
    "The data for this supplement are the same as in lab1, and are imported for you in the cells below."
   ]
  },
  {
   "cell_type": "code",
   "execution_count": 5,
   "metadata": {},
   "outputs": [
    {
     "data": {
      "text/html": [
       "<div>\n",
       "<style scoped>\n",
       "    .dataframe tbody tr th:only-of-type {\n",
       "        vertical-align: middle;\n",
       "    }\n",
       "\n",
       "    .dataframe tbody tr th {\n",
       "        vertical-align: top;\n",
       "    }\n",
       "\n",
       "    .dataframe thead th {\n",
       "        text-align: right;\n",
       "    }\n",
       "</style>\n",
       "<table border=\"1\" class=\"dataframe\">\n",
       "  <thead>\n",
       "    <tr style=\"text-align: right;\">\n",
       "      <th></th>\n",
       "      <th>name</th>\n",
       "      <th>mpg</th>\n",
       "      <th>cyl</th>\n",
       "      <th>disp</th>\n",
       "      <th>hp</th>\n",
       "      <th>drat</th>\n",
       "      <th>wt</th>\n",
       "      <th>qsec</th>\n",
       "      <th>vs</th>\n",
       "      <th>am</th>\n",
       "      <th>gear</th>\n",
       "      <th>carb</th>\n",
       "    </tr>\n",
       "  </thead>\n",
       "  <tbody>\n",
       "    <tr>\n",
       "      <th>0</th>\n",
       "      <td>Mazda RX4</td>\n",
       "      <td>21.0</td>\n",
       "      <td>6</td>\n",
       "      <td>160.0</td>\n",
       "      <td>110</td>\n",
       "      <td>3.90</td>\n",
       "      <td>2.620</td>\n",
       "      <td>16.46</td>\n",
       "      <td>0</td>\n",
       "      <td>1</td>\n",
       "      <td>4</td>\n",
       "      <td>4</td>\n",
       "    </tr>\n",
       "    <tr>\n",
       "      <th>1</th>\n",
       "      <td>Mazda RX4 Wag</td>\n",
       "      <td>21.0</td>\n",
       "      <td>6</td>\n",
       "      <td>160.0</td>\n",
       "      <td>110</td>\n",
       "      <td>3.90</td>\n",
       "      <td>2.875</td>\n",
       "      <td>17.02</td>\n",
       "      <td>0</td>\n",
       "      <td>1</td>\n",
       "      <td>4</td>\n",
       "      <td>4</td>\n",
       "    </tr>\n",
       "    <tr>\n",
       "      <th>2</th>\n",
       "      <td>Datsun 710</td>\n",
       "      <td>22.8</td>\n",
       "      <td>4</td>\n",
       "      <td>108.0</td>\n",
       "      <td>93</td>\n",
       "      <td>3.85</td>\n",
       "      <td>2.320</td>\n",
       "      <td>18.61</td>\n",
       "      <td>1</td>\n",
       "      <td>1</td>\n",
       "      <td>4</td>\n",
       "      <td>1</td>\n",
       "    </tr>\n",
       "    <tr>\n",
       "      <th>3</th>\n",
       "      <td>Hornet 4 Drive</td>\n",
       "      <td>21.4</td>\n",
       "      <td>6</td>\n",
       "      <td>258.0</td>\n",
       "      <td>110</td>\n",
       "      <td>3.08</td>\n",
       "      <td>3.215</td>\n",
       "      <td>19.44</td>\n",
       "      <td>1</td>\n",
       "      <td>0</td>\n",
       "      <td>3</td>\n",
       "      <td>1</td>\n",
       "    </tr>\n",
       "    <tr>\n",
       "      <th>4</th>\n",
       "      <td>Hornet Sportabout</td>\n",
       "      <td>18.7</td>\n",
       "      <td>8</td>\n",
       "      <td>360.0</td>\n",
       "      <td>175</td>\n",
       "      <td>3.15</td>\n",
       "      <td>3.440</td>\n",
       "      <td>17.02</td>\n",
       "      <td>0</td>\n",
       "      <td>0</td>\n",
       "      <td>3</td>\n",
       "      <td>2</td>\n",
       "    </tr>\n",
       "  </tbody>\n",
       "</table>\n",
       "</div>"
      ],
      "text/plain": [
       "                name   mpg  cyl   disp   hp  drat     wt   qsec  vs  am  gear  \\\n",
       "0          Mazda RX4  21.0    6  160.0  110  3.90  2.620  16.46   0   1     4   \n",
       "1      Mazda RX4 Wag  21.0    6  160.0  110  3.90  2.875  17.02   0   1     4   \n",
       "2         Datsun 710  22.8    4  108.0   93  3.85  2.320  18.61   1   1     4   \n",
       "3     Hornet 4 Drive  21.4    6  258.0  110  3.08  3.215  19.44   1   0     3   \n",
       "4  Hornet Sportabout  18.7    8  360.0  175  3.15  3.440  17.02   0   0     3   \n",
       "\n",
       "   carb  \n",
       "0     4  \n",
       "1     4  \n",
       "2     1  \n",
       "3     1  \n",
       "4     2  "
      ]
     },
     "execution_count": 5,
     "metadata": {},
     "output_type": "execute_result"
    }
   ],
   "source": [
    "import pandas as pd\n",
    "import statsmodels.api as sm\n",
    "import numpy as np\n",
    "import matplotlib.pyplot as plt\n",
    "\n",
    "df=pd.read_csv(\"data/cleaned_mtcars.csv\")\n",
    "df.head()"
   ]
  },
  {
   "cell_type": "code",
   "execution_count": 6,
   "metadata": {},
   "outputs": [],
   "source": [
    "y = df[['mpg']].values\n",
    "X = df[['cyl','disp','hp','wt','qsec']]\n",
    "\n",
    "X = sm.add_constant(X)"
   ]
  },
  {
   "cell_type": "markdown",
   "metadata": {},
   "source": [
    "---- \n"
   ]
  },
  {
   "cell_type": "markdown",
   "metadata": {},
   "source": [
    "<div class='exercise'> <b> Question 5 [4 pts] </b> </div>\n",
    "\n",
    "**5.1** Fit a simple linear regression model predicting `mpg` via `disp`. Use the `FittedOLS.get_prediction().summary_frame()` method to access the confidence intervals for our prediction at various values of `disp` and make a well-labeled plot showing\n",
    " 1. The observed values of `disp` and `mpg`.\n",
    " 2. The regression line.\n",
    " 3. The upper and lower bounds of the 95% confidence interval for the _predicted_ (not the observed) `mpg` at any given displacement.\n",
    " \n",
    "**5.2** Why do we have a confidence interval for our predicted value? Why isn't the prediction just a single number?\n",
    "\n",
    "**5.3** Someone asks what `mpg` you would predict for a `disp` value of 400. What do you tell them? paying attention to the confidence interval (5.1.3) above?\n",
    "\n",
    "**5.4** Why does the 95% confidence interval for the predicted `mpg` appear to curve as we move away from the data's center? "
   ]
  },
  {
   "cell_type": "markdown",
   "metadata": {},
   "source": [
    "### Answers"
   ]
  },
  {
   "cell_type": "markdown",
   "metadata": {},
   "source": [
    "**5.1 Fit a linear regression model predicting `mpg` via `disp`. Use the `FittedOLS.get_prediction().summary_frame()` method to access the confidence intervals for our prediction at various levels of `disp` and make a well-labled plot showing**\n",
    " 1. **The observed values of weight and mpg**\n",
    " 2. **The regression line**\n",
    " 3. **The upper and lower bounds of the 95% confidence interval for the _mean/predicted mpg_ at any given displacement**\n",
    " "
   ]
  },
  {
   "cell_type": "code",
   "execution_count": 7,
   "metadata": {},
   "outputs": [
    {
     "data": {
      "text/html": [
       "<div>\n",
       "<style scoped>\n",
       "    .dataframe tbody tr th:only-of-type {\n",
       "        vertical-align: middle;\n",
       "    }\n",
       "\n",
       "    .dataframe tbody tr th {\n",
       "        vertical-align: top;\n",
       "    }\n",
       "\n",
       "    .dataframe thead th {\n",
       "        text-align: right;\n",
       "    }\n",
       "</style>\n",
       "<table border=\"1\" class=\"dataframe\">\n",
       "  <thead>\n",
       "    <tr style=\"text-align: right;\">\n",
       "      <th></th>\n",
       "      <th>mean</th>\n",
       "      <th>mean_se</th>\n",
       "      <th>mean_ci_lower</th>\n",
       "      <th>mean_ci_upper</th>\n",
       "      <th>obs_ci_lower</th>\n",
       "      <th>obs_ci_upper</th>\n",
       "    </tr>\n",
       "  </thead>\n",
       "  <tbody>\n",
       "    <tr>\n",
       "      <th>0</th>\n",
       "      <td>23.005436</td>\n",
       "      <td>0.664391</td>\n",
       "      <td>21.648568</td>\n",
       "      <td>24.362303</td>\n",
       "      <td>16.227868</td>\n",
       "      <td>29.783003</td>\n",
       "    </tr>\n",
       "    <tr>\n",
       "      <th>1</th>\n",
       "      <td>23.005436</td>\n",
       "      <td>0.664391</td>\n",
       "      <td>21.648568</td>\n",
       "      <td>24.362303</td>\n",
       "      <td>16.227868</td>\n",
       "      <td>29.783003</td>\n",
       "    </tr>\n",
       "    <tr>\n",
       "      <th>2</th>\n",
       "      <td>25.148622</td>\n",
       "      <td>0.815316</td>\n",
       "      <td>23.483523</td>\n",
       "      <td>26.813720</td>\n",
       "      <td>18.302683</td>\n",
       "      <td>31.994561</td>\n",
       "    </tr>\n",
       "    <tr>\n",
       "      <th>3</th>\n",
       "      <td>18.966354</td>\n",
       "      <td>0.588977</td>\n",
       "      <td>17.763503</td>\n",
       "      <td>20.169205</td>\n",
       "      <td>12.217933</td>\n",
       "      <td>25.714774</td>\n",
       "    </tr>\n",
       "    <tr>\n",
       "      <th>4</th>\n",
       "      <td>14.762412</td>\n",
       "      <td>0.837509</td>\n",
       "      <td>13.051990</td>\n",
       "      <td>16.472833</td>\n",
       "      <td>7.905308</td>\n",
       "      <td>21.619515</td>\n",
       "    </tr>\n",
       "  </tbody>\n",
       "</table>\n",
       "</div>"
      ],
      "text/plain": [
       "        mean   mean_se  mean_ci_lower  mean_ci_upper  obs_ci_lower  \\\n",
       "0  23.005436  0.664391      21.648568      24.362303     16.227868   \n",
       "1  23.005436  0.664391      21.648568      24.362303     16.227868   \n",
       "2  25.148622  0.815316      23.483523      26.813720     18.302683   \n",
       "3  18.966354  0.588977      17.763503      20.169205     12.217933   \n",
       "4  14.762412  0.837509      13.051990      16.472833      7.905308   \n",
       "\n",
       "   obs_ci_upper  \n",
       "0     29.783003  \n",
       "1     29.783003  \n",
       "2     31.994561  \n",
       "3     25.714774  \n",
       "4     21.619515  "
      ]
     },
     "execution_count": 7,
     "metadata": {},
     "output_type": "execute_result"
    }
   ],
   "source": [
    "# your code here \n",
    "model = OLS(y, X[['disp','const']]).fit()\n",
    "summary = model.get_prediction().summary_frame()\n",
    "summary.head()"
   ]
  },
  {
   "cell_type": "code",
   "execution_count": 8,
   "metadata": {},
   "outputs": [
    {
     "data": {
      "text/plain": [
       "<matplotlib.legend.Legend at 0x1c174ea550>"
      ]
     },
     "execution_count": 8,
     "metadata": {},
     "output_type": "execute_result"
    },
    {
     "data": {
      "image/png": "[encoded data removed]",
      "text/plain": [
       "<Figure size 432x288 with 1 Axes>"
      ]
     },
     "metadata": {},
     "output_type": "display_data"
    }
   ],
   "source": [
    "# plot ovbserved CI\n",
    "plt.scatter(X.disp, y)\n",
    "plt.plot(X.disp, summary['mean'], label = 'Mean')\n",
    "x, lower = zip(*sorted(zip(X.disp, summary['mean_ci_lower'])))\n",
    "plt.plot(x, lower, 'r--', label = '95% CI')\n",
    "x, upper = zip(*sorted(zip(X.disp, summary['mean_ci_upper'])))\n",
    "plt.plot(x, upper, 'r--', label = '95% CI')\n",
    "plt.xlabel('disp')\n",
    "plt.ylabel('mpg')\n",
    "plt.title('mpg vs. disp with 95% CI')\n",
    "plt.legend()"
   ]
  },
  {
   "cell_type": "markdown",
   "metadata": {},
   "source": [
    "**5.2 Why do we have a confidience interval for our predicted value? Why isn't the prediction just a single number?**"
   ]
  },
  {
   "cell_type": "markdown",
   "metadata": {},
   "source": [
    "*your answer here*\n",
    "\n",
    "Our data is only a sample from the entire population. The single mean value predicted by our regression represents our prediction given that our sample were the entire population. However, we know that if we had taken a different sample, our regression would have different coefficients and our prediction would have been different. We include a confidence interval to quantify this uncertainty."
   ]
  },
  {
   "cell_type": "markdown",
   "metadata": {},
   "source": [
    "**5.3 Someone asks what `mpg` you would predict for a `disp` value of 400. What do you tell them, paying attention to the confidence interval (5.2.3) above?**"
   ]
  },
  {
   "cell_type": "code",
   "execution_count": 9,
   "metadata": {},
   "outputs": [
    {
     "data": {
      "text/html": [
       "<div>\n",
       "<style scoped>\n",
       "    .dataframe tbody tr th:only-of-type {\n",
       "        vertical-align: middle;\n",
       "    }\n",
       "\n",
       "    .dataframe tbody tr th {\n",
       "        vertical-align: top;\n",
       "    }\n",
       "\n",
       "    .dataframe thead th {\n",
       "        text-align: right;\n",
       "    }\n",
       "</style>\n",
       "<table border=\"1\" class=\"dataframe\">\n",
       "  <thead>\n",
       "    <tr style=\"text-align: right;\">\n",
       "      <th></th>\n",
       "      <th>mean</th>\n",
       "      <th>mean_se</th>\n",
       "      <th>mean_ci_lower</th>\n",
       "      <th>mean_ci_upper</th>\n",
       "      <th>obs_ci_lower</th>\n",
       "      <th>obs_ci_upper</th>\n",
       "    </tr>\n",
       "  </thead>\n",
       "  <tbody>\n",
       "    <tr>\n",
       "      <th>0</th>\n",
       "      <td>13.113807</td>\n",
       "      <td>0.983136</td>\n",
       "      <td>11.105976</td>\n",
       "      <td>15.121638</td>\n",
       "      <td>6.176537</td>\n",
       "      <td>20.051077</td>\n",
       "    </tr>\n",
       "  </tbody>\n",
       "</table>\n",
       "</div>"
      ],
      "text/plain": [
       "        mean   mean_se  mean_ci_lower  mean_ci_upper  obs_ci_lower  \\\n",
       "0  13.113807  0.983136      11.105976      15.121638      6.176537   \n",
       "\n",
       "   obs_ci_upper  \n",
       "0     20.051077  "
      ]
     },
     "execution_count": 9,
     "metadata": {},
     "output_type": "execute_result"
    }
   ],
   "source": [
    "summary = model.get_prediction([400,1]).summary_frame()\n",
    "summary"
   ]
  },
  {
   "cell_type": "code",
   "execution_count": 10,
   "metadata": {},
   "outputs": [
    {
     "name": "stdout",
     "output_type": "stream",
     "text": [
      "prediction:  13.113806771049497\n",
      "95% CI Lower (observed):  6.1765369580687866\n",
      "95% CI Upper (observed):  20.051076584030206\n"
     ]
    }
   ],
   "source": [
    "# your code here\n",
    "print('prediction: ', summary['mean'].values[0])\n",
    "print('95% CI Lower (observed): ', summary['obs_ci_lower'].values[0])\n",
    "print('95% CI Upper (observed): ', summary['obs_ci_upper'].values[0])"
   ]
  },
  {
   "cell_type": "markdown",
   "metadata": {},
   "source": [
    "*your answer here*\n",
    "\n",
    "If I had to predict a single value, I would predict that the value is 13.11. I would also say that I am \"reasonably confident\" that the value is between 6.17 and 20.05. We use the prediction confidence interval because this takes into account both the sampling error and the irreducible noise."
   ]
  },
  {
   "cell_type": "markdown",
   "metadata": {},
   "source": [
    "**5.4 Why does the 95% confidence interval for the predicted `mpg` appear to curve as we move away from the data's center?**"
   ]
  },
  {
   "cell_type": "markdown",
   "metadata": {},
   "source": [
    "# *your answer here*\n",
    "\n",
    "Intuitively, the data curves because, due to our \"samples\" coming from the same population, the variation in the regression coefficients are correlated. If the sample from our population leads to a higher intercept term, the slope will be more negative. Likewise, if the the intercept term is lower, the slope will be less negative. This results in the confidence interval widening as we move away from the center of the data.\n",
    "\n",
    "Mathetmatically, we see this from the formula for the confidence interval:\n",
    "\n",
    "$$\n",
    "\\text{CI} = y \\hat \\pm t_{n-2}s\\sqrt{\\frac{1}{n}+\\frac{(x-\\overline x)^2}{(n-1)\\sigma}}\n",
    "$$\n",
    "\n",
    "As we get further away from the center of the data, $(x-\\overline x)^2$ grows where $x$ is the $x$-value for which we are calculating the confidence interval and $\\overline x$ is the mean of the x values."
   ]
  },
  {
   "cell_type": "markdown",
   "metadata": {},
   "source": [
    "<div class='exercise'><b> Question 6 [8 pts] </b></div>\n",
    "Hopefully, in the question above you recognized that uncertainty in the beta coefficients could impact the certainty of our predictions. In this question and the next, we're going to explore properties of the data that can make us more or less certain of the values of the betas.\n",
    "\n",
    "**6.1** Fit a multiple linear regression to the full X matrix (on the car data). That is, predict `mpg` using `cyl`,`disp`,`hp`,`wt`, and `qsec`.\n",
    "\n",
    "**6.2** The formula for the covariance of the vector of betas, assuming the linear regression model holds, is:\n",
    "$${\\rm Cov}(\\beta) = \\sigma^2\\left(X^TX\\right)^{-1}.$$\n",
    "Compute and display this matrix for the car data. \n",
    "\n",
    "**6.3** Verify that the SE reported by statsmodels matches the square root of the variance listed for that variable in your calculated covariance matrix.\n",
    "\n",
    "**6.4** Interpret the matrix formula above. At a minimum, discuss what affects our ability to estimate the betas accurately. When would you expect two betas to have large/small covariances? [This is intended as an open-ended question. You will be graded only on the specified minimum].\n",
    "\n",
    "**Hint**: we don't know $\\sigma^2$, but we can estimate them.<BR>\n",
    "**Hint**: remember that numpy's normal distribution expects a standard deviation and not a variance."
   ]
  },
  {
   "cell_type": "markdown",
   "metadata": {},
   "source": [
    "### Answers"
   ]
  },
  {
   "cell_type": "markdown",
   "metadata": {},
   "source": [
    "**6.1 Fit a multiple linear regression to the full X matrix (on the car data). That is, predict `mpg` using `cyl`,`disp`,`hp`,`wt`, and `qsec`.**"
   ]
  },
  {
   "cell_type": "code",
   "execution_count": 11,
   "metadata": {},
   "outputs": [],
   "source": [
    "# your code here\n",
    "full_model = OLS(y, X).fit()"
   ]
  },
  {
   "cell_type": "markdown",
   "metadata": {},
   "source": [
    "**6.2 The formula for the covariance of the vector of betas, assuming the linear regression model holds, is:\n",
    "$${\\rm Cov}(\\beta) = \\sigma^2\\left(X^TX\\right)^{-1}.$$\n",
    "Compute and display this matrix for the car data. **"
   ]
  },
  {
   "cell_type": "code",
   "execution_count": 12,
   "metadata": {},
   "outputs": [
    {
     "data": {
      "text/plain": [
       "(32, 1)"
      ]
     },
     "execution_count": 12,
     "metadata": {},
     "output_type": "execute_result"
    }
   ],
   "source": [
    "y.shape"
   ]
  },
  {
   "cell_type": "code",
   "execution_count": 13,
   "metadata": {},
   "outputs": [
    {
     "data": {
      "text/plain": [
       "6.487897883027459"
      ]
     },
     "execution_count": 13,
     "metadata": {},
     "output_type": "execute_result"
    }
   ],
   "source": [
    "# compute variance\n",
    "y_hat = full_model.predict(X)\n",
    "var = np.sum((y.reshape(32,)-y_hat)**2)/(len(y)-X.shape[1])\n",
    "var"
   ]
  },
  {
   "cell_type": "code",
   "execution_count": 14,
   "metadata": {},
   "outputs": [
    {
     "data": {
      "text/plain": [
       "6.4878978830274585"
      ]
     },
     "execution_count": 14,
     "metadata": {},
     "output_type": "execute_result"
    }
   ],
   "source": [
    "full_model.scale"
   ]
  },
  {
   "cell_type": "code",
   "execution_count": 15,
   "metadata": {},
   "outputs": [
    {
     "data": {
      "text/html": [
       "<div>\n",
       "<style scoped>\n",
       "    .dataframe tbody tr th:only-of-type {\n",
       "        vertical-align: middle;\n",
       "    }\n",
       "\n",
       "    .dataframe tbody tr th {\n",
       "        vertical-align: top;\n",
       "    }\n",
       "\n",
       "    .dataframe thead th {\n",
       "        text-align: right;\n",
       "    }\n",
       "</style>\n",
       "<table border=\"1\" class=\"dataframe\">\n",
       "  <thead>\n",
       "    <tr style=\"text-align: right;\">\n",
       "      <th></th>\n",
       "      <th>0</th>\n",
       "      <th>1</th>\n",
       "      <th>2</th>\n",
       "      <th>3</th>\n",
       "      <th>4</th>\n",
       "      <th>5</th>\n",
       "    </tr>\n",
       "  </thead>\n",
       "  <tbody>\n",
       "    <tr>\n",
       "      <th>0</th>\n",
       "      <td>98.368517</td>\n",
       "      <td>-3.780794</td>\n",
       "      <td>0.018899</td>\n",
       "      <td>-0.083821</td>\n",
       "      <td>4.959981</td>\n",
       "      <td>-4.638669</td>\n",
       "    </tr>\n",
       "    <tr>\n",
       "      <th>1</th>\n",
       "      <td>-3.780794</td>\n",
       "      <td>0.511577</td>\n",
       "      <td>-0.004108</td>\n",
       "      <td>-0.001251</td>\n",
       "      <td>-0.169858</td>\n",
       "      <td>0.128479</td>\n",
       "    </tr>\n",
       "    <tr>\n",
       "      <th>2</th>\n",
       "      <td>0.018899</td>\n",
       "      <td>-0.004108</td>\n",
       "      <td>0.000142</td>\n",
       "      <td>-0.000024</td>\n",
       "      <td>-0.008850</td>\n",
       "      <td>0.000328</td>\n",
       "    </tr>\n",
       "    <tr>\n",
       "      <th>3</th>\n",
       "      <td>-0.083821</td>\n",
       "      <td>-0.001251</td>\n",
       "      <td>-0.000024</td>\n",
       "      <td>0.000233</td>\n",
       "      <td>-0.004826</td>\n",
       "      <td>0.004399</td>\n",
       "    </tr>\n",
       "    <tr>\n",
       "      <th>4</th>\n",
       "      <td>4.959981</td>\n",
       "      <td>-0.169858</td>\n",
       "      <td>-0.008850</td>\n",
       "      <td>-0.004826</td>\n",
       "      <td>1.568470</td>\n",
       "      <td>-0.347664</td>\n",
       "    </tr>\n",
       "    <tr>\n",
       "      <th>5</th>\n",
       "      <td>-4.638669</td>\n",
       "      <td>0.128479</td>\n",
       "      <td>0.000328</td>\n",
       "      <td>0.004399</td>\n",
       "      <td>-0.347664</td>\n",
       "      <td>0.237618</td>\n",
       "    </tr>\n",
       "  </tbody>\n",
       "</table>\n",
       "</div>"
      ],
      "text/plain": [
       "           0         1         2         3         4         5\n",
       "0  98.368517 -3.780794  0.018899 -0.083821  4.959981 -4.638669\n",
       "1  -3.780794  0.511577 -0.004108 -0.001251 -0.169858  0.128479\n",
       "2   0.018899 -0.004108  0.000142 -0.000024 -0.008850  0.000328\n",
       "3  -0.083821 -0.001251 -0.000024  0.000233 -0.004826  0.004399\n",
       "4   4.959981 -0.169858 -0.008850 -0.004826  1.568470 -0.347664\n",
       "5  -4.638669  0.128479  0.000328  0.004399 -0.347664  0.237618"
      ]
     },
     "execution_count": 15,
     "metadata": {},
     "output_type": "execute_result"
    }
   ],
   "source": [
    "# your code here\n",
    "cov = var*np.linalg.inv(np.dot(X.T, X))\n",
    "pd.DataFrame(cov)"
   ]
  },
  {
   "cell_type": "markdown",
   "metadata": {},
   "source": [
    "**6.3 Verify that the SE reported by statsmodels matches the square root of the variance listed for that variable in your calculated covariance matrix.**"
   ]
  },
  {
   "cell_type": "code",
   "execution_count": 16,
   "metadata": {},
   "outputs": [
    {
     "name": "stderr",
     "output_type": "stream",
     "text": [
      "/Users/joshfeldman/anaconda3/envs/py36/lib/python3.6/site-packages/ipykernel/__main__.py:1: RuntimeWarning: invalid value encountered in sqrt\n",
      "  if __name__ == '__main__':\n"
     ]
    },
    {
     "data": {
      "text/plain": [
       "array([9.91809038, 0.71524643, 0.01190742, 0.01526723, 1.25238578,\n",
       "       0.48746086])"
      ]
     },
     "execution_count": 16,
     "metadata": {},
     "output_type": "execute_result"
    }
   ],
   "source": [
    "np.diag(np.sqrt(cov))"
   ]
  },
  {
   "cell_type": "code",
   "execution_count": 17,
   "metadata": {},
   "outputs": [
    {
     "data": {
      "text/html": [
       "<table class=\"simpletable\">\n",
       "<caption>OLS Regression Results</caption>\n",
       "<tr>\n",
       "  <th>Dep. Variable:</th>            <td>y</td>        <th>  R-squared:         </th> <td>   0.850</td>\n",
       "</tr>\n",
       "<tr>\n",
       "  <th>Model:</th>                   <td>OLS</td>       <th>  Adj. R-squared:    </th> <td>   0.821</td>\n",
       "</tr>\n",
       "<tr>\n",
       "  <th>Method:</th>             <td>Least Squares</td>  <th>  F-statistic:       </th> <td>   29.51</td>\n",
       "</tr>\n",
       "<tr>\n",
       "  <th>Date:</th>             <td>Wed, 26 Sep 2018</td> <th>  Prob (F-statistic):</th> <td>6.18e-10</td>\n",
       "</tr>\n",
       "<tr>\n",
       "  <th>Time:</th>                 <td>20:49:09</td>     <th>  Log-Likelihood:    </th> <td> -72.003</td>\n",
       "</tr>\n",
       "<tr>\n",
       "  <th>No. Observations:</th>      <td>    32</td>      <th>  AIC:               </th> <td>   156.0</td>\n",
       "</tr>\n",
       "<tr>\n",
       "  <th>Df Residuals:</th>          <td>    26</td>      <th>  BIC:               </th> <td>   164.8</td>\n",
       "</tr>\n",
       "<tr>\n",
       "  <th>Df Model:</th>              <td>     5</td>      <th>                     </th>     <td> </td>   \n",
       "</tr>\n",
       "<tr>\n",
       "  <th>Covariance Type:</th>      <td>nonrobust</td>    <th>                     </th>     <td> </td>   \n",
       "</tr>\n",
       "</table>\n",
       "<table class=\"simpletable\">\n",
       "<tr>\n",
       "    <td></td>       <th>coef</th>     <th>std err</th>      <th>t</th>      <th>P>|t|</th>  <th>[0.025</th>    <th>0.975]</th>  \n",
       "</tr>\n",
       "<tr>\n",
       "  <th>const</th> <td>   35.8736</td> <td>    9.918</td> <td>    3.617</td> <td> 0.001</td> <td>   15.487</td> <td>   56.261</td>\n",
       "</tr>\n",
       "<tr>\n",
       "  <th>cyl</th>   <td>   -1.1561</td> <td>    0.715</td> <td>   -1.616</td> <td> 0.118</td> <td>   -2.626</td> <td>    0.314</td>\n",
       "</tr>\n",
       "<tr>\n",
       "  <th>disp</th>  <td>    0.0119</td> <td>    0.012</td> <td>    1.004</td> <td> 0.325</td> <td>   -0.013</td> <td>    0.036</td>\n",
       "</tr>\n",
       "<tr>\n",
       "  <th>hp</th>    <td>   -0.0158</td> <td>    0.015</td> <td>   -1.037</td> <td> 0.309</td> <td>   -0.047</td> <td>    0.016</td>\n",
       "</tr>\n",
       "<tr>\n",
       "  <th>wt</th>    <td>   -4.2253</td> <td>    1.252</td> <td>   -3.374</td> <td> 0.002</td> <td>   -6.800</td> <td>   -1.651</td>\n",
       "</tr>\n",
       "<tr>\n",
       "  <th>qsec</th>  <td>    0.2538</td> <td>    0.487</td> <td>    0.521</td> <td> 0.607</td> <td>   -0.748</td> <td>    1.256</td>\n",
       "</tr>\n",
       "</table>\n",
       "<table class=\"simpletable\">\n",
       "<tr>\n",
       "  <th>Omnibus:</th>       <td> 4.925</td> <th>  Durbin-Watson:     </th> <td>   1.682</td>\n",
       "</tr>\n",
       "<tr>\n",
       "  <th>Prob(Omnibus):</th> <td> 0.085</td> <th>  Jarque-Bera (JB):  </th> <td>   3.534</td>\n",
       "</tr>\n",
       "<tr>\n",
       "  <th>Skew:</th>          <td> 0.782</td> <th>  Prob(JB):          </th> <td>   0.171</td>\n",
       "</tr>\n",
       "<tr>\n",
       "  <th>Kurtosis:</th>      <td> 3.453</td> <th>  Cond. No.          </th> <td>6.73e+03</td>\n",
       "</tr>\n",
       "</table><br/><br/>Warnings:<br/>[1] Standard Errors assume that the covariance matrix of the errors is correctly specified.<br/>[2] The condition number is large, 6.73e+03. This might indicate that there are<br/>strong multicollinearity or other numerical problems."
      ],
      "text/plain": [
       "<class 'statsmodels.iolib.summary.Summary'>\n",
       "\"\"\"\n",
       "                            OLS Regression Results                            \n",
       "==============================================================================\n",
       "Dep. Variable:                      y   R-squared:                       0.850\n",
       "Model:                            OLS   Adj. R-squared:                  0.821\n",
       "Method:                 Least Squares   F-statistic:                     29.51\n",
       "Date:                Wed, 26 Sep 2018   Prob (F-statistic):           6.18e-10\n",
       "Time:                        20:49:09   Log-Likelihood:                -72.003\n",
       "No. Observations:                  32   AIC:                             156.0\n",
       "Df Residuals:                      26   BIC:                             164.8\n",
       "Df Model:                           5                                         \n",
       "Covariance Type:            nonrobust                                         \n",
       "==============================================================================\n",
       "                 coef    std err          t      P>|t|      [0.025      0.975]\n",
       "------------------------------------------------------------------------------\n",
       "const         35.8736      9.918      3.617      0.001      15.487      56.261\n",
       "cyl           -1.1561      0.715     -1.616      0.118      -2.626       0.314\n",
       "disp           0.0119      0.012      1.004      0.325      -0.013       0.036\n",
       "hp            -0.0158      0.015     -1.037      0.309      -0.047       0.016\n",
       "wt            -4.2253      1.252     -3.374      0.002      -6.800      -1.651\n",
       "qsec           0.2538      0.487      0.521      0.607      -0.748       1.256\n",
       "==============================================================================\n",
       "Omnibus:                        4.925   Durbin-Watson:                   1.682\n",
       "Prob(Omnibus):                  0.085   Jarque-Bera (JB):                3.534\n",
       "Skew:                           0.782   Prob(JB):                        0.171\n",
       "Kurtosis:                       3.453   Cond. No.                     6.73e+03\n",
       "==============================================================================\n",
       "\n",
       "Warnings:\n",
       "[1] Standard Errors assume that the covariance matrix of the errors is correctly specified.\n",
       "[2] The condition number is large, 6.73e+03. This might indicate that there are\n",
       "strong multicollinearity or other numerical problems.\n",
       "\"\"\""
      ]
     },
     "execution_count": 17,
     "metadata": {},
     "output_type": "execute_result"
    }
   ],
   "source": [
    "# your code here\n",
    "full_model.summary()"
   ]
  },
  {
   "cell_type": "markdown",
   "metadata": {},
   "source": [
    "*your answer here*\n",
    "\n",
    "They are equivalent."
   ]
  },
  {
   "cell_type": "markdown",
   "metadata": {},
   "source": [
    "**6.4 Interpret the matrix formula above. At a minimum, discuss what affects our ability to accurately estimate the betas. When would you expect two betas to have large/small covariances? [This is intended as an open-ended question. You will only be graded on the specified minimum].**"
   ]
  },
  {
   "cell_type": "markdown",
   "metadata": {},
   "source": [
    "*your answer here*\n",
    "\n",
    "Generally speaking, there are two forces that affect our ability to accurately estimate betas. The first is the degree to which a linear combination of the covariates can predict the dependent variable. This is represented by the $\\sigma^2$ term, which decreases as our linear model becomes more predictive. \n",
    "\n",
    "The other force that affects our ability to estimate the coefficients is the degree to which our covariates are orthogonal. When they are close to orthogonal, $(X^TX)^{-1}$ becomes closer to being a diagonal matrix, which means that variation in one parameter has little impact on other parameters. If the covariates are collinear, even if our model can predict the dependent variable well, there will still be variation in the coefficients because one can reach the same y vector with different linear combinations of the covariates. This, in turn, increases our uncertainty in the estimates of our beta values."
   ]
  },
  {
   "cell_type": "markdown",
   "metadata": {},
   "source": [
    "<div class='exercise'> <b> Question 7 [12 pts]: What affects our knowledge of the betas? </b></div> \n",
    "\n",
    "\n",
    "**7.1** Create a separate dataset `edit1` with a new column `noise` that is totally independent of the other columns (random values from an exponential distribution). What effects do you see on our ability to estimate the betas?\n",
    "\n",
    "**7.2** Create a separate dataset `edit2` with a new column `ratio` that is the ratio of a car's horsepower to its weight. What change do you see in our certainty about weight's effect on mpg?\n",
    "\n",
    "**7.3** Create a separate dataset `edit3` with a new column `combo` that is horsepower+displacement+weight+ Normal(0,.01) noise. How well can we estimate the betas for this dataset, and which ones are correlated?\n",
    "\n",
    "**7.4** If you could choose the different features in your data (either because you're running a lab experiment manipulating the X values, or by deciding which columns to measure/keep), how would you like your features to relate? Specifically, how can you get as good an estimate of the betas as possible?\n",
    "\n",
    "**Hint**: Should introducing pure noise give us meaningfully more accurate beta values? <br>\n",
    "**Hint**: What happens if $X^TX$ is diagonal?"
   ]
  },
  {
   "cell_type": "markdown",
   "metadata": {
    "collapsed": true
   },
   "source": [
    "### Answers\n",
    "\n",
    "**7.1  Create a separate dataset `edit1` with a new column `noise` that is totally independent of the other columns (random values from an exponential distribution) ... **"
   ]
  },
  {
   "cell_type": "code",
   "execution_count": 18,
   "metadata": {},
   "outputs": [],
   "source": [
    "def beta_covariance(model, y, X):\n",
    "    y_hat = model.predict(X)\n",
    "    var = np.sum((y.reshape(X.shape[0],)-y_hat)**2)/(len(y)-2)\n",
    "    cov = var*np.linalg.pinv(np.dot(X.T, X))\n",
    "    return cov"
   ]
  },
  {
   "cell_type": "code",
   "execution_count": 19,
   "metadata": {},
   "outputs": [
    {
     "data": {
      "text/html": [
       "<div>\n",
       "<style scoped>\n",
       "    .dataframe tbody tr th:only-of-type {\n",
       "        vertical-align: middle;\n",
       "    }\n",
       "\n",
       "    .dataframe tbody tr th {\n",
       "        vertical-align: top;\n",
       "    }\n",
       "\n",
       "    .dataframe thead th {\n",
       "        text-align: right;\n",
       "    }\n",
       "</style>\n",
       "<table border=\"1\" class=\"dataframe\">\n",
       "  <thead>\n",
       "    <tr style=\"text-align: right;\">\n",
       "      <th></th>\n",
       "      <th>0</th>\n",
       "      <th>1</th>\n",
       "      <th>2</th>\n",
       "      <th>3</th>\n",
       "      <th>4</th>\n",
       "      <th>5</th>\n",
       "      <th>6</th>\n",
       "    </tr>\n",
       "  </thead>\n",
       "  <tbody>\n",
       "    <tr>\n",
       "      <th>0</th>\n",
       "      <td>78.648700</td>\n",
       "      <td>-2.944955</td>\n",
       "      <td>0.013115</td>\n",
       "      <td>-0.068860</td>\n",
       "      <td>4.156655</td>\n",
       "      <td>-3.709904</td>\n",
       "      <td>-0.312178</td>\n",
       "    </tr>\n",
       "    <tr>\n",
       "      <th>1</th>\n",
       "      <td>-2.944955</td>\n",
       "      <td>0.404197</td>\n",
       "      <td>-0.003291</td>\n",
       "      <td>-0.001071</td>\n",
       "      <td>-0.126290</td>\n",
       "      <td>0.099587</td>\n",
       "      <td>-0.009525</td>\n",
       "    </tr>\n",
       "    <tr>\n",
       "      <th>2</th>\n",
       "      <td>0.013115</td>\n",
       "      <td>-0.003291</td>\n",
       "      <td>0.000115</td>\n",
       "      <td>-0.000015</td>\n",
       "      <td>-0.007364</td>\n",
       "      <td>0.000344</td>\n",
       "      <td>0.000491</td>\n",
       "    </tr>\n",
       "    <tr>\n",
       "      <th>3</th>\n",
       "      <td>-0.068860</td>\n",
       "      <td>-0.001071</td>\n",
       "      <td>-0.000015</td>\n",
       "      <td>0.000191</td>\n",
       "      <td>-0.004418</td>\n",
       "      <td>0.003602</td>\n",
       "      <td>0.000775</td>\n",
       "    </tr>\n",
       "    <tr>\n",
       "      <th>4</th>\n",
       "      <td>4.156655</td>\n",
       "      <td>-0.126290</td>\n",
       "      <td>-0.007364</td>\n",
       "      <td>-0.004418</td>\n",
       "      <td>1.290439</td>\n",
       "      <td>-0.285919</td>\n",
       "      <td>-0.068506</td>\n",
       "    </tr>\n",
       "    <tr>\n",
       "      <th>5</th>\n",
       "      <td>-3.709904</td>\n",
       "      <td>0.099587</td>\n",
       "      <td>0.000344</td>\n",
       "      <td>0.003602</td>\n",
       "      <td>-0.285919</td>\n",
       "      <td>0.189875</td>\n",
       "      <td>0.015037</td>\n",
       "    </tr>\n",
       "    <tr>\n",
       "      <th>6</th>\n",
       "      <td>-0.312178</td>\n",
       "      <td>-0.009525</td>\n",
       "      <td>0.000491</td>\n",
       "      <td>0.000775</td>\n",
       "      <td>-0.068506</td>\n",
       "      <td>0.015037</td>\n",
       "      <td>0.086243</td>\n",
       "    </tr>\n",
       "  </tbody>\n",
       "</table>\n",
       "</div>"
      ],
      "text/plain": [
       "           0         1         2         3         4         5         6\n",
       "0  78.648700 -2.944955  0.013115 -0.068860  4.156655 -3.709904 -0.312178\n",
       "1  -2.944955  0.404197 -0.003291 -0.001071 -0.126290  0.099587 -0.009525\n",
       "2   0.013115 -0.003291  0.000115 -0.000015 -0.007364  0.000344  0.000491\n",
       "3  -0.068860 -0.001071 -0.000015  0.000191 -0.004418  0.003602  0.000775\n",
       "4   4.156655 -0.126290 -0.007364 -0.004418  1.290439 -0.285919 -0.068506\n",
       "5  -3.709904  0.099587  0.000344  0.003602 -0.285919  0.189875  0.015037\n",
       "6  -0.312178 -0.009525  0.000491  0.000775 -0.068506  0.015037  0.086243"
      ]
     },
     "execution_count": 19,
     "metadata": {},
     "output_type": "execute_result"
    }
   ],
   "source": [
    "# your code here\n",
    "edit1 = X.copy()\n",
    "edit1['noise'] = np.random.exponential(size = len(edit1))\n",
    "full_model_edit1 = OLS(y, edit1).fit()\n",
    "pd.DataFrame(beta_covariance(full_model_edit1, y, edit1))"
   ]
  },
  {
   "cell_type": "markdown",
   "metadata": {},
   "source": [
    "Adding a column of noise decreases the standard error on our covariates."
   ]
  },
  {
   "cell_type": "markdown",
   "metadata": {},
   "source": [
    "**7.2 Create a separate dataset `edit2` with a new column `ratio` that is the ratio of a car's horsepower to its weight ... **"
   ]
  },
  {
   "cell_type": "code",
   "execution_count": 20,
   "metadata": {},
   "outputs": [
    {
     "data": {
      "text/html": [
       "<div>\n",
       "<style scoped>\n",
       "    .dataframe tbody tr th:only-of-type {\n",
       "        vertical-align: middle;\n",
       "    }\n",
       "\n",
       "    .dataframe tbody tr th {\n",
       "        vertical-align: top;\n",
       "    }\n",
       "\n",
       "    .dataframe thead th {\n",
       "        text-align: right;\n",
       "    }\n",
       "</style>\n",
       "<table border=\"1\" class=\"dataframe\">\n",
       "  <thead>\n",
       "    <tr style=\"text-align: right;\">\n",
       "      <th></th>\n",
       "      <th>0</th>\n",
       "      <th>1</th>\n",
       "      <th>2</th>\n",
       "      <th>3</th>\n",
       "      <th>4</th>\n",
       "      <th>5</th>\n",
       "      <th>6</th>\n",
       "    </tr>\n",
       "  </thead>\n",
       "  <tbody>\n",
       "    <tr>\n",
       "      <th>0</th>\n",
       "      <td>140.121818</td>\n",
       "      <td>-4.303054</td>\n",
       "      <td>0.028160</td>\n",
       "      <td>0.185488</td>\n",
       "      <td>-6.913166</td>\n",
       "      <td>-4.750160</td>\n",
       "      <td>-0.882365</td>\n",
       "    </tr>\n",
       "    <tr>\n",
       "      <th>1</th>\n",
       "      <td>-4.303054</td>\n",
       "      <td>0.461514</td>\n",
       "      <td>-0.003772</td>\n",
       "      <td>-0.005929</td>\n",
       "      <td>0.063740</td>\n",
       "      <td>0.124963</td>\n",
       "      <td>0.016586</td>\n",
       "    </tr>\n",
       "    <tr>\n",
       "      <th>2</th>\n",
       "      <td>0.028160</td>\n",
       "      <td>-0.003772</td>\n",
       "      <td>0.000125</td>\n",
       "      <td>0.000034</td>\n",
       "      <td>-0.010051</td>\n",
       "      <td>0.000124</td>\n",
       "      <td>-0.000189</td>\n",
       "    </tr>\n",
       "    <tr>\n",
       "      <th>3</th>\n",
       "      <td>0.185488</td>\n",
       "      <td>-0.005929</td>\n",
       "      <td>0.000034</td>\n",
       "      <td>0.001408</td>\n",
       "      <td>-0.056566</td>\n",
       "      <td>0.000329</td>\n",
       "      <td>-0.004128</td>\n",
       "    </tr>\n",
       "    <tr>\n",
       "      <th>4</th>\n",
       "      <td>-6.913166</td>\n",
       "      <td>0.063740</td>\n",
       "      <td>-0.010051</td>\n",
       "      <td>-0.056566</td>\n",
       "      <td>3.630378</td>\n",
       "      <td>-0.149654</td>\n",
       "      <td>0.179257</td>\n",
       "    </tr>\n",
       "    <tr>\n",
       "      <th>5</th>\n",
       "      <td>-4.750160</td>\n",
       "      <td>0.124963</td>\n",
       "      <td>0.000124</td>\n",
       "      <td>0.000329</td>\n",
       "      <td>-0.149654</td>\n",
       "      <td>0.215306</td>\n",
       "      <td>0.011878</td>\n",
       "    </tr>\n",
       "    <tr>\n",
       "      <th>6</th>\n",
       "      <td>-0.882365</td>\n",
       "      <td>0.016586</td>\n",
       "      <td>-0.000189</td>\n",
       "      <td>-0.004128</td>\n",
       "      <td>0.179257</td>\n",
       "      <td>0.011878</td>\n",
       "      <td>0.014124</td>\n",
       "    </tr>\n",
       "  </tbody>\n",
       "</table>\n",
       "</div>"
      ],
      "text/plain": [
       "            0         1         2         3         4         5         6\n",
       "0  140.121818 -4.303054  0.028160  0.185488 -6.913166 -4.750160 -0.882365\n",
       "1   -4.303054  0.461514 -0.003772 -0.005929  0.063740  0.124963  0.016586\n",
       "2    0.028160 -0.003772  0.000125  0.000034 -0.010051  0.000124 -0.000189\n",
       "3    0.185488 -0.005929  0.000034  0.001408 -0.056566  0.000329 -0.004128\n",
       "4   -6.913166  0.063740 -0.010051 -0.056566  3.630378 -0.149654  0.179257\n",
       "5   -4.750160  0.124963  0.000124  0.000329 -0.149654  0.215306  0.011878\n",
       "6   -0.882365  0.016586 -0.000189 -0.004128  0.179257  0.011878  0.014124"
      ]
     },
     "execution_count": 20,
     "metadata": {},
     "output_type": "execute_result"
    }
   ],
   "source": [
    "# your code here\n",
    "edit2 = X.copy()\n",
    "edit2['ratio'] = edit2.hp / edit2.wt\n",
    "full_model_edit2 = OLS(y, edit2).fit()\n",
    "pd.DataFrame(beta_covariance(full_model_edit2, y, edit2))"
   ]
  },
  {
   "cell_type": "markdown",
   "metadata": {},
   "source": [
    "Adding the ratio column increase the standard error of the intercept parameter, and the coefficients for horse power and weight. It decreases the standard error for the other parameters."
   ]
  },
  {
   "cell_type": "markdown",
   "metadata": {},
   "source": [
    "**7.3 Create a separate dataset `edit3` with a new column `combo` that is horsepower+displacement+weight+ Normal(0,.01) noise... **"
   ]
  },
  {
   "cell_type": "code",
   "execution_count": 21,
   "metadata": {},
   "outputs": [
    {
     "data": {
      "text/html": [
       "<div>\n",
       "<style scoped>\n",
       "    .dataframe tbody tr th:only-of-type {\n",
       "        vertical-align: middle;\n",
       "    }\n",
       "\n",
       "    .dataframe tbody tr th {\n",
       "        vertical-align: top;\n",
       "    }\n",
       "\n",
       "    .dataframe thead th {\n",
       "        text-align: right;\n",
       "    }\n",
       "</style>\n",
       "<table border=\"1\" class=\"dataframe\">\n",
       "  <thead>\n",
       "    <tr style=\"text-align: right;\">\n",
       "      <th></th>\n",
       "      <th>0</th>\n",
       "      <th>1</th>\n",
       "      <th>2</th>\n",
       "      <th>3</th>\n",
       "      <th>4</th>\n",
       "      <th>5</th>\n",
       "      <th>6</th>\n",
       "    </tr>\n",
       "  </thead>\n",
       "  <tbody>\n",
       "    <tr>\n",
       "      <th>0</th>\n",
       "      <td>85.257881</td>\n",
       "      <td>-3.276780</td>\n",
       "      <td>-0.989699</td>\n",
       "      <td>-1.078720</td>\n",
       "      <td>3.293435</td>\n",
       "      <td>-4.020364</td>\n",
       "      <td>1.006073</td>\n",
       "    </tr>\n",
       "    <tr>\n",
       "      <th>1</th>\n",
       "      <td>-3.276780</td>\n",
       "      <td>0.443367</td>\n",
       "      <td>0.032300</td>\n",
       "      <td>0.034776</td>\n",
       "      <td>-0.111351</td>\n",
       "      <td>0.111349</td>\n",
       "      <td>-0.035860</td>\n",
       "    </tr>\n",
       "    <tr>\n",
       "      <th>2</th>\n",
       "      <td>-0.989699</td>\n",
       "      <td>0.032300</td>\n",
       "      <td>0.086096</td>\n",
       "      <td>0.085003</td>\n",
       "      <td>-0.257711</td>\n",
       "      <td>0.072006</td>\n",
       "      <td>-0.084071</td>\n",
       "    </tr>\n",
       "    <tr>\n",
       "      <th>3</th>\n",
       "      <td>-1.078720</td>\n",
       "      <td>0.034776</td>\n",
       "      <td>0.085003</td>\n",
       "      <td>0.084277</td>\n",
       "      <td>-0.255172</td>\n",
       "      <td>0.075535</td>\n",
       "      <td>-0.083122</td>\n",
       "    </tr>\n",
       "    <tr>\n",
       "      <th>4</th>\n",
       "      <td>3.293436</td>\n",
       "      <td>-0.111351</td>\n",
       "      <td>-0.257711</td>\n",
       "      <td>-0.255172</td>\n",
       "      <td>0.773285</td>\n",
       "      <td>-0.229587</td>\n",
       "      <td>0.251944</td>\n",
       "    </tr>\n",
       "    <tr>\n",
       "      <th>5</th>\n",
       "      <td>-4.020364</td>\n",
       "      <td>0.111349</td>\n",
       "      <td>0.072006</td>\n",
       "      <td>0.075535</td>\n",
       "      <td>-0.229587</td>\n",
       "      <td>0.205936</td>\n",
       "      <td>-0.071722</td>\n",
       "    </tr>\n",
       "    <tr>\n",
       "      <th>6</th>\n",
       "      <td>1.006073</td>\n",
       "      <td>-0.035860</td>\n",
       "      <td>-0.084071</td>\n",
       "      <td>-0.083122</td>\n",
       "      <td>0.251944</td>\n",
       "      <td>-0.071722</td>\n",
       "      <td>0.082168</td>\n",
       "    </tr>\n",
       "  </tbody>\n",
       "</table>\n",
       "</div>"
      ],
      "text/plain": [
       "           0         1         2         3         4         5         6\n",
       "0  85.257881 -3.276780 -0.989699 -1.078720  3.293435 -4.020364  1.006073\n",
       "1  -3.276780  0.443367  0.032300  0.034776 -0.111351  0.111349 -0.035860\n",
       "2  -0.989699  0.032300  0.086096  0.085003 -0.257711  0.072006 -0.084071\n",
       "3  -1.078720  0.034776  0.085003  0.084277 -0.255172  0.075535 -0.083122\n",
       "4   3.293436 -0.111351 -0.257711 -0.255172  0.773285 -0.229587  0.251944\n",
       "5  -4.020364  0.111349  0.072006  0.075535 -0.229587  0.205936 -0.071722\n",
       "6   1.006073 -0.035860 -0.084071 -0.083122  0.251944 -0.071722  0.082168"
      ]
     },
     "execution_count": 21,
     "metadata": {},
     "output_type": "execute_result"
    }
   ],
   "source": [
    "# your code here\n",
    "edit3 = X.copy()\n",
    "edit3['ratio'] = edit3.hp + edit3.disp + edit2.wt + np.random.normal(0,.01)\n",
    "full_model_edit3 = OLS(y, edit3).fit()\n",
    "pd.DataFrame(beta_covariance(full_model_edit3, y, edit3))"
   ]
  },
  {
   "cell_type": "markdown",
   "metadata": {},
   "source": [
    "The standard error of the intercept and coefficients for displacement, horsepower, and weight increase a lot. The standard error for the other coefficients slightly decrease."
   ]
  },
  {
   "cell_type": "markdown",
   "metadata": {},
   "source": [
    "**7.4 If you could choose the different features in your data (either because you're running a lab experiment manipulating the X values, ... **"
   ]
  },
  {
   "cell_type": "markdown",
   "metadata": {},
   "source": [
    "*your answer here*\n",
    "\n",
    "I would want my features $x_1, x_2, ..., x_n$ to be as orthogonal as possible and as explanatory as possible. If we were to do this perfectly, this would lead to $X^TX$ having the squared length of the feature vectors on the diagonal and zeros off the diagonal. The covariance matrix would be a diagonal matrix with $\\frac{\\sigma^2}{||x_i||^2}$ on the diagonal, meaning that each $\\beta_i$ is uncorrelated with one another. \n",
    "\n",
    "Since our variables explain the dependent variable well, $\\sigma^2$ would also be small.\n",
    "\n",
    "These two conditions, orthogonalaity and predictive power, would make the regression model accurate and would decrease the standard error on our parameter estimates. "
   ]
  }
 ],
 "metadata": {
  "anaconda-cloud": {},
  "kernelspec": {
   "display_name": "Python [conda env:py36]",
   "language": "python",
   "name": "conda-env-py36-py"
  },
  "language_info": {
   "codemirror_mode": {
    "name": "ipython",
    "version": 3
   },
   "file_extension": ".py",
   "mimetype": "text/x-python",
   "name": "python",
   "nbconvert_exporter": "python",
   "pygments_lexer": "ipython3",
   "version": "3.6.6"
  }
 },
 "nbformat": 4,
 "nbformat_minor": 2
}
