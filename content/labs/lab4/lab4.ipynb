{
 "cells": [
  {
   "cell_type": "markdown",
   "metadata": {},
   "source": [
    "# <img style=\"float: left; padding-right: 10px; width: 45px\" src=\"https://raw.githubusercontent.com/Harvard-IACS/2018-CS109A/master/content/styles/iacs.png\"> CS-109A Introduction to Data Science\n"
   ]
  },
  {
   "cell_type": "markdown",
   "metadata": {},
   "source": [
    "## Lab 4: Multiple and Polynomial Regression \n",
    "\n",
    "**Harvard University**<br/>\n",
    "**Fall 2018**<br/>\n",
    "**Instructors:** Pavlos Protopapas and Kevin Rader<br/>\n",
    "**Lab Instructor:** Rahul Dave<br/>\n",
    "**Authors:** Rahul Dave, David Sondak, Will Claybaugh, Pavlos Protopapas\n",
    "\n",
    "---"
   ]
  },
  {
   "cell_type": "code",
<<<<<<< HEAD
   "execution_count": 1,
   "metadata": {},
   "outputs": [
    {
     "data": {
      "text/html": [
       "<style>\n",
       "h1 { \n",
       "    padding-top: 25px;\n",
       "    padding-bottom: 25px;\n",
       "    text-align: left; \n",
       "    padding-left: 10px;\n",
       "    background-color: #DDDDDD; \n",
       "    color: black;\n",
       "}\n",
       "h2 { \n",
       "    padding-top: 10px;\n",
       "    padding-bottom: 10px;\n",
       "    text-align: left; \n",
       "    padding-left: 5px;\n",
       "    background-color: #EEEEEE; \n",
       "    color: black;\n",
       "}\n",
       "\n",
       "div.exercise {\n",
       "\tbackground-color: #ffcccc;\n",
       "\tborder-color: #E9967A; \t\n",
       "\tborder-left: 5px solid #800080; \n",
       "\tpadding: 0.5em;\n",
       "}\n",
       "div.theme {\n",
       "\tbackground-color: #DDDDDD;\n",
       "\tborder-color: #E9967A; \t\n",
       "\tborder-left: 5px solid #800080; \n",
       "\tpadding: 0.5em;\n",
       "\tfont-size: 18pt;\n",
       "}\n",
       "p.q1 { \n",
       "    padding-top: 5px;\n",
       "    padding-bottom: 5px;\n",
       "    text-align: left; \n",
       "    padding-left: 5px;\n",
       "    background-color: #EEEEEE; \n",
       "    color: black;\n",
       "}\n",
       "header {\n",
       "   padding-top: 35px;\n",
       "    padding-bottom: 35px;\n",
       "    text-align: left; \n",
       "    padding-left: 10px;\n",
       "    background-color: #DDDDDD; \n",
       "    color: black;\n",
       "}\n",
       "</style>\n",
       "\n"
      ],
      "text/plain": [
       "<IPython.core.display.HTML object>"
      ]
     },
     "execution_count": 1,
     "metadata": {},
     "output_type": "execute_result"
    }
   ],
=======
   "execution_count": 142,
   "metadata": {},
   "outputs": [],
>>>>>>> a7aa11e9d0e7663442b568c1bcfb2fe865139ed0
   "source": [
    "## RUN THIS CELL TO GET THE RIGHT FORMATTING \n",
    "import requests\n",
    "from IPython.core.display import HTML\n",
    "styles = requests.get(\"https://raw.githubusercontent.com/Harvard-IACS/2018-CS109A/master/content/styles/cs109.css\").text\n",
    "HTML(styles)"
   ]
  },
  {
   "cell_type": "markdown",
   "metadata": {},
   "source": [
    "## Table of Contents\n",
    "\n",
    "<ol start=\"0\">\n",
    "<li> Learning Goals </li>\n",
    "<li> Polynomial Regression, and Revisiting the Cab Data</li>\n",
    "<li> Multiple regression and exploring the Football data </li>\n",
    "<li> A nice trick for forward-backwards </li>\n",
    "</ol>"
   ]
  },
  {
   "cell_type": "markdown",
   "metadata": {},
   "source": [
    "## Learning Goals\n",
    "After this lab, you should be able to\n",
    " - Implement arbitrary multiple regression models in both SK-learn and Statsmodels\n",
    " - Interpret the coefficent estimates produced by each model, including transformed and dummy variables"
   ]
  },
  {
   "cell_type": "code",
<<<<<<< HEAD
   "execution_count": 2,
=======
   "execution_count": 33,
>>>>>>> a7aa11e9d0e7663442b568c1bcfb2fe865139ed0
   "metadata": {},
   "outputs": [],
   "source": [
    "import numpy as np\n",
    "import pandas as pd\n",
    "import matplotlib.pyplot as plt\n",
    "\n",
    "import statsmodels.api as sm\n",
    "from statsmodels.api import OLS\n",
    "\n",
    "from sklearn import preprocessing\n",
    "from sklearn.preprocessing import PolynomialFeatures\n",
    "from sklearn.metrics import r2_score\n",
    "from sklearn.model_selection import train_test_split\n",
    "\n",
    "from pandas.plotting import scatter_matrix\n",
    "\n",
    "import seaborn as sns\n",
    "\n",
    "\n",
    "%matplotlib inline"
   ]
  },
  {
   "cell_type": "markdown",
   "metadata": {},
   "source": [
    "`statsmodels` is focused on the _inference_ task: guess good values for the betas and discuss how certain you are in those answers. \n",
    "\n",
    "`sklearn` is focused on the _prediction_ task: given \\[new\\] data, guess what the response value is. As a result, statsmodels has lots of tools to discuss confidence, but isn't great at dealing with test sets. Sklearn is great at test sets and validations, but can't really discuss uncertainty in the parameters or predictions. In short:\n",
    "\n",
    "  - sklearn is about putting a line through it and predicting new values using that line. If the line gives good predictions on the test set, who cares about anything else?\n",
    "  - statsmodels assumes more about how the data were generated, and (if the assumptions are correct) can tell you about uncertainty in the results\n"
   ]
  },
  {
   "cell_type": "markdown",
   "metadata": {},
   "source": [
    "### Some terms\n",
    "\n",
    "\n",
    "- **R-squared**: An interpretable summary of how well the model did. 1 is perfect, 0 is a trivial baseline model, negative is worse than the trivial model\n",
    "- **F-statistic**: A value testing whether we're likely to see these results (or even stronger ones) if none of the predictors actually mattered.\n",
    "- **Prob (F-statistic)**: The probability that we'd see these results (or even stronger ones) if none of the predictors actually mattered. If this probability is small then either A) some combination of predictors actually matters or B) something rather unlikely has happened\n",
    "- **coef**: The estimate of each beta. This has several sub-components:\n",
    "  - **std err**: The amount we'd expect this value to wiggle if we re-did the data collection and re-ran our model. More data tends to make this wiggle smaller, but sometimes the collected data just isn't enough to pin down a particular value.\n",
    "  - **t and P>|t|**: similar to the F-statistic, these measure the probability of seeing coefficients this big (or even bigger) if the given variable didn't actually matter. Small probability doesn't necessarily mean the value matters\n",
    "  - **\\[0.025 0.975\\]**: Endpoints of the 95% confidence interval. This is a interval drawn in a clever way and which gives an idea of where the true beta value might plausibly live. (If you want to understand why \"there's a 95% chance the true beta is in the interval\" is _wrong_, start a chat with Will : )\n",
    "  "
   ]
  },
  {
   "cell_type": "markdown",
   "metadata": {},
   "source": [
    "## Part 1: Polynomial Regression, and Revisiting the Cab Data"
   ]
  },
  {
   "cell_type": "code",
<<<<<<< HEAD
   "execution_count": 3,
   "metadata": {},
   "outputs": [
    {
     "data": {
      "text/html": [
       "<div>\n",
       "<style scoped>\n",
       "    .dataframe tbody tr th:only-of-type {\n",
       "        vertical-align: middle;\n",
       "    }\n",
       "\n",
       "    .dataframe tbody tr th {\n",
       "        vertical-align: top;\n",
       "    }\n",
       "\n",
       "    .dataframe thead th {\n",
       "        text-align: right;\n",
       "    }\n",
       "</style>\n",
       "<table border=\"1\" class=\"dataframe\">\n",
       "  <thead>\n",
       "    <tr style=\"text-align: right;\">\n",
       "      <th></th>\n",
       "      <th>TimeMin</th>\n",
       "      <th>PickupCount</th>\n",
       "    </tr>\n",
       "  </thead>\n",
       "  <tbody>\n",
       "    <tr>\n",
       "      <th>0</th>\n",
       "      <td>860.0</td>\n",
       "      <td>33.0</td>\n",
       "    </tr>\n",
       "    <tr>\n",
       "      <th>1</th>\n",
       "      <td>17.0</td>\n",
       "      <td>75.0</td>\n",
       "    </tr>\n",
       "    <tr>\n",
       "      <th>2</th>\n",
       "      <td>486.0</td>\n",
       "      <td>13.0</td>\n",
       "    </tr>\n",
       "    <tr>\n",
       "      <th>3</th>\n",
       "      <td>300.0</td>\n",
       "      <td>5.0</td>\n",
       "    </tr>\n",
       "    <tr>\n",
       "      <th>4</th>\n",
       "      <td>385.0</td>\n",
       "      <td>10.0</td>\n",
       "    </tr>\n",
       "  </tbody>\n",
       "</table>\n",
       "</div>"
      ],
      "text/plain": [
       "   TimeMin  PickupCount\n",
       "0    860.0         33.0\n",
       "1     17.0         75.0\n",
       "2    486.0         13.0\n",
       "3    300.0          5.0\n",
       "4    385.0         10.0"
      ]
     },
     "execution_count": 3,
     "metadata": {},
     "output_type": "execute_result"
    }
   ],
=======
   "execution_count": 34,
   "metadata": {},
   "outputs": [],
>>>>>>> a7aa11e9d0e7663442b568c1bcfb2fe865139ed0
   "source": [
    "# read in the data, break into train and test\n",
    "cab_df = pd.read_csv(\"data/dataset_1.txt\")\n",
    "train_data, test_data = train_test_split(cab_df, test_size=.2, random_state=42)\n",
    "cab_df.head()"
   ]
  },
  {
   "cell_type": "code",
<<<<<<< HEAD
   "execution_count": 4,
   "metadata": {},
   "outputs": [
    {
     "data": {
      "text/plain": [
       "(1250, 2)"
      ]
     },
     "execution_count": 4,
     "metadata": {},
     "output_type": "execute_result"
    }
   ],
=======
   "execution_count": 35,
   "metadata": {},
   "outputs": [],
>>>>>>> a7aa11e9d0e7663442b568c1bcfb2fe865139ed0
   "source": [
    "cab_df.shape"
   ]
  },
  {
   "cell_type": "code",
<<<<<<< HEAD
   "execution_count": 5,
   "metadata": {},
=======
   "execution_count": 36,
   "metadata": {
    "collapsed": true
   },
>>>>>>> a7aa11e9d0e7663442b568c1bcfb2fe865139ed0
   "outputs": [],
   "source": [
    "# do some data cleaning\n",
    "X_train = train_data['TimeMin'].values.reshape(-1,1)/60\n",
    "y_train = train_data['PickupCount'].values\n",
    "\n",
    "X_test = test_data['TimeMin'].values.reshape(-1,1)/60\n",
    "y_test = test_data['PickupCount'].values\n",
    "\n",
    "\n",
    "def plot_cabs(cur_model, poly_transformer=None):\n",
    "    \n",
    "    # build the x values for the prediction line\n",
    "    x_vals = np.arange(0,24,.1).reshape(-1,1)\n",
    "    \n",
    "    # if needed, build the design matrix\n",
    "    if poly_transformer:\n",
    "        design_mat = poly_transformer.fit_transform(x_vals)\n",
    "    else:\n",
    "        design_mat = x_vals\n",
    "    \n",
    "    # make the prediction at each x value\n",
    "    prediction = cur_model.predict(design_mat)\n",
    "    \n",
    "    # plot the prediction line, and the test data\n",
    "    plt.plot(x_vals,prediction, color='k', label=\"Prediction\")\n",
    "    plt.scatter(X_test, y_test, label=\"Test Data\")\n",
    "\n",
    "    # label your plots\n",
    "    plt.ylabel(\"Number of Taxi Pickups\")\n",
    "    plt.xlabel(\"Time of Day (Hours Past Midnight)\")\n",
    "    plt.legend()\n",
    "    plt.show()"
   ]
  },
  {
   "cell_type": "code",
<<<<<<< HEAD
   "execution_count": 6,
   "metadata": {},
   "outputs": [
    {
     "data": {
      "image/png": "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\n",
      "text/plain": [
       "<Figure size 432x288 with 1 Axes>"
      ]
     },
     "metadata": {},
     "output_type": "display_data"
    }
   ],
=======
   "execution_count": 37,
   "metadata": {},
   "outputs": [],
>>>>>>> a7aa11e9d0e7663442b568c1bcfb2fe865139ed0
   "source": [
    "from sklearn.linear_model import LinearRegression\n",
    "fitted_cab_model0 = LinearRegression().fit(X_train, y_train)\n",
    "plot_cabs(fitted_cab_model0)"
   ]
  },
  {
   "cell_type": "code",
<<<<<<< HEAD
   "execution_count": 7,
   "metadata": {},
   "outputs": [
    {
     "data": {
      "text/plain": [
       "0.240661535615741"
      ]
     },
     "execution_count": 7,
     "metadata": {},
     "output_type": "execute_result"
    }
   ],
=======
   "execution_count": 39,
   "metadata": {},
   "outputs": [],
>>>>>>> a7aa11e9d0e7663442b568c1bcfb2fe865139ed0
   "source": [
    "fitted_cab_model0.score(X_test, y_test)"
   ]
  },
  {
   "cell_type": "markdown",
   "metadata": {},
   "source": [
    "We can see that there's still a lot of variation in cab pickups that's not being caught by a linear fit. And the linear fit is predicting massively more pickups at 11:59pm than at 12:00am. However, we can add columns to our design matrix for $TimeMin^2$ and $TimeMin^3$ and so on, allowing a wigglier polynomial that will better fit the data.\n",
    "\n",
    "We'll be using sklearn's `PolynomialFeatures` to take some of the tedium out of building the new design matrix. In fact, if all we want is a formula like $y \\approx \\beta_0 + \\beta_1 x + \\beta_2 x^2 + ...$ it will directly return the new design matrix."
   ]
  },
  {
   "cell_type": "code",
<<<<<<< HEAD
   "execution_count": 46,
   "metadata": {},
   "outputs": [
    {
     "data": {
      "text/plain": [
       "array([[6.73333333e+00, 4.53377778e+01, 3.05274370e+02],\n",
       "       [2.18333333e+00, 4.76694444e+00, 1.04078287e+01],\n",
       "       [1.41666667e+00, 2.00694444e+00, 2.84317130e+00],\n",
       "       ...,\n",
       "       [1.96666667e+01, 3.86777778e+02, 7.60662963e+03],\n",
       "       [1.17333333e+01, 1.37671111e+02, 1.61534104e+03],\n",
       "       [1.42000000e+01, 2.01640000e+02, 2.86328800e+03]])"
      ]
     },
     "execution_count": 46,
     "metadata": {},
     "output_type": "execute_result"
    }
   ],
=======
   "execution_count": 38,
   "metadata": {},
   "outputs": [],
>>>>>>> a7aa11e9d0e7663442b568c1bcfb2fe865139ed0
   "source": [
    "transformer_3 = PolynomialFeatures(3, include_bias=False)\n",
    "new_features = transformer_3.fit_transform(X_train)\n",
    "new_features"
   ]
  },
  {
   "cell_type": "markdown",
   "metadata": {},
   "source": [
    "A few notes on `PolynomialFeatures`:\n",
    "\n",
    "- The interface is a bit strange. `PolynomialFeatures` is a 'transformer' in sklearn. We'll be using several transformers that learn a transformation on the training data and then apply that transformation on future data. On these (more typical) transformers it makes sense to have a `.fit()` and a separate `.transform()`. With PolynomialFeatures, the `.fit()` is pretty trivial, and we often fit and transform in one command, as seen above.\n",
    "- You rarely want to `include_bias` (a column of all 1s), since sklearn will add it automatically and statsmodels can just `add_constant` right before you fit to the design matrix\n",
    "- If you want polynomial features for a several different variables, you should call `.fit_transform()` separately on each column and append all the results to the design matrix (unless you also want interaction terms between the newly-created features). See `np.concatenate` for joining arrays."
   ]
  },
  {
   "cell_type": "code",
<<<<<<< HEAD
   "execution_count": 47,
   "metadata": {},
   "outputs": [
    {
     "data": {
      "image/png": "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\n",
      "text/plain": [
       "<Figure size 432x288 with 1 Axes>"
      ]
     },
     "metadata": {},
     "output_type": "display_data"
    }
   ],
=======
   "execution_count": 8,
   "metadata": {},
   "outputs": [],
>>>>>>> a7aa11e9d0e7663442b568c1bcfb2fe865139ed0
   "source": [
    "fitted_cab_model3 = LinearRegression().fit(new_features, y_train)\n",
    "plot_cabs(fitted_cab_model3, transformer_3)"
   ]
  },
  {
   "cell_type": "markdown",
   "metadata": {},
   "source": [
    "<div class=\"exercise\"><b>Exercise</b></div>\n",
    "\n",
    "**Questions**:\n",
    "1. Calculate the polynomial model's $R^2$ performance on the test set. \n",
    "2. Does the polynomial model improve on the purely linear model?\n",
    "3. Make a residual plot for the polynomial model. What does this plot tell us about the model?"
   ]
  },
  {
   "cell_type": "markdown",
   "metadata": {},
   "source": [
    "*your answer here*\n"
   ]
  },
  {
   "cell_type": "code",
<<<<<<< HEAD
   "execution_count": 48,
   "metadata": {},
   "outputs": [
    {
     "name": "stdout",
     "output_type": "stream",
     "text": [
      "Cubic Model, R squared:  0.3341251257077831\n"
     ]
    }
   ],
   "source": [
    "# your code here\n",
    "new_features_test = transformer_3.fit_transform(X_test)\n",
    "r_squared = fitted_cab_model3.score(new_features_test, y_test)\n",
    "print(\"Cubic Model, R squared: \",r_squared)"
   ]
  },
  {
   "cell_type": "markdown",
   "metadata": {},
   "source": [
    "Yes it is better because it has a lower $R^2$"
=======
   "execution_count": 9,
   "metadata": {},
   "outputs": [],
   "source": [
    "# your code here\n"
   ]
  },
  {
   "cell_type": "code",
   "execution_count": 40,
   "metadata": {},
   "outputs": [],
   "source": [
    "# your code here\n"
>>>>>>> a7aa11e9d0e7663442b568c1bcfb2fe865139ed0
   ]
  },
  {
   "cell_type": "code",
<<<<<<< HEAD
   "execution_count": 49,
   "metadata": {},
   "outputs": [
    {
     "data": {
      "text/plain": [
       "<matplotlib.lines.Line2D at 0x1c1be805f8>"
      ]
     },
     "execution_count": 49,
     "metadata": {},
     "output_type": "execute_result"
    },
    {
     "data": {
      "image/png": "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\n",
      "text/plain": [
       "<Figure size 432x288 with 1 Axes>"
      ]
     },
     "metadata": {},
     "output_type": "display_data"
    }
   ],
   "source": [
    "# your code here\n",
    "pred = fitted_cab_model3.predict(new_features_test)\n",
    "plt.scatter(X_test, pred-y_test)\n",
    "plt.axhline(0,0,1,color='r')"
=======
   "execution_count": 41,
   "metadata": {},
   "outputs": [],
   "source": [
    "# your code here\n"
>>>>>>> a7aa11e9d0e7663442b568c1bcfb2fe865139ed0
   ]
  },
  {
   "cell_type": "markdown",
   "metadata": {},
   "source": [
    "#### Other features\n",
    "Polynomial features are not the only constucted features that help fit the data. Because these data have a 24 hour cycle, we may want to build features that follow such a cycle. For example, $sin(24\\frac{x}{2\\pi})$, $sin(12\\frac{x}{2\\pi})$, $sin(8\\frac{x}{2\\pi})$. Other feature transformations are appropriate to other types of data. For instance certain feature transformations have been developed for geographical data."
   ]
  },
  {
   "cell_type": "markdown",
   "metadata": {},
   "source": [
    "<hr style=\"height:3px\">\n",
    "## Part 2: Multiple regression and exploring the Football data\n",
    "Let's move on to a truly interesting dataset. The data imported below were scraped by [Shubham Maurya](https://www.kaggle.com/mauryashubham/linear-regression-to-predict-market-value/data) and record various facts about players in the English Premier League. Our goal will be to fit models that predict the players' market value (what the player could earn when hired by a new team), as estimated by transfermrkt.com.\n",
    "\n",
    "`name`: Name of the player  \n",
    "`club`: Club of the player  \n",
    "`age` : Age of the player  \n",
    "`position` : The usual position on the pitch  \n",
    "`position_cat` :  1 for attackers, 2 for midfielders, 3 for defenders, 4 for goalkeepers  \n",
    "`market_value` : As on transfermrkt.com on July 20th, 2017  \n",
    "`page_views` : Average daily Wikipedia page views from September 1, 2016 to May 1, 2017  \n",
    "`fpl_value` : Value in Fantasy Premier League as on July 20th, 2017  \n",
    "`fpl_sel` : % of FPL players who have selected that player in their team  \n",
    "`fpl_points` : FPL points accumulated over the previous season  \n",
    "`region`: 1 for England, 2 for EU, 3 for Americas, 4 for Rest of World  \n",
    "`nationality`: Player's nationality  \n",
    "`new_foreign`: Whether a new signing from a different league, for 2017/18 (till 20th July)  \n",
    "`age_cat`: a categorical version of the Age feature  \n",
    "`club_id`: a numerical version of the Club feature  \n",
    "`big_club`: Whether one of the Top 6 clubs  \n",
    "`new_signing`: Whether a new signing for 2017/18 (till 20th July)  \n",
    "\n",
    "As always, we first import, verify, split, and explore the data.\n",
    "\n",
    "## Part 2.1: Import and verification and grouping"
   ]
  },
  {
   "cell_type": "code",
<<<<<<< HEAD
   "execution_count": 50,
   "metadata": {
    "scrolled": false
   },
   "outputs": [
    {
     "name": "stdout",
     "output_type": "stream",
     "text": [
      "name             object\n",
      "club             object\n",
      "age               int64\n",
      "position         object\n",
      "position_cat      int64\n",
      "market_value    float64\n",
      "page_views        int64\n",
      "fpl_value       float64\n",
      "fpl_sel          object\n",
      "fpl_points        int64\n",
      "region          float64\n",
      "nationality      object\n",
      "new_foreign       int64\n",
      "age_cat           int64\n",
      "club_id           int64\n",
      "big_club          int64\n",
      "new_signing       int64\n",
      "dtype: object\n"
     ]
    },
    {
     "data": {
      "text/html": [
       "<div>\n",
       "<style scoped>\n",
       "    .dataframe tbody tr th:only-of-type {\n",
       "        vertical-align: middle;\n",
       "    }\n",
       "\n",
       "    .dataframe tbody tr th {\n",
       "        vertical-align: top;\n",
       "    }\n",
       "\n",
       "    .dataframe thead th {\n",
       "        text-align: right;\n",
       "    }\n",
       "</style>\n",
       "<table border=\"1\" class=\"dataframe\">\n",
       "  <thead>\n",
       "    <tr style=\"text-align: right;\">\n",
       "      <th></th>\n",
       "      <th>name</th>\n",
       "      <th>club</th>\n",
       "      <th>age</th>\n",
       "      <th>position</th>\n",
       "      <th>position_cat</th>\n",
       "      <th>market_value</th>\n",
       "      <th>page_views</th>\n",
       "      <th>fpl_value</th>\n",
       "      <th>fpl_sel</th>\n",
       "      <th>fpl_points</th>\n",
       "      <th>region</th>\n",
       "      <th>nationality</th>\n",
       "      <th>new_foreign</th>\n",
       "      <th>age_cat</th>\n",
       "      <th>club_id</th>\n",
       "      <th>big_club</th>\n",
       "      <th>new_signing</th>\n",
       "    </tr>\n",
       "  </thead>\n",
       "  <tbody>\n",
       "    <tr>\n",
       "      <th>0</th>\n",
       "      <td>Alexis Sanchez</td>\n",
       "      <td>Arsenal</td>\n",
       "      <td>28</td>\n",
       "      <td>LW</td>\n",
       "      <td>1</td>\n",
       "      <td>65.0</td>\n",
       "      <td>4329</td>\n",
       "      <td>12.0</td>\n",
       "      <td>17.10%</td>\n",
       "      <td>264</td>\n",
       "      <td>3.0</td>\n",
       "      <td>Chile</td>\n",
       "      <td>0</td>\n",
       "      <td>4</td>\n",
       "      <td>1</td>\n",
       "      <td>1</td>\n",
       "      <td>0</td>\n",
       "    </tr>\n",
       "    <tr>\n",
       "      <th>1</th>\n",
       "      <td>Mesut Ozil</td>\n",
       "      <td>Arsenal</td>\n",
       "      <td>28</td>\n",
       "      <td>AM</td>\n",
       "      <td>1</td>\n",
       "      <td>50.0</td>\n",
       "      <td>4395</td>\n",
       "      <td>9.5</td>\n",
       "      <td>5.60%</td>\n",
       "      <td>167</td>\n",
       "      <td>2.0</td>\n",
       "      <td>Germany</td>\n",
       "      <td>0</td>\n",
       "      <td>4</td>\n",
       "      <td>1</td>\n",
       "      <td>1</td>\n",
       "      <td>0</td>\n",
       "    </tr>\n",
       "    <tr>\n",
       "      <th>2</th>\n",
       "      <td>Petr Cech</td>\n",
       "      <td>Arsenal</td>\n",
       "      <td>35</td>\n",
       "      <td>GK</td>\n",
       "      <td>4</td>\n",
       "      <td>7.0</td>\n",
       "      <td>1529</td>\n",
       "      <td>5.5</td>\n",
       "      <td>5.90%</td>\n",
       "      <td>134</td>\n",
       "      <td>2.0</td>\n",
       "      <td>Czech Republic</td>\n",
       "      <td>0</td>\n",
       "      <td>6</td>\n",
       "      <td>1</td>\n",
       "      <td>1</td>\n",
       "      <td>0</td>\n",
       "    </tr>\n",
       "    <tr>\n",
       "      <th>3</th>\n",
       "      <td>Theo Walcott</td>\n",
       "      <td>Arsenal</td>\n",
       "      <td>28</td>\n",
       "      <td>RW</td>\n",
       "      <td>1</td>\n",
       "      <td>20.0</td>\n",
       "      <td>2393</td>\n",
       "      <td>7.5</td>\n",
       "      <td>1.50%</td>\n",
       "      <td>122</td>\n",
       "      <td>1.0</td>\n",
       "      <td>England</td>\n",
       "      <td>0</td>\n",
       "      <td>4</td>\n",
       "      <td>1</td>\n",
       "      <td>1</td>\n",
       "      <td>0</td>\n",
       "    </tr>\n",
       "    <tr>\n",
       "      <th>4</th>\n",
       "      <td>Laurent Koscielny</td>\n",
       "      <td>Arsenal</td>\n",
       "      <td>31</td>\n",
       "      <td>CB</td>\n",
       "      <td>3</td>\n",
       "      <td>22.0</td>\n",
       "      <td>912</td>\n",
       "      <td>6.0</td>\n",
       "      <td>0.70%</td>\n",
       "      <td>121</td>\n",
       "      <td>2.0</td>\n",
       "      <td>France</td>\n",
       "      <td>0</td>\n",
       "      <td>4</td>\n",
       "      <td>1</td>\n",
       "      <td>1</td>\n",
       "      <td>0</td>\n",
       "    </tr>\n",
       "  </tbody>\n",
       "</table>\n",
       "</div>"
      ],
      "text/plain": [
       "                name     club  age position  position_cat  market_value  \\\n",
       "0     Alexis Sanchez  Arsenal   28       LW             1          65.0   \n",
       "1         Mesut Ozil  Arsenal   28       AM             1          50.0   \n",
       "2          Petr Cech  Arsenal   35       GK             4           7.0   \n",
       "3       Theo Walcott  Arsenal   28       RW             1          20.0   \n",
       "4  Laurent Koscielny  Arsenal   31       CB             3          22.0   \n",
       "\n",
       "   page_views  fpl_value fpl_sel  fpl_points  region     nationality  \\\n",
       "0        4329       12.0  17.10%         264     3.0           Chile   \n",
       "1        4395        9.5   5.60%         167     2.0         Germany   \n",
       "2        1529        5.5   5.90%         134     2.0  Czech Republic   \n",
       "3        2393        7.5   1.50%         122     1.0         England   \n",
       "4         912        6.0   0.70%         121     2.0          France   \n",
       "\n",
       "   new_foreign  age_cat  club_id  big_club  new_signing  \n",
       "0            0        4        1         1            0  \n",
       "1            0        4        1         1            0  \n",
       "2            0        6        1         1            0  \n",
       "3            0        4        1         1            0  \n",
       "4            0        4        1         1            0  "
      ]
     },
     "execution_count": 50,
     "metadata": {},
     "output_type": "execute_result"
    }
   ],
=======
   "execution_count": 85,
   "metadata": {
    "scrolled": false
   },
   "outputs": [],
>>>>>>> a7aa11e9d0e7663442b568c1bcfb2fe865139ed0
   "source": [
    "league_df = pd.read_csv(\"data/league_data.txt\")\n",
    "print(league_df.dtypes)\n",
    "league_df.head()"
   ]
  },
  {
   "cell_type": "code",
<<<<<<< HEAD
   "execution_count": 51,
   "metadata": {},
   "outputs": [
    {
     "data": {
      "text/plain": [
       "(461, 17)"
      ]
     },
     "execution_count": 51,
     "metadata": {},
     "output_type": "execute_result"
    }
   ],
=======
   "execution_count": 86,
   "metadata": {},
   "outputs": [],
>>>>>>> a7aa11e9d0e7663442b568c1bcfb2fe865139ed0
   "source": [
    "league_df.shape"
   ]
  },
  {
   "cell_type": "code",
<<<<<<< HEAD
   "execution_count": 52,
   "metadata": {},
   "outputs": [
    {
     "data": {
      "text/html": [
       "<div>\n",
       "<style scoped>\n",
       "    .dataframe tbody tr th:only-of-type {\n",
       "        vertical-align: middle;\n",
       "    }\n",
       "\n",
       "    .dataframe tbody tr th {\n",
       "        vertical-align: top;\n",
       "    }\n",
       "\n",
       "    .dataframe thead th {\n",
       "        text-align: right;\n",
       "    }\n",
       "</style>\n",
       "<table border=\"1\" class=\"dataframe\">\n",
       "  <thead>\n",
       "    <tr style=\"text-align: right;\">\n",
       "      <th></th>\n",
       "      <th>age</th>\n",
       "      <th>position_cat</th>\n",
       "      <th>market_value</th>\n",
       "      <th>page_views</th>\n",
       "      <th>fpl_value</th>\n",
       "      <th>fpl_points</th>\n",
       "      <th>region</th>\n",
       "      <th>new_foreign</th>\n",
       "      <th>age_cat</th>\n",
       "      <th>club_id</th>\n",
       "      <th>big_club</th>\n",
       "      <th>new_signing</th>\n",
       "    </tr>\n",
       "  </thead>\n",
       "  <tbody>\n",
       "    <tr>\n",
       "      <th>count</th>\n",
       "      <td>461.000000</td>\n",
       "      <td>461.000000</td>\n",
       "      <td>461.000000</td>\n",
       "      <td>461.000000</td>\n",
       "      <td>461.000000</td>\n",
       "      <td>461.000000</td>\n",
       "      <td>460.000000</td>\n",
       "      <td>461.000000</td>\n",
       "      <td>461.000000</td>\n",
       "      <td>461.000000</td>\n",
       "      <td>461.000000</td>\n",
       "      <td>461.000000</td>\n",
       "    </tr>\n",
       "    <tr>\n",
       "      <th>mean</th>\n",
       "      <td>26.804772</td>\n",
       "      <td>2.180043</td>\n",
       "      <td>11.012039</td>\n",
       "      <td>763.776573</td>\n",
       "      <td>5.447939</td>\n",
       "      <td>57.314534</td>\n",
       "      <td>1.993478</td>\n",
       "      <td>0.034707</td>\n",
       "      <td>3.206074</td>\n",
       "      <td>10.334056</td>\n",
       "      <td>0.303688</td>\n",
       "      <td>0.145336</td>\n",
       "    </tr>\n",
       "    <tr>\n",
       "      <th>std</th>\n",
       "      <td>3.961892</td>\n",
       "      <td>1.000061</td>\n",
       "      <td>12.257403</td>\n",
       "      <td>931.805757</td>\n",
       "      <td>1.346695</td>\n",
       "      <td>53.113811</td>\n",
       "      <td>0.957689</td>\n",
       "      <td>0.183236</td>\n",
       "      <td>1.279795</td>\n",
       "      <td>5.726475</td>\n",
       "      <td>0.460349</td>\n",
       "      <td>0.352822</td>\n",
       "    </tr>\n",
       "    <tr>\n",
       "      <th>min</th>\n",
       "      <td>17.000000</td>\n",
       "      <td>1.000000</td>\n",
       "      <td>0.050000</td>\n",
       "      <td>3.000000</td>\n",
       "      <td>4.000000</td>\n",
       "      <td>0.000000</td>\n",
       "      <td>1.000000</td>\n",
       "      <td>0.000000</td>\n",
       "      <td>1.000000</td>\n",
       "      <td>1.000000</td>\n",
       "      <td>0.000000</td>\n",
       "      <td>0.000000</td>\n",
       "    </tr>\n",
       "    <tr>\n",
       "      <th>25%</th>\n",
       "      <td>24.000000</td>\n",
       "      <td>1.000000</td>\n",
       "      <td>3.000000</td>\n",
       "      <td>220.000000</td>\n",
       "      <td>4.500000</td>\n",
       "      <td>5.000000</td>\n",
       "      <td>1.000000</td>\n",
       "      <td>0.000000</td>\n",
       "      <td>2.000000</td>\n",
       "      <td>6.000000</td>\n",
       "      <td>0.000000</td>\n",
       "      <td>0.000000</td>\n",
       "    </tr>\n",
       "    <tr>\n",
       "      <th>50%</th>\n",
       "      <td>27.000000</td>\n",
       "      <td>2.000000</td>\n",
       "      <td>7.000000</td>\n",
       "      <td>460.000000</td>\n",
       "      <td>5.000000</td>\n",
       "      <td>51.000000</td>\n",
       "      <td>2.000000</td>\n",
       "      <td>0.000000</td>\n",
       "      <td>3.000000</td>\n",
       "      <td>10.000000</td>\n",
       "      <td>0.000000</td>\n",
       "      <td>0.000000</td>\n",
       "    </tr>\n",
       "    <tr>\n",
       "      <th>75%</th>\n",
       "      <td>30.000000</td>\n",
       "      <td>3.000000</td>\n",
       "      <td>15.000000</td>\n",
       "      <td>896.000000</td>\n",
       "      <td>5.500000</td>\n",
       "      <td>94.000000</td>\n",
       "      <td>2.000000</td>\n",
       "      <td>0.000000</td>\n",
       "      <td>4.000000</td>\n",
       "      <td>15.000000</td>\n",
       "      <td>1.000000</td>\n",
       "      <td>0.000000</td>\n",
       "    </tr>\n",
       "    <tr>\n",
       "      <th>max</th>\n",
       "      <td>38.000000</td>\n",
       "      <td>4.000000</td>\n",
       "      <td>75.000000</td>\n",
       "      <td>7664.000000</td>\n",
       "      <td>12.500000</td>\n",
       "      <td>264.000000</td>\n",
       "      <td>4.000000</td>\n",
       "      <td>1.000000</td>\n",
       "      <td>6.000000</td>\n",
       "      <td>20.000000</td>\n",
       "      <td>1.000000</td>\n",
       "      <td>1.000000</td>\n",
       "    </tr>\n",
       "  </tbody>\n",
       "</table>\n",
       "</div>"
      ],
      "text/plain": [
       "              age  position_cat  market_value   page_views   fpl_value  \\\n",
       "count  461.000000    461.000000    461.000000   461.000000  461.000000   \n",
       "mean    26.804772      2.180043     11.012039   763.776573    5.447939   \n",
       "std      3.961892      1.000061     12.257403   931.805757    1.346695   \n",
       "min     17.000000      1.000000      0.050000     3.000000    4.000000   \n",
       "25%     24.000000      1.000000      3.000000   220.000000    4.500000   \n",
       "50%     27.000000      2.000000      7.000000   460.000000    5.000000   \n",
       "75%     30.000000      3.000000     15.000000   896.000000    5.500000   \n",
       "max     38.000000      4.000000     75.000000  7664.000000   12.500000   \n",
       "\n",
       "       fpl_points      region  new_foreign     age_cat     club_id  \\\n",
       "count  461.000000  460.000000   461.000000  461.000000  461.000000   \n",
       "mean    57.314534    1.993478     0.034707    3.206074   10.334056   \n",
       "std     53.113811    0.957689     0.183236    1.279795    5.726475   \n",
       "min      0.000000    1.000000     0.000000    1.000000    1.000000   \n",
       "25%      5.000000    1.000000     0.000000    2.000000    6.000000   \n",
       "50%     51.000000    2.000000     0.000000    3.000000   10.000000   \n",
       "75%     94.000000    2.000000     0.000000    4.000000   15.000000   \n",
       "max    264.000000    4.000000     1.000000    6.000000   20.000000   \n",
       "\n",
       "         big_club  new_signing  \n",
       "count  461.000000   461.000000  \n",
       "mean     0.303688     0.145336  \n",
       "std      0.460349     0.352822  \n",
       "min      0.000000     0.000000  \n",
       "25%      0.000000     0.000000  \n",
       "50%      0.000000     0.000000  \n",
       "75%      1.000000     0.000000  \n",
       "max      1.000000     1.000000  "
      ]
     },
     "execution_count": 52,
     "metadata": {},
     "output_type": "execute_result"
    }
   ],
=======
   "execution_count": 87,
   "metadata": {},
   "outputs": [],
>>>>>>> a7aa11e9d0e7663442b568c1bcfb2fe865139ed0
   "source": [
    "league_df.describe()"
   ]
  },
  {
   "cell_type": "markdown",
   "metadata": {},
   "source": [
    "### (Stratified) train/test split\n",
    "We want to make sure that the training and test data have appropriate representation of each region; it would be bad for the training data to entirely miss a region. This is especially important because some regions are rather rare.\n",
    "\n",
    "<div class=\"exercise\"><b>Exercise</b></div>\n",
<<<<<<< HEAD
    "\n",
    "**Questions**:\n",
    "\n",
=======
    "**Questions**:\n",
>>>>>>> a7aa11e9d0e7663442b568c1bcfb2fe865139ed0
    "1. Use the `train_test_split` function to and its 'stratify' argument to split the data, keeping equal representation of each region (This will not work out of the box on this data. Deal with the resulting issue).\n",
    "2. Deal with the issue you encountered above.\n",
    "3. How did you deal with the error generated by `train_test_split`? How did you justify your action? "
   ]
  },
  {
   "cell_type": "markdown",
   "metadata": {},
   "source": [
    "*your answer here*:\n"
   ]
  },
  {
   "cell_type": "code",
<<<<<<< HEAD
   "execution_count": 58,
   "metadata": {},
   "outputs": [],
   "source": [
    "temp = league_df.dropna(subset = ['region'])\n",
    "train_data, test_data = train_test_split(temp, test_size = 0.2, stratify = temp['region'])"
=======
   "execution_count": 88,
   "metadata": {},
   "outputs": [],
   "source": [
    "# your code here\n"
>>>>>>> a7aa11e9d0e7663442b568c1bcfb2fe865139ed0
   ]
  },
  {
   "cell_type": "code",
<<<<<<< HEAD
   "execution_count": 59,
   "metadata": {},
   "outputs": [
    {
     "data": {
      "text/plain": [
       "((368, 17), (92, 17))"
      ]
     },
     "execution_count": 59,
     "metadata": {},
     "output_type": "execute_result"
    }
   ],
=======
   "execution_count": 89,
   "metadata": {},
   "outputs": [],
>>>>>>> a7aa11e9d0e7663442b568c1bcfb2fe865139ed0
   "source": [
    "train_data.shape, test_data.shape"
   ]
  },
  {
   "cell_type": "markdown",
   "metadata": {},
   "source": [
    "Now that we won't be peeking at the test set, let's explore and look for patterns! We'll introduce a number of useful pandas and numpy functions along the way. "
   ]
  },
  {
   "cell_type": "markdown",
   "metadata": {},
   "source": [
    "### Groupby\n",
    "Pandas' `.groupby()` function is a wonderful tool for data analysis. It allows us to analyze each of several subgroups.\n",
    "\n",
    "Many times, `.groupby()` is combined with `.agg()` to get a summary statistic for each subgroup. For instance: What is the average market value, median page views, and maximum fpl for each player position?"
   ]
  },
  {
   "cell_type": "code",
<<<<<<< HEAD
   "execution_count": 60,
   "metadata": {
    "scrolled": false
   },
   "outputs": [
    {
     "data": {
      "text/html": [
       "<div>\n",
       "<style scoped>\n",
       "    .dataframe tbody tr th:only-of-type {\n",
       "        vertical-align: middle;\n",
       "    }\n",
       "\n",
       "    .dataframe tbody tr th {\n",
       "        vertical-align: top;\n",
       "    }\n",
       "\n",
       "    .dataframe thead th {\n",
       "        text-align: right;\n",
       "    }\n",
       "</style>\n",
       "<table border=\"1\" class=\"dataframe\">\n",
       "  <thead>\n",
       "    <tr style=\"text-align: right;\">\n",
       "      <th></th>\n",
       "      <th>market_value</th>\n",
       "      <th>page_views</th>\n",
       "      <th>fpl_points</th>\n",
       "    </tr>\n",
       "    <tr>\n",
       "      <th>position</th>\n",
       "      <th></th>\n",
       "      <th></th>\n",
       "      <th></th>\n",
       "    </tr>\n",
       "  </thead>\n",
       "  <tbody>\n",
       "    <tr>\n",
       "      <th>AM</th>\n",
       "      <td>26.983333</td>\n",
       "      <td>1130.0</td>\n",
       "      <td>218</td>\n",
       "    </tr>\n",
       "    <tr>\n",
       "      <th>CB</th>\n",
       "      <td>9.417647</td>\n",
       "      <td>380.0</td>\n",
       "      <td>178</td>\n",
       "    </tr>\n",
       "    <tr>\n",
       "      <th>CF</th>\n",
       "      <td>14.880000</td>\n",
       "      <td>827.5</td>\n",
       "      <td>224</td>\n",
       "    </tr>\n",
       "    <tr>\n",
       "      <th>CM</th>\n",
       "      <td>10.921875</td>\n",
       "      <td>424.0</td>\n",
       "      <td>225</td>\n",
       "    </tr>\n",
       "    <tr>\n",
       "      <th>DM</th>\n",
       "      <td>14.071429</td>\n",
       "      <td>572.0</td>\n",
       "      <td>131</td>\n",
       "    </tr>\n",
       "    <tr>\n",
       "      <th>GK</th>\n",
       "      <td>7.572222</td>\n",
       "      <td>419.0</td>\n",
       "      <td>149</td>\n",
       "    </tr>\n",
       "    <tr>\n",
       "      <th>LB</th>\n",
       "      <td>8.048077</td>\n",
       "      <td>382.5</td>\n",
       "      <td>177</td>\n",
       "    </tr>\n",
       "    <tr>\n",
       "      <th>LM</th>\n",
       "      <td>4.708333</td>\n",
       "      <td>325.5</td>\n",
       "      <td>99</td>\n",
       "    </tr>\n",
       "    <tr>\n",
       "      <th>LW</th>\n",
       "      <td>12.991667</td>\n",
       "      <td>485.5</td>\n",
       "      <td>264</td>\n",
       "    </tr>\n",
       "    <tr>\n",
       "      <th>RB</th>\n",
       "      <td>7.960000</td>\n",
       "      <td>242.0</td>\n",
       "      <td>170</td>\n",
       "    </tr>\n",
       "    <tr>\n",
       "      <th>RM</th>\n",
       "      <td>11.000000</td>\n",
       "      <td>829.0</td>\n",
       "      <td>105</td>\n",
       "    </tr>\n",
       "    <tr>\n",
       "      <th>RW</th>\n",
       "      <td>13.092593</td>\n",
       "      <td>512.0</td>\n",
       "      <td>162</td>\n",
       "    </tr>\n",
       "    <tr>\n",
       "      <th>SS</th>\n",
       "      <td>12.500000</td>\n",
       "      <td>997.0</td>\n",
       "      <td>180</td>\n",
       "    </tr>\n",
       "  </tbody>\n",
       "</table>\n",
       "</div>"
      ],
      "text/plain": [
       "          market_value  page_views  fpl_points\n",
       "position                                      \n",
       "AM           26.983333      1130.0         218\n",
       "CB            9.417647       380.0         178\n",
       "CF           14.880000       827.5         224\n",
       "CM           10.921875       424.0         225\n",
       "DM           14.071429       572.0         131\n",
       "GK            7.572222       419.0         149\n",
       "LB            8.048077       382.5         177\n",
       "LM            4.708333       325.5          99\n",
       "LW           12.991667       485.5         264\n",
       "RB            7.960000       242.0         170\n",
       "RM           11.000000       829.0         105\n",
       "RW           13.092593       512.0         162\n",
       "SS           12.500000       997.0         180"
      ]
     },
     "execution_count": 60,
     "metadata": {},
     "output_type": "execute_result"
    }
   ],
=======
   "execution_count": 90,
   "metadata": {
    "scrolled": false
   },
   "outputs": [],
>>>>>>> a7aa11e9d0e7663442b568c1bcfb2fe865139ed0
   "source": [
    "train_data.groupby('position').agg({\n",
    "    'market_value': np.mean,\n",
    "    'page_views': np.median,\n",
    "    'fpl_points': np.max\n",
    "})"
   ]
  },
  {
   "cell_type": "code",
<<<<<<< HEAD
   "execution_count": 61,
   "metadata": {},
   "outputs": [
    {
     "data": {
      "text/plain": [
       "array(['LW', 'LB', 'RW', 'CB', 'RB', 'AM', 'LM', 'CF', 'DM', 'GK', 'CM',\n",
       "       'SS', 'RM'], dtype=object)"
      ]
     },
     "execution_count": 61,
     "metadata": {},
     "output_type": "execute_result"
    }
   ],
=======
   "execution_count": 91,
   "metadata": {},
   "outputs": [],
>>>>>>> a7aa11e9d0e7663442b568c1bcfb2fe865139ed0
   "source": [
    "train_data.position.unique()"
   ]
  },
  {
   "cell_type": "code",
<<<<<<< HEAD
   "execution_count": 62,
   "metadata": {},
   "outputs": [
    {
     "data": {
      "text/html": [
       "<div>\n",
       "<style scoped>\n",
       "    .dataframe tbody tr th:only-of-type {\n",
       "        vertical-align: middle;\n",
       "    }\n",
       "\n",
       "    .dataframe tbody tr th {\n",
       "        vertical-align: top;\n",
       "    }\n",
       "\n",
       "    .dataframe thead th {\n",
       "        text-align: right;\n",
       "    }\n",
       "</style>\n",
       "<table border=\"1\" class=\"dataframe\">\n",
       "  <thead>\n",
       "    <tr style=\"text-align: right;\">\n",
       "      <th></th>\n",
       "      <th></th>\n",
       "      <th>market_value</th>\n",
       "      <th>page_views</th>\n",
       "      <th>fpl_points</th>\n",
       "    </tr>\n",
       "    <tr>\n",
       "      <th>big_club</th>\n",
       "      <th>position</th>\n",
       "      <th></th>\n",
       "      <th></th>\n",
       "      <th></th>\n",
       "    </tr>\n",
       "  </thead>\n",
       "  <tbody>\n",
       "    <tr>\n",
       "      <th rowspan=\"13\" valign=\"top\">0</th>\n",
       "      <th>AM</th>\n",
       "      <td>13.718750</td>\n",
       "      <td>572.625000</td>\n",
       "      <td>74.125000</td>\n",
       "    </tr>\n",
       "    <tr>\n",
       "      <th>CB</th>\n",
       "      <td>5.084783</td>\n",
       "      <td>325.304348</td>\n",
       "      <td>50.173913</td>\n",
       "    </tr>\n",
       "    <tr>\n",
       "      <th>CF</th>\n",
       "      <td>8.600000</td>\n",
       "      <td>901.142857</td>\n",
       "      <td>54.571429</td>\n",
       "    </tr>\n",
       "    <tr>\n",
       "      <th>CM</th>\n",
       "      <td>6.310606</td>\n",
       "      <td>335.484848</td>\n",
       "      <td>36.515152</td>\n",
       "    </tr>\n",
       "    <tr>\n",
       "      <th>DM</th>\n",
       "      <td>8.233333</td>\n",
       "      <td>412.666667</td>\n",
       "      <td>37.533333</td>\n",
       "    </tr>\n",
       "    <tr>\n",
       "      <th>GK</th>\n",
       "      <td>4.740000</td>\n",
       "      <td>381.400000</td>\n",
       "      <td>54.640000</td>\n",
       "    </tr>\n",
       "    <tr>\n",
       "      <th>LB</th>\n",
       "      <td>5.486842</td>\n",
       "      <td>282.684211</td>\n",
       "      <td>52.947368</td>\n",
       "    </tr>\n",
       "    <tr>\n",
       "      <th>LM</th>\n",
       "      <td>4.650000</td>\n",
       "      <td>352.400000</td>\n",
       "      <td>60.400000</td>\n",
       "    </tr>\n",
       "    <tr>\n",
       "      <th>LW</th>\n",
       "      <td>6.297619</td>\n",
       "      <td>424.285714</td>\n",
       "      <td>49.380952</td>\n",
       "    </tr>\n",
       "    <tr>\n",
       "      <th>RB</th>\n",
       "      <td>5.078947</td>\n",
       "      <td>290.315789</td>\n",
       "      <td>58.368421</td>\n",
       "    </tr>\n",
       "    <tr>\n",
       "      <th>RM</th>\n",
       "      <td>2.000000</td>\n",
       "      <td>137.500000</td>\n",
       "      <td>2.500000</td>\n",
       "    </tr>\n",
       "    <tr>\n",
       "      <th>RW</th>\n",
       "      <td>8.795455</td>\n",
       "      <td>585.181818</td>\n",
       "      <td>54.500000</td>\n",
       "    </tr>\n",
       "    <tr>\n",
       "      <th>SS</th>\n",
       "      <td>6.125000</td>\n",
       "      <td>758.250000</td>\n",
       "      <td>56.250000</td>\n",
       "    </tr>\n",
       "    <tr>\n",
       "      <th rowspan=\"13\" valign=\"top\">1</th>\n",
       "      <th>AM</th>\n",
       "      <td>42.142857</td>\n",
       "      <td>2537.285714</td>\n",
       "      <td>151.428571</td>\n",
       "    </tr>\n",
       "    <tr>\n",
       "      <th>CB</th>\n",
       "      <td>18.477273</td>\n",
       "      <td>939.454545</td>\n",
       "      <td>60.818182</td>\n",
       "    </tr>\n",
       "    <tr>\n",
       "      <th>CF</th>\n",
       "      <td>29.533333</td>\n",
       "      <td>2505.733333</td>\n",
       "      <td>89.666667</td>\n",
       "    </tr>\n",
       "    <tr>\n",
       "      <th>CM</th>\n",
       "      <td>21.066667</td>\n",
       "      <td>1579.666667</td>\n",
       "      <td>80.600000</td>\n",
       "    </tr>\n",
       "    <tr>\n",
       "      <th>DM</th>\n",
       "      <td>20.807692</td>\n",
       "      <td>1246.615385</td>\n",
       "      <td>64.307692</td>\n",
       "    </tr>\n",
       "    <tr>\n",
       "      <th>GK</th>\n",
       "      <td>14.009091</td>\n",
       "      <td>878.545455</td>\n",
       "      <td>61.272727</td>\n",
       "    </tr>\n",
       "    <tr>\n",
       "      <th>LB</th>\n",
       "      <td>15.000000</td>\n",
       "      <td>923.428571</td>\n",
       "      <td>81.714286</td>\n",
       "    </tr>\n",
       "    <tr>\n",
       "      <th>LM</th>\n",
       "      <td>5.000000</td>\n",
       "      <td>936.000000</td>\n",
       "      <td>26.000000</td>\n",
       "    </tr>\n",
       "    <tr>\n",
       "      <th>LW</th>\n",
       "      <td>28.611111</td>\n",
       "      <td>2191.888889</td>\n",
       "      <td>106.111111</td>\n",
       "    </tr>\n",
       "    <tr>\n",
       "      <th>RB</th>\n",
       "      <td>17.083333</td>\n",
       "      <td>926.500000</td>\n",
       "      <td>100.666667</td>\n",
       "    </tr>\n",
       "    <tr>\n",
       "      <th>RM</th>\n",
       "      <td>20.000000</td>\n",
       "      <td>2028.000000</td>\n",
       "      <td>94.000000</td>\n",
       "    </tr>\n",
       "    <tr>\n",
       "      <th>RW</th>\n",
       "      <td>32.000000</td>\n",
       "      <td>1110.400000</td>\n",
       "      <td>60.800000</td>\n",
       "    </tr>\n",
       "    <tr>\n",
       "      <th>SS</th>\n",
       "      <td>38.000000</td>\n",
       "      <td>2196.000000</td>\n",
       "      <td>180.000000</td>\n",
       "    </tr>\n",
       "  </tbody>\n",
       "</table>\n",
       "</div>"
      ],
      "text/plain": [
       "                   market_value   page_views  fpl_points\n",
       "big_club position                                       \n",
       "0        AM           13.718750   572.625000   74.125000\n",
       "         CB            5.084783   325.304348   50.173913\n",
       "         CF            8.600000   901.142857   54.571429\n",
       "         CM            6.310606   335.484848   36.515152\n",
       "         DM            8.233333   412.666667   37.533333\n",
       "         GK            4.740000   381.400000   54.640000\n",
       "         LB            5.486842   282.684211   52.947368\n",
       "         LM            4.650000   352.400000   60.400000\n",
       "         LW            6.297619   424.285714   49.380952\n",
       "         RB            5.078947   290.315789   58.368421\n",
       "         RM            2.000000   137.500000    2.500000\n",
       "         RW            8.795455   585.181818   54.500000\n",
       "         SS            6.125000   758.250000   56.250000\n",
       "1        AM           42.142857  2537.285714  151.428571\n",
       "         CB           18.477273   939.454545   60.818182\n",
       "         CF           29.533333  2505.733333   89.666667\n",
       "         CM           21.066667  1579.666667   80.600000\n",
       "         DM           20.807692  1246.615385   64.307692\n",
       "         GK           14.009091   878.545455   61.272727\n",
       "         LB           15.000000   923.428571   81.714286\n",
       "         LM            5.000000   936.000000   26.000000\n",
       "         LW           28.611111  2191.888889  106.111111\n",
       "         RB           17.083333   926.500000  100.666667\n",
       "         RM           20.000000  2028.000000   94.000000\n",
       "         RW           32.000000  1110.400000   60.800000\n",
       "         SS           38.000000  2196.000000  180.000000"
      ]
     },
     "execution_count": 62,
     "metadata": {},
     "output_type": "execute_result"
    }
   ],
=======
   "execution_count": 92,
   "metadata": {},
   "outputs": [],
>>>>>>> a7aa11e9d0e7663442b568c1bcfb2fe865139ed0
   "source": [
    "train_data.groupby(['big_club', 'position']).agg({\n",
    "    'market_value': np.mean,\n",
    "    'page_views': np.mean,\n",
    "    'fpl_points': np.mean\n",
    "})"
   ]
  },
  {
   "cell_type": "markdown",
   "metadata": {},
   "source": [
    "<hr style=\"height:3px\">\n",
    "## Part 2.2: Linear regression on the football data\n",
    "This section of the lab focuses on fitting a model to the football data and interpreting the model results. The model we'll use is\n",
    "\n",
    "$$\\text{market_value} \\approx \\beta_0 + \\beta_1\\text{fpl_points} + \\beta_2\\text{age} + \\beta_3\\text{age}^2 + \\beta_4log_2\\left(\\text{page_views}\\right) + \\beta_5\\text{new_signing} +\\beta_6\\text{big_club} + \\beta_7\\text{position_cat}$$\n",
    "\n",
    "We're including a 2nd degree polynomial in age because we expect pay to increase as a player gains experience, but then decrease as they continue aging. We're taking the log of page views because they have such a large, skewed range and the transformed variable will have fewer outliers that could bias the line. We choose the base of the log to be 2 just to make interpretation cleaner.\n",
    "\n",
    "<div class=\"exercise\"><b>Exercise</b></div>\n",
<<<<<<< HEAD
    "\n",
    "**Questions**:\n",
    "\n",
=======
    "**Questions**:\n",
>>>>>>> a7aa11e9d0e7663442b568c1bcfb2fe865139ed0
    "1. Build a design matrix function and fit this model to the training data. How good is the overall model?\n",
    "2. Interpret the regression model. What is the meaning of the coefficient for:\n",
    "    - age and age$^2$\n",
    "    - $log_2($page_views$)$\n",
    "    - big_club\n",
    "2. What should a player do in order to improve their market value? How many page views should a player go get to increase their market value by 10?"
   ]
  },
  {
   "cell_type": "code",
<<<<<<< HEAD
   "execution_count": 72,
=======
   "execution_count": 93,
>>>>>>> a7aa11e9d0e7663442b568c1bcfb2fe865139ed0
   "metadata": {
    "scrolled": false
   },
   "outputs": [],
   "source": [
<<<<<<< HEAD
    "# your code here\n",
    "design_mat_train = train_data[[\"fpl_points\", \"page_views\",\"age\", \"new_signing\", \"big_club\", \"position_cat\"]].copy()\n",
    "design_mat_test = test_data[[\"fpl_points\", \"page_views\",\"age\", \"new_signing\", \"big_club\", \"position_cat\"]].copy()"
=======
    "# your code here\n"
>>>>>>> a7aa11e9d0e7663442b568c1bcfb2fe865139ed0
   ]
  },
  {
   "cell_type": "code",
<<<<<<< HEAD
   "execution_count": 73,
   "metadata": {},
   "outputs": [],
   "source": [
    "# your code here\n",
    "design_mat_train[\"age_squared\"] = design_mat_train.age ** 2\n",
    "design_mat_test[\"age_squared\"] = design_mat_test.age ** 2"
=======
   "execution_count": 94,
   "metadata": {},
   "outputs": [],
   "source": [
    "# your code here\n"
   ]
  },
  {
   "cell_type": "markdown",
   "metadata": {},
   "source": [
    "*your answer here*\n"
>>>>>>> a7aa11e9d0e7663442b568c1bcfb2fe865139ed0
   ]
  },
  {
   "cell_type": "code",
<<<<<<< HEAD
   "execution_count": 74,
   "metadata": {},
   "outputs": [],
   "source": [
    "design_mat_train['lpv'] = np.log(design_mat_train.page_views)\n",
    "design_mat_test['lpv'] = np.log(design_mat_test.page_views)"
=======
   "execution_count": 95,
   "metadata": {},
   "outputs": [],
   "source": [
    "agecoef = fitted_model_1.params.age\n",
    "age2coef = fitted_model_1.params.age_squared"
   ]
  },
  {
   "cell_type": "code",
   "execution_count": 96,
   "metadata": {},
   "outputs": [],
   "source": [
    "x_vals = np.linspace(-100,100,1000)\n",
    "y_vals = agecoef*x_vals +age2coef*x_vals**2\n",
    "plt.plot(x_vals, y_vals)\n",
    "plt.title(\"Effect of Age\")\n",
    "plt.xlabel(\"Age\")\n",
    "plt.ylabel(\"Contribution to Predicted Market Value\")\n",
    "plt.show()"
   ]
  },
  {
   "cell_type": "markdown",
   "metadata": {},
   "source": [
    "<hr style='height:3px'>\n",
    "### Part 2.3: Turning Categorical Variables into multiple binary variables\n",
    "Of course, we have an error in how we've included player position. Even though the variable is numeric (1,2,3,4) and the model runs without issue, the value we're getting back is garbage. The interpretation, such as it is, is that there is an equal effect of moving from position category 1 to 2, from 2 to 3, and from 3 to 4, and that this effect is about -.61.\n",
    "\n",
    "In reality, we don't expect moving from one position category to another to be equivalent, nor for a move from category 1 to category 3 to be twice as important as a move from category 1 to category 2. We need to introduce better features to model this variable.\n",
    "\n",
    "We'll use `pd.get_dummies` to do the work for us."
>>>>>>> a7aa11e9d0e7663442b568c1bcfb2fe865139ed0
   ]
  },
  {
   "cell_type": "code",
<<<<<<< HEAD
   "execution_count": 78,
=======
   "execution_count": 97,
   "metadata": {},
   "outputs": [],
   "source": [
    "train_design_recoded = pd.get_dummies(train_design, columns=['position_cat'], drop_first=True)\n",
    "test_design_recoded = pd.get_dummies(test_design, columns=['position_cat'], drop_first=True)\n",
    "\n",
    "train_design_recoded.head()"
   ]
  },
  {
   "cell_type": "markdown",
   "metadata": {},
   "source": [
    "We've removed the original `position_cat` column and created three new ones.\n",
    "\n",
    "#### Why only three new columns?\n",
    "Why does pandas give us the option to drop the first category? \n",
    "\n",
    "<div class=\"exercise\"><b>Exercise</b></div>\n",
    "**Questions**:\n",
    "1. If we're fitting a model without a constant, should we have three dummy columns or four dummy columns?\n",
    "2. Fit a model and interpret the coefficient of `position_cat_2`.\n"
   ]
  },
  {
   "cell_type": "code",
   "execution_count": 109,
   "metadata": {},
   "outputs": [],
   "source": [
    "resu = OLS(y_train, train_design_recoded).fit()\n",
    "resu.summary()"
   ]
  },
  {
   "cell_type": "code",
   "execution_count": 110,
   "metadata": {},
   "outputs": [],
   "source": [
    "r2_score(y_test, resu.predict(test_design_recoded))"
   ]
  },
  {
   "cell_type": "code",
   "execution_count": 99,
   "metadata": {},
   "outputs": [],
   "source": [
    "train_design_recoded.shape, y_train.shape"
   ]
  },
  {
   "cell_type": "markdown",
   "metadata": {},
   "source": [
    "**Answers**:\n",
    "1. If our model does not have a constant, we must include all four dummy variable columns. If we drop one, we're not modeling any effect of being in that category, and effectively assuming the dropped category's effect is 0.\n",
    "2. Being in position 2 (instead of position 1) has an impact between -1.54 and +2.38 on a player's market value. Since we're using an intercept, the dropped category becomes the baseline and the effect of any dummy variable is the effect of being in that category instead of the baseline category."
   ]
  },
  {
   "cell_type": "markdown",
   "metadata": {},
   "source": [
    "## Part 3: A nice trick for forward-backwards\n",
    "\n",
    "XOR (operator ^) is a logical operation that only returns true when input differ. We can use it to implement forward-or-backwards selection when we want to keep track of whet predictors are \"left\" from a given list of predictors.\n",
    "\n",
    "The set analog is \"symmetric difference\". From the python docs:\n",
    "\n",
    "`s.symmetric_difference(t)\ts ^ t\tnew set with elements in either s or t but not both`\n"
   ]
  },
  {
   "cell_type": "code",
   "execution_count": 1,
   "metadata": {},
   "outputs": [
    {
     "data": {
      "text/plain": [
       "{1, 2, 3}"
      ]
     },
     "execution_count": 1,
     "metadata": {},
     "output_type": "execute_result"
    }
   ],
   "source": [
    "set() ^ set([1,2,3])"
   ]
  },
  {
   "cell_type": "code",
   "execution_count": 2,
>>>>>>> a7aa11e9d0e7663442b568c1bcfb2fe865139ed0
   "metadata": {},
   "outputs": [
    {
     "data": {
<<<<<<< HEAD
      "text/html": [
       "<table class=\"simpletable\">\n",
       "<caption>OLS Regression Results</caption>\n",
       "<tr>\n",
       "  <th>Dep. Variable:</th>      <td>market_value</td>   <th>  R-squared:         </th> <td>   0.751</td> \n",
       "</tr>\n",
       "<tr>\n",
       "  <th>Model:</th>                   <td>OLS</td>       <th>  Adj. R-squared:    </th> <td>   0.746</td> \n",
       "</tr>\n",
       "<tr>\n",
       "  <th>Method:</th>             <td>Least Squares</td>  <th>  F-statistic:       </th> <td>   135.5</td> \n",
       "</tr>\n",
       "<tr>\n",
       "  <th>Date:</th>             <td>Fri, 28 Sep 2018</td> <th>  Prob (F-statistic):</th> <td>1.50e-103</td>\n",
       "</tr>\n",
       "<tr>\n",
       "  <th>Time:</th>                 <td>11:54:51</td>     <th>  Log-Likelihood:    </th> <td> -1197.1</td> \n",
       "</tr>\n",
       "<tr>\n",
       "  <th>No. Observations:</th>      <td>   368</td>      <th>  AIC:               </th> <td>   2412.</td> \n",
       "</tr>\n",
       "<tr>\n",
       "  <th>Df Residuals:</th>          <td>   359</td>      <th>  BIC:               </th> <td>   2447.</td> \n",
       "</tr>\n",
       "<tr>\n",
       "  <th>Df Model:</th>              <td>     8</td>      <th>                     </th>     <td> </td>    \n",
       "</tr>\n",
       "<tr>\n",
       "  <th>Covariance Type:</th>      <td>nonrobust</td>    <th>                     </th>     <td> </td>    \n",
       "</tr>\n",
       "</table>\n",
       "<table class=\"simpletable\">\n",
       "<tr>\n",
       "        <td></td>          <th>coef</th>     <th>std err</th>      <th>t</th>      <th>P>|t|</th>  <th>[0.025</th>    <th>0.975]</th>  \n",
       "</tr>\n",
       "<tr>\n",
       "  <th>const</th>        <td>  -95.5269</td> <td>   13.035</td> <td>   -7.329</td> <td> 0.000</td> <td> -121.161</td> <td>  -69.893</td>\n",
       "</tr>\n",
       "<tr>\n",
       "  <th>fpl_points</th>   <td>    0.0627</td> <td>    0.008</td> <td>    7.517</td> <td> 0.000</td> <td>    0.046</td> <td>    0.079</td>\n",
       "</tr>\n",
       "<tr>\n",
       "  <th>page_views</th>   <td>    0.0064</td> <td>    0.001</td> <td>    8.809</td> <td> 0.000</td> <td>    0.005</td> <td>    0.008</td>\n",
       "</tr>\n",
       "<tr>\n",
       "  <th>age</th>          <td>    7.8287</td> <td>    0.923</td> <td>    8.484</td> <td> 0.000</td> <td>    6.014</td> <td>    9.643</td>\n",
       "</tr>\n",
       "<tr>\n",
       "  <th>new_signing</th>  <td>   -0.0147</td> <td>    0.963</td> <td>   -0.015</td> <td> 0.988</td> <td>   -1.909</td> <td>    1.880</td>\n",
       "</tr>\n",
       "<tr>\n",
       "  <th>big_club</th>     <td>    7.7806</td> <td>    0.952</td> <td>    8.173</td> <td> 0.000</td> <td>    5.908</td> <td>    9.653</td>\n",
       "</tr>\n",
       "<tr>\n",
       "  <th>position_cat</th> <td>   -0.6326</td> <td>    0.371</td> <td>   -1.705</td> <td> 0.089</td> <td>   -1.362</td> <td>    0.097</td>\n",
       "</tr>\n",
       "<tr>\n",
       "  <th>age_squared</th>  <td>   -0.1510</td> <td>    0.017</td> <td>   -8.914</td> <td> 0.000</td> <td>   -0.184</td> <td>   -0.118</td>\n",
       "</tr>\n",
       "<tr>\n",
       "  <th>lpv</th>          <td>   -0.2760</td> <td>    0.618</td> <td>   -0.446</td> <td> 0.656</td> <td>   -1.492</td> <td>    0.940</td>\n",
       "</tr>\n",
       "</table>\n",
       "<table class=\"simpletable\">\n",
       "<tr>\n",
       "  <th>Omnibus:</th>       <td>41.445</td> <th>  Durbin-Watson:     </th> <td>   1.949</td>\n",
       "</tr>\n",
       "<tr>\n",
       "  <th>Prob(Omnibus):</th> <td> 0.000</td> <th>  Jarque-Bera (JB):  </th> <td>  91.225</td>\n",
       "</tr>\n",
       "<tr>\n",
       "  <th>Skew:</th>          <td> 0.593</td> <th>  Prob(JB):          </th> <td>1.55e-20</td>\n",
       "</tr>\n",
       "<tr>\n",
       "  <th>Kurtosis:</th>      <td> 5.131</td> <th>  Cond. No.          </th> <td>5.09e+04</td>\n",
       "</tr>\n",
       "</table><br/><br/>Warnings:<br/>[1] Standard Errors assume that the covariance matrix of the errors is correctly specified.<br/>[2] The condition number is large, 5.09e+04. This might indicate that there are<br/>strong multicollinearity or other numerical problems."
      ],
      "text/plain": [
       "<class 'statsmodels.iolib.summary.Summary'>\n",
       "\"\"\"\n",
       "                            OLS Regression Results                            \n",
       "==============================================================================\n",
       "Dep. Variable:           market_value   R-squared:                       0.751\n",
       "Model:                            OLS   Adj. R-squared:                  0.746\n",
       "Method:                 Least Squares   F-statistic:                     135.5\n",
       "Date:                Fri, 28 Sep 2018   Prob (F-statistic):          1.50e-103\n",
       "Time:                        11:54:51   Log-Likelihood:                -1197.1\n",
       "No. Observations:                 368   AIC:                             2412.\n",
       "Df Residuals:                     359   BIC:                             2447.\n",
       "Df Model:                           8                                         \n",
       "Covariance Type:            nonrobust                                         \n",
       "================================================================================\n",
       "                   coef    std err          t      P>|t|      [0.025      0.975]\n",
       "--------------------------------------------------------------------------------\n",
       "const          -95.5269     13.035     -7.329      0.000    -121.161     -69.893\n",
       "fpl_points       0.0627      0.008      7.517      0.000       0.046       0.079\n",
       "page_views       0.0064      0.001      8.809      0.000       0.005       0.008\n",
       "age              7.8287      0.923      8.484      0.000       6.014       9.643\n",
       "new_signing     -0.0147      0.963     -0.015      0.988      -1.909       1.880\n",
       "big_club         7.7806      0.952      8.173      0.000       5.908       9.653\n",
       "position_cat    -0.6326      0.371     -1.705      0.089      -1.362       0.097\n",
       "age_squared     -0.1510      0.017     -8.914      0.000      -0.184      -0.118\n",
       "lpv             -0.2760      0.618     -0.446      0.656      -1.492       0.940\n",
       "==============================================================================\n",
       "Omnibus:                       41.445   Durbin-Watson:                   1.949\n",
       "Prob(Omnibus):                  0.000   Jarque-Bera (JB):               91.225\n",
       "Skew:                           0.593   Prob(JB):                     1.55e-20\n",
       "Kurtosis:                       5.131   Cond. No.                     5.09e+04\n",
       "==============================================================================\n",
       "\n",
       "Warnings:\n",
       "[1] Standard Errors assume that the covariance matrix of the errors is correctly specified.\n",
       "[2] The condition number is large, 5.09e+04. This might indicate that there are\n",
       "strong multicollinearity or other numerical problems.\n",
       "\"\"\""
      ]
     },
     "execution_count": 78,
=======
      "text/plain": [
       "{2, 3}"
      ]
     },
     "execution_count": 2,
     "metadata": {},
     "output_type": "execute_result"
    }
   ],
   "source": [
    "set([1]) ^ set([1,2,3])"
   ]
  },
  {
   "cell_type": "code",
   "execution_count": 3,
   "metadata": {},
   "outputs": [
    {
     "data": {
      "text/plain": [
       "{3}"
      ]
     },
     "execution_count": 3,
>>>>>>> a7aa11e9d0e7663442b568c1bcfb2fe865139ed0
     "metadata": {},
     "output_type": "execute_result"
    }
   ],
   "source": [
<<<<<<< HEAD
    "fitted_model_1 = OLS(train_data.market_value,sm.add_constant(design_mat_train)).fit()\n",
    "fitted_model_1.summary()"
   ]
  },
  {
   "cell_type": "markdown",
   "metadata": {},
   "source": [
    "*your answer here*\n"
   ]
  },
  {
   "cell_type": "code",
   "execution_count": 95,
   "metadata": {},
   "outputs": [],
   "source": [
    "agecoef = fitted_model_1.params.age\n",
    "age2coef = fitted_model_1.params.age_squared"
   ]
  },
  {
   "cell_type": "code",
   "execution_count": 96,
   "metadata": {},
   "outputs": [],
   "source": [
    "x_vals = np.linspace(-100,100,1000)\n",
    "y_vals = agecoef*x_vals +age2coef*x_vals**2\n",
    "plt.plot(x_vals, y_vals)\n",
    "plt.title(\"Effect of Age\")\n",
    "plt.xlabel(\"Age\")\n",
    "plt.ylabel(\"Contribution to Predicted Market Value\")\n",
    "plt.show()"
   ]
  },
  {
   "cell_type": "markdown",
   "metadata": {},
   "source": [
    "<hr style='height:3px'>\n",
    "### Part 2.3: Turning Categorical Variables into multiple binary variables\n",
    "Of course, we have an error in how we've included player position. Even though the variable is numeric (1,2,3,4) and the model runs without issue, the value we're getting back is garbage. The interpretation, such as it is, is that there is an equal effect of moving from position category 1 to 2, from 2 to 3, and from 3 to 4, and that this effect is about -.61.\n",
    "\n",
    "In reality, we don't expect moving from one position category to another to be equivalent, nor for a move from category 1 to category 3 to be twice as important as a move from category 1 to category 2. We need to introduce better features to model this variable.\n",
    "\n",
    "We'll use `pd.get_dummies` to do the work for us."
   ]
  },
  {
   "cell_type": "code",
   "execution_count": 97,
   "metadata": {},
   "outputs": [],
   "source": [
    "train_design_recoded = pd.get_dummies(train_design, columns=['position_cat'], drop_first=True)\n",
    "test_design_recoded = pd.get_dummies(test_design, columns=['position_cat'], drop_first=True)\n",
    "\n",
    "train_design_recoded.head()"
   ]
  },
  {
   "cell_type": "markdown",
   "metadata": {},
   "source": [
    "We've removed the original `position_cat` column and created three new ones.\n",
    "\n",
    "#### Why only three new columns?\n",
    "Why does pandas give us the option to drop the first category? \n",
    "\n",
    "<div class=\"exercise\"><b>Exercise</b></div>\n",
    "**Questions**:\n",
    "1. If we're fitting a model without a constant, should we have three dummy columns or four dummy columns?\n",
    "2. Fit a model and interpret the coefficient of `position_cat_2`.\n"
   ]
  },
  {
   "cell_type": "code",
   "execution_count": 109,
   "metadata": {},
   "outputs": [],
   "source": [
    "resu = OLS(y_train, train_design_recoded).fit()\n",
    "resu.summary()"
   ]
  },
  {
   "cell_type": "code",
   "execution_count": 110,
   "metadata": {},
   "outputs": [],
   "source": [
    "r2_score(y_test, resu.predict(test_design_recoded))"
   ]
  },
  {
   "cell_type": "code",
   "execution_count": 99,
   "metadata": {},
   "outputs": [],
   "source": [
    "train_design_recoded.shape, y_train.shape"
   ]
  },
  {
   "cell_type": "markdown",
   "metadata": {},
   "source": [
    "**Answers**:\n",
    "1. If our model does not have a constant, we must include all four dummy variable columns. If we drop one, we're not modeling any effect of being in that category, and effectively assuming the dropped category's effect is 0.\n",
    "2. Being in position 2 (instead of position 1) has an impact between -1.54 and +2.38 on a player's market value. Since we're using an intercept, the dropped category becomes the baseline and the effect of any dummy variable is the effect of being in that category instead of the baseline category."
   ]
  },
  {
   "cell_type": "markdown",
   "metadata": {},
   "source": [
    "## Part 3: A nice trick for forward-backwards\n",
    "\n",
    "XOR (operator ^) is a logical operation that only returns true when input differ. We can use it to implement forward-or-backwards selection when we want to keep track of whet predictors are \"left\" from a given list of predictors.\n",
    "\n",
    "The set analog is \"symmetric difference\". From the python docs:\n",
    "\n",
    "`s.symmetric_difference(t)\ts ^ t\tnew set with elements in either s or t but not both`\n"
   ]
  },
  {
   "cell_type": "code",
   "execution_count": 139,
   "metadata": {},
   "outputs": [],
   "source": [
    "set() ^ set([1,2,3])"
   ]
  },
  {
   "cell_type": "code",
   "execution_count": 140,
   "metadata": {},
   "outputs": [],
   "source": [
    "set([1]) ^ set([1,2,3])"
   ]
  },
  {
   "cell_type": "code",
   "execution_count": 141,
   "metadata": {},
   "outputs": [],
   "source": [
=======
>>>>>>> a7aa11e9d0e7663442b568c1bcfb2fe865139ed0
    "set([1, 2]) ^ set([1,2,3])"
   ]
  },
  {
   "cell_type": "markdown",
   "metadata": {},
   "source": [
    "<div class=\"exercise\"><b>Exercise</b></div>\n",
    "\n",
    "Outline a step-forwards algorithm which uses this idea"
   ]
  },
  {
   "cell_type": "markdown",
   "metadata": {},
   "source": [
    "*your answer here*\n"
   ]
  }
 ],
 "metadata": {
  "kernelspec": {
<<<<<<< HEAD
   "display_name": "Python [conda env:py36]",
   "language": "python",
   "name": "conda-env-py36-py"
=======
   "display_name": "Python 3",
   "language": "python",
   "name": "python3"
>>>>>>> a7aa11e9d0e7663442b568c1bcfb2fe865139ed0
  },
  "language_info": {
   "codemirror_mode": {
    "name": "ipython",
    "version": 3
   },
   "file_extension": ".py",
   "mimetype": "text/x-python",
   "name": "python",
   "nbconvert_exporter": "python",
   "pygments_lexer": "ipython3",
<<<<<<< HEAD
   "version": "3.6.6"
=======
   "version": "3.6.1"
>>>>>>> a7aa11e9d0e7663442b568c1bcfb2fe865139ed0
  }
 },
 "nbformat": 4,
 "nbformat_minor": 2
}
